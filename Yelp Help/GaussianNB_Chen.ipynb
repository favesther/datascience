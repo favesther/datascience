{
 "cells": [
  {
   "cell_type": "markdown",
   "metadata": {},
   "source": [
    "### Import data"
   ]
  },
  {
   "cell_type": "code",
   "execution_count": 119,
   "metadata": {},
   "outputs": [],
   "source": [
    "import pandas as pd\n",
    "from sklearn.preprocessing import StandardScaler\n",
    "from keras.preprocessing.text import Tokenizer\n",
    "from keras.preprocessing.sequence import pad_sequences\n",
    "from sklearn.feature_extraction.text import TfidfVectorizer\n",
    "from sklearn.tree import DecisionTreeClassifier\n",
    "from sklearn.naive_bayes import GaussianNB\n",
    "from sklearn import metrics\n",
    "import numpy as np\n",
    "import seaborn as sns\n",
    "import matplotlib.pyplot as plt\n",
    "from sklearn.metrics import confusion_matrix\n",
    "\n",
    "from sklearn.metrics import mean_squared_error"
   ]
  },
  {
   "cell_type": "code",
   "execution_count": 2,
   "metadata": {},
   "outputs": [],
   "source": [
    "# Import data\n",
    "feature_train = pd.read_csv(\"/Users/chensong/Downloads/yelp_feature_train.csv\", encoding='utf-8')\n",
    "feature_val = pd.read_csv(\"/Users/chensong/Downloads/yelp_feature_val.csv\", encoding='utf-8')\n",
    "feature_test = pd.read_csv(\"/Users/chensong/Downloads/yelp_feature_test.csv\", encoding='utf-8')"
   ]
  },
  {
   "cell_type": "code",
   "execution_count": 31,
   "metadata": {
    "scrolled": true
   },
   "outputs": [
    {
     "data": {
      "text/html": [
       "<div>\n",
       "<style scoped>\n",
       "    .dataframe tbody tr th:only-of-type {\n",
       "        vertical-align: middle;\n",
       "    }\n",
       "\n",
       "    .dataframe tbody tr th {\n",
       "        vertical-align: top;\n",
       "    }\n",
       "\n",
       "    .dataframe thead th {\n",
       "        text-align: right;\n",
       "    }\n",
       "</style>\n",
       "<table border=\"1\" class=\"dataframe\">\n",
       "  <thead>\n",
       "    <tr style=\"text-align: right;\">\n",
       "      <th></th>\n",
       "      <th>business_id</th>\n",
       "      <th>user_id</th>\n",
       "      <th>review_stars</th>\n",
       "      <th>review_like</th>\n",
       "      <th>text</th>\n",
       "      <th>text_len</th>\n",
       "      <th>restaurant_avg_stars</th>\n",
       "      <th>restaurant_review_count</th>\n",
       "      <th>city_review_count</th>\n",
       "      <th>centrality</th>\n",
       "      <th>user_avg_stars</th>\n",
       "      <th>user_review_count</th>\n",
       "      <th>user_fans</th>\n",
       "      <th>user_period</th>\n",
       "      <th>user_compliments</th>\n",
       "      <th>user_votes</th>\n",
       "      <th>popularity</th>\n",
       "      <th>pop_label</th>\n",
       "    </tr>\n",
       "  </thead>\n",
       "  <tbody>\n",
       "    <tr>\n",
       "      <th>0</th>\n",
       "      <td>oj8qk3W7O9oq15VIs-vYJQ</td>\n",
       "      <td>UreiTV1I9i-XF6_bJhK6Iw</td>\n",
       "      <td>5.0</td>\n",
       "      <td>0</td>\n",
       "      <td>new favorite place breakfast first time came h...</td>\n",
       "      <td>54</td>\n",
       "      <td>4.375</td>\n",
       "      <td>64</td>\n",
       "      <td>436.0</td>\n",
       "      <td>2.207263e-21</td>\n",
       "      <td>3.55</td>\n",
       "      <td>104</td>\n",
       "      <td>0</td>\n",
       "      <td>8</td>\n",
       "      <td>2</td>\n",
       "      <td>80</td>\n",
       "      <td>4.694428</td>\n",
       "      <td>5.0</td>\n",
       "    </tr>\n",
       "  </tbody>\n",
       "</table>\n",
       "</div>"
      ],
      "text/plain": [
       "              business_id                 user_id  review_stars  review_like  \\\n",
       "0  oj8qk3W7O9oq15VIs-vYJQ  UreiTV1I9i-XF6_bJhK6Iw           5.0            0   \n",
       "\n",
       "                                                text  text_len  \\\n",
       "0  new favorite place breakfast first time came h...        54   \n",
       "\n",
       "   restaurant_avg_stars  restaurant_review_count  city_review_count  \\\n",
       "0                 4.375                       64              436.0   \n",
       "\n",
       "     centrality  user_avg_stars  user_review_count  user_fans  user_period  \\\n",
       "0  2.207263e-21            3.55                104          0            8   \n",
       "\n",
       "   user_compliments  user_votes  popularity  pop_label  \n",
       "0                 2          80    4.694428        5.0  "
      ]
     },
     "execution_count": 31,
     "metadata": {},
     "output_type": "execute_result"
    }
   ],
   "source": [
    "feature_train.head(1)"
   ]
  },
  {
   "cell_type": "markdown",
   "metadata": {},
   "source": [
    "### Data cleaning"
   ]
  },
  {
   "cell_type": "markdown",
   "metadata": {},
   "source": [
    "#### Extra  features  to scale"
   ]
  },
  {
   "cell_type": "code",
   "execution_count": 32,
   "metadata": {},
   "outputs": [],
   "source": [
    "# Select features\n",
    "sf_train = feature_train.loc[:,~feature_train.columns.isin(['business_id', 'user_id', 'text', 'popularity', 'pop_label'])]\n",
    "sf_val = feature_val.loc[:,~feature_val.columns.isin(['business_id', 'user_id', 'text', 'popularity', 'pop_label'])]\n",
    "sf_test = feature_test.loc[:,~feature_test.columns.isin(['business_id', 'user_id', 'text', 'popularity', 'pop_label'])]"
   ]
  },
  {
   "cell_type": "code",
   "execution_count": 33,
   "metadata": {
    "scrolled": false
   },
   "outputs": [
    {
     "data": {
      "text/html": [
       "<div>\n",
       "<style scoped>\n",
       "    .dataframe tbody tr th:only-of-type {\n",
       "        vertical-align: middle;\n",
       "    }\n",
       "\n",
       "    .dataframe tbody tr th {\n",
       "        vertical-align: top;\n",
       "    }\n",
       "\n",
       "    .dataframe thead th {\n",
       "        text-align: right;\n",
       "    }\n",
       "</style>\n",
       "<table border=\"1\" class=\"dataframe\">\n",
       "  <thead>\n",
       "    <tr style=\"text-align: right;\">\n",
       "      <th></th>\n",
       "      <th>business_id</th>\n",
       "      <th>review_stars</th>\n",
       "      <th>review_like</th>\n",
       "      <th>text_len</th>\n",
       "      <th>restaurant_avg_stars</th>\n",
       "      <th>restaurant_review_count</th>\n",
       "      <th>city_review_count</th>\n",
       "      <th>centrality</th>\n",
       "      <th>user_avg_stars</th>\n",
       "      <th>user_review_count</th>\n",
       "      <th>user_fans</th>\n",
       "      <th>user_period</th>\n",
       "      <th>user_compliments</th>\n",
       "      <th>user_votes</th>\n",
       "    </tr>\n",
       "  </thead>\n",
       "  <tbody>\n",
       "    <tr>\n",
       "      <th>0</th>\n",
       "      <td>oj8qk3W7O9oq15VIs-vYJQ</td>\n",
       "      <td>5.0</td>\n",
       "      <td>0</td>\n",
       "      <td>54</td>\n",
       "      <td>4.375000</td>\n",
       "      <td>64</td>\n",
       "      <td>436.0</td>\n",
       "      <td>2.207263e-21</td>\n",
       "      <td>3.55</td>\n",
       "      <td>104</td>\n",
       "      <td>0</td>\n",
       "      <td>8</td>\n",
       "      <td>2</td>\n",
       "      <td>80</td>\n",
       "    </tr>\n",
       "    <tr>\n",
       "      <th>1</th>\n",
       "      <td>YFqlMM1tFn0C4b9aHdzOgg</td>\n",
       "      <td>4.0</td>\n",
       "      <td>0</td>\n",
       "      <td>54</td>\n",
       "      <td>4.448276</td>\n",
       "      <td>29</td>\n",
       "      <td>839.0</td>\n",
       "      <td>2.207263e-21</td>\n",
       "      <td>3.55</td>\n",
       "      <td>104</td>\n",
       "      <td>0</td>\n",
       "      <td>8</td>\n",
       "      <td>2</td>\n",
       "      <td>80</td>\n",
       "    </tr>\n",
       "  </tbody>\n",
       "</table>\n",
       "</div>"
      ],
      "text/plain": [
       "              business_id  review_stars  review_like  text_len  \\\n",
       "0  oj8qk3W7O9oq15VIs-vYJQ           5.0            0        54   \n",
       "1  YFqlMM1tFn0C4b9aHdzOgg           4.0            0        54   \n",
       "\n",
       "   restaurant_avg_stars  restaurant_review_count  city_review_count  \\\n",
       "0              4.375000                       64              436.0   \n",
       "1              4.448276                       29              839.0   \n",
       "\n",
       "     centrality  user_avg_stars  user_review_count  user_fans  user_period  \\\n",
       "0  2.207263e-21            3.55                104          0            8   \n",
       "1  2.207263e-21            3.55                104          0            8   \n",
       "\n",
       "   user_compliments  user_votes  \n",
       "0                 2          80  \n",
       "1                 2          80  "
      ]
     },
     "execution_count": 33,
     "metadata": {},
     "output_type": "execute_result"
    }
   ],
   "source": [
    "sf_train.head(2)"
   ]
  },
  {
   "cell_type": "markdown",
   "metadata": {},
   "source": [
    "#### Scale features"
   ]
  },
  {
   "cell_type": "code",
   "execution_count": 4,
   "metadata": {},
   "outputs": [],
   "source": [
    "scaler = StandardScaler()\n",
    "# Fit scales\n",
    "train_scale = scaler.fit_transform(sf_train)\n",
    "val_scale = scaler.transform(sf_val)\n",
    "test_scale = scaler.transform(sf_test)"
   ]
  },
  {
   "cell_type": "markdown",
   "metadata": {},
   "source": [
    "### Tokenize review text"
   ]
  },
  {
   "cell_type": "code",
   "execution_count": 5,
   "metadata": {},
   "outputs": [],
   "source": [
    "# Set parameters\n",
    "MAX_NB_WORDS = 100\n",
    "MAX_SEQ_LEN = 100\n",
    "# Tokenize the texts\n",
    "tokenizer = Tokenizer(num_words=MAX_NB_WORDS, filters='!\"#$%&()*+,-./:;<=>?@[\\]^_`{|}~', lower=True)\n",
    "tokenizer.fit_on_texts(feature_train['text'])"
   ]
  },
  {
   "cell_type": "code",
   "execution_count": 6,
   "metadata": {},
   "outputs": [],
   "source": [
    "# Transform tokens into sequences of train data\n",
    "sequences = tokenizer.texts_to_sequences(feature_train['text'])\n",
    "train_text_seq = pad_sequences(sequences, maxlen=MAX_SEQ_LEN)"
   ]
  },
  {
   "cell_type": "code",
   "execution_count": 7,
   "metadata": {},
   "outputs": [],
   "source": [
    "# deal with val and text data\n",
    "sequences = tokenizer.texts_to_sequences(feature_val['text'])\n",
    "val_text_seq = pad_sequences(sequences, maxlen=MAX_SEQ_LEN)\n",
    "sequences = tokenizer.texts_to_sequences(feature_test['text'])\n",
    "test_text_seq = pad_sequences(sequences, maxlen=MAX_SEQ_LEN)"
   ]
  },
  {
   "cell_type": "code",
   "execution_count": 8,
   "metadata": {},
   "outputs": [],
   "source": [
    "vocab = {k: v-1 for k, v in tokenizer.word_index.items() if tokenizer.word_counts[k] >= 3000}"
   ]
  },
  {
   "cell_type": "markdown",
   "metadata": {},
   "source": [
    "### TF-IDF"
   ]
  },
  {
   "cell_type": "code",
   "execution_count": 9,
   "metadata": {},
   "outputs": [],
   "source": [
    "tfidf = TfidfVectorizer(ngram_range=(1,2), vocabulary=vocab)\n",
    "tfidf.fit(feature_train['text'] )\n",
    "tfidf_train = tfidf.transform(feature_train['text'] )\n"
   ]
  },
  {
   "cell_type": "code",
   "execution_count": 10,
   "metadata": {},
   "outputs": [],
   "source": [
    "tfidf_train_array = tfidf_train.toarray()"
   ]
  },
  {
   "cell_type": "code",
   "execution_count": 11,
   "metadata": {},
   "outputs": [],
   "source": [
    "#val\n",
    "tfidf_val = tfidf.transform(feature_val['text'] )\n",
    "tfidf_val_array = tfidf_val.toarray()"
   ]
  },
  {
   "cell_type": "code",
   "execution_count": 12,
   "metadata": {},
   "outputs": [],
   "source": [
    "#test\n",
    "tfidf_test = tfidf.transform(feature_test['text'] )\n",
    "tfidf_test_array = tfidf_test.toarray()"
   ]
  },
  {
   "cell_type": "markdown",
   "metadata": {},
   "source": [
    "### Build models"
   ]
  },
  {
   "cell_type": "code",
   "execution_count": 13,
   "metadata": {},
   "outputs": [],
   "source": [
    "# Prepare data\n",
    "# Train set\n",
    "X_train = np.concatenate((train_text_seq, train_scale,tfidf_train_array),axis = 1)\n",
    "y_train = feature_train['pop_label']\n",
    "\n",
    "# Val set\n",
    "X_val = np.concatenate((val_text_seq, val_scale,tfidf_val_array),axis = 1)\n",
    "y_val = feature_val['pop_label']\n",
    "\n",
    "# Test set\n",
    "X_test = np.concatenate((test_text_seq, test_scale,tfidf_test_array),axis = 1)\n",
    "y_test = feature_test['pop_label']"
   ]
  },
  {
   "cell_type": "markdown",
   "metadata": {},
   "source": [
    "#### Naive Bayes"
   ]
  },
  {
   "cell_type": "code",
   "execution_count": 14,
   "metadata": {},
   "outputs": [],
   "source": [
    "# Create a scaler object\n",
    "sc = StandardScaler()\n",
    "# Fit the scaler to the training data and transform\n",
    "sc.fit(X_train)\n",
    "X_train_std = sc.transform(X_train)\n",
    "# Apply the scaler to the val and test data\n",
    "X_val_std = sc.transform(X_val)\n",
    "X_test_std = sc.transform(X_test)\n"
   ]
  },
  {
   "cell_type": "code",
   "execution_count": 60,
   "metadata": {
    "scrolled": false
   },
   "outputs": [
    {
     "data": {
      "text/plain": [
       "GaussianNB(priors=None, var_smoothing=1e-09)"
      ]
     },
     "execution_count": 60,
     "metadata": {},
     "output_type": "execute_result"
    }
   ],
   "source": [
    "model_gnb = GaussianNB()\n",
    "model_gnb.fit(X_train,y_train.astype(int))"
   ]
  },
  {
   "cell_type": "code",
   "execution_count": 61,
   "metadata": {},
   "outputs": [],
   "source": [
    "y_pred_test = model_gnb.predict(X_test)"
   ]
  },
  {
   "cell_type": "code",
   "execution_count": 83,
   "metadata": {},
   "outputs": [],
   "source": [
    "feature_test['pred'] = y_pred_test"
   ]
  },
  {
   "cell_type": "code",
   "execution_count": 88,
   "metadata": {},
   "outputs": [],
   "source": [
    "df_test = feature_test.groupby('business_id')[['pop_label', 'pred']].mean()"
   ]
  },
  {
   "cell_type": "code",
   "execution_count": 89,
   "metadata": {},
   "outputs": [],
   "source": [
    "df_test['pred_label'] = np.round(df_test['pred'])"
   ]
  },
  {
   "cell_type": "code",
   "execution_count": 90,
   "metadata": {},
   "outputs": [
    {
     "data": {
      "text/html": [
       "<div>\n",
       "<style scoped>\n",
       "    .dataframe tbody tr th:only-of-type {\n",
       "        vertical-align: middle;\n",
       "    }\n",
       "\n",
       "    .dataframe tbody tr th {\n",
       "        vertical-align: top;\n",
       "    }\n",
       "\n",
       "    .dataframe thead th {\n",
       "        text-align: right;\n",
       "    }\n",
       "</style>\n",
       "<table border=\"1\" class=\"dataframe\">\n",
       "  <thead>\n",
       "    <tr style=\"text-align: right;\">\n",
       "      <th></th>\n",
       "      <th>pop_label</th>\n",
       "      <th>pred</th>\n",
       "      <th>pred_label</th>\n",
       "    </tr>\n",
       "    <tr>\n",
       "      <th>business_id</th>\n",
       "      <th></th>\n",
       "      <th></th>\n",
       "      <th></th>\n",
       "    </tr>\n",
       "  </thead>\n",
       "  <tbody>\n",
       "    <tr>\n",
       "      <th>--DaPTJW3-tB1vP-PfdTEg</th>\n",
       "      <td>4.0</td>\n",
       "      <td>3.375000</td>\n",
       "      <td>3.0</td>\n",
       "    </tr>\n",
       "    <tr>\n",
       "      <th>--GM_ORV2cYS-h38DSaCLw</th>\n",
       "      <td>2.0</td>\n",
       "      <td>2.000000</td>\n",
       "      <td>2.0</td>\n",
       "    </tr>\n",
       "    <tr>\n",
       "      <th>--S62v0QgkqQaVUhFnNHrw</th>\n",
       "      <td>1.0</td>\n",
       "      <td>1.210526</td>\n",
       "      <td>1.0</td>\n",
       "    </tr>\n",
       "    <tr>\n",
       "      <th>-1m9o3vGRA8IBPNvNqKLmA</th>\n",
       "      <td>5.0</td>\n",
       "      <td>4.554167</td>\n",
       "      <td>5.0</td>\n",
       "    </tr>\n",
       "    <tr>\n",
       "      <th>-1u4Q4U6OZ-CvqoxUh7gKg</th>\n",
       "      <td>4.0</td>\n",
       "      <td>4.222222</td>\n",
       "      <td>4.0</td>\n",
       "    </tr>\n",
       "  </tbody>\n",
       "</table>\n",
       "</div>"
      ],
      "text/plain": [
       "                        pop_label      pred  pred_label\n",
       "business_id                                            \n",
       "--DaPTJW3-tB1vP-PfdTEg        4.0  3.375000         3.0\n",
       "--GM_ORV2cYS-h38DSaCLw        2.0  2.000000         2.0\n",
       "--S62v0QgkqQaVUhFnNHrw        1.0  1.210526         1.0\n",
       "-1m9o3vGRA8IBPNvNqKLmA        5.0  4.554167         5.0\n",
       "-1u4Q4U6OZ-CvqoxUh7gKg        4.0  4.222222         4.0"
      ]
     },
     "execution_count": 90,
     "metadata": {},
     "output_type": "execute_result"
    }
   ],
   "source": [
    "df_test.head()"
   ]
  },
  {
   "cell_type": "markdown",
   "metadata": {},
   "source": [
    "### Accuracy"
   ]
  },
  {
   "cell_type": "code",
   "execution_count": 92,
   "metadata": {},
   "outputs": [
    {
     "name": "stdout",
     "output_type": "stream",
     "text": [
      "Accuracy: 0.31996251171508905\n"
     ]
    }
   ],
   "source": [
    "print(\"Accuracy:\",metrics.accuracy_score(df_test['pop_label'], df_test['pred_label']))"
   ]
  },
  {
   "cell_type": "code",
   "execution_count": 93,
   "metadata": {},
   "outputs": [],
   "source": [
    "def unique(list): \n",
    "  \n",
    "    # intilize a null list \n",
    "    unique_list = [] \n",
    "      \n",
    "    # traverse for all elements \n",
    "    for x in list: \n",
    "        # check if exists in unique_list or not \n",
    "        if x not in unique_list: \n",
    "            unique_list.append(x) \n",
    "    # print list \n",
    "    for x in unique_list: \n",
    "        return unique_list"
   ]
  },
  {
   "cell_type": "code",
   "execution_count": 105,
   "metadata": {},
   "outputs": [],
   "source": [
    "# get classification labels\n",
    "unique_label = np.sort(unique(df_test['pop_label']))"
   ]
  },
  {
   "cell_type": "code",
   "execution_count": 124,
   "metadata": {
    "scrolled": false
   },
   "outputs": [
    {
     "data": {
      "text/plain": [
       "[Text(0, 0.5, '1.0'),\n",
       " Text(0, 1.5, '2.0'),\n",
       " Text(0, 2.5, '3.0'),\n",
       " Text(0, 3.5, '4.0'),\n",
       " Text(0, 4.5, '5.0')]"
      ]
     },
     "execution_count": 124,
     "metadata": {},
     "output_type": "execute_result"
    },
    {
     "data": {
      "image/png": "[encoded data removed]",
      "text/plain": [
       "<Figure size 576x288 with 2 Axes>"
      ]
     },
     "metadata": {
      "needs_background": "light"
     },
     "output_type": "display_data"
    }
   ],
   "source": [
    "cm = np.round(confusion_matrix(\n",
    "    df_test['pop_label'], df_test['pred_label'],\n",
    "    unique_label, normalize='true'\n",
    "), 2)\n",
    "fig, ax = plt.subplots(figsize=(8, 4))\n",
    "ax= plt.subplot()\n",
    "sns.heatmap(cm, annot=True, ax = ax, fmt='g',cmap='BuPu'); #annot=True to annotate cells\n",
    "\n",
    "# labels, title and ticks\n",
    "ax.set_xlabel('Predicted labels')\n",
    "ax.set_ylabel('True labels') \n",
    "ax.set_title('Confusion Matrix') \n",
    "ax.xaxis.set_ticklabels(unique_label)\n",
    "ax.yaxis.set_ticklabels(unique_label)\n"
   ]
  },
  {
   "cell_type": "code",
   "execution_count": 120,
   "metadata": {},
   "outputs": [
    {
     "name": "stdout",
     "output_type": "stream",
     "text": [
      "RMSE:\t 1.2092\n"
     ]
    }
   ],
   "source": [
    "realDummy = pd.get_dummies(df_test['pop_label'])\n",
    "\n",
    "## calculate RMSE\n",
    "true_labs = realDummy.to_numpy().argmax(axis=1)+1\n",
    "pred_labs = df_test['pred_label']\n",
    "rmse = (mean_squared_error(true_labs, pred_labs))**(0.5)\n",
    "print(\"RMSE:\\t\", round(rmse, 4))"
   ]
  },
  {
   "cell_type": "code",
   "execution_count": 160,
   "metadata": {},
   "outputs": [],
   "source": [
    "def prediction(X_test, model):\n",
    "    # predict\n",
    "    predict = pd.DataFrame(model.predict_proba(X_test), columns=model.classes_)\n",
    "    #predict = pd.DataFrame(model.predict(X_test))\n",
    "    predict = predict.add_prefix('pred_')\n",
    "    \n",
    "    predict['meanPred'] = 0\n",
    "    for i in range(1,6):\n",
    "        predict['meanPred'] = predict['meanPred'] + predict['pred_'+str(i)] * i\n",
    "    #predict['mean'] = predict['sumPred']/(np.sum(predict.iloc[:,0:5], axis=1))\n",
    "    # sum(pred1~5) = 1\n",
    "\n",
    "    predict['varPred'] = 0\n",
    "    for i in range(1,6):\n",
    "        predict['varPred'] = predict['varPred'] + (predict['pred_'+str(i)] * (i - predict['meanPred'])**2)\n",
    "    predict['varPred'] += 1e-6\n",
    "\n",
    "    predict['repvar'] = 1/predict['varPred']\n",
    "    predict['w_mean'] = predict['meanPred']/predict['varPred']\n",
    "    \n",
    "    #predict.describe()\n",
    "    \n",
    "    return(predict)"
   ]
  },
  {
   "cell_type": "code",
   "execution_count": 161,
   "metadata": {},
   "outputs": [],
   "source": [
    "test_df = prediction(X_test, model_gnb)"
   ]
  },
  {
   "cell_type": "code",
   "execution_count": 162,
   "metadata": {},
   "outputs": [
    {
     "data": {
      "text/html": [
       "<div>\n",
       "<style scoped>\n",
       "    .dataframe tbody tr th:only-of-type {\n",
       "        vertical-align: middle;\n",
       "    }\n",
       "\n",
       "    .dataframe tbody tr th {\n",
       "        vertical-align: top;\n",
       "    }\n",
       "\n",
       "    .dataframe thead th {\n",
       "        text-align: right;\n",
       "    }\n",
       "</style>\n",
       "<table border=\"1\" class=\"dataframe\">\n",
       "  <thead>\n",
       "    <tr style=\"text-align: right;\">\n",
       "      <th></th>\n",
       "      <th>pred_1</th>\n",
       "      <th>pred_2</th>\n",
       "      <th>pred_3</th>\n",
       "      <th>pred_4</th>\n",
       "      <th>pred_5</th>\n",
       "      <th>meanPred</th>\n",
       "      <th>varPred</th>\n",
       "      <th>repvar</th>\n",
       "      <th>w_mean</th>\n",
       "    </tr>\n",
       "  </thead>\n",
       "  <tbody>\n",
       "    <tr>\n",
       "      <th>0</th>\n",
       "      <td>9.336781e-01</td>\n",
       "      <td>1.116243e-35</td>\n",
       "      <td>9.074516e-06</td>\n",
       "      <td>5.624613e-23</td>\n",
       "      <td>6.631284e-02</td>\n",
       "      <td>1.265269</td>\n",
       "      <td>0.990675</td>\n",
       "      <td>1.009413</td>\n",
       "      <td>1.277179e+00</td>\n",
       "    </tr>\n",
       "    <tr>\n",
       "      <th>1</th>\n",
       "      <td>1.000000e+00</td>\n",
       "      <td>1.519500e-18</td>\n",
       "      <td>7.833816e-17</td>\n",
       "      <td>2.034631e-27</td>\n",
       "      <td>6.315512e-17</td>\n",
       "      <td>1.000000</td>\n",
       "      <td>0.000001</td>\n",
       "      <td>999999.998675</td>\n",
       "      <td>1.000000e+06</td>\n",
       "    </tr>\n",
       "    <tr>\n",
       "      <th>2</th>\n",
       "      <td>1.953967e-29</td>\n",
       "      <td>2.100869e-40</td>\n",
       "      <td>9.841617e-24</td>\n",
       "      <td>2.569243e-27</td>\n",
       "      <td>1.000000e+00</td>\n",
       "      <td>5.000000</td>\n",
       "      <td>0.000001</td>\n",
       "      <td>1000000.000000</td>\n",
       "      <td>5.000000e+06</td>\n",
       "    </tr>\n",
       "    <tr>\n",
       "      <th>3</th>\n",
       "      <td>7.469506e-125</td>\n",
       "      <td>7.342967e-52</td>\n",
       "      <td>1.620119e-06</td>\n",
       "      <td>9.995660e-01</td>\n",
       "      <td>4.324067e-04</td>\n",
       "      <td>4.000431</td>\n",
       "      <td>0.000435</td>\n",
       "      <td>2299.689864</td>\n",
       "      <td>9.199750e+03</td>\n",
       "    </tr>\n",
       "    <tr>\n",
       "      <th>4</th>\n",
       "      <td>1.000000e+00</td>\n",
       "      <td>2.476337e-74</td>\n",
       "      <td>1.030130e-98</td>\n",
       "      <td>4.993414e-154</td>\n",
       "      <td>7.748091e-238</td>\n",
       "      <td>1.000000</td>\n",
       "      <td>0.000001</td>\n",
       "      <td>1000000.000000</td>\n",
       "      <td>1.000000e+06</td>\n",
       "    </tr>\n",
       "  </tbody>\n",
       "</table>\n",
       "</div>"
      ],
      "text/plain": [
       "          pred_1        pred_2        pred_3         pred_4         pred_5  \\\n",
       "0   9.336781e-01  1.116243e-35  9.074516e-06   5.624613e-23   6.631284e-02   \n",
       "1   1.000000e+00  1.519500e-18  7.833816e-17   2.034631e-27   6.315512e-17   \n",
       "2   1.953967e-29  2.100869e-40  9.841617e-24   2.569243e-27   1.000000e+00   \n",
       "3  7.469506e-125  7.342967e-52  1.620119e-06   9.995660e-01   4.324067e-04   \n",
       "4   1.000000e+00  2.476337e-74  1.030130e-98  4.993414e-154  7.748091e-238   \n",
       "\n",
       "   meanPred   varPred          repvar        w_mean  \n",
       "0  1.265269  0.990675        1.009413  1.277179e+00  \n",
       "1  1.000000  0.000001   999999.998675  1.000000e+06  \n",
       "2  5.000000  0.000001  1000000.000000  5.000000e+06  \n",
       "3  4.000431  0.000435     2299.689864  9.199750e+03  \n",
       "4  1.000000  0.000001  1000000.000000  1.000000e+06  "
      ]
     },
     "execution_count": 162,
     "metadata": {},
     "output_type": "execute_result"
    }
   ],
   "source": [
    "test_df.head()"
   ]
  },
  {
   "cell_type": "code",
   "execution_count": 166,
   "metadata": {},
   "outputs": [],
   "source": [
    "from sklearn.metrics import classification_report\n",
    "from sklearn.metrics import mean_squared_error\n",
    "from sklearn.metrics import confusion_matrix\n",
    "from sklearn.metrics import accuracy_score\n",
    "\n",
    "def evaluate_model(predict_df):\n",
    "    ## set up\n",
    "    tempDF = pd.DataFrame({\"business_id\": feature_test['business_id'], \n",
    "                           \"real_label\": y_test})\n",
    "    tempDF = pd.concat([tempDF, predict_df], axis=1)\n",
    "\n",
    "    resultDF = tempDF.groupby(['business_id', 'real_label']).sum()\n",
    "    resultDF['grand_mean'] = round(resultDF['w_mean']/resultDF['repvar'], 0)\n",
    "    resultDF['grand_var'] = 1/resultDF['repvar']\n",
    "    resultDF.reset_index(inplace=True)\n",
    "    # resultDF['grand_mean'].describe()\n",
    "    \n",
    "    ## accuracy\n",
    "    accuracy = round(accuracy_score(resultDF[\"real_label\"], resultDF['grand_mean']), 3)\n",
    "    print(\"accuracy score:\", accuracy)\n",
    "    print(\"classification report:\\n\", classification_report(resultDF[\"real_label\"], resultDF['grand_mean']))\n",
    "    \n",
    "    realDummy = pd.get_dummies(resultDF['real_label'], prefix='real')\n",
    "\n",
    "    ## calculate RMSE\n",
    "    true_labs = realDummy.to_numpy().argmax(axis=1)+1\n",
    "    pred_labs = np.round(resultDF['grand_mean'])\n",
    "    rmse = (mean_squared_error(true_labs, pred_labs))**(0.5)\n",
    "    print(\"RMSE:\\t\", round(rmse, 4))\n",
    "    \n",
    "    ## plot confusion matrix\n",
    "    labels = [1,2,3,4,5]\n",
    "    #labels = [0,1,2,3,4]\n",
    "    cm = confusion_matrix(true_labs, pred_labs, labels, normalize='true')\n",
    "    cm_df = pd.DataFrame(cm, index=[i for i in labels], columns=[i for i in labels])\n",
    "\n",
    "    plt.figure(figsize = (10,7))\n",
    "    ax = plt.subplot()\n",
    "    sns.heatmap(cm_df, annot=True, cmap='BuPu', ax=ax)\n",
    "    ax.set_xlabel('Predicted labels')\n",
    "    ax.set_ylabel('True labels')\n",
    "    ax.set_title('Confusion Matrix')\n",
    "    \n",
    "    return(resultDF, rmse)"
   ]
  },
  {
   "cell_type": "code",
   "execution_count": 168,
   "metadata": {},
   "outputs": [
    {
     "name": "stdout",
     "output_type": "stream",
     "text": [
      "accuracy score: 0.328\n",
      "classification report:\n",
      "               precision    recall  f1-score   support\n",
      "\n",
      "         1.0       0.53      0.59      0.56      1050\n",
      "         2.0       0.28      0.27      0.27      1015\n",
      "         3.0       0.25      0.30      0.27      1034\n",
      "         4.0       0.27      0.35      0.31      1130\n",
      "         5.0       0.32      0.13      0.18      1106\n",
      "\n",
      "    accuracy                           0.33      5335\n",
      "   macro avg       0.33      0.33      0.32      5335\n",
      "weighted avg       0.33      0.33      0.32      5335\n",
      "\n",
      "RMSE:\t 1.2833\n"
     ]
    },
    {
     "data": {
      "image/png": "[encoded data removed]",
      "text/plain": [
       "<Figure size 720x504 with 2 Axes>"
      ]
     },
     "metadata": {
      "needs_background": "light"
     },
     "output_type": "display_data"
    }
   ],
   "source": [
    "resultDF, rmse = evaluate_model(test_df)"
   ]
  },
  {
   "cell_type": "code",
   "execution_count": null,
   "metadata": {},
   "outputs": [],
   "source": []
  }
 ],
 "metadata": {
  "kernelspec": {
   "display_name": "Python 3",
   "language": "python",
   "name": "python3"
  },
  "language_info": {
   "codemirror_mode": {
    "name": "ipython",
    "version": 3
   },
   "file_extension": ".py",
   "mimetype": "text/x-python",
   "name": "python",
   "nbconvert_exporter": "python",
   "pygments_lexer": "ipython3",
   "version": "3.7.4"
  }
 },
 "nbformat": 4,
 "nbformat_minor": 4
}
