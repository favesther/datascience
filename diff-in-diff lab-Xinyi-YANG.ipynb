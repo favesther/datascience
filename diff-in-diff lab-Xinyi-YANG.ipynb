{
 "cells": [
  {
   "cell_type": "markdown",
   "metadata": {},
   "source": [
    "# Was Montana Meth Prevention Project Effective?\n",
    "Your task is to determine if Montana Meth Prevention Project (MMP) was effective in decreasing the  \n",
    "methamphetamine use among Montana teens.   \n",
    "  \n",
    "**Background and Data**  \n",
    "2005-2007 Montana conducted an agressive ad campaign to decrease the meth abuse by the youth.  \n",
    "Your task is to analyze the efficacy of the campaign using Youth Risk Behavior Surve (YRBS) data.  \n",
    "The example code below does before-after estimator, you will implement cross-sectional estimator and  \n",
    "differences-in-differences (DiD) estimator. The sample, necessary for this lab, is on canvas. The full data  \n",
    "and documentation can be obtained from https://www.cdc.gov/healthyyouth/data/yrbs/data.htm.  \n",
    "The variables in the sample are:  \n",
    "**year** survey year (2003-2009)  \n",
    "**age** age, 14-17 years  \n",
    "**sex** M,F  \n",
    "**meth** 1 = has used methamphetamines in life  \n",
    "**tv** 1 = watches more than 1hr TV on average schoolday (a large number of the project ads were displayed  \n",
    "on TV).  \n",
    "**state** MT = Montana, XX = national sample  \n",
    "# Example: before-after estimator\n",
    "Load the data and do some exploration."
   ]
  },
  {
   "cell_type": "code",
   "execution_count": 76,
   "metadata": {},
   "outputs": [],
   "source": [
    "import pandas as pd\n",
    "import numpy as np\n",
    "import matplotlib.pyplot as plt\n",
    "import statsmodels.formula.api as smf"
   ]
  },
  {
   "cell_type": "code",
   "execution_count": 77,
   "metadata": {
    "scrolled": true
   },
   "outputs": [
    {
     "data": {
      "text/plain": [
       "(58077, 6)"
      ]
     },
     "execution_count": 77,
     "metadata": {},
     "output_type": "execute_result"
    }
   ],
   "source": [
    "yrbs = pd.read_csv(\"yrbs.tsv.bz2\", sep='\\t')\n",
    "yrbs.shape"
   ]
  },
  {
   "cell_type": "code",
   "execution_count": 78,
   "metadata": {
    "scrolled": true
   },
   "outputs": [
    {
     "data": {
      "text/html": [
       "<div>\n",
       "<style scoped>\n",
       "    .dataframe tbody tr th:only-of-type {\n",
       "        vertical-align: middle;\n",
       "    }\n",
       "\n",
       "    .dataframe tbody tr th {\n",
       "        vertical-align: top;\n",
       "    }\n",
       "\n",
       "    .dataframe thead th {\n",
       "        text-align: right;\n",
       "    }\n",
       "</style>\n",
       "<table border=\"1\" class=\"dataframe\">\n",
       "  <thead>\n",
       "    <tr style=\"text-align: right;\">\n",
       "      <th></th>\n",
       "      <th>year</th>\n",
       "      <th>age</th>\n",
       "      <th>sex</th>\n",
       "      <th>meth</th>\n",
       "      <th>tv</th>\n",
       "      <th>state</th>\n",
       "    </tr>\n",
       "  </thead>\n",
       "  <tbody>\n",
       "    <tr>\n",
       "      <th>0</th>\n",
       "      <td>2003</td>\n",
       "      <td>13</td>\n",
       "      <td>M</td>\n",
       "      <td>0</td>\n",
       "      <td>1</td>\n",
       "      <td>XX</td>\n",
       "    </tr>\n",
       "    <tr>\n",
       "      <th>1</th>\n",
       "      <td>2003</td>\n",
       "      <td>13</td>\n",
       "      <td>M</td>\n",
       "      <td>1</td>\n",
       "      <td>1</td>\n",
       "      <td>XX</td>\n",
       "    </tr>\n",
       "    <tr>\n",
       "      <th>2</th>\n",
       "      <td>2003</td>\n",
       "      <td>13</td>\n",
       "      <td>M</td>\n",
       "      <td>1</td>\n",
       "      <td>1</td>\n",
       "      <td>XX</td>\n",
       "    </tr>\n",
       "    <tr>\n",
       "      <th>3</th>\n",
       "      <td>2003</td>\n",
       "      <td>13</td>\n",
       "      <td>M</td>\n",
       "      <td>0</td>\n",
       "      <td>1</td>\n",
       "      <td>XX</td>\n",
       "    </tr>\n",
       "    <tr>\n",
       "      <th>4</th>\n",
       "      <td>2003</td>\n",
       "      <td>13</td>\n",
       "      <td>M</td>\n",
       "      <td>0</td>\n",
       "      <td>0</td>\n",
       "      <td>XX</td>\n",
       "    </tr>\n",
       "    <tr>\n",
       "      <th>...</th>\n",
       "      <td>...</td>\n",
       "      <td>...</td>\n",
       "      <td>...</td>\n",
       "      <td>...</td>\n",
       "      <td>...</td>\n",
       "      <td>...</td>\n",
       "    </tr>\n",
       "    <tr>\n",
       "      <th>58072</th>\n",
       "      <td>2009</td>\n",
       "      <td>17</td>\n",
       "      <td>F</td>\n",
       "      <td>0</td>\n",
       "      <td>0</td>\n",
       "      <td>MT</td>\n",
       "    </tr>\n",
       "    <tr>\n",
       "      <th>58073</th>\n",
       "      <td>2009</td>\n",
       "      <td>17</td>\n",
       "      <td>F</td>\n",
       "      <td>0</td>\n",
       "      <td>0</td>\n",
       "      <td>MT</td>\n",
       "    </tr>\n",
       "    <tr>\n",
       "      <th>58074</th>\n",
       "      <td>2009</td>\n",
       "      <td>17</td>\n",
       "      <td>F</td>\n",
       "      <td>0</td>\n",
       "      <td>0</td>\n",
       "      <td>MT</td>\n",
       "    </tr>\n",
       "    <tr>\n",
       "      <th>58075</th>\n",
       "      <td>2009</td>\n",
       "      <td>17</td>\n",
       "      <td>F</td>\n",
       "      <td>0</td>\n",
       "      <td>0</td>\n",
       "      <td>MT</td>\n",
       "    </tr>\n",
       "    <tr>\n",
       "      <th>58076</th>\n",
       "      <td>2009</td>\n",
       "      <td>17</td>\n",
       "      <td>F</td>\n",
       "      <td>0</td>\n",
       "      <td>0</td>\n",
       "      <td>MT</td>\n",
       "    </tr>\n",
       "  </tbody>\n",
       "</table>\n",
       "<p>58077 rows × 6 columns</p>\n",
       "</div>"
      ],
      "text/plain": [
       "       year  age sex  meth  tv state\n",
       "0      2003   13   M     0   1    XX\n",
       "1      2003   13   M     1   1    XX\n",
       "2      2003   13   M     1   1    XX\n",
       "3      2003   13   M     0   1    XX\n",
       "4      2003   13   M     0   0    XX\n",
       "...     ...  ...  ..   ...  ..   ...\n",
       "58072  2009   17   F     0   0    MT\n",
       "58073  2009   17   F     0   0    MT\n",
       "58074  2009   17   F     0   0    MT\n",
       "58075  2009   17   F     0   0    MT\n",
       "58076  2009   17   F     0   0    MT\n",
       "\n",
       "[58077 rows x 6 columns]"
      ]
     },
     "execution_count": 78,
     "metadata": {},
     "output_type": "execute_result"
    }
   ],
   "source": [
    "yrbs"
   ]
  },
  {
   "cell_type": "code",
   "execution_count": 79,
   "metadata": {},
   "outputs": [
    {
     "data": {
      "text/plain": [
       "Index(['year', 'age', 'sex', 'meth', 'tv', 'state'], dtype='object')"
      ]
     },
     "execution_count": 79,
     "metadata": {},
     "output_type": "execute_result"
    }
   ],
   "source": [
    "yrbs.columns"
   ]
  },
  {
   "cell_type": "code",
   "execution_count": 80,
   "metadata": {},
   "outputs": [
    {
     "data": {
      "text/html": [
       "<div>\n",
       "<style scoped>\n",
       "    .dataframe tbody tr th:only-of-type {\n",
       "        vertical-align: middle;\n",
       "    }\n",
       "\n",
       "    .dataframe tbody tr th {\n",
       "        vertical-align: top;\n",
       "    }\n",
       "\n",
       "    .dataframe thead th {\n",
       "        text-align: right;\n",
       "    }\n",
       "</style>\n",
       "<table border=\"1\" class=\"dataframe\">\n",
       "  <thead>\n",
       "    <tr style=\"text-align: right;\">\n",
       "      <th></th>\n",
       "      <th>year</th>\n",
       "      <th>age</th>\n",
       "      <th>meth</th>\n",
       "      <th>tv</th>\n",
       "    </tr>\n",
       "  </thead>\n",
       "  <tbody>\n",
       "    <tr>\n",
       "      <th>count</th>\n",
       "      <td>58077.000000</td>\n",
       "      <td>58077.000000</td>\n",
       "      <td>58077.000000</td>\n",
       "      <td>58077.000000</td>\n",
       "    </tr>\n",
       "    <tr>\n",
       "      <th>mean</th>\n",
       "      <td>2006.037416</td>\n",
       "      <td>15.796047</td>\n",
       "      <td>0.051105</td>\n",
       "      <td>0.603148</td>\n",
       "    </tr>\n",
       "    <tr>\n",
       "      <th>std</th>\n",
       "      <td>2.247649</td>\n",
       "      <td>0.999958</td>\n",
       "      <td>0.220213</td>\n",
       "      <td>0.489249</td>\n",
       "    </tr>\n",
       "    <tr>\n",
       "      <th>min</th>\n",
       "      <td>2003.000000</td>\n",
       "      <td>13.000000</td>\n",
       "      <td>0.000000</td>\n",
       "      <td>0.000000</td>\n",
       "    </tr>\n",
       "    <tr>\n",
       "      <th>25%</th>\n",
       "      <td>2005.000000</td>\n",
       "      <td>15.000000</td>\n",
       "      <td>0.000000</td>\n",
       "      <td>0.000000</td>\n",
       "    </tr>\n",
       "    <tr>\n",
       "      <th>50%</th>\n",
       "      <td>2007.000000</td>\n",
       "      <td>16.000000</td>\n",
       "      <td>0.000000</td>\n",
       "      <td>1.000000</td>\n",
       "    </tr>\n",
       "    <tr>\n",
       "      <th>75%</th>\n",
       "      <td>2009.000000</td>\n",
       "      <td>17.000000</td>\n",
       "      <td>0.000000</td>\n",
       "      <td>1.000000</td>\n",
       "    </tr>\n",
       "    <tr>\n",
       "      <th>max</th>\n",
       "      <td>2009.000000</td>\n",
       "      <td>17.000000</td>\n",
       "      <td>1.000000</td>\n",
       "      <td>1.000000</td>\n",
       "    </tr>\n",
       "  </tbody>\n",
       "</table>\n",
       "</div>"
      ],
      "text/plain": [
       "               year           age          meth            tv\n",
       "count  58077.000000  58077.000000  58077.000000  58077.000000\n",
       "mean    2006.037416     15.796047      0.051105      0.603148\n",
       "std        2.247649      0.999958      0.220213      0.489249\n",
       "min     2003.000000     13.000000      0.000000      0.000000\n",
       "25%     2005.000000     15.000000      0.000000      0.000000\n",
       "50%     2007.000000     16.000000      0.000000      1.000000\n",
       "75%     2009.000000     17.000000      0.000000      1.000000\n",
       "max     2009.000000     17.000000      1.000000      1.000000"
      ]
     },
     "execution_count": 80,
     "metadata": {},
     "output_type": "execute_result"
    }
   ],
   "source": [
    "yrbs.describe()"
   ]
  },
  {
   "cell_type": "markdown",
   "metadata": {},
   "source": [
    "So we have 58077 cases in the data, seems like no missings.  \n",
    "Next, lets do some graphical exploration. Plot the mean value of meth use for each year, separately for Montana and national sample."
   ]
  },
  {
   "cell_type": "code",
   "execution_count": 81,
   "metadata": {
    "scrolled": true
   },
   "outputs": [
    {
     "data": {
      "image/png": "[encoded data removed]",
      "text/plain": [
       "<Figure size 432x288 with 1 Axes>"
      ]
     },
     "metadata": {
      "needs_background": "light"
     },
     "output_type": "display_data"
    }
   ],
   "source": [
    "yearly = yrbs.groupby(['year', 'state'], as_index=False).meth.mean() #groupby 不要另外分列的方法\n",
    "plt.plot(yearly[yearly.state == 'MT'].year, yearly[yearly.state == 'MT'].meth,label='MT')\n",
    "plt.plot(yearly[yearly.state == 'XX'].year, yearly[yearly.state == 'XX'].meth,label='National')\n",
    "plt.legend()#图例\n",
    "plt.show()"
   ]
  },
  {
   "cell_type": "markdown",
   "metadata": {},
   "source": [
    "Now it's time to do before-after estimator. First we comput an additional variable: before denoting the time period before the campaign (i.e. years 2003, 2005) contrary to after the campaign (2007, 2009)."
   ]
  },
  {
   "cell_type": "code",
   "execution_count": 82,
   "metadata": {
    "scrolled": true
   },
   "outputs": [
    {
     "data": {
      "text/plain": [
       "count     58077\n",
       "unique        2\n",
       "top       False\n",
       "freq      29728\n",
       "Name: before, dtype: object"
      ]
     },
     "execution_count": 82,
     "metadata": {},
     "output_type": "execute_result"
    }
   ],
   "source": [
    "yrbs['before'] = yrbs.year < 2006\n",
    "yrbs.before.describe()"
   ]
  },
  {
   "cell_type": "markdown",
   "metadata": {},
   "source": [
    "We see 58077 valids cases, i.e no missings here.  \n",
    "Now let's compare the meth usage before and after the campaign. We start with a simple table:"
   ]
  },
  {
   "cell_type": "code",
   "execution_count": 83,
   "metadata": {},
   "outputs": [
    {
     "data": {
      "text/plain": [
       "before\n",
       "False    0.038115\n",
       "True     0.076734\n",
       "Name: meth, dtype: float64"
      ]
     },
     "execution_count": 83,
     "metadata": {},
     "output_type": "execute_result"
    }
   ],
   "source": [
    "yrbs[yrbs.state == 'MT'].groupby('before').meth.mean()"
   ]
  },
  {
   "cell_type": "markdown",
   "metadata": {},
   "source": [
    "Note that we have to select just Montana as the rest of the sample was not affected by the campaign.  \n",
    "The table suggests that the amphetamine use had decreased substantially, approximately 3.6 pct points,over the time period we observe in the data. This corresponds pretty well to the graphical exploration(blue line).  \n",
    "Next, we do this as a simple regression with no additional controls:"
   ]
  },
  {
   "cell_type": "code",
   "execution_count": 84,
   "metadata": {},
   "outputs": [
    {
     "data": {
      "text/html": [
       "<table class=\"simpletable\">\n",
       "<caption>OLS Regression Results</caption>\n",
       "<tr>\n",
       "  <th>Dep. Variable:</th>          <td>meth</td>       <th>  R-squared:         </th> <td>   0.007</td>\n",
       "</tr>\n",
       "<tr>\n",
       "  <th>Model:</th>                   <td>OLS</td>       <th>  Adj. R-squared:    </th> <td>   0.007</td>\n",
       "</tr>\n",
       "<tr>\n",
       "  <th>Method:</th>             <td>Least Squares</td>  <th>  F-statistic:       </th> <td>   67.66</td>\n",
       "</tr>\n",
       "<tr>\n",
       "  <th>Date:</th>             <td>Mon, 27 Jan 2020</td> <th>  Prob (F-statistic):</th> <td>2.19e-16</td>\n",
       "</tr>\n",
       "<tr>\n",
       "  <th>Time:</th>                 <td>19:24:48</td>     <th>  Log-Likelihood:    </th> <td>  417.76</td>\n",
       "</tr>\n",
       "<tr>\n",
       "  <th>No. Observations:</th>      <td>  9754</td>      <th>  AIC:               </th> <td>  -831.5</td>\n",
       "</tr>\n",
       "<tr>\n",
       "  <th>Df Residuals:</th>          <td>  9752</td>      <th>  BIC:               </th> <td>  -817.1</td>\n",
       "</tr>\n",
       "<tr>\n",
       "  <th>Df Model:</th>              <td>     1</td>      <th>                     </th>     <td> </td>   \n",
       "</tr>\n",
       "<tr>\n",
       "  <th>Covariance Type:</th>      <td>nonrobust</td>    <th>                     </th>     <td> </td>   \n",
       "</tr>\n",
       "</table>\n",
       "<table class=\"simpletable\">\n",
       "<tr>\n",
       "         <td></td>           <th>coef</th>     <th>std err</th>      <th>t</th>      <th>P>|t|</th>  <th>[0.025</th>    <th>0.975]</th>  \n",
       "</tr>\n",
       "<tr>\n",
       "  <th>Intercept</th>      <td>    0.0381</td> <td>    0.003</td> <td>   11.484</td> <td> 0.000</td> <td>    0.032</td> <td>    0.045</td>\n",
       "</tr>\n",
       "<tr>\n",
       "  <th>before[T.True]</th> <td>    0.0386</td> <td>    0.005</td> <td>    8.225</td> <td> 0.000</td> <td>    0.029</td> <td>    0.048</td>\n",
       "</tr>\n",
       "</table>\n",
       "<table class=\"simpletable\">\n",
       "<tr>\n",
       "  <th>Omnibus:</th>       <td>7326.455</td> <th>  Durbin-Watson:     </th> <td>   1.957</td> \n",
       "</tr>\n",
       "<tr>\n",
       "  <th>Prob(Omnibus):</th>  <td> 0.000</td>  <th>  Jarque-Bera (JB):  </th> <td>84570.020</td>\n",
       "</tr>\n",
       "<tr>\n",
       "  <th>Skew:</th>           <td> 3.765</td>  <th>  Prob(JB):          </th> <td>    0.00</td> \n",
       "</tr>\n",
       "<tr>\n",
       "  <th>Kurtosis:</th>       <td>15.304</td>  <th>  Cond. No.          </th> <td>    2.62</td> \n",
       "</tr>\n",
       "</table><br/><br/>Warnings:<br/>[1] Standard Errors assume that the covariance matrix of the errors is correctly specified."
      ],
      "text/plain": [
       "<class 'statsmodels.iolib.summary.Summary'>\n",
       "\"\"\"\n",
       "                            OLS Regression Results                            \n",
       "==============================================================================\n",
       "Dep. Variable:                   meth   R-squared:                       0.007\n",
       "Model:                            OLS   Adj. R-squared:                  0.007\n",
       "Method:                 Least Squares   F-statistic:                     67.66\n",
       "Date:                Mon, 27 Jan 2020   Prob (F-statistic):           2.19e-16\n",
       "Time:                        19:24:48   Log-Likelihood:                 417.76\n",
       "No. Observations:                9754   AIC:                            -831.5\n",
       "Df Residuals:                    9752   BIC:                            -817.1\n",
       "Df Model:                           1                                         \n",
       "Covariance Type:            nonrobust                                         \n",
       "==================================================================================\n",
       "                     coef    std err          t      P>|t|      [0.025      0.975]\n",
       "----------------------------------------------------------------------------------\n",
       "Intercept          0.0381      0.003     11.484      0.000       0.032       0.045\n",
       "before[T.True]     0.0386      0.005      8.225      0.000       0.029       0.048\n",
       "==============================================================================\n",
       "Omnibus:                     7326.455   Durbin-Watson:                   1.957\n",
       "Prob(Omnibus):                  0.000   Jarque-Bera (JB):            84570.020\n",
       "Skew:                           3.765   Prob(JB):                         0.00\n",
       "Kurtosis:                      15.304   Cond. No.                         2.62\n",
       "==============================================================================\n",
       "\n",
       "Warnings:\n",
       "[1] Standard Errors assume that the covariance matrix of the errors is correctly specified.\n",
       "\"\"\""
      ]
     },
     "execution_count": 84,
     "metadata": {},
     "output_type": "execute_result"
    }
   ],
   "source": [
    "m = smf.ols(formula = 'meth ~ before', data=yrbs[yrbs.state == 'MT'])\n",
    "r = m.fit()\n",
    "r.summary()"
   ]
  },
  {
   "cell_type": "markdown",
   "metadata": {},
   "source": [
    "The table revels before being 0.0386, i.e. the amphetamine use was 3.86 pct points higher in Montana before the campaign.  \n",
    "And finally we add all the relevant controls:"
   ]
  },
  {
   "cell_type": "code",
   "execution_count": 85,
   "metadata": {},
   "outputs": [
    {
     "data": {
      "text/html": [
       "<table class=\"simpletable\">\n",
       "<caption>OLS Regression Results</caption>\n",
       "<tr>\n",
       "  <th>Dep. Variable:</th>          <td>meth</td>       <th>  R-squared:         </th> <td>   0.009</td>\n",
       "</tr>\n",
       "<tr>\n",
       "  <th>Model:</th>                   <td>OLS</td>       <th>  Adj. R-squared:    </th> <td>   0.009</td>\n",
       "</tr>\n",
       "<tr>\n",
       "  <th>Method:</th>             <td>Least Squares</td>  <th>  F-statistic:       </th> <td>   23.20</td>\n",
       "</tr>\n",
       "<tr>\n",
       "  <th>Date:</th>             <td>Mon, 27 Jan 2020</td> <th>  Prob (F-statistic):</th> <td>4.11e-19</td>\n",
       "</tr>\n",
       "<tr>\n",
       "  <th>Time:</th>                 <td>19:24:48</td>     <th>  Log-Likelihood:    </th> <td>  430.25</td>\n",
       "</tr>\n",
       "<tr>\n",
       "  <th>No. Observations:</th>      <td>  9754</td>      <th>  AIC:               </th> <td>  -850.5</td>\n",
       "</tr>\n",
       "<tr>\n",
       "  <th>Df Residuals:</th>          <td>  9749</td>      <th>  BIC:               </th> <td>  -814.6</td>\n",
       "</tr>\n",
       "<tr>\n",
       "  <th>Df Model:</th>              <td>     4</td>      <th>                     </th>     <td> </td>   \n",
       "</tr>\n",
       "<tr>\n",
       "  <th>Covariance Type:</th>      <td>nonrobust</td>    <th>                     </th>     <td> </td>   \n",
       "</tr>\n",
       "</table>\n",
       "<table class=\"simpletable\">\n",
       "<tr>\n",
       "         <td></td>           <th>coef</th>     <th>std err</th>      <th>t</th>      <th>P>|t|</th>  <th>[0.025</th>    <th>0.975]</th>  \n",
       "</tr>\n",
       "<tr>\n",
       "  <th>Intercept</th>      <td>   -0.1476</td> <td>    0.038</td> <td>   -3.911</td> <td> 0.000</td> <td>   -0.222</td> <td>   -0.074</td>\n",
       "</tr>\n",
       "<tr>\n",
       "  <th>before[T.True]</th> <td>    0.0386</td> <td>    0.005</td> <td>    8.221</td> <td> 0.000</td> <td>    0.029</td> <td>    0.048</td>\n",
       "</tr>\n",
       "<tr>\n",
       "  <th>sex[T.M]</th>       <td>   -0.0031</td> <td>    0.005</td> <td>   -0.653</td> <td> 0.514</td> <td>   -0.012</td> <td>    0.006</td>\n",
       "</tr>\n",
       "<tr>\n",
       "  <th>age</th>            <td>    0.0118</td> <td>    0.002</td> <td>    4.953</td> <td> 0.000</td> <td>    0.007</td> <td>    0.016</td>\n",
       "</tr>\n",
       "<tr>\n",
       "  <th>tv</th>             <td>    0.0035</td> <td>    0.005</td> <td>    0.739</td> <td> 0.460</td> <td>   -0.006</td> <td>    0.013</td>\n",
       "</tr>\n",
       "</table>\n",
       "<table class=\"simpletable\">\n",
       "<tr>\n",
       "  <th>Omnibus:</th>       <td>7302.251</td> <th>  Durbin-Watson:     </th> <td>   1.963</td> \n",
       "</tr>\n",
       "<tr>\n",
       "  <th>Prob(Omnibus):</th>  <td> 0.000</td>  <th>  Jarque-Bera (JB):  </th> <td>83719.425</td>\n",
       "</tr>\n",
       "<tr>\n",
       "  <th>Skew:</th>           <td> 3.750</td>  <th>  Prob(JB):          </th> <td>    0.00</td> \n",
       "</tr>\n",
       "<tr>\n",
       "  <th>Kurtosis:</th>       <td>15.237</td>  <th>  Cond. No.          </th> <td>    255.</td> \n",
       "</tr>\n",
       "</table><br/><br/>Warnings:<br/>[1] Standard Errors assume that the covariance matrix of the errors is correctly specified."
      ],
      "text/plain": [
       "<class 'statsmodels.iolib.summary.Summary'>\n",
       "\"\"\"\n",
       "                            OLS Regression Results                            \n",
       "==============================================================================\n",
       "Dep. Variable:                   meth   R-squared:                       0.009\n",
       "Model:                            OLS   Adj. R-squared:                  0.009\n",
       "Method:                 Least Squares   F-statistic:                     23.20\n",
       "Date:                Mon, 27 Jan 2020   Prob (F-statistic):           4.11e-19\n",
       "Time:                        19:24:48   Log-Likelihood:                 430.25\n",
       "No. Observations:                9754   AIC:                            -850.5\n",
       "Df Residuals:                    9749   BIC:                            -814.6\n",
       "Df Model:                           4                                         \n",
       "Covariance Type:            nonrobust                                         \n",
       "==================================================================================\n",
       "                     coef    std err          t      P>|t|      [0.025      0.975]\n",
       "----------------------------------------------------------------------------------\n",
       "Intercept         -0.1476      0.038     -3.911      0.000      -0.222      -0.074\n",
       "before[T.True]     0.0386      0.005      8.221      0.000       0.029       0.048\n",
       "sex[T.M]          -0.0031      0.005     -0.653      0.514      -0.012       0.006\n",
       "age                0.0118      0.002      4.953      0.000       0.007       0.016\n",
       "tv                 0.0035      0.005      0.739      0.460      -0.006       0.013\n",
       "==============================================================================\n",
       "Omnibus:                     7302.251   Durbin-Watson:                   1.963\n",
       "Prob(Omnibus):                  0.000   Jarque-Bera (JB):            83719.425\n",
       "Skew:                           3.750   Prob(JB):                         0.00\n",
       "Kurtosis:                      15.237   Cond. No.                         255.\n",
       "==============================================================================\n",
       "\n",
       "Warnings:\n",
       "[1] Standard Errors assume that the covariance matrix of the errors is correctly specified.\n",
       "\"\"\""
      ]
     },
     "execution_count": 85,
     "metadata": {},
     "output_type": "execute_result"
    }
   ],
   "source": [
    "m = smf.ols(formula = 'meth ~ before + age + sex + tv', data=yrbs[yrbs.state == 'MT'])\n",
    "r = m.fit()\n",
    "r.summary()"
   ]
  },
  {
   "cell_type": "markdown",
   "metadata": {},
   "source": [
    "The other controls do not seem to affect the before variable, apparently the usage change patterns were not closely related to any of these controls."
   ]
  },
  {
   "cell_type": "markdown",
   "metadata": {},
   "source": [
    "# Your Tasks\n",
    "## Cross-Sectional Estimator\n",
    "Compare the meth use (mean value) in Montana and nationally after the project. In each case interpret  \n",
    "the results.  \n",
    "* Do it as a simple table  \n",
    "* Do it using regression without any other controls  \n",
    "* Run a regression with full controls.  "
   ]
  },
  {
   "cell_type": "code",
   "execution_count": 86,
   "metadata": {
    "scrolled": true
   },
   "outputs": [
    {
     "data": {
      "text/html": [
       "<div>\n",
       "<style scoped>\n",
       "    .dataframe tbody tr th:only-of-type {\n",
       "        vertical-align: middle;\n",
       "    }\n",
       "\n",
       "    .dataframe tbody tr th {\n",
       "        vertical-align: top;\n",
       "    }\n",
       "\n",
       "    .dataframe thead th {\n",
       "        text-align: right;\n",
       "    }\n",
       "</style>\n",
       "<table border=\"1\" class=\"dataframe\">\n",
       "  <thead>\n",
       "    <tr style=\"text-align: right;\">\n",
       "      <th></th>\n",
       "      <th>year</th>\n",
       "      <th>age</th>\n",
       "      <th>sex</th>\n",
       "      <th>meth</th>\n",
       "      <th>tv</th>\n",
       "      <th>state</th>\n",
       "      <th>before</th>\n",
       "    </tr>\n",
       "  </thead>\n",
       "  <tbody>\n",
       "    <tr>\n",
       "      <th>0</th>\n",
       "      <td>2003</td>\n",
       "      <td>13</td>\n",
       "      <td>M</td>\n",
       "      <td>0</td>\n",
       "      <td>1</td>\n",
       "      <td>XX</td>\n",
       "      <td>True</td>\n",
       "    </tr>\n",
       "    <tr>\n",
       "      <th>1</th>\n",
       "      <td>2003</td>\n",
       "      <td>13</td>\n",
       "      <td>M</td>\n",
       "      <td>1</td>\n",
       "      <td>1</td>\n",
       "      <td>XX</td>\n",
       "      <td>True</td>\n",
       "    </tr>\n",
       "    <tr>\n",
       "      <th>2</th>\n",
       "      <td>2003</td>\n",
       "      <td>13</td>\n",
       "      <td>M</td>\n",
       "      <td>1</td>\n",
       "      <td>1</td>\n",
       "      <td>XX</td>\n",
       "      <td>True</td>\n",
       "    </tr>\n",
       "    <tr>\n",
       "      <th>3</th>\n",
       "      <td>2003</td>\n",
       "      <td>13</td>\n",
       "      <td>M</td>\n",
       "      <td>0</td>\n",
       "      <td>1</td>\n",
       "      <td>XX</td>\n",
       "      <td>True</td>\n",
       "    </tr>\n",
       "    <tr>\n",
       "      <th>4</th>\n",
       "      <td>2003</td>\n",
       "      <td>13</td>\n",
       "      <td>M</td>\n",
       "      <td>0</td>\n",
       "      <td>0</td>\n",
       "      <td>XX</td>\n",
       "      <td>True</td>\n",
       "    </tr>\n",
       "    <tr>\n",
       "      <th>...</th>\n",
       "      <td>...</td>\n",
       "      <td>...</td>\n",
       "      <td>...</td>\n",
       "      <td>...</td>\n",
       "      <td>...</td>\n",
       "      <td>...</td>\n",
       "      <td>...</td>\n",
       "    </tr>\n",
       "    <tr>\n",
       "      <th>58072</th>\n",
       "      <td>2009</td>\n",
       "      <td>17</td>\n",
       "      <td>F</td>\n",
       "      <td>0</td>\n",
       "      <td>0</td>\n",
       "      <td>MT</td>\n",
       "      <td>False</td>\n",
       "    </tr>\n",
       "    <tr>\n",
       "      <th>58073</th>\n",
       "      <td>2009</td>\n",
       "      <td>17</td>\n",
       "      <td>F</td>\n",
       "      <td>0</td>\n",
       "      <td>0</td>\n",
       "      <td>MT</td>\n",
       "      <td>False</td>\n",
       "    </tr>\n",
       "    <tr>\n",
       "      <th>58074</th>\n",
       "      <td>2009</td>\n",
       "      <td>17</td>\n",
       "      <td>F</td>\n",
       "      <td>0</td>\n",
       "      <td>0</td>\n",
       "      <td>MT</td>\n",
       "      <td>False</td>\n",
       "    </tr>\n",
       "    <tr>\n",
       "      <th>58075</th>\n",
       "      <td>2009</td>\n",
       "      <td>17</td>\n",
       "      <td>F</td>\n",
       "      <td>0</td>\n",
       "      <td>0</td>\n",
       "      <td>MT</td>\n",
       "      <td>False</td>\n",
       "    </tr>\n",
       "    <tr>\n",
       "      <th>58076</th>\n",
       "      <td>2009</td>\n",
       "      <td>17</td>\n",
       "      <td>F</td>\n",
       "      <td>0</td>\n",
       "      <td>0</td>\n",
       "      <td>MT</td>\n",
       "      <td>False</td>\n",
       "    </tr>\n",
       "  </tbody>\n",
       "</table>\n",
       "<p>58077 rows × 7 columns</p>\n",
       "</div>"
      ],
      "text/plain": [
       "       year  age sex  meth  tv state  before\n",
       "0      2003   13   M     0   1    XX    True\n",
       "1      2003   13   M     1   1    XX    True\n",
       "2      2003   13   M     1   1    XX    True\n",
       "3      2003   13   M     0   1    XX    True\n",
       "4      2003   13   M     0   0    XX    True\n",
       "...     ...  ...  ..   ...  ..   ...     ...\n",
       "58072  2009   17   F     0   0    MT   False\n",
       "58073  2009   17   F     0   0    MT   False\n",
       "58074  2009   17   F     0   0    MT   False\n",
       "58075  2009   17   F     0   0    MT   False\n",
       "58076  2009   17   F     0   0    MT   False\n",
       "\n",
       "[58077 rows x 7 columns]"
      ]
     },
     "execution_count": 86,
     "metadata": {},
     "output_type": "execute_result"
    }
   ],
   "source": [
    "yrbs"
   ]
  },
  {
   "cell_type": "code",
   "execution_count": 87,
   "metadata": {
    "scrolled": true
   },
   "outputs": [
    {
     "data": {
      "text/plain": [
       "state\n",
       "MT    0.038115\n",
       "XX    0.039923\n",
       "Name: meth, dtype: float64"
      ]
     },
     "execution_count": 87,
     "metadata": {},
     "output_type": "execute_result"
    }
   ],
   "source": [
    "yrbs['after'] = yrbs.year >= 2006\n",
    "yrbs[yrbs.after == True].groupby('state').meth.mean()"
   ]
  },
  {
   "cell_type": "markdown",
   "metadata": {},
   "source": [
    "After the compaign, the meth use (mean value) in Montana is approximiately 0.0018 lower than nationally."
   ]
  },
  {
   "cell_type": "markdown",
   "metadata": {},
   "source": [
    "* Do it using regression without any other controls  "
   ]
  },
  {
   "cell_type": "code",
   "execution_count": 88,
   "metadata": {
    "scrolled": true
   },
   "outputs": [
    {
     "data": {
      "text/html": [
       "<table class=\"simpletable\">\n",
       "<caption>OLS Regression Results</caption>\n",
       "<tr>\n",
       "  <th>Dep. Variable:</th>          <td>meth</td>       <th>  R-squared:         </th>  <td>   0.000</td> \n",
       "</tr>\n",
       "<tr>\n",
       "  <th>Model:</th>                   <td>OLS</td>       <th>  Adj. R-squared:    </th>  <td>  -0.000</td> \n",
       "</tr>\n",
       "<tr>\n",
       "  <th>Method:</th>             <td>Least Squares</td>  <th>  F-statistic:       </th>  <td>  0.3503</td> \n",
       "</tr>\n",
       "<tr>\n",
       "  <th>Date:</th>             <td>Mon, 27 Jan 2020</td> <th>  Prob (F-statistic):</th>   <td> 0.554</td>  \n",
       "</tr>\n",
       "<tr>\n",
       "  <th>Time:</th>                 <td>19:24:49</td>     <th>  Log-Likelihood:    </th>  <td>  6404.0</td> \n",
       "</tr>\n",
       "<tr>\n",
       "  <th>No. Observations:</th>      <td> 29728</td>      <th>  AIC:               </th> <td>-1.280e+04</td>\n",
       "</tr>\n",
       "<tr>\n",
       "  <th>Df Residuals:</th>          <td> 29726</td>      <th>  BIC:               </th> <td>-1.279e+04</td>\n",
       "</tr>\n",
       "<tr>\n",
       "  <th>Df Model:</th>              <td>     1</td>      <th>                     </th>      <td> </td>    \n",
       "</tr>\n",
       "<tr>\n",
       "  <th>Covariance Type:</th>      <td>nonrobust</td>    <th>                     </th>      <td> </td>    \n",
       "</tr>\n",
       "</table>\n",
       "<table class=\"simpletable\">\n",
       "<tr>\n",
       "       <td></td>          <th>coef</th>     <th>std err</th>      <th>t</th>      <th>P>|t|</th>  <th>[0.025</th>    <th>0.975]</th>  \n",
       "</tr>\n",
       "<tr>\n",
       "  <th>Intercept</th>   <td>    0.0381</td> <td>    0.003</td> <td>   13.648</td> <td> 0.000</td> <td>    0.033</td> <td>    0.044</td>\n",
       "</tr>\n",
       "<tr>\n",
       "  <th>state[T.XX]</th> <td>    0.0018</td> <td>    0.003</td> <td>    0.592</td> <td> 0.554</td> <td>   -0.004</td> <td>    0.008</td>\n",
       "</tr>\n",
       "</table>\n",
       "<table class=\"simpletable\">\n",
       "<tr>\n",
       "  <th>Omnibus:</th>       <td>27196.729</td> <th>  Durbin-Watson:     </th>  <td>   1.976</td> \n",
       "</tr>\n",
       "<tr>\n",
       "  <th>Prob(Omnibus):</th>  <td> 0.000</td>   <th>  Jarque-Bera (JB):  </th> <td>619647.247</td>\n",
       "</tr>\n",
       "<tr>\n",
       "  <th>Skew:</th>           <td> 4.720</td>   <th>  Prob(JB):          </th>  <td>    0.00</td> \n",
       "</tr>\n",
       "<tr>\n",
       "  <th>Kurtosis:</th>       <td>23.277</td>   <th>  Cond. No.          </th>  <td>    4.75</td> \n",
       "</tr>\n",
       "</table><br/><br/>Warnings:<br/>[1] Standard Errors assume that the covariance matrix of the errors is correctly specified."
      ],
      "text/plain": [
       "<class 'statsmodels.iolib.summary.Summary'>\n",
       "\"\"\"\n",
       "                            OLS Regression Results                            \n",
       "==============================================================================\n",
       "Dep. Variable:                   meth   R-squared:                       0.000\n",
       "Model:                            OLS   Adj. R-squared:                 -0.000\n",
       "Method:                 Least Squares   F-statistic:                    0.3503\n",
       "Date:                Mon, 27 Jan 2020   Prob (F-statistic):              0.554\n",
       "Time:                        19:24:49   Log-Likelihood:                 6404.0\n",
       "No. Observations:               29728   AIC:                        -1.280e+04\n",
       "Df Residuals:                   29726   BIC:                        -1.279e+04\n",
       "Df Model:                           1                                         \n",
       "Covariance Type:            nonrobust                                         \n",
       "===============================================================================\n",
       "                  coef    std err          t      P>|t|      [0.025      0.975]\n",
       "-------------------------------------------------------------------------------\n",
       "Intercept       0.0381      0.003     13.648      0.000       0.033       0.044\n",
       "state[T.XX]     0.0018      0.003      0.592      0.554      -0.004       0.008\n",
       "==============================================================================\n",
       "Omnibus:                    27196.729   Durbin-Watson:                   1.976\n",
       "Prob(Omnibus):                  0.000   Jarque-Bera (JB):           619647.247\n",
       "Skew:                           4.720   Prob(JB):                         0.00\n",
       "Kurtosis:                      23.277   Cond. No.                         4.75\n",
       "==============================================================================\n",
       "\n",
       "Warnings:\n",
       "[1] Standard Errors assume that the covariance matrix of the errors is correctly specified.\n",
       "\"\"\""
      ]
     },
     "execution_count": 88,
     "metadata": {},
     "output_type": "execute_result"
    }
   ],
   "source": [
    "m_after = smf.ols(formula = 'meth ~ state', data=yrbs[yrbs.after==True])\n",
    "r_after = m_after.fit()\n",
    "r_after.summary()"
   ]
  },
  {
   "cell_type": "markdown",
   "metadata": {},
   "source": [
    "The table revels after being 0.0018, i.e. the amphetamine use was 0.18% points lower in Montana after the campaign."
   ]
  },
  {
   "cell_type": "markdown",
   "metadata": {},
   "source": [
    "* Run a regression with full controls."
   ]
  },
  {
   "cell_type": "code",
   "execution_count": 89,
   "metadata": {
    "scrolled": false
   },
   "outputs": [
    {
     "data": {
      "text/html": [
       "<table class=\"simpletable\">\n",
       "<caption>OLS Regression Results</caption>\n",
       "<tr>\n",
       "  <th>Dep. Variable:</th>          <td>meth</td>       <th>  R-squared:         </th>  <td>   0.002</td> \n",
       "</tr>\n",
       "<tr>\n",
       "  <th>Model:</th>                   <td>OLS</td>       <th>  Adj. R-squared:    </th>  <td>   0.001</td> \n",
       "</tr>\n",
       "<tr>\n",
       "  <th>Method:</th>             <td>Least Squares</td>  <th>  F-statistic:       </th>  <td>   11.60</td> \n",
       "</tr>\n",
       "<tr>\n",
       "  <th>Date:</th>             <td>Mon, 27 Jan 2020</td> <th>  Prob (F-statistic):</th>  <td>2.07e-09</td> \n",
       "</tr>\n",
       "<tr>\n",
       "  <th>Time:</th>                 <td>19:24:49</td>     <th>  Log-Likelihood:    </th>  <td>  6427.0</td> \n",
       "</tr>\n",
       "<tr>\n",
       "  <th>No. Observations:</th>      <td> 29728</td>      <th>  AIC:               </th> <td>-1.284e+04</td>\n",
       "</tr>\n",
       "<tr>\n",
       "  <th>Df Residuals:</th>          <td> 29723</td>      <th>  BIC:               </th> <td>-1.280e+04</td>\n",
       "</tr>\n",
       "<tr>\n",
       "  <th>Df Model:</th>              <td>     4</td>      <th>                     </th>      <td> </td>    \n",
       "</tr>\n",
       "<tr>\n",
       "  <th>Covariance Type:</th>      <td>nonrobust</td>    <th>                     </th>      <td> </td>    \n",
       "</tr>\n",
       "</table>\n",
       "<table class=\"simpletable\">\n",
       "<tr>\n",
       "       <td></td>          <th>coef</th>     <th>std err</th>      <th>t</th>      <th>P>|t|</th>  <th>[0.025</th>    <th>0.975]</th>  \n",
       "</tr>\n",
       "<tr>\n",
       "  <th>Intercept</th>   <td>   -0.0649</td> <td>    0.018</td> <td>   -3.615</td> <td> 0.000</td> <td>   -0.100</td> <td>   -0.030</td>\n",
       "</tr>\n",
       "<tr>\n",
       "  <th>state[T.XX]</th> <td>    0.0015</td> <td>    0.003</td> <td>    0.494</td> <td> 0.621</td> <td>   -0.005</td> <td>    0.008</td>\n",
       "</tr>\n",
       "<tr>\n",
       "  <th>sex[T.M]</th>    <td>    0.0081</td> <td>    0.002</td> <td>    3.563</td> <td> 0.000</td> <td>    0.004</td> <td>    0.013</td>\n",
       "</tr>\n",
       "<tr>\n",
       "  <th>age</th>         <td>    0.0064</td> <td>    0.001</td> <td>    5.648</td> <td> 0.000</td> <td>    0.004</td> <td>    0.009</td>\n",
       "</tr>\n",
       "<tr>\n",
       "  <th>tv</th>          <td>   -0.0016</td> <td>    0.002</td> <td>   -0.683</td> <td> 0.494</td> <td>   -0.006</td> <td>    0.003</td>\n",
       "</tr>\n",
       "</table>\n",
       "<table class=\"simpletable\">\n",
       "<tr>\n",
       "  <th>Omnibus:</th>       <td>27150.346</td> <th>  Durbin-Watson:     </th>  <td>   1.980</td> \n",
       "</tr>\n",
       "<tr>\n",
       "  <th>Prob(Omnibus):</th>  <td> 0.000</td>   <th>  Jarque-Bera (JB):  </th> <td>615983.002</td>\n",
       "</tr>\n",
       "<tr>\n",
       "  <th>Skew:</th>           <td> 4.709</td>   <th>  Prob(JB):          </th>  <td>    0.00</td> \n",
       "</tr>\n",
       "<tr>\n",
       "  <th>Kurtosis:</th>       <td>23.214</td>   <th>  Cond. No.          </th>  <td>    253.</td> \n",
       "</tr>\n",
       "</table><br/><br/>Warnings:<br/>[1] Standard Errors assume that the covariance matrix of the errors is correctly specified."
      ],
      "text/plain": [
       "<class 'statsmodels.iolib.summary.Summary'>\n",
       "\"\"\"\n",
       "                            OLS Regression Results                            \n",
       "==============================================================================\n",
       "Dep. Variable:                   meth   R-squared:                       0.002\n",
       "Model:                            OLS   Adj. R-squared:                  0.001\n",
       "Method:                 Least Squares   F-statistic:                     11.60\n",
       "Date:                Mon, 27 Jan 2020   Prob (F-statistic):           2.07e-09\n",
       "Time:                        19:24:49   Log-Likelihood:                 6427.0\n",
       "No. Observations:               29728   AIC:                        -1.284e+04\n",
       "Df Residuals:                   29723   BIC:                        -1.280e+04\n",
       "Df Model:                           4                                         \n",
       "Covariance Type:            nonrobust                                         \n",
       "===============================================================================\n",
       "                  coef    std err          t      P>|t|      [0.025      0.975]\n",
       "-------------------------------------------------------------------------------\n",
       "Intercept      -0.0649      0.018     -3.615      0.000      -0.100      -0.030\n",
       "state[T.XX]     0.0015      0.003      0.494      0.621      -0.005       0.008\n",
       "sex[T.M]        0.0081      0.002      3.563      0.000       0.004       0.013\n",
       "age             0.0064      0.001      5.648      0.000       0.004       0.009\n",
       "tv             -0.0016      0.002     -0.683      0.494      -0.006       0.003\n",
       "==============================================================================\n",
       "Omnibus:                    27150.346   Durbin-Watson:                   1.980\n",
       "Prob(Omnibus):                  0.000   Jarque-Bera (JB):           615983.002\n",
       "Skew:                           4.709   Prob(JB):                         0.00\n",
       "Kurtosis:                      23.214   Cond. No.                         253.\n",
       "==============================================================================\n",
       "\n",
       "Warnings:\n",
       "[1] Standard Errors assume that the covariance matrix of the errors is correctly specified.\n",
       "\"\"\""
      ]
     },
     "execution_count": 89,
     "metadata": {},
     "output_type": "execute_result"
    }
   ],
   "source": [
    "m_after_full = smf.ols(formula = 'meth ~ state + age + sex + tv', data=yrbs[yrbs.after==True])\n",
    "r_after_full = m_after_full.fit()\n",
    "r_after_full.summary()"
   ]
  },
  {
   "cell_type": "markdown",
   "metadata": {},
   "source": [
    "The other controls seem to slightly affect the state variable. \n",
    "According to the p-values, only the two variables - sex and age - are statistically significant. Holding other variables constant, the possibility of a male to use meth is 0.81% higher than a female. Also, holding other variables constant, every additional age of a person has an estimated chance of 0.64% to take meth use. "
   ]
  },
  {
   "cell_type": "markdown",
   "metadata": {},
   "source": [
    "## Differences-in-Differences Estimator\n",
    "Compare the differences in trends in meth use in Montana and nationally between pre-project and post-\n",
    "project years. In each case interpret the results.\n",
    "* Do it as a simple table: report average use before and after the campaign in both Montana and nationally. Compute the effect by calculating the trend difference.\n",
    "* Do it using regression without any other controls\n",
    "* Run a regression with full controls.\n",
    "* Finally, think about all these 3 estimators. Which of these would you consider more reliable than\n",
    "others? Why?"
   ]
  },
  {
   "cell_type": "code",
   "execution_count": 90,
   "metadata": {},
   "outputs": [
    {
     "data": {
      "text/plain": [
       "state  after\n",
       "MT     False    0.076734\n",
       "       True     0.038115\n",
       "XX     False    0.060319\n",
       "       True     0.039923\n",
       "Name: meth, dtype: float64"
      ]
     },
     "execution_count": 90,
     "metadata": {},
     "output_type": "execute_result"
    }
   ],
   "source": [
    "yrbs.groupby(['state','after']).meth.mean()"
   ]
  },
  {
   "cell_type": "markdown",
   "metadata": {},
   "source": [
    "While pre-project, meth use in MT is approximately 0.016 higher than nationally. After the event, meth use decreases a lot nation-wide. Meth use in MT was even 0.0018 lower than nationally. "
   ]
  },
  {
   "cell_type": "code",
   "execution_count": 91,
   "metadata": {
    "scrolled": false
   },
   "outputs": [
    {
     "data": {
      "text/html": [
       "<table class=\"simpletable\">\n",
       "<caption>OLS Regression Results</caption>\n",
       "<tr>\n",
       "  <th>Dep. Variable:</th>          <td>meth</td>       <th>  R-squared:         </th>  <td>   0.003</td> \n",
       "</tr>\n",
       "<tr>\n",
       "  <th>Model:</th>                   <td>OLS</td>       <th>  Adj. R-squared:    </th>  <td>   0.003</td> \n",
       "</tr>\n",
       "<tr>\n",
       "  <th>Method:</th>             <td>Least Squares</td>  <th>  F-statistic:       </th>  <td>   62.92</td> \n",
       "</tr>\n",
       "<tr>\n",
       "  <th>Date:</th>             <td>Mon, 27 Jan 2020</td> <th>  Prob (F-statistic):</th>  <td>1.31e-40</td> \n",
       "</tr>\n",
       "<tr>\n",
       "  <th>Time:</th>                 <td>19:24:50</td>     <th>  Log-Likelihood:    </th>  <td>  5566.9</td> \n",
       "</tr>\n",
       "<tr>\n",
       "  <th>No. Observations:</th>      <td> 58077</td>      <th>  AIC:               </th> <td>-1.113e+04</td>\n",
       "</tr>\n",
       "<tr>\n",
       "  <th>Df Residuals:</th>          <td> 58073</td>      <th>  BIC:               </th> <td>-1.109e+04</td>\n",
       "</tr>\n",
       "<tr>\n",
       "  <th>Df Model:</th>              <td>     3</td>      <th>                     </th>      <td> </td>    \n",
       "</tr>\n",
       "<tr>\n",
       "  <th>Covariance Type:</th>      <td>nonrobust</td>    <th>                     </th>      <td> </td>    \n",
       "</tr>\n",
       "</table>\n",
       "<table class=\"simpletable\">\n",
       "<tr>\n",
       "              <td></td>                 <th>coef</th>     <th>std err</th>      <th>t</th>      <th>P>|t|</th>  <th>[0.025</th>    <th>0.975]</th>  \n",
       "</tr>\n",
       "<tr>\n",
       "  <th>Intercept</th>                 <td>    0.0767</td> <td>    0.003</td> <td>   24.366</td> <td> 0.000</td> <td>    0.071</td> <td>    0.083</td>\n",
       "</tr>\n",
       "<tr>\n",
       "  <th>after[T.True]</th>             <td>   -0.0386</td> <td>    0.004</td> <td>   -8.674</td> <td> 0.000</td> <td>   -0.047</td> <td>   -0.030</td>\n",
       "</tr>\n",
       "<tr>\n",
       "  <th>state[T.XX]</th>               <td>   -0.0164</td> <td>    0.003</td> <td>   -4.743</td> <td> 0.000</td> <td>   -0.023</td> <td>   -0.010</td>\n",
       "</tr>\n",
       "<tr>\n",
       "  <th>after[T.True]:state[T.XX]</th> <td>    0.0182</td> <td>    0.005</td> <td>    3.733</td> <td> 0.000</td> <td>    0.009</td> <td>    0.028</td>\n",
       "</tr>\n",
       "</table>\n",
       "<table class=\"simpletable\">\n",
       "<tr>\n",
       "  <th>Omnibus:</th>       <td>46583.747</td> <th>  Durbin-Watson:     </th>  <td>   1.971</td> \n",
       "</tr>\n",
       "<tr>\n",
       "  <th>Prob(Omnibus):</th>  <td> 0.000</td>   <th>  Jarque-Bera (JB):  </th> <td>670089.493</td>\n",
       "</tr>\n",
       "<tr>\n",
       "  <th>Skew:</th>           <td> 4.057</td>   <th>  Prob(JB):          </th>  <td>    0.00</td> \n",
       "</tr>\n",
       "<tr>\n",
       "  <th>Kurtosis:</th>       <td>17.528</td>   <th>  Cond. No.          </th>  <td>    12.4</td> \n",
       "</tr>\n",
       "</table><br/><br/>Warnings:<br/>[1] Standard Errors assume that the covariance matrix of the errors is correctly specified."
      ],
      "text/plain": [
       "<class 'statsmodels.iolib.summary.Summary'>\n",
       "\"\"\"\n",
       "                            OLS Regression Results                            \n",
       "==============================================================================\n",
       "Dep. Variable:                   meth   R-squared:                       0.003\n",
       "Model:                            OLS   Adj. R-squared:                  0.003\n",
       "Method:                 Least Squares   F-statistic:                     62.92\n",
       "Date:                Mon, 27 Jan 2020   Prob (F-statistic):           1.31e-40\n",
       "Time:                        19:24:50   Log-Likelihood:                 5566.9\n",
       "No. Observations:               58077   AIC:                        -1.113e+04\n",
       "Df Residuals:                   58073   BIC:                        -1.109e+04\n",
       "Df Model:                           3                                         \n",
       "Covariance Type:            nonrobust                                         \n",
       "=============================================================================================\n",
       "                                coef    std err          t      P>|t|      [0.025      0.975]\n",
       "---------------------------------------------------------------------------------------------\n",
       "Intercept                     0.0767      0.003     24.366      0.000       0.071       0.083\n",
       "after[T.True]                -0.0386      0.004     -8.674      0.000      -0.047      -0.030\n",
       "state[T.XX]                  -0.0164      0.003     -4.743      0.000      -0.023      -0.010\n",
       "after[T.True]:state[T.XX]     0.0182      0.005      3.733      0.000       0.009       0.028\n",
       "==============================================================================\n",
       "Omnibus:                    46583.747   Durbin-Watson:                   1.971\n",
       "Prob(Omnibus):                  0.000   Jarque-Bera (JB):           670089.493\n",
       "Skew:                           4.057   Prob(JB):                         0.00\n",
       "Kurtosis:                      17.528   Cond. No.                         12.4\n",
       "==============================================================================\n",
       "\n",
       "Warnings:\n",
       "[1] Standard Errors assume that the covariance matrix of the errors is correctly specified.\n",
       "\"\"\""
      ]
     },
     "execution_count": 91,
     "metadata": {},
     "output_type": "execute_result"
    }
   ],
   "source": [
    "m=smf.ols(formula='meth~after*state',data=yrbs)\n",
    "r=m.fit()\n",
    "r.summary()"
   ]
  },
  {
   "cell_type": "markdown",
   "metadata": {},
   "source": [
    "By observing the p-values, the after*state intercetion is sign. Holding other variables the same, the possibility of meth use in MT decrease by 0.0182 after the campaign."
   ]
  },
  {
   "cell_type": "code",
   "execution_count": 92,
   "metadata": {},
   "outputs": [
    {
     "data": {
      "text/html": [
       "<table class=\"simpletable\">\n",
       "<caption>OLS Regression Results</caption>\n",
       "<tr>\n",
       "  <th>Dep. Variable:</th>          <td>meth</td>       <th>  R-squared:         </th>  <td>   0.005</td> \n",
       "</tr>\n",
       "<tr>\n",
       "  <th>Model:</th>                   <td>OLS</td>       <th>  Adj. R-squared:    </th>  <td>   0.004</td> \n",
       "</tr>\n",
       "<tr>\n",
       "  <th>Method:</th>             <td>Least Squares</td>  <th>  F-statistic:       </th>  <td>   44.37</td> \n",
       "</tr>\n",
       "<tr>\n",
       "  <th>Date:</th>             <td>Mon, 27 Jan 2020</td> <th>  Prob (F-statistic):</th>  <td>1.87e-54</td> \n",
       "</tr>\n",
       "<tr>\n",
       "  <th>Time:</th>                 <td>19:24:50</td>     <th>  Log-Likelihood:    </th>  <td>  5605.5</td> \n",
       "</tr>\n",
       "<tr>\n",
       "  <th>No. Observations:</th>      <td> 58077</td>      <th>  AIC:               </th> <td>-1.120e+04</td>\n",
       "</tr>\n",
       "<tr>\n",
       "  <th>Df Residuals:</th>          <td> 58070</td>      <th>  BIC:               </th> <td>-1.113e+04</td>\n",
       "</tr>\n",
       "<tr>\n",
       "  <th>Df Model:</th>              <td>     6</td>      <th>                     </th>      <td> </td>    \n",
       "</tr>\n",
       "<tr>\n",
       "  <th>Covariance Type:</th>      <td>nonrobust</td>    <th>                     </th>      <td> </td>    \n",
       "</tr>\n",
       "</table>\n",
       "<table class=\"simpletable\">\n",
       "<tr>\n",
       "              <td></td>                 <th>coef</th>     <th>std err</th>      <th>t</th>      <th>P>|t|</th>  <th>[0.025</th>    <th>0.975]</th>  \n",
       "</tr>\n",
       "<tr>\n",
       "  <th>Intercept</th>                 <td>   -0.0338</td> <td>    0.015</td> <td>   -2.289</td> <td> 0.022</td> <td>   -0.063</td> <td>   -0.005</td>\n",
       "</tr>\n",
       "<tr>\n",
       "  <th>after[T.True]</th>             <td>   -0.0389</td> <td>    0.004</td> <td>   -8.740</td> <td> 0.000</td> <td>   -0.048</td> <td>   -0.030</td>\n",
       "</tr>\n",
       "<tr>\n",
       "  <th>state[T.XX]</th>               <td>   -0.0167</td> <td>    0.003</td> <td>   -4.800</td> <td> 0.000</td> <td>   -0.023</td> <td>   -0.010</td>\n",
       "</tr>\n",
       "<tr>\n",
       "  <th>sex[T.M]</th>                  <td>    0.0064</td> <td>    0.002</td> <td>    3.486</td> <td> 0.000</td> <td>    0.003</td> <td>    0.010</td>\n",
       "</tr>\n",
       "<tr>\n",
       "  <th>after[T.True]:state[T.XX]</th> <td>    0.0185</td> <td>    0.005</td> <td>    3.785</td> <td> 0.000</td> <td>    0.009</td> <td>    0.028</td>\n",
       "</tr>\n",
       "<tr>\n",
       "  <th>age</th>                       <td>    0.0070</td> <td>    0.001</td> <td>    7.630</td> <td> 0.000</td> <td>    0.005</td> <td>    0.009</td>\n",
       "</tr>\n",
       "<tr>\n",
       "  <th>tv</th>                        <td>   -0.0041</td> <td>    0.002</td> <td>   -2.154</td> <td> 0.031</td> <td>   -0.008</td> <td>   -0.000</td>\n",
       "</tr>\n",
       "</table>\n",
       "<table class=\"simpletable\">\n",
       "<tr>\n",
       "  <th>Omnibus:</th>       <td>46508.899</td> <th>  Durbin-Watson:     </th>  <td>   1.973</td> \n",
       "</tr>\n",
       "<tr>\n",
       "  <th>Prob(Omnibus):</th>  <td> 0.000</td>   <th>  Jarque-Bera (JB):  </th> <td>666670.662</td>\n",
       "</tr>\n",
       "<tr>\n",
       "  <th>Skew:</th>           <td> 4.049</td>   <th>  Prob(JB):          </th>  <td>    0.00</td> \n",
       "</tr>\n",
       "<tr>\n",
       "  <th>Kurtosis:</th>       <td>17.489</td>   <th>  Cond. No.          </th>  <td>    259.</td> \n",
       "</tr>\n",
       "</table><br/><br/>Warnings:<br/>[1] Standard Errors assume that the covariance matrix of the errors is correctly specified."
      ],
      "text/plain": [
       "<class 'statsmodels.iolib.summary.Summary'>\n",
       "\"\"\"\n",
       "                            OLS Regression Results                            \n",
       "==============================================================================\n",
       "Dep. Variable:                   meth   R-squared:                       0.005\n",
       "Model:                            OLS   Adj. R-squared:                  0.004\n",
       "Method:                 Least Squares   F-statistic:                     44.37\n",
       "Date:                Mon, 27 Jan 2020   Prob (F-statistic):           1.87e-54\n",
       "Time:                        19:24:50   Log-Likelihood:                 5605.5\n",
       "No. Observations:               58077   AIC:                        -1.120e+04\n",
       "Df Residuals:                   58070   BIC:                        -1.113e+04\n",
       "Df Model:                           6                                         \n",
       "Covariance Type:            nonrobust                                         \n",
       "=============================================================================================\n",
       "                                coef    std err          t      P>|t|      [0.025      0.975]\n",
       "---------------------------------------------------------------------------------------------\n",
       "Intercept                    -0.0338      0.015     -2.289      0.022      -0.063      -0.005\n",
       "after[T.True]                -0.0389      0.004     -8.740      0.000      -0.048      -0.030\n",
       "state[T.XX]                  -0.0167      0.003     -4.800      0.000      -0.023      -0.010\n",
       "sex[T.M]                      0.0064      0.002      3.486      0.000       0.003       0.010\n",
       "after[T.True]:state[T.XX]     0.0185      0.005      3.785      0.000       0.009       0.028\n",
       "age                           0.0070      0.001      7.630      0.000       0.005       0.009\n",
       "tv                           -0.0041      0.002     -2.154      0.031      -0.008      -0.000\n",
       "==============================================================================\n",
       "Omnibus:                    46508.899   Durbin-Watson:                   1.973\n",
       "Prob(Omnibus):                  0.000   Jarque-Bera (JB):           666670.662\n",
       "Skew:                           4.049   Prob(JB):                         0.00\n",
       "Kurtosis:                      17.489   Cond. No.                         259.\n",
       "==============================================================================\n",
       "\n",
       "Warnings:\n",
       "[1] Standard Errors assume that the covariance matrix of the errors is correctly specified.\n",
       "\"\"\""
      ]
     },
     "execution_count": 92,
     "metadata": {},
     "output_type": "execute_result"
    }
   ],
   "source": [
    "m = smf.ols(formula ='meth ~ after*state + age + sex + tv', data=yrbs)\n",
    "r = m.fit()\n",
    "r.summary()"
   ]
  },
  {
   "cell_type": "markdown",
   "metadata": {},
   "source": [
    "The other controls seem to only slightly affect the after*state variable, apparently the usage change patterns were not very closely related to any of these controls."
   ]
  }
 ],
 "metadata": {
  "kernelspec": {
   "display_name": "Python 3",
   "language": "python",
   "name": "python3"
  },
  "language_info": {
   "codemirror_mode": {
    "name": "ipython",
    "version": 3
   },
   "file_extension": ".py",
   "mimetype": "text/x-python",
   "name": "python",
   "nbconvert_exporter": "python",
   "pygments_lexer": "ipython3",
   "version": "3.7.6"
  },
  "toc": {
   "base_numbering": 1,
   "nav_menu": {},
   "number_sections": true,
   "sideBar": true,
   "skip_h1_title": false,
   "title_cell": "Table of Contents",
   "title_sidebar": "Contents",
   "toc_cell": false,
   "toc_position": {},
   "toc_section_display": true,
   "toc_window_display": false
  }
 },
 "nbformat": 4,
 "nbformat_minor": 2
}
