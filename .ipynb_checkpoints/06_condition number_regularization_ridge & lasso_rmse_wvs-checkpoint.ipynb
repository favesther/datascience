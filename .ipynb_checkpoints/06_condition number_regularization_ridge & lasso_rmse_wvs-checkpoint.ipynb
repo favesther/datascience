{
 "cells": [
  {
   "cell_type": "code",
   "execution_count": 112,
   "metadata": {},
   "outputs": [],
   "source": [
    "%matplotlib inline\n",
    "import pandas as pd\n",
    "import numpy as np\n",
    "import matplotlib.pyplot as plt\n",
    "\n",
    "from sklearn.model_selection import cross_val_score\n",
    "from sklearn.model_selection import train_test_split\n",
    "from sklearn.metrics import mean_squared_error\n",
    "from sklearn.preprocessing import StandardScaler\n",
    "from sklearn.decomposition import PCA\n",
    "from sklearn.naive_bayes import MultinomialNB\n",
    "from sklearn.feature_extraction.text import CountVectorizer\n",
    "import statsmodels.formula.api as smf\n",
    "from sklearn.linear_model import LinearRegression\n",
    "from sklearn import preprocessing\n",
    "import os\n",
    "\n",
    "from sklearn.metrics import confusion_matrix \n",
    "from sklearn.metrics import accuracy_score \n",
    "from sklearn.metrics import classification_report"
   ]
  },
  {
   "cell_type": "code",
   "execution_count": 113,
   "metadata": {},
   "outputs": [],
   "source": [
    "from sklearn.linear_model import LinearRegression, Ridge, Lasso"
   ]
  },
  {
   "cell_type": "markdown",
   "metadata": {},
   "source": [
    "**World Values Survey**  \n",
    "In this task the central question is V23: \"All things considered, how satisfied are you with your life as a\n",
    "whole these days?\" with answers ranging between 1 (completely dissatisfied) and 10 (completely satisfied).\n",
    "We are going to model this variables using linear regression.  \n",
    "  \n",
    "  \n",
    "**V23:Satisfaction with your life**  \n",
    "1.- Completely dissatisfied  \n",
    "2.- 2  \n",
    "3.- 3  \n",
    "4.- 4  \n",
    "5.- 5  \n",
    "6.- 6  \n",
    "7.- 7  \n",
    "8.- 8  \n",
    "9.- 9  \n",
    "10.- Completely satisfied  \n",
    "-5-.- HT: Dropped out survey;RU:Inappropriate response  \n",
    "-4-.- Not asked in survey  \n",
    "-3-.- Not applicable  \n",
    "-2-.- No answer; BH: Refused  \n",
    "-1-.- Don´t know  \n",
    "# Explore and clean the data\n",
    "1. Browse the WVS documentation and make sure you are familiar with coding of the variable V23.  \n",
    "Note: you also have to consult the codebook to understand all the missings and how to remove those.\n",
    "2. Load the data. Remove all the missing observations of V23. I mean all the missings, including the\n",
    "valid numeric codes that denote missing/invalid answers.\n",
    "3. Now make a table (or a plot) of different answers. What is the mean satisfaction level on this planet?\n",
    "How large a proportion of people are at 6 or more satisfied?  \n",
    "(Note: without knowing more about how the sample was created, we should not talk about the\n",
    "planet. We should refer to \"respondents\" instead.)"
   ]
  },
  {
   "cell_type": "code",
   "execution_count": 114,
   "metadata": {},
   "outputs": [
    {
     "data": {
      "text/plain": [
       "(90350, 328)"
      ]
     },
     "execution_count": 114,
     "metadata": {},
     "output_type": "execute_result"
    }
   ],
   "source": [
    "wvs=pd.read_csv(\"data/wvs.csv.bz2\",sep=\"\\t\")\n",
    "wvs.shape"
   ]
  },
  {
   "cell_type": "code",
   "execution_count": 115,
   "metadata": {},
   "outputs": [],
   "source": [
    "#save a copy of the original data\n",
    "Wvs=wvs.copy()"
   ]
  },
  {
   "cell_type": "code",
   "execution_count": 116,
   "metadata": {},
   "outputs": [],
   "source": [
    "wvs=Wvs.copy()"
   ]
  },
  {
   "cell_type": "code",
   "execution_count": 117,
   "metadata": {},
   "outputs": [
    {
     "name": "stderr",
     "output_type": "stream",
     "text": [
      "C:\\Users\\Zhu\\Anaconda3\\lib\\site-packages\\pandas\\core\\ops\\__init__.py:1115: FutureWarning: elementwise comparison failed; returning scalar instead, but in the future will perform elementwise comparison\n",
      "  result = method(y)\n",
      "C:\\Users\\Zhu\\Anaconda3\\lib\\site-packages\\ipykernel_launcher.py:5: SettingWithCopyWarning: \n",
      "A value is trying to be set on a copy of a slice from a DataFrame\n",
      "\n",
      "See the caveats in the documentation: http://pandas.pydata.org/pandas-docs/stable/user_guide/indexing.html#returning-a-view-versus-a-copy\n",
      "  \"\"\"\n"
     ]
    }
   ],
   "source": [
    "# remove all the NA in V23\n",
    "wvs.V23 = np.where((wvs.V23 == 'NaN'),np.nan,wvs.V23)\n",
    "\n",
    "#remove all the missing answers\n",
    "wvs.V23[wvs.V23 < 0] = np.nan\n",
    "\n",
    "wvs=wvs.dropna(subset=['V23'],axis=0)"
   ]
  },
  {
   "cell_type": "code",
   "execution_count": 118,
   "metadata": {},
   "outputs": [
    {
     "data": {
      "text/plain": [
       "array([ 8.,  5.,  4.,  7.,  6.,  3., 10.,  1.,  9.,  2.])"
      ]
     },
     "execution_count": 118,
     "metadata": {},
     "output_type": "execute_result"
    }
   ],
   "source": [
    "#check the results\n",
    "wvs.V23.unique()"
   ]
  },
  {
   "cell_type": "code",
   "execution_count": 119,
   "metadata": {},
   "outputs": [
    {
     "data": {
      "text/plain": [
       "count    89771.000000\n",
       "mean         6.829032\n",
       "std          2.274050\n",
       "min          1.000000\n",
       "25%          5.000000\n",
       "50%          7.000000\n",
       "75%          8.000000\n",
       "max         10.000000\n",
       "Name: V23, dtype: float64"
      ]
     },
     "execution_count": 119,
     "metadata": {},
     "output_type": "execute_result"
    }
   ],
   "source": [
    "#a table of different answers\n",
    "wvs.V23.describe()"
   ]
  },
  {
   "cell_type": "markdown",
   "metadata": {},
   "source": [
    "the mean satisfaction level on this planet is 6.829032"
   ]
  },
  {
   "cell_type": "code",
   "execution_count": 120,
   "metadata": {},
   "outputs": [
    {
     "data": {
      "text/plain": [
       "0.7303472168072095"
      ]
     },
     "execution_count": 120,
     "metadata": {},
     "output_type": "execute_result"
    }
   ],
   "source": [
    "#a proportion of people are at 6 or more satisfied\n",
    "satisfied=wvs['V23'][wvs['V23'].values>=6].count()\n",
    "satisfied/len(wvs.V23)"
   ]
  },
  {
   "cell_type": "markdown",
   "metadata": {},
   "source": [
    "Approximately 73% of the people are at 6 or more satisfied."
   ]
  },
  {
   "cell_type": "markdown",
   "metadata": {},
   "source": [
    "# Create the Design Matrix"
   ]
  },
  {
   "cell_type": "code",
   "execution_count": 121,
   "metadata": {},
   "outputs": [],
   "source": [
    "#define y\n",
    "y=wvs.V23"
   ]
  },
  {
   "cell_type": "code",
   "execution_count": 122,
   "metadata": {},
   "outputs": [],
   "source": [
    "# select more than 100 columns\n",
    "df=wvs.loc[:,wvs.columns[15:124]]\n",
    "df=df.drop(columns=['V74B','V90','V23'],axis=1)\n",
    "df.insert (0, 'V2', wvs.V2)"
   ]
  },
  {
   "cell_type": "code",
   "execution_count": 123,
   "metadata": {},
   "outputs": [],
   "source": [
    "# save a copy of the dataset\n",
    "Df=df.copy()"
   ]
  },
  {
   "cell_type": "code",
   "execution_count": 124,
   "metadata": {},
   "outputs": [],
   "source": [
    "# convert all the missing to np.nan\n",
    "for i in df.columns:\n",
    "    df[i] = np.where((df[i] == 'NaN'),np.nan,df[i])\n",
    "df[df < 0] = np.nan"
   ]
  },
  {
   "cell_type": "code",
   "execution_count": 125,
   "metadata": {},
   "outputs": [],
   "source": [
    "# add a threshold not to clean all the observations\n",
    "df=df.dropna(thresh=30000,axis=1)\n",
    "# than remove rows that have missing data\n",
    "df=df.dropna(axis=0)"
   ]
  },
  {
   "cell_type": "code",
   "execution_count": 126,
   "metadata": {},
   "outputs": [],
   "source": [
    "# remove extra columns\n",
    "df=df.drop(columns=['V80'],axis=1)"
   ]
  },
  {
   "cell_type": "code",
   "execution_count": 127,
   "metadata": {},
   "outputs": [],
   "source": [
    "#save another copy\n",
    "DF=df.copy()"
   ]
  },
  {
   "cell_type": "code",
   "execution_count": 128,
   "metadata": {},
   "outputs": [],
   "source": [
    "wvs2=df.rename(columns={\"V2\":\"country\"})"
   ]
  },
  {
   "cell_type": "code",
   "execution_count": 129,
   "metadata": {},
   "outputs": [],
   "source": [
    "#convert categorical variable to dummies\n",
    "wvs2 = pd.get_dummies(wvs2, columns = ['country'],drop_first=True)"
   ]
  },
  {
   "cell_type": "code",
   "execution_count": 130,
   "metadata": {},
   "outputs": [
    {
     "data": {
      "text/plain": [
       "(30535, 135)"
      ]
     },
     "execution_count": 130,
     "metadata": {},
     "output_type": "execute_result"
    }
   ],
   "source": [
    "#wvs2 is the design matrix\n",
    "wvs2.shape"
   ]
  },
  {
   "cell_type": "markdown",
   "metadata": {},
   "source": [
    "# Condition numbers"
   ]
  },
  {
   "cell_type": "code",
   "execution_count": 131,
   "metadata": {},
   "outputs": [
    {
     "name": "stdout",
     "output_type": "stream",
     "text": [
      "V18 ,  1  columns, k =  1.0\n",
      "V19 ,  2  columns, k =  4.351766732229205\n",
      "V20 ,  3  columns, k =  5.869668016626841\n",
      "V21 ,  4  columns, k =  7.145515336728337\n",
      "V22 ,  5  columns, k =  8.224915853982717\n",
      "V24 ,  6  columns, k =  9.756270256960073\n",
      "V25 ,  7  columns, k =  9.93902815206276\n",
      "V26 ,  8  columns, k =  10.008625399461385\n",
      "V27 ,  9  columns, k =  10.039199417651949\n",
      "V28 ,  10  columns, k =  10.064725594803514\n",
      "V29 ,  11  columns, k =  10.094317038545832\n",
      "V30 ,  12  columns, k =  10.38364251591799\n",
      "V31 ,  13  columns, k =  10.908697735129216\n",
      "V32 ,  14  columns, k =  11.333798492236063\n",
      "V33 ,  15  columns, k =  12.135353979399046\n",
      "V34 ,  16  columns, k =  12.298217320593919\n",
      "V35 ,  17  columns, k =  12.355232304198376\n",
      "V36 ,  18  columns, k =  12.826099923922795\n",
      "V37 ,  19  columns, k =  13.87134319002771\n",
      "V38 ,  20  columns, k =  15.070933246089004\n",
      "V39 ,  21  columns, k =  17.153226327385898\n",
      "V40 ,  22  columns, k =  17.871808406152205\n",
      "V41 ,  23  columns, k =  20.267208863881734\n",
      "V42 ,  24  columns, k =  20.860027010808576\n",
      "V43 ,  25  columns, k =  21.917006445009765\n",
      "V44 ,  26  columns, k =  22.856880361200197\n",
      "V45 ,  27  columns, k =  24.011643745069573\n",
      "V46 ,  28  columns, k =  24.576592829693446\n",
      "V47 ,  29  columns, k =  25.65545720705033\n",
      "V48 ,  30  columns, k =  26.30880782611095\n",
      "V49 ,  31  columns, k =  26.904275403788667\n",
      "V50 ,  32  columns, k =  28.421042122871608\n",
      "V51 ,  33  columns, k =  29.729047403464165\n",
      "V52 ,  34  columns, k =  31.49965080787927\n",
      "V53 ,  35  columns, k =  32.83140130208621\n",
      "V54 ,  36  columns, k =  33.83393259892937\n",
      "V55 ,  37  columns, k =  42.76591278517145\n",
      "V56 ,  38  columns, k =  47.60366957915651\n",
      "V57 ,  39  columns, k =  48.58344423343005\n",
      "V58 ,  40  columns, k =  48.99976892331486\n",
      "V59 ,  41  columns, k =  53.64667693051902\n",
      "V60 ,  42  columns, k =  53.97398396298867\n",
      "V61 ,  43  columns, k =  54.73432514897622\n",
      "V62 ,  44  columns, k =  55.189562169451136\n",
      "V63 ,  45  columns, k =  55.89503112321881\n",
      "V64 ,  46  columns, k =  56.27129357617474\n",
      "V65 ,  47  columns, k =  57.114119419059016\n",
      "V66 ,  48  columns, k =  57.30158848039534\n",
      "V67 ,  49  columns, k =  57.85958913869759\n",
      "V68 ,  50  columns, k =  58.07197686676641\n",
      "V69 ,  51  columns, k =  58.31944353468265\n",
      "V70 ,  52  columns, k =  59.03934035210921\n",
      "V71 ,  53  columns, k =  60.41259366768487\n",
      "V72 ,  54  columns, k =  60.98445060360817\n",
      "V73 ,  55  columns, k =  62.06934294883268\n",
      "V74 ,  56  columns, k =  62.66776836780799\n",
      "V75 ,  57  columns, k =  63.46116064324674\n",
      "V76 ,  58  columns, k =  64.66662433752474\n",
      "V77 ,  59  columns, k =  65.27445901008824\n",
      "V78 ,  60  columns, k =  65.87721852369026\n",
      "V79 ,  61  columns, k =  66.49891609524177\n",
      "V81 ,  62  columns, k =  66.71789240348744\n",
      "V82 ,  63  columns, k =  67.08240584505255\n",
      "V83 ,  64  columns, k =  73.91958162603312\n",
      "V84 ,  65  columns, k =  74.64016662520056\n",
      "V85 ,  66  columns, k =  75.32647299042134\n",
      "V86 ,  67  columns, k =  76.04668618391116\n",
      "V87 ,  68  columns, k =  76.96694359951769\n",
      "V88 ,  69  columns, k =  77.66586394952665\n",
      "V89 ,  70  columns, k =  78.34491559425439\n",
      "V95 ,  71  columns, k =  81.66388659625981\n",
      "V96 ,  72  columns, k =  84.597291161834\n",
      "V97 ,  73  columns, k =  87.39968853168948\n",
      "V98 ,  74  columns, k =  89.412474547753\n",
      "V99 ,  75  columns, k =  90.76348539145782\n",
      "V100 ,  76  columns, k =  92.21907892239811\n",
      "V101 ,  77  columns, k =  95.61257481528708\n",
      "V102 ,  78  columns, k =  95.73564449961822\n",
      "V103 ,  79  columns, k =  96.11490454962093\n",
      "V104 ,  80  columns, k =  96.49547012790377\n",
      "V105 ,  81  columns, k =  97.24229013057904\n",
      "V106 ,  82  columns, k =  97.82157922173946\n",
      "V107 ,  83  columns, k =  98.44677202522521\n",
      "V108 ,  84  columns, k =  98.75537516338053\n",
      "V109 ,  85  columns, k =  99.1114886029051\n",
      "V110 ,  86  columns, k =  99.62263351604825\n",
      "V111 ,  87  columns, k =  100.08149227301956\n",
      "V112 ,  88  columns, k =  100.62033691934127\n",
      "V113 ,  89  columns, k =  101.08618856242205\n",
      "V114 ,  90  columns, k =  101.55768605006575\n",
      "V115 ,  91  columns, k =  102.05011333035644\n",
      "V116 ,  92  columns, k =  102.65903193986884\n",
      "V117 ,  93  columns, k =  103.1962465695465\n",
      "V118 ,  94  columns, k =  103.6701731174851\n",
      "V119 ,  95  columns, k =  104.00289621010377\n",
      "V120 ,  96  columns, k =  104.44681250606435\n",
      "V121 ,  97  columns, k =  104.8438300857326\n",
      "V122 ,  98  columns, k =  105.2494219626302\n",
      "V123 ,  99  columns, k =  105.64433609800615\n",
      "country_36.0 ,  100  columns, k =  203.06013034134102\n",
      "country_51.0 ,  101  columns, k =  287.2677788377963\n",
      "country_76.0 ,  102  columns, k =  287.28344640336167\n",
      "country_152.0 ,  103  columns, k =  287.29345401832865\n",
      "country_170.0 ,  104  columns, k =  287.32081711141177\n",
      "country_196.0 ,  105  columns, k =  342.74089719311917\n",
      "country_218.0 ,  106  columns, k =  342.9937620200739\n",
      "country_233.0 ,  107  columns, k =  343.1668626730443\n",
      "country_268.0 ,  108  columns, k =  343.47881001187847\n",
      "country_288.0 ,  109  columns, k =  343.49974388280384\n",
      "country_356.0 ,  110  columns, k =  343.7431307532681\n",
      "country_398.0 ,  111  columns, k =  343.8543779114593\n",
      "country_410.0 ,  112  columns, k =  343.8738727142984\n",
      "country_417.0 ,  113  columns, k =  343.94686484246387\n",
      "country_434.0 ,  114  columns, k =  344.1714547469345\n",
      "country_458.0 ,  115  columns, k =  344.6574138876434\n",
      "country_484.0 ,  116  columns, k =  345.96053503920865\n",
      "country_528.0 ,  117  columns, k =  347.1126619947985\n",
      "country_566.0 ,  118  columns, k =  347.939317757099\n",
      "country_586.0 ,  119  columns, k =  348.915367881554\n",
      "country_604.0 ,  120  columns, k =  692.2397982312538\n",
      "country_608.0 ,  121  columns, k =  692.8824160008066\n",
      "country_616.0 ,  122  columns, k =  692.967555715352\n",
      "country_642.0 ,  123  columns, k =  693.3711962837956\n",
      "country_643.0 ,  124  columns, k =  693.4812386252229\n",
      "country_646.0 ,  125  columns, k =  693.6718677238557\n",
      "country_705.0 ,  126  columns, k =  693.9577116799514\n",
      "country_710.0 ,  127  columns, k =  694.9928836407471\n",
      "country_716.0 ,  128  columns, k =  698.5952691321124\n",
      "country_752.0 ,  129  columns, k =  699.2286984146925\n",
      "country_764.0 ,  130  columns, k =  700.8078937681437\n",
      "country_792.0 ,  131  columns, k =  703.8501697438472\n",
      "country_804.0 ,  132  columns, k =  717.8150332561207\n",
      "country_840.0 ,  133  columns, k =  933.3934712930753\n",
      "country_858.0 ,  134  columns, k =  1049.1706533931897\n",
      "country_887.0 ,  135  columns, k =  1131.8628674042939\n"
     ]
    }
   ],
   "source": [
    "n=1\n",
    "for i in wvs2.columns:\n",
    "    mat=wvs2.iloc[:,0:n]\n",
    "    cond=np.linalg.cond(mat.to_numpy())\n",
    "    print (i,\", \",n,\" columns, k = \" , cond)\n",
    "    n+=1"
   ]
  },
  {
   "cell_type": "markdown",
   "metadata": {},
   "source": [
    "# Do Some Social Science\n",
    "How is life satisfaction(v23) related to health\n",
    "(v11 ), perceived control over life (v55 ) and financial situation (v59 )? Let's analyze association between\n",
    "satisfaction and just these three variables.\n",
    "1. run a linear regression models explaining satisfaction with these three variables. Present the output\n",
    "table.  \n",
    "I recommend to use statsmodels.formula.api for this task (but you have to use sklearn later)."
   ]
  },
  {
   "cell_type": "code",
   "execution_count": 132,
   "metadata": {},
   "outputs": [],
   "source": [
    "import statsmodels.api as sm\n",
    "import statsmodels.formula.api as smf"
   ]
  },
  {
   "cell_type": "code",
   "execution_count": 133,
   "metadata": {},
   "outputs": [
    {
     "name": "stderr",
     "output_type": "stream",
     "text": [
      "C:\\Users\\Zhu\\Anaconda3\\lib\\site-packages\\numpy\\core\\fromnumeric.py:2495: FutureWarning: Method .ptp is deprecated and will be removed in a future version. Use numpy.ptp instead.\n",
      "  return ptp(axis=axis, out=out, **kwargs)\n"
     ]
    },
    {
     "data": {
      "text/html": [
       "<table class=\"simpletable\">\n",
       "<caption>OLS Regression Results</caption>\n",
       "<tr>\n",
       "  <th>Dep. Variable:</th>           <td>V23</td>       <th>  R-squared:         </th>  <td>   0.294</td>  \n",
       "</tr>\n",
       "<tr>\n",
       "  <th>Model:</th>                   <td>OLS</td>       <th>  Adj. R-squared:    </th>  <td>   0.294</td>  \n",
       "</tr>\n",
       "<tr>\n",
       "  <th>Method:</th>             <td>Least Squares</td>  <th>  F-statistic:       </th>  <td>1.244e+04</td> \n",
       "</tr>\n",
       "<tr>\n",
       "  <th>Date:</th>             <td>Wed, 04 Mar 2020</td> <th>  Prob (F-statistic):</th>   <td>  0.00</td>   \n",
       "</tr>\n",
       "<tr>\n",
       "  <th>Time:</th>                 <td>17:48:41</td>     <th>  Log-Likelihood:    </th> <td>-1.8553e+05</td>\n",
       "</tr>\n",
       "<tr>\n",
       "  <th>No. Observations:</th>      <td> 89771</td>      <th>  AIC:               </th>  <td>3.711e+05</td> \n",
       "</tr>\n",
       "<tr>\n",
       "  <th>Df Residuals:</th>          <td> 89767</td>      <th>  BIC:               </th>  <td>3.711e+05</td> \n",
       "</tr>\n",
       "<tr>\n",
       "  <th>Df Model:</th>              <td>     3</td>      <th>                     </th>      <td> </td>     \n",
       "</tr>\n",
       "<tr>\n",
       "  <th>Covariance Type:</th>      <td>nonrobust</td>    <th>                     </th>      <td> </td>     \n",
       "</tr>\n",
       "</table>\n",
       "<table class=\"simpletable\">\n",
       "<tr>\n",
       "    <td></td>       <th>coef</th>     <th>std err</th>      <th>t</th>      <th>P>|t|</th>  <th>[0.025</th>    <th>0.975]</th>  \n",
       "</tr>\n",
       "<tr>\n",
       "  <th>const</th> <td>    4.2750</td> <td>    0.030</td> <td>  140.927</td> <td> 0.000</td> <td>    4.216</td> <td>    4.334</td>\n",
       "</tr>\n",
       "<tr>\n",
       "  <th>V11</th>   <td>   -0.4187</td> <td>    0.008</td> <td>  -55.660</td> <td> 0.000</td> <td>   -0.433</td> <td>   -0.404</td>\n",
       "</tr>\n",
       "<tr>\n",
       "  <th>V55</th>   <td>    0.2109</td> <td>    0.003</td> <td>   75.857</td> <td> 0.000</td> <td>    0.205</td> <td>    0.216</td>\n",
       "</tr>\n",
       "<tr>\n",
       "  <th>V59</th>   <td>    0.3318</td> <td>    0.003</td> <td>  123.436</td> <td> 0.000</td> <td>    0.326</td> <td>    0.337</td>\n",
       "</tr>\n",
       "</table>\n",
       "<table class=\"simpletable\">\n",
       "<tr>\n",
       "  <th>Omnibus:</th>       <td>3194.982</td> <th>  Durbin-Watson:     </th> <td>   1.674</td>\n",
       "</tr>\n",
       "<tr>\n",
       "  <th>Prob(Omnibus):</th>  <td> 0.000</td>  <th>  Jarque-Bera (JB):  </th> <td>5007.961</td>\n",
       "</tr>\n",
       "<tr>\n",
       "  <th>Skew:</th>           <td>-0.336</td>  <th>  Prob(JB):          </th> <td>    0.00</td>\n",
       "</tr>\n",
       "<tr>\n",
       "  <th>Kurtosis:</th>       <td> 3.942</td>  <th>  Cond. No.          </th> <td>    47.3</td>\n",
       "</tr>\n",
       "</table><br/><br/>Warnings:<br/>[1] Standard Errors assume that the covariance matrix of the errors is correctly specified."
      ],
      "text/plain": [
       "<class 'statsmodels.iolib.summary.Summary'>\n",
       "\"\"\"\n",
       "                            OLS Regression Results                            \n",
       "==============================================================================\n",
       "Dep. Variable:                    V23   R-squared:                       0.294\n",
       "Model:                            OLS   Adj. R-squared:                  0.294\n",
       "Method:                 Least Squares   F-statistic:                 1.244e+04\n",
       "Date:                Wed, 04 Mar 2020   Prob (F-statistic):               0.00\n",
       "Time:                        17:48:41   Log-Likelihood:            -1.8553e+05\n",
       "No. Observations:               89771   AIC:                         3.711e+05\n",
       "Df Residuals:                   89767   BIC:                         3.711e+05\n",
       "Df Model:                           3                                         \n",
       "Covariance Type:            nonrobust                                         \n",
       "==============================================================================\n",
       "                 coef    std err          t      P>|t|      [0.025      0.975]\n",
       "------------------------------------------------------------------------------\n",
       "const          4.2750      0.030    140.927      0.000       4.216       4.334\n",
       "V11           -0.4187      0.008    -55.660      0.000      -0.433      -0.404\n",
       "V55            0.2109      0.003     75.857      0.000       0.205       0.216\n",
       "V59            0.3318      0.003    123.436      0.000       0.326       0.337\n",
       "==============================================================================\n",
       "Omnibus:                     3194.982   Durbin-Watson:                   1.674\n",
       "Prob(Omnibus):                  0.000   Jarque-Bera (JB):             5007.961\n",
       "Skew:                          -0.336   Prob(JB):                         0.00\n",
       "Kurtosis:                       3.942   Cond. No.                         47.3\n",
       "==============================================================================\n",
       "\n",
       "Warnings:\n",
       "[1] Standard Errors assume that the covariance matrix of the errors is correctly specified.\n",
       "\"\"\""
      ]
     },
     "execution_count": 133,
     "metadata": {},
     "output_type": "execute_result"
    }
   ],
   "source": [
    "X = wvs[['V11', 'V55','V59']]\n",
    "X = sm.add_constant(X)\n",
    "est = sm.OLS(y, X).fit()\n",
    "est.summary()"
   ]
  },
  {
   "cell_type": "code",
   "execution_count": 134,
   "metadata": {
    "scrolled": true
   },
   "outputs": [
    {
     "name": "stderr",
     "output_type": "stream",
     "text": [
      "C:\\Users\\Zhu\\Anaconda3\\lib\\site-packages\\ipykernel_launcher.py:5: SettingWithCopyWarning: \n",
      "A value is trying to be set on a copy of a slice from a DataFrame\n",
      "\n",
      "See the caveats in the documentation: http://pandas.pydata.org/pandas-docs/stable/user_guide/indexing.html#returning-a-view-versus-a-copy\n",
      "  \"\"\"\n"
     ]
    }
   ],
   "source": [
    "# try a cleaned version to test any difference the minus values may do to the results\n",
    "list=['V11','V55','V59']\n",
    "for i in list:\n",
    "    wvs[i] = np.where((wvs[i] == 'NaN'),np.nan,wvs[i])\n",
    "    wvs[i][wvs[i] < 0] = np.nan\n",
    "    wvs=wvs.dropna(subset=[i],axis=0)"
   ]
  },
  {
   "cell_type": "code",
   "execution_count": 139,
   "metadata": {},
   "outputs": [
    {
     "data": {
      "text/html": [
       "<table class=\"simpletable\">\n",
       "<caption>OLS Regression Results</caption>\n",
       "<tr>\n",
       "  <th>Dep. Variable:</th>           <td>V23</td>       <th>  R-squared:         </th>  <td>   0.314</td>  \n",
       "</tr>\n",
       "<tr>\n",
       "  <th>Model:</th>                   <td>OLS</td>       <th>  Adj. R-squared:    </th>  <td>   0.314</td>  \n",
       "</tr>\n",
       "<tr>\n",
       "  <th>Method:</th>             <td>Least Squares</td>  <th>  F-statistic:       </th>  <td>1.344e+04</td> \n",
       "</tr>\n",
       "<tr>\n",
       "  <th>Date:</th>             <td>Wed, 04 Mar 2020</td> <th>  Prob (F-statistic):</th>   <td>  0.00</td>   \n",
       "</tr>\n",
       "<tr>\n",
       "  <th>Time:</th>                 <td>17:50:33</td>     <th>  Log-Likelihood:    </th> <td>-1.8015e+05</td>\n",
       "</tr>\n",
       "<tr>\n",
       "  <th>No. Observations:</th>      <td> 87899</td>      <th>  AIC:               </th>  <td>3.603e+05</td> \n",
       "</tr>\n",
       "<tr>\n",
       "  <th>Df Residuals:</th>          <td> 87895</td>      <th>  BIC:               </th>  <td>3.603e+05</td> \n",
       "</tr>\n",
       "<tr>\n",
       "  <th>Df Model:</th>              <td>     3</td>      <th>                     </th>      <td> </td>     \n",
       "</tr>\n",
       "<tr>\n",
       "  <th>Covariance Type:</th>      <td>nonrobust</td>    <th>                     </th>      <td> </td>     \n",
       "</tr>\n",
       "</table>\n",
       "<table class=\"simpletable\">\n",
       "<tr>\n",
       "      <td></td>         <th>coef</th>     <th>std err</th>      <th>t</th>      <th>P>|t|</th>  <th>[0.025</th>    <th>0.975]</th>  \n",
       "</tr>\n",
       "<tr>\n",
       "  <th>Intercept</th> <td>    3.9015</td> <td>    0.032</td> <td>  121.537</td> <td> 0.000</td> <td>    3.839</td> <td>    3.964</td>\n",
       "</tr>\n",
       "<tr>\n",
       "  <th>V11</th>       <td>   -0.4217</td> <td>    0.008</td> <td>  -54.669</td> <td> 0.000</td> <td>   -0.437</td> <td>   -0.407</td>\n",
       "</tr>\n",
       "<tr>\n",
       "  <th>V55</th>       <td>    0.2525</td> <td>    0.003</td> <td>   83.795</td> <td> 0.000</td> <td>    0.247</td> <td>    0.258</td>\n",
       "</tr>\n",
       "<tr>\n",
       "  <th>V59</th>       <td>    0.3407</td> <td>    0.003</td> <td>  123.970</td> <td> 0.000</td> <td>    0.335</td> <td>    0.346</td>\n",
       "</tr>\n",
       "</table>\n",
       "<table class=\"simpletable\">\n",
       "<tr>\n",
       "  <th>Omnibus:</th>       <td>3807.253</td> <th>  Durbin-Watson:     </th> <td>   1.688</td>\n",
       "</tr>\n",
       "<tr>\n",
       "  <th>Prob(Omnibus):</th>  <td> 0.000</td>  <th>  Jarque-Bera (JB):  </th> <td>6286.162</td>\n",
       "</tr>\n",
       "<tr>\n",
       "  <th>Skew:</th>           <td>-0.375</td>  <th>  Prob(JB):          </th> <td>    0.00</td>\n",
       "</tr>\n",
       "<tr>\n",
       "  <th>Kurtosis:</th>       <td> 4.074</td>  <th>  Cond. No.          </th> <td>    50.7</td>\n",
       "</tr>\n",
       "</table><br/><br/>Warnings:<br/>[1] Standard Errors assume that the covariance matrix of the errors is correctly specified."
      ],
      "text/plain": [
       "<class 'statsmodels.iolib.summary.Summary'>\n",
       "\"\"\"\n",
       "                            OLS Regression Results                            \n",
       "==============================================================================\n",
       "Dep. Variable:                    V23   R-squared:                       0.314\n",
       "Model:                            OLS   Adj. R-squared:                  0.314\n",
       "Method:                 Least Squares   F-statistic:                 1.344e+04\n",
       "Date:                Wed, 04 Mar 2020   Prob (F-statistic):               0.00\n",
       "Time:                        17:50:33   Log-Likelihood:            -1.8015e+05\n",
       "No. Observations:               87899   AIC:                         3.603e+05\n",
       "Df Residuals:                   87895   BIC:                         3.603e+05\n",
       "Df Model:                           3                                         \n",
       "Covariance Type:            nonrobust                                         \n",
       "==============================================================================\n",
       "                 coef    std err          t      P>|t|      [0.025      0.975]\n",
       "------------------------------------------------------------------------------\n",
       "Intercept      3.9015      0.032    121.537      0.000       3.839       3.964\n",
       "V11           -0.4217      0.008    -54.669      0.000      -0.437      -0.407\n",
       "V55            0.2525      0.003     83.795      0.000       0.247       0.258\n",
       "V59            0.3407      0.003    123.970      0.000       0.335       0.346\n",
       "==============================================================================\n",
       "Omnibus:                     3807.253   Durbin-Watson:                   1.688\n",
       "Prob(Omnibus):                  0.000   Jarque-Bera (JB):             6286.162\n",
       "Skew:                          -0.375   Prob(JB):                         0.00\n",
       "Kurtosis:                       4.074   Cond. No.                         50.7\n",
       "==============================================================================\n",
       "\n",
       "Warnings:\n",
       "[1] Standard Errors assume that the covariance matrix of the errors is correctly specified.\n",
       "\"\"\""
      ]
     },
     "execution_count": 139,
     "metadata": {},
     "output_type": "execute_result"
    }
   ],
   "source": [
    "#Y=wvs.V23\n",
    "#X = wvs[['V11', 'V55','V59']]\n",
    "#X = sm.add_constant(X)\n",
    "est = smf.ols('V23~ V11+ V55+V59',data=wvs).fit()\n",
    "est.summary()"
   ]
  },
  {
   "cell_type": "markdown",
   "metadata": {},
   "source": [
    "* V11 State of health (subjective)   \n",
    "1.- Very good  \n",
    "2.- Good  \n",
    "3.- Fair  \n",
    "4.- Poor \n",
    "  \n",
    "  \n",
    "* V55 How much freedom of choice and control over own life  \n",
    "1.- No choice at all  \n",
    "2.- 2  \n",
    "...  \n",
    "9.- 9  \n",
    "10.- A great deal of choice  \n",
    "  \n",
    "  \n",
    "* V59 Satisfaction with financial situation of household  \n",
    "1.- Completely dissatisfied  \n",
    "2.- 2  \n",
    "...  \n",
    "9.- 9  \n",
    "10.- Completely satisfied"
   ]
  },
  {
   "cell_type": "markdown",
   "metadata": {},
   "source": [
    "2. comment the output table in terms of relative effect size and statistical significance. Any surprises for you?  \n",
    "**The three variables are all statistically significant in this regression. The minus values do have an effect on the results but not decisive. Notice that V11 is reverserly scaled compared to other variables. Every additional point one gives to V11/V55/V59 means 0.42/0.25/0.34 more satisfied with one's life. I guess the surprising thing might be that compared to health and money, freedom is one care the least.**   \n",
    "3. compute and present RMSE (just on training data). This will serve as the benchmark for the future.\n"
   ]
  },
  {
   "cell_type": "code",
   "execution_count": 140,
   "metadata": {},
   "outputs": [],
   "source": [
    "def compute_rmse(predictions, yvalues):\n",
    "    rmse = np.sqrt(np.mean((predictions-yvalues)**2))\n",
    "    return round(rmse, 2)\n",
    "\n",
    "\n"
   ]
  },
  {
   "cell_type": "markdown",
   "metadata": {},
   "source": [
    "# Back to ML: Model\n",
    "Now it is time to use all these variables to model satisfaction. Use sklearn.linear_model.LinearRegression\n",
    "here as this is easy to be switched with ridge and lasso, and it takes in the design matrix directly.  \n",
    "1. compute the condition number for your design matrix (just a single number, not the stepwise pro-cedure).  \n",
    "2. Split the data into training-validation chunks (80-20 or so)  \n",
    "3. compute the condition number for your training design matrix (just a single number, not the stepwise procedure).  \n",
    "4. fit a linear regression model where you describe satisfaction with the design matrix X you just created.  \n",
    "5. predict and compute RMSE on training data    \n",
    "6. predict and compute RMSE on testing data  \n",
    "7. repeat the previous with Ridge regression, play a little with different $\\alpha$-s. Which $\\alpha$ gave you the\n",
    "best testing RMSE? (No need for a rigorous analysis, just play a little)  \n",
    "8. and repeat with Lasso regression again playing a little with different $\\alpha$-s.  \n",
    "9. comment your results:   \n",
    "(a) compare RMSE on testing/training data. What does this suggest in terms of overfitting?  \n",
    "(b) compare RMSE for OLS, Ridge and Lasso  \n",
    "(c) compare the resulting RMSE with the small benchmark model you did above  \n",
    "If your results are like mine, you see that a) RMSE on both testing-training sets are similar; b) RMSE for\n",
    "OLS, Ridge, Lasso are similar; and c) all these 100 or so extra variables add very little explanatory power\n",
    "to the model."
   ]
  },
  {
   "cell_type": "code",
   "execution_count": 141,
   "metadata": {},
   "outputs": [
    {
     "name": "stdout",
     "output_type": "stream",
     "text": [
      "the condition number for the design matrix is  1131.8628674042939\n"
     ]
    }
   ],
   "source": [
    "X=wvs2.to_numpy()\n",
    "cond=np.linalg.cond(X)\n",
    "print( 'the condition number for the design matrix is ',cond )"
   ]
  },
  {
   "cell_type": "code",
   "execution_count": 144,
   "metadata": {},
   "outputs": [],
   "source": [
    "y=Wvs.V23[wvs2.index]\n",
    "X_tr, X_cv, y_tr, y_cv = train_test_split(wvs2, y, test_size=0.2)"
   ]
  },
  {
   "cell_type": "code",
   "execution_count": 146,
   "metadata": {},
   "outputs": [
    {
     "name": "stdout",
     "output_type": "stream",
     "text": [
      "the condition number for the training design matrix is  1130.0422657798447\n"
     ]
    }
   ],
   "source": [
    "cond2=np.linalg.cond(X_tr.to_numpy())\n",
    "print( 'the condition number for the training design matrix is ',cond2 )"
   ]
  },
  {
   "cell_type": "code",
   "execution_count": 147,
   "metadata": {},
   "outputs": [
    {
     "name": "stdout",
     "output_type": "stream",
     "text": [
      "Train RMSE: 1.82\n",
      "Test RMSE: 1.85\n"
     ]
    }
   ],
   "source": [
    "coef=LinearRegression().fit(X,y)\n",
    "print('Train RMSE:',compute_rmse(coef.predict(X_tr), y_tr))\n",
    "print('Test RMSE:',compute_rmse(coef.predict(X_cv), y_cv))"
   ]
  },
  {
   "cell_type": "markdown",
   "metadata": {},
   "source": [
    "RMSE of test data is smaller. The training data is not overfitting yet but still has a larger RMSE. Don't know what would happen if it overfits."
   ]
  },
  {
   "cell_type": "code",
   "execution_count": 148,
   "metadata": {},
   "outputs": [
    {
     "data": {
      "text/plain": [
       "<matplotlib.legend.Legend at 0x250965c57c8>"
      ]
     },
     "execution_count": 148,
     "metadata": {},
     "output_type": "execute_result"
    },
    {
     "data": {
      "image/png": "[encoded data removed]",
      "text/plain": [
       "<Figure size 648x648 with 1 Axes>"
      ]
     },
     "metadata": {
      "needs_background": "light"
     },
     "output_type": "display_data"
    }
   ],
   "source": [
    "alpha_list=np.linspace(10**(-6),10**(6), num=100)\n",
    "rmser=[]\n",
    "rmsel=[]\n",
    "m_coef=[]\n",
    "mr_coef=[]\n",
    "ml_coef=[]\n",
    "for alpha in alpha_list:\n",
    "    mr = Ridge(alpha = alpha).fit(X,y)\n",
    "    ml = Lasso(alpha = alpha).fit(X,y)\n",
    "    yhatr = mr.predict(X_tr)\n",
    "    rmser.append(np.sqrt(np.mean(y_tr - yhatr)**2))\n",
    "    mr_coef.append(mr.coef_)\n",
    "    yhatl = ml.predict(X_tr)\n",
    "    rmsel.append(np.sqrt(np.mean(y_tr - yhatl)**2))\n",
    "    ml_coef.append(ml.coef_)\n",
    "plt.figure(figsize=(9,9))\n",
    "plt.plot(np.log(alpha_list), rmser, c='r', label='RMSE-ridge')\n",
    "plt.plot(np.log(alpha_list), rmsel, c='g', label='RMSE-lasso')\n",
    "plt.xlabel('log(alpha)')\n",
    "plt.ylabel('RMSE-s')\n",
    "plt.legend()"
   ]
  },
  {
   "cell_type": "markdown",
   "metadata": {},
   "source": [
    "OLS has the largest RMSE. Ridge could has the least RMSE if alpha is about $10^{13}$."
   ]
  },
  {
   "cell_type": "markdown",
   "metadata": {},
   "source": [
    "# Let's Overfit!\n",
    "As WVS is a relatively large dataset we cannot easily overfit by adding more variables. But we can go\n",
    "another easy route instead: we take a subsample.\n",
    "1. Create a subsample of your design matrix and the outcome variable. Choose a large-ish sample that\n",
    "overfits.\n",
    "The size depends on which variables do you exactly choose, in my case 2000 obs rarely overfits (it\n",
    "depends on the train-validation split), 1000 typically overfits.\n",
    "2. repeat the steps you did above.\n",
    "3. comment how do OLS, Ridge, Lasso perform on testing/training in case of overfitting.\n",
    "4. comment the condition number of design matrix and overfitting."
   ]
  },
  {
   "cell_type": "code",
   "execution_count": 149,
   "metadata": {},
   "outputs": [],
   "source": [
    "wvs2.insert(0,'V23',y)"
   ]
  },
  {
   "cell_type": "code",
   "execution_count": 150,
   "metadata": {
    "scrolled": true
   },
   "outputs": [
    {
     "data": {
      "text/html": [
       "<div>\n",
       "<style scoped>\n",
       "    .dataframe tbody tr th:only-of-type {\n",
       "        vertical-align: middle;\n",
       "    }\n",
       "\n",
       "    .dataframe tbody tr th {\n",
       "        vertical-align: top;\n",
       "    }\n",
       "\n",
       "    .dataframe thead th {\n",
       "        text-align: right;\n",
       "    }\n",
       "</style>\n",
       "<table border=\"1\" class=\"dataframe\">\n",
       "  <thead>\n",
       "    <tr style=\"text-align: right;\">\n",
       "      <th></th>\n",
       "      <th>V23</th>\n",
       "      <th>V18</th>\n",
       "      <th>V19</th>\n",
       "      <th>V20</th>\n",
       "      <th>V21</th>\n",
       "      <th>V22</th>\n",
       "      <th>V24</th>\n",
       "      <th>V25</th>\n",
       "      <th>V26</th>\n",
       "      <th>V27</th>\n",
       "      <th>...</th>\n",
       "      <th>country_705.0</th>\n",
       "      <th>country_710.0</th>\n",
       "      <th>country_716.0</th>\n",
       "      <th>country_752.0</th>\n",
       "      <th>country_764.0</th>\n",
       "      <th>country_792.0</th>\n",
       "      <th>country_804.0</th>\n",
       "      <th>country_840.0</th>\n",
       "      <th>country_858.0</th>\n",
       "      <th>country_887.0</th>\n",
       "    </tr>\n",
       "  </thead>\n",
       "  <tbody>\n",
       "    <tr>\n",
       "      <th>46643</th>\n",
       "      <td>10</td>\n",
       "      <td>2.0</td>\n",
       "      <td>2.0</td>\n",
       "      <td>1.0</td>\n",
       "      <td>2.0</td>\n",
       "      <td>2.0</td>\n",
       "      <td>2.0</td>\n",
       "      <td>2.0</td>\n",
       "      <td>2.0</td>\n",
       "      <td>2.0</td>\n",
       "      <td>...</td>\n",
       "      <td>0</td>\n",
       "      <td>0</td>\n",
       "      <td>0</td>\n",
       "      <td>0</td>\n",
       "      <td>0</td>\n",
       "      <td>0</td>\n",
       "      <td>0</td>\n",
       "      <td>0</td>\n",
       "      <td>0</td>\n",
       "      <td>0</td>\n",
       "    </tr>\n",
       "  </tbody>\n",
       "</table>\n",
       "<p>1 rows × 136 columns</p>\n",
       "</div>"
      ],
      "text/plain": [
       "       V23  V18  V19  V20  V21  V22  V24  V25  V26  V27  ...  country_705.0  \\\n",
       "46643   10  2.0  2.0  1.0  2.0  2.0  2.0  2.0  2.0  2.0  ...              0   \n",
       "\n",
       "       country_710.0  country_716.0  country_752.0  country_764.0  \\\n",
       "46643              0              0              0              0   \n",
       "\n",
       "       country_792.0  country_804.0  country_840.0  country_858.0  \\\n",
       "46643              0              0              0              0   \n",
       "\n",
       "       country_887.0  \n",
       "46643              0  \n",
       "\n",
       "[1 rows x 136 columns]"
      ]
     },
     "execution_count": 150,
     "metadata": {},
     "output_type": "execute_result"
    }
   ],
   "source": [
    "ov=wvs2.sample(1000)\n",
    "ov.sample()"
   ]
  },
  {
   "cell_type": "code",
   "execution_count": 151,
   "metadata": {},
   "outputs": [],
   "source": [
    "X=ov.drop(['V23'],axis=1)\n",
    "y=ov.V23"
   ]
  },
  {
   "cell_type": "code",
   "execution_count": 152,
   "metadata": {},
   "outputs": [],
   "source": [
    "X_tr, X_cv, y_tr, y_cv = train_test_split(X, y, test_size=0.2)"
   ]
  },
  {
   "cell_type": "code",
   "execution_count": 153,
   "metadata": {},
   "outputs": [
    {
     "name": "stdout",
     "output_type": "stream",
     "text": [
      "Train RMSE: 1.84\n",
      "Test RMSE: 1.85\n"
     ]
    }
   ],
   "source": [
    "lm = smf.ols(formula='V23 ~ V18 + V55 + V59', data=ov).fit()\n",
    "ypred = lm.predict(X_tr)\n",
    "print('Train RMSE:',compute_rmse(ypred, y_tr))\n",
    "ypred = lm.predict(X_cv)\n",
    "print('Test RMSE:',compute_rmse(ypred, y_cv))"
   ]
  },
  {
   "cell_type": "code",
   "execution_count": 154,
   "metadata": {},
   "outputs": [
    {
     "name": "stdout",
     "output_type": "stream",
     "text": [
      "Train RMSE: 1.64\n",
      "Test RMSE: 1.61\n"
     ]
    }
   ],
   "source": [
    "coef=LinearRegression().fit(X,y)\n",
    "print('Train RMSE:',compute_rmse(coef.predict(X_tr), y_tr))\n",
    "print('Test RMSE:',compute_rmse(coef.predict(X_cv), y_cv))"
   ]
  },
  {
   "cell_type": "code",
   "execution_count": 155,
   "metadata": {
    "scrolled": false
   },
   "outputs": [
    {
     "data": {
      "text/plain": [
       "<matplotlib.legend.Legend at 0x250a9190b48>"
      ]
     },
     "execution_count": 155,
     "metadata": {},
     "output_type": "execute_result"
    },
    {
     "data": {
      "image/png": "[encoded data removed]",
      "text/plain": [
       "<Figure size 648x648 with 1 Axes>"
      ]
     },
     "metadata": {
      "needs_background": "light"
     },
     "output_type": "display_data"
    }
   ],
   "source": [
    "alpha_list=np.linspace(10**(-6),10**(6), num=1000)\n",
    "rmsert=[]\n",
    "rmselt=[]\n",
    "rmserv=[]\n",
    "rmselv=[]\n",
    "for alpha in alpha_list:\n",
    "    \n",
    "    mr = Ridge(alpha = alpha).fit(X,y)\n",
    "    ml = Lasso(alpha = alpha).fit(X,y)\n",
    "    yhatr = mr.predict(X_tr)\n",
    "    rmsert.append(np.sqrt(np.mean(y_tr - yhatr)**2))\n",
    "    yhatl = ml.predict(X_tr)\n",
    "    rmselt.append(np.sqrt(np.mean(y_tr - yhatl)**2))\n",
    "    yhatr = mr.predict(X_cv)\n",
    "    rmserv.append(np.sqrt(np.mean(y_cv - yhatr)**2))\n",
    "    yhatl = ml.predict(X_cv)\n",
    "    rmselv.append(np.sqrt(np.mean(y_cv - yhatl)**2))\n",
    "plt.figure(figsize=(9,9))\n",
    "plt\n",
    "plt.plot(np.log(alpha_list), rmsert, c='r', label='RMSE-ridge')\n",
    "plt.plot(np.log(alpha_list), rmselt, c='blue', label='RMSE-lasso')\n",
    "plt.plot(np.log(alpha_list), rmserv, c='pink', label='RMSE-ridge-cv')\n",
    "plt.plot(np.log(alpha_list), rmselv, c='green', label='RMSE-lassocv')\n",
    "plt.xlabel('log(alpha)')\n",
    "plt.ylabel('RMSE-s')\n",
    "plt.legend()"
   ]
  },
  {
   "cell_type": "markdown",
   "metadata": {},
   "source": [
    "## bigger sample"
   ]
  },
  {
   "cell_type": "code",
   "execution_count": 156,
   "metadata": {
    "scrolled": true
   },
   "outputs": [
    {
     "data": {
      "text/html": [
       "<div>\n",
       "<style scoped>\n",
       "    .dataframe tbody tr th:only-of-type {\n",
       "        vertical-align: middle;\n",
       "    }\n",
       "\n",
       "    .dataframe tbody tr th {\n",
       "        vertical-align: top;\n",
       "    }\n",
       "\n",
       "    .dataframe thead th {\n",
       "        text-align: right;\n",
       "    }\n",
       "</style>\n",
       "<table border=\"1\" class=\"dataframe\">\n",
       "  <thead>\n",
       "    <tr style=\"text-align: right;\">\n",
       "      <th></th>\n",
       "      <th>V23</th>\n",
       "      <th>V18</th>\n",
       "      <th>V19</th>\n",
       "      <th>V20</th>\n",
       "      <th>V21</th>\n",
       "      <th>V22</th>\n",
       "      <th>V24</th>\n",
       "      <th>V25</th>\n",
       "      <th>V26</th>\n",
       "      <th>V27</th>\n",
       "      <th>...</th>\n",
       "      <th>country_705.0</th>\n",
       "      <th>country_710.0</th>\n",
       "      <th>country_716.0</th>\n",
       "      <th>country_752.0</th>\n",
       "      <th>country_764.0</th>\n",
       "      <th>country_792.0</th>\n",
       "      <th>country_804.0</th>\n",
       "      <th>country_840.0</th>\n",
       "      <th>country_858.0</th>\n",
       "      <th>country_887.0</th>\n",
       "    </tr>\n",
       "  </thead>\n",
       "  <tbody>\n",
       "    <tr>\n",
       "      <th>67361</th>\n",
       "      <td>8</td>\n",
       "      <td>1.0</td>\n",
       "      <td>2.0</td>\n",
       "      <td>1.0</td>\n",
       "      <td>1.0</td>\n",
       "      <td>1.0</td>\n",
       "      <td>2.0</td>\n",
       "      <td>1.0</td>\n",
       "      <td>0.0</td>\n",
       "      <td>0.0</td>\n",
       "      <td>...</td>\n",
       "      <td>1</td>\n",
       "      <td>0</td>\n",
       "      <td>0</td>\n",
       "      <td>0</td>\n",
       "      <td>0</td>\n",
       "      <td>0</td>\n",
       "      <td>0</td>\n",
       "      <td>0</td>\n",
       "      <td>0</td>\n",
       "      <td>0</td>\n",
       "    </tr>\n",
       "  </tbody>\n",
       "</table>\n",
       "<p>1 rows × 136 columns</p>\n",
       "</div>"
      ],
      "text/plain": [
       "       V23  V18  V19  V20  V21  V22  V24  V25  V26  V27  ...  country_705.0  \\\n",
       "67361    8  1.0  2.0  1.0  1.0  1.0  2.0  1.0  0.0  0.0  ...              1   \n",
       "\n",
       "       country_710.0  country_716.0  country_752.0  country_764.0  \\\n",
       "67361              0              0              0              0   \n",
       "\n",
       "       country_792.0  country_804.0  country_840.0  country_858.0  \\\n",
       "67361              0              0              0              0   \n",
       "\n",
       "       country_887.0  \n",
       "67361              0  \n",
       "\n",
       "[1 rows x 136 columns]"
      ]
     },
     "execution_count": 156,
     "metadata": {},
     "output_type": "execute_result"
    }
   ],
   "source": [
    "ov=wvs2.sample(2000)\n",
    "ov.sample()"
   ]
  },
  {
   "cell_type": "code",
   "execution_count": 157,
   "metadata": {},
   "outputs": [],
   "source": [
    "X=ov.drop(['V23'],axis=1)\n",
    "y=ov.V23"
   ]
  },
  {
   "cell_type": "code",
   "execution_count": 158,
   "metadata": {},
   "outputs": [],
   "source": [
    "X_tr, X_cv, y_tr, y_cv = train_test_split(X, y, test_size=0.2)"
   ]
  },
  {
   "cell_type": "code",
   "execution_count": 159,
   "metadata": {},
   "outputs": [
    {
     "name": "stdout",
     "output_type": "stream",
     "text": [
      "Train RMSE: 1.88\n",
      "Test RMSE: 1.93\n"
     ]
    }
   ],
   "source": [
    "lm = smf.ols(formula='V23 ~ V18 + V55 + V59', data=ov).fit()\n",
    "ypred = lm.predict(X_tr)\n",
    "print('Train RMSE:',compute_rmse(ypred, y_tr))\n",
    "ypred = lm.predict(X_cv)\n",
    "print('Test RMSE:',compute_rmse(ypred, y_cv))"
   ]
  },
  {
   "cell_type": "code",
   "execution_count": 160,
   "metadata": {},
   "outputs": [
    {
     "name": "stdout",
     "output_type": "stream",
     "text": [
      "Train RMSE: 1.73\n",
      "Test RMSE: 1.77\n"
     ]
    }
   ],
   "source": [
    "coef=LinearRegression().fit(X,y)\n",
    "print('Train RMSE:',compute_rmse(coef.predict(X_tr), y_tr))\n",
    "print('Test RMSE:',compute_rmse(coef.predict(X_cv), y_cv))"
   ]
  },
  {
   "cell_type": "code",
   "execution_count": 161,
   "metadata": {
    "scrolled": false
   },
   "outputs": [
    {
     "data": {
      "text/plain": [
       "<matplotlib.legend.Legend at 0x250939b5d48>"
      ]
     },
     "execution_count": 161,
     "metadata": {},
     "output_type": "execute_result"
    },
    {
     "data": {
      "image/png": "[encoded data removed]",
      "text/plain": [
       "<Figure size 648x648 with 1 Axes>"
      ]
     },
     "metadata": {
      "needs_background": "light"
     },
     "output_type": "display_data"
    }
   ],
   "source": [
    "alpha_list=np.linspace(10**(-6),10**(6), num=1000)\n",
    "rmsert=[]\n",
    "rmselt=[]\n",
    "rmserv=[]\n",
    "rmselv=[]\n",
    "for alpha in alpha_list:\n",
    "    mr = Ridge(alpha = alpha).fit(X,y)\n",
    "    ml = Lasso(alpha = alpha).fit(X,y)\n",
    "    yhatr = mr.predict(X_tr)\n",
    "    rmsert.append(np.sqrt(np.mean(y_tr - yhatr)**2))\n",
    "    yhatl = ml.predict(X_tr)\n",
    "    rmselt.append(np.sqrt(np.mean(y_tr - yhatl)**2))\n",
    "    yhatr = mr.predict(X_cv)\n",
    "    rmserv.append(np.sqrt(np.mean(y_cv - yhatr)**2))\n",
    "    yhatl = ml.predict(X_cv)\n",
    "    rmselv.append(np.sqrt(np.mean(y_cv - yhatl)**2))\n",
    "plt.figure(figsize=(9,9))\n",
    "plt.plot(np.log(alpha_list), rmsert, c='r', label='RMSE-ridge')\n",
    "plt.plot(np.log(alpha_list), rmselt, c='blue', label='RMSE-lasso')\n",
    "plt.plot(np.log(alpha_list), rmserv, c='pink', label='RMSE-ridge-cv')\n",
    "plt.plot(np.log(alpha_list), rmselv, c='green', label='RMSE-lassocv')\n",
    "plt.xlabel('log(alpha)')\n",
    "plt.ylabel('RMSE-s')\n",
    "plt.legend()"
   ]
  },
  {
   "cell_type": "markdown",
   "metadata": {},
   "source": [
    "The bigger sample, the closer the RMSEs of the training and testing. Seems like the \"1000\" sample overfits."
   ]
  }
 ],
 "metadata": {
  "kernelspec": {
   "display_name": "Python 3",
   "language": "python",
   "name": "python3"
  },
  "language_info": {
   "codemirror_mode": {
    "name": "ipython",
    "version": 3
   },
   "file_extension": ".py",
   "mimetype": "text/x-python",
   "name": "python",
   "nbconvert_exporter": "python",
   "pygments_lexer": "ipython3",
   "version": "3.8.3"
  },
  "toc": {
   "base_numbering": 1,
   "nav_menu": {},
   "number_sections": true,
   "sideBar": true,
   "skip_h1_title": false,
   "title_cell": "Table of Contents",
   "title_sidebar": "Contents",
   "toc_cell": false,
   "toc_position": {},
   "toc_section_display": true,
   "toc_window_display": false
  },
  "varInspector": {
   "cols": {
    "lenName": 16,
    "lenType": 16,
    "lenVar": 40
   },
   "kernels_config": {
    "python": {
     "delete_cmd_postfix": "",
     "delete_cmd_prefix": "del ",
     "library": "var_list.py",
     "varRefreshCmd": "print(var_dic_list())"
    },
    "r": {
     "delete_cmd_postfix": ") ",
     "delete_cmd_prefix": "rm(",
     "library": "var_list.r",
     "varRefreshCmd": "cat(var_dic_list()) "
    }
   },
   "types_to_exclude": [
    "module",
    "function",
    "builtin_function_or_method",
    "instance",
    "_Feature"
   ],
   "window_display": false
  }
 },
 "nbformat": 4,
 "nbformat_minor": 2
}
