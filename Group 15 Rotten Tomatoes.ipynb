{
 "cells": [
  {
   "cell_type": "code",
   "execution_count": 1,
   "metadata": {
    "colab": {},
    "colab_type": "code",
    "id": "wc_-fuMpfXBJ"
   },
   "outputs": [],
   "source": [
    "%matplotlib inline\n",
    "import pandas as pd\n",
    "import numpy as np\n",
    "import matplotlib.pyplot as plt\n",
    "\n",
    "from sklearn.model_selection import cross_val_score\n",
    "from sklearn.model_selection import train_test_split\n",
    "from sklearn.metrics import mean_squared_error\n",
    "from sklearn.preprocessing import StandardScaler\n",
    "from sklearn.decomposition import PCA\n",
    "from sklearn.naive_bayes import MultinomialNB\n",
    "from sklearn.feature_extraction.text import CountVectorizer\n",
    "import statsmodels.formula.api as smf\n",
    "from sklearn.linear_model import LinearRegression\n",
    "from sklearn import preprocessing\n",
    "import os\n",
    "\n",
    "from sklearn.metrics import confusion_matrix \n",
    "from sklearn.metrics import accuracy_score \n",
    "from sklearn.metrics import classification_report"
   ]
  },
  {
   "cell_type": "markdown",
   "metadata": {
    "colab_type": "text",
    "id": "ZBgFcPP-fXBT"
   },
   "source": [
    "**fresh** evaluation: 'fresh' or 'rotten'  \n",
    "**quote** short version of the review"
   ]
  },
  {
   "cell_type": "markdown",
   "metadata": {
    "colab_type": "text",
    "id": "Vgh8pAfyfXBU"
   },
   "source": [
    "### 1 Explore and clean the data"
   ]
  },
  {
   "cell_type": "markdown",
   "metadata": {},
   "source": [
    "#### 1-1 Load the data"
   ]
  },
  {
   "cell_type": "code",
   "execution_count": 2,
   "metadata": {
    "colab": {},
    "colab_type": "code",
    "id": "1p58k6bSfXBW"
   },
   "outputs": [],
   "source": [
    "tomatoes=pd.read_csv(\"rotten-tomatoes.csv.bz2\")"
   ]
  },
  {
   "cell_type": "markdown",
   "metadata": {},
   "source": [
    "#### 1-2 Check the data"
   ]
  },
  {
   "cell_type": "code",
   "execution_count": 3,
   "metadata": {
    "colab": {},
    "colab_type": "code",
    "id": "U2xdcQSFfXBe",
    "outputId": "2c832572-17e1-49de-cae3-6f5d042c65a1"
   },
   "outputs": [
    {
     "data": {
      "text/plain": [
       "(13442, 9)"
      ]
     },
     "execution_count": 3,
     "metadata": {},
     "output_type": "execute_result"
    }
   ],
   "source": [
    "tomatoes.shape"
   ]
  },
  {
   "cell_type": "code",
   "execution_count": 4,
   "metadata": {
    "colab": {},
    "colab_type": "code",
    "id": "f6L1SmuzfXBo",
    "outputId": "c48e44fe-5ed8-426c-f78f-1cbe3b2a3160",
    "scrolled": false
   },
   "outputs": [
    {
     "data": {
      "text/html": [
       "<div>\n",
       "<style scoped>\n",
       "    .dataframe tbody tr th:only-of-type {\n",
       "        vertical-align: middle;\n",
       "    }\n",
       "\n",
       "    .dataframe tbody tr th {\n",
       "        vertical-align: top;\n",
       "    }\n",
       "\n",
       "    .dataframe thead th {\n",
       "        text-align: right;\n",
       "    }\n",
       "</style>\n",
       "<table border=\"1\" class=\"dataframe\">\n",
       "  <thead>\n",
       "    <tr style=\"text-align: right;\">\n",
       "      <th></th>\n",
       "      <th>critic</th>\n",
       "      <th>fresh</th>\n",
       "      <th>imdb</th>\n",
       "      <th>link</th>\n",
       "      <th>publication</th>\n",
       "      <th>quote</th>\n",
       "      <th>review_date</th>\n",
       "      <th>rtid</th>\n",
       "      <th>title</th>\n",
       "    </tr>\n",
       "  </thead>\n",
       "  <tbody>\n",
       "    <tr>\n",
       "      <td>2592</td>\n",
       "      <td>Roger Ebert</td>\n",
       "      <td>fresh</td>\n",
       "      <td>107688</td>\n",
       "      <td>http://www.rogerebert.com/reviews/tim-burtons-...</td>\n",
       "      <td>Chicago Sun-Times</td>\n",
       "      <td>Working with gifted artists and designers, [Bu...</td>\n",
       "      <td>2000-01-01 00:00:00</td>\n",
       "      <td>12490</td>\n",
       "      <td>The Nightmare Before Christmas</td>\n",
       "    </tr>\n",
       "    <tr>\n",
       "      <td>13054</td>\n",
       "      <td>Susan Stark</td>\n",
       "      <td>fresh</td>\n",
       "      <td>120910</td>\n",
       "      <td>http://data.detnews.com/movies/details.hbs?myr...</td>\n",
       "      <td>Detroit News</td>\n",
       "      <td>Those who get to know the spectacular IMAX for...</td>\n",
       "      <td>2000-01-01 00:00:00</td>\n",
       "      <td>9488</td>\n",
       "      <td>Fantasia 2000</td>\n",
       "    </tr>\n",
       "    <tr>\n",
       "      <td>9058</td>\n",
       "      <td>Pat Graham</td>\n",
       "      <td>rotten</td>\n",
       "      <td>92537</td>\n",
       "      <td>http://onfilm.chicagoreader.com/movies/capsule...</td>\n",
       "      <td>Chicago Reader</td>\n",
       "      <td>Hard to say what this is really, except maybe ...</td>\n",
       "      <td>2000-01-01 00:00:00</td>\n",
       "      <td>12163</td>\n",
       "      <td>The Allnighter</td>\n",
       "    </tr>\n",
       "  </tbody>\n",
       "</table>\n",
       "</div>"
      ],
      "text/plain": [
       "            critic   fresh    imdb  \\\n",
       "2592   Roger Ebert   fresh  107688   \n",
       "13054  Susan Stark   fresh  120910   \n",
       "9058    Pat Graham  rotten   92537   \n",
       "\n",
       "                                                    link        publication  \\\n",
       "2592   http://www.rogerebert.com/reviews/tim-burtons-...  Chicago Sun-Times   \n",
       "13054  http://data.detnews.com/movies/details.hbs?myr...       Detroit News   \n",
       "9058   http://onfilm.chicagoreader.com/movies/capsule...     Chicago Reader   \n",
       "\n",
       "                                                   quote          review_date  \\\n",
       "2592   Working with gifted artists and designers, [Bu...  2000-01-01 00:00:00   \n",
       "13054  Those who get to know the spectacular IMAX for...  2000-01-01 00:00:00   \n",
       "9058   Hard to say what this is really, except maybe ...  2000-01-01 00:00:00   \n",
       "\n",
       "        rtid                           title  \n",
       "2592   12490  The Nightmare Before Christmas  \n",
       "13054   9488                   Fantasia 2000  \n",
       "9058   12163                  The Allnighter  "
      ]
     },
     "execution_count": 4,
     "metadata": {},
     "output_type": "execute_result"
    }
   ],
   "source": [
    "# a few lines\n",
    "tomatoes.sample(3)"
   ]
  },
  {
   "cell_type": "code",
   "execution_count": 7,
   "metadata": {
    "colab": {},
    "colab_type": "code",
    "id": "rzRa5flPfXB6",
    "outputId": "fb07ae6c-1d1f-46af-fbae-4ae375bc3f6b",
    "scrolled": false
   },
   "outputs": [
    {
     "data": {
      "text/plain": [
       "Index(['critic', 'fresh', 'imdb', 'link', 'publication', 'quote',\n",
       "       'review_date', 'rtid', 'title'],\n",
       "      dtype='object')"
      ]
     },
     "execution_count": 7,
     "metadata": {},
     "output_type": "execute_result"
    }
   ],
   "source": [
    "#print out all the variable names\n",
    "tomatoes.columns"
   ]
  },
  {
   "cell_type": "markdown",
   "metadata": {},
   "source": [
    "#### 1-3 Summary "
   ]
  },
  {
   "cell_type": "code",
   "execution_count": 8,
   "metadata": {
    "colab": {},
    "colab_type": "code",
    "id": "AzaoDcM5fXCe",
    "outputId": "7c2dffc1-f1d6-4833-872c-a87c7fdf9746",
    "scrolled": true
   },
   "outputs": [
    {
     "data": {
      "text/plain": [
       "array(['fresh', 'rotten', 'none'], dtype=object)"
      ]
     },
     "execution_count": 8,
     "metadata": {},
     "output_type": "execute_result"
    }
   ],
   "source": [
    "# all different values for fresh/rotten evaluations;\n",
    "tomatoes.fresh.unique()"
   ]
  },
  {
   "cell_type": "code",
   "execution_count": 9,
   "metadata": {
    "colab": {},
    "colab_type": "code",
    "id": "hug4-1BNfXCo",
    "outputId": "80eb22f6-d41b-4031-e43f-ea1bdbeefe34",
    "scrolled": true
   },
   "outputs": [
    {
     "data": {
      "text/plain": [
       "fresh     8389\n",
       "rotten    5030\n",
       "none        23\n",
       "Name: fresh, dtype: int64"
      ]
     },
     "execution_count": 9,
     "metadata": {},
     "output_type": "execute_result"
    }
   ],
   "source": [
    "# counts or percentages of these values;\n",
    "tomatoes.fresh.value_counts()"
   ]
  },
  {
   "cell_type": "code",
   "execution_count": 10,
   "metadata": {
    "colab": {},
    "colab_type": "code",
    "id": "vKHEYYKafXCy",
    "outputId": "2169e83c-526a-4cb4-d9eb-12bdc17d067a",
    "scrolled": false
   },
   "outputs": [
    {
     "data": {
      "text/plain": [
       "0"
      ]
     },
     "execution_count": 10,
     "metadata": {},
     "output_type": "execute_result"
    }
   ],
   "source": [
    "# zero-length or whitespace quotes\n",
    "tomatoes[(tomatoes.quote==\"\") | (tomatoes.quote==\" \")].shape[0]"
   ]
  },
  {
   "cell_type": "markdown",
   "metadata": {},
   "source": [
    "There is no zero-length or only whitespace quote-s."
   ]
  },
  {
   "cell_type": "code",
   "execution_count": 11,
   "metadata": {},
   "outputs": [
    {
     "name": "stdout",
     "output_type": "stream",
     "text": [
      " Number of missings for fresh: 23 \n",
      " Number of missings for quote: 0 \n",
      "\n"
     ]
    }
   ],
   "source": [
    "# missing values\n",
    "tomatoes.replace(\"none\", np.nan, inplace=True)\n",
    "print(' Number of missings for fresh:',tomatoes.fresh.isnull().sum(),'\\n',\n",
    "      'Number of missings for quote:',tomatoes.quote.isnull().sum(),'\\n')"
   ]
  },
  {
   "cell_type": "code",
   "execution_count": 12,
   "metadata": {
    "colab": {},
    "colab_type": "code",
    "id": "9EIVdyn6fXC3",
    "outputId": "9c21d232-63f3-4d5f-ecdd-d92674e15681"
   },
   "outputs": [
    {
     "data": {
      "text/plain": [
       "max     256.00000\n",
       "min       4.00000\n",
       "mean    121.23129\n",
       "Name: quote, dtype: float64"
      ]
     },
     "execution_count": 12,
     "metadata": {},
     "output_type": "execute_result"
    }
   ],
   "source": [
    "# minimum-maximum-average length of quotes in characters\n",
    "length=tomatoes[\"quote\"].str.len()\n",
    "length.describe()[['max','min','mean']]"
   ]
  },
  {
   "cell_type": "code",
   "execution_count": 13,
   "metadata": {
    "colab": {},
    "colab_type": "code",
    "id": "OOqmOPzpfXDD"
   },
   "outputs": [],
   "source": [
    "# duplicate review\n",
    "tomatoes['duplicated_review']=tomatoes.quote.duplicated()"
   ]
  },
  {
   "cell_type": "code",
   "execution_count": 14,
   "metadata": {
    "colab": {},
    "colab_type": "code",
    "id": "j1Map6aYfXDI",
    "outputId": "80e9cd9a-40ef-4710-e7c6-d66a92a49b05"
   },
   "outputs": [
    {
     "data": {
      "text/plain": [
       "606"
      ]
     },
     "execution_count": 14,
     "metadata": {},
     "output_type": "execute_result"
    }
   ],
   "source": [
    "tomatoes[tomatoes['duplicated_review']==True].duplicated_review.count()"
   ]
  },
  {
   "cell_type": "markdown",
   "metadata": {
    "colab_type": "text",
    "id": "gfrzcHDkfXDQ"
   },
   "source": [
    "There are 606 duplicated reviews in data."
   ]
  },
  {
   "cell_type": "markdown",
   "metadata": {},
   "source": [
    "#### 1-4 clean the data"
   ]
  },
  {
   "cell_type": "code",
   "execution_count": 15,
   "metadata": {
    "colab": {},
    "colab_type": "code",
    "id": "9M8vJ4J7fXDY"
   },
   "outputs": [],
   "source": [
    "def clean(data):\n",
    "    nan_value = np.nan\n",
    "    # find out missing values in quote\n",
    "    data.replace(\"\", nan_value, inplace=True)\n",
    "    data.replace(\" \", nan_value, inplace=True)\n",
    "    \n",
    "    # find out missing values in fresh\n",
    "    data.replace(\"none\", nan_value, inplace=True)\n",
    "\n",
    "    # clean fresh and quote by dropping N/As\n",
    "    data.dropna(subset=['fresh','quote'],inplace=True)\n",
    "    \n",
    "    # clean duplicated reviews\n",
    "    data['duplicated_review']=data.quote.duplicated()\n",
    "    data.drop(data[data['duplicated_review']==True].index,inplace=True)\n",
    "    \n",
    "    return data"
   ]
  },
  {
   "cell_type": "code",
   "execution_count": 16,
   "metadata": {
    "scrolled": true
   },
   "outputs": [
    {
     "data": {
      "text/plain": [
       "(12814, 10)"
      ]
     },
     "execution_count": 16,
     "metadata": {},
     "output_type": "execute_result"
    }
   ],
   "source": [
    "clean(tomatoes).shape"
   ]
  },
  {
   "cell_type": "markdown",
   "metadata": {},
   "source": [
    "The cleaned dataset have 12814 rows and 10 columns."
   ]
  },
  {
   "cell_type": "markdown",
   "metadata": {
    "colab_type": "text",
    "id": "-N5BMrxSfXDd"
   },
   "source": [
    "### 2 Naïve Bayes\n",
    "#### 2-2 Convert the data (quotes) into bag-of-words."
   ]
  },
  {
   "cell_type": "code",
   "execution_count": 17,
   "metadata": {
    "colab": {},
    "colab_type": "code",
    "id": "ehKj06ovfXDf"
   },
   "outputs": [],
   "source": [
    "vectorizer = CountVectorizer(binary=True)\n",
    "# define vectorizer\n",
    "X = vectorizer.fit_transform(tomatoes.quote.values)\n",
    "X = X.toarray()\n",
    "# vectorize your data. Note: this creates a sparce matrix,\n",
    "# use .toarray() if you want a dense matrix.\n",
    "words = vectorizer.get_feature_names()\n",
    "# in case you want to see what are the actual words"
   ]
  },
  {
   "cell_type": "markdown",
   "metadata": {
    "colab_type": "text",
    "id": "ofxwb1hXfXEu"
   },
   "source": [
    "#### 2-3 Split work data and target (training : validation = 80 : 20)"
   ]
  },
  {
   "cell_type": "code",
   "execution_count": 18,
   "metadata": {
    "colab": {},
    "colab_type": "code",
    "id": "IYbk_d4kfXE3",
    "outputId": "a5c2333f-89de-4f74-eca5-1b429c3c389e",
    "scrolled": false
   },
   "outputs": [],
   "source": [
    "Y = tomatoes.fresh"
   ]
  },
  {
   "cell_type": "code",
   "execution_count": 19,
   "metadata": {},
   "outputs": [],
   "source": [
    "X_train, X_test, Y_train, Y_test = train_test_split(X, Y,test_size=0.2)\n",
    "X_tr, X_val, Y_tr, Y_val = train_test_split(X_train, Y_train, test_size=0.2)"
   ]
  },
  {
   "cell_type": "code",
   "execution_count": 20,
   "metadata": {
    "scrolled": true
   },
   "outputs": [
    {
     "name": "stdout",
     "output_type": "stream",
     "text": [
      " X train shape: (8200, 20875) \n",
      " Y train shape: (8200,) \n",
      "\n",
      " X validation shape: (2051, 20875) \n",
      " Y validation shape: (2051,) \n",
      "\n",
      " X test shape: (2563, 20875) \n",
      " Y test shape: (2563,)\n"
     ]
    }
   ],
   "source": [
    "# verify shapes\n",
    "print (' X train shape:',X_tr.shape, '\\n',\n",
    "       'Y train shape:',Y_tr.shape, '\\n')\n",
    "print(' X validation shape:',X_val.shape, '\\n',\n",
    "       'Y validation shape:',Y_val.shape, '\\n')\n",
    "print (' X test shape:',X_test.shape, '\\n',\n",
    "       'Y test shape:',Y_test.shape)"
   ]
  },
  {
   "cell_type": "markdown",
   "metadata": {},
   "source": [
    "#### 2-4 Compute unconditional log probability 𝑙𝑜𝑔𝑃𝑟(𝐹)  and 𝑙𝑜𝑔𝑃𝑟(𝑅)"
   ]
  },
  {
   "cell_type": "markdown",
   "metadata": {},
   "source": [
    "**Note:** Use only training data"
   ]
  },
  {
   "cell_type": "code",
   "execution_count": 21,
   "metadata": {
    "colab": {},
    "colab_type": "code",
    "id": "LxgDsKG8fXE8",
    "outputId": "6309ad51-6593-4c71-9732-94156387ba3f"
   },
   "outputs": [],
   "source": [
    "prob = Y_tr.value_counts(1)"
   ]
  },
  {
   "cell_type": "code",
   "execution_count": 22,
   "metadata": {
    "colab": {},
    "colab_type": "code",
    "id": "Dk3cLwlWfXFB"
   },
   "outputs": [],
   "source": [
    "lf=np.log(prob[0])\n",
    "lr=np.log(prob[1])"
   ]
  },
  {
   "cell_type": "code",
   "execution_count": 23,
   "metadata": {},
   "outputs": [
    {
     "name": "stdout",
     "output_type": "stream",
     "text": [
      " logPr(F): -0.4721522774012126 \n",
      " logPr(R): -0.9772584003292383 \n",
      "\n"
     ]
    }
   ],
   "source": [
    "print (' logPr(F):',lf, '\\n',\n",
    "       'logPr(R):',lr, '\\n')"
   ]
  },
  {
   "cell_type": "markdown",
   "metadata": {},
   "source": [
    "#### 2-5 Compute 𝑙𝑜𝑔𝑃𝑟(𝑤|𝐹) and 𝑙𝑜𝑔𝑃𝑟(𝑤|𝑅) for each word"
   ]
  },
  {
   "cell_type": "markdown",
   "metadata": {},
   "source": [
    "**Note:** Use only training data"
   ]
  },
  {
   "cell_type": "code",
   "execution_count": 24,
   "metadata": {},
   "outputs": [],
   "source": [
    "# create BOW_train data frame\n",
    "bow_train = pd.DataFrame(data = X_tr, columns = words)\n",
    "bow_train['fresh'] = Y_tr"
   ]
  },
  {
   "cell_type": "code",
   "execution_count": 25,
   "metadata": {},
   "outputs": [
    {
     "data": {
      "text/html": [
       "<div>\n",
       "<style scoped>\n",
       "    .dataframe tbody tr th:only-of-type {\n",
       "        vertical-align: middle;\n",
       "    }\n",
       "\n",
       "    .dataframe tbody tr th {\n",
       "        vertical-align: top;\n",
       "    }\n",
       "\n",
       "    .dataframe thead th {\n",
       "        text-align: right;\n",
       "    }\n",
       "</style>\n",
       "<table border=\"1\" class=\"dataframe\">\n",
       "  <thead>\n",
       "    <tr style=\"text-align: right;\">\n",
       "      <th></th>\n",
       "      <th>000</th>\n",
       "      <th>0014</th>\n",
       "      <th>007</th>\n",
       "      <th>044</th>\n",
       "      <th>07</th>\n",
       "      <th>10</th>\n",
       "      <th>100</th>\n",
       "      <th>101</th>\n",
       "      <th>104</th>\n",
       "      <th>105</th>\n",
       "      <th>...</th>\n",
       "      <th>zoom</th>\n",
       "      <th>zooming</th>\n",
       "      <th>zooms</th>\n",
       "      <th>zorro</th>\n",
       "      <th>zorros</th>\n",
       "      <th>zowie</th>\n",
       "      <th>zucker</th>\n",
       "      <th>zweibel</th>\n",
       "      <th>zwick</th>\n",
       "      <th>zzzzzzzzz</th>\n",
       "    </tr>\n",
       "    <tr>\n",
       "      <th>fresh</th>\n",
       "      <th></th>\n",
       "      <th></th>\n",
       "      <th></th>\n",
       "      <th></th>\n",
       "      <th></th>\n",
       "      <th></th>\n",
       "      <th></th>\n",
       "      <th></th>\n",
       "      <th></th>\n",
       "      <th></th>\n",
       "      <th></th>\n",
       "      <th></th>\n",
       "      <th></th>\n",
       "      <th></th>\n",
       "      <th></th>\n",
       "      <th></th>\n",
       "      <th></th>\n",
       "      <th></th>\n",
       "      <th></th>\n",
       "      <th></th>\n",
       "      <th></th>\n",
       "    </tr>\n",
       "  </thead>\n",
       "  <tbody>\n",
       "    <tr>\n",
       "      <td>fresh</td>\n",
       "      <td>2</td>\n",
       "      <td>0</td>\n",
       "      <td>1</td>\n",
       "      <td>0</td>\n",
       "      <td>1</td>\n",
       "      <td>6</td>\n",
       "      <td>5</td>\n",
       "      <td>0</td>\n",
       "      <td>0</td>\n",
       "      <td>0</td>\n",
       "      <td>...</td>\n",
       "      <td>0</td>\n",
       "      <td>0</td>\n",
       "      <td>1</td>\n",
       "      <td>1</td>\n",
       "      <td>0</td>\n",
       "      <td>0</td>\n",
       "      <td>1</td>\n",
       "      <td>0</td>\n",
       "      <td>2</td>\n",
       "      <td>0</td>\n",
       "    </tr>\n",
       "    <tr>\n",
       "      <td>rotten</td>\n",
       "      <td>1</td>\n",
       "      <td>0</td>\n",
       "      <td>2</td>\n",
       "      <td>0</td>\n",
       "      <td>0</td>\n",
       "      <td>8</td>\n",
       "      <td>3</td>\n",
       "      <td>0</td>\n",
       "      <td>0</td>\n",
       "      <td>0</td>\n",
       "      <td>...</td>\n",
       "      <td>0</td>\n",
       "      <td>0</td>\n",
       "      <td>0</td>\n",
       "      <td>1</td>\n",
       "      <td>0</td>\n",
       "      <td>1</td>\n",
       "      <td>1</td>\n",
       "      <td>0</td>\n",
       "      <td>0</td>\n",
       "      <td>0</td>\n",
       "    </tr>\n",
       "  </tbody>\n",
       "</table>\n",
       "<p>2 rows × 20874 columns</p>\n",
       "</div>"
      ],
      "text/plain": [
       "        000  0014  007  044  07  10  100  101  104  105  ...  zoom  zooming  \\\n",
       "fresh                                                    ...                  \n",
       "fresh     2     0    1    0   1   6    5    0    0    0  ...     0        0   \n",
       "rotten    1     0    2    0   0   8    3    0    0    0  ...     0        0   \n",
       "\n",
       "        zooms  zorro  zorros  zowie  zucker  zweibel  zwick  zzzzzzzzz  \n",
       "fresh                                                                   \n",
       "fresh       1      1       0      0       1        0      2          0  \n",
       "rotten      0      1       0      1       1        0      0          0  \n",
       "\n",
       "[2 rows x 20874 columns]"
      ]
     },
     "execution_count": 25,
     "metadata": {},
     "output_type": "execute_result"
    }
   ],
   "source": [
    "# count the frequency of each words' appearance\n",
    "words_sum = bow_train.groupby('fresh').sum()\n",
    "words_sum"
   ]
  },
  {
   "cell_type": "code",
   "execution_count": 33,
   "metadata": {},
   "outputs": [],
   "source": [
    "import warnings\n",
    "warnings.filterwarnings('ignore')"
   ]
  },
  {
   "cell_type": "code",
   "execution_count": 26,
   "metadata": {
    "scrolled": true
   },
   "outputs": [
    {
     "data": {
      "text/html": [
       "<div>\n",
       "<style scoped>\n",
       "    .dataframe tbody tr th:only-of-type {\n",
       "        vertical-align: middle;\n",
       "    }\n",
       "\n",
       "    .dataframe tbody tr th {\n",
       "        vertical-align: top;\n",
       "    }\n",
       "\n",
       "    .dataframe thead th {\n",
       "        text-align: right;\n",
       "    }\n",
       "</style>\n",
       "<table border=\"1\" class=\"dataframe\">\n",
       "  <thead>\n",
       "    <tr style=\"text-align: right;\">\n",
       "      <th></th>\n",
       "      <th>000</th>\n",
       "      <th>0014</th>\n",
       "      <th>007</th>\n",
       "      <th>044</th>\n",
       "      <th>07</th>\n",
       "      <th>10</th>\n",
       "      <th>100</th>\n",
       "      <th>101</th>\n",
       "      <th>104</th>\n",
       "      <th>105</th>\n",
       "      <th>...</th>\n",
       "      <th>zoom</th>\n",
       "      <th>zooming</th>\n",
       "      <th>zooms</th>\n",
       "      <th>zorro</th>\n",
       "      <th>zorros</th>\n",
       "      <th>zowie</th>\n",
       "      <th>zucker</th>\n",
       "      <th>zweibel</th>\n",
       "      <th>zwick</th>\n",
       "      <th>zzzzzzzzz</th>\n",
       "    </tr>\n",
       "    <tr>\n",
       "      <th>fresh</th>\n",
       "      <th></th>\n",
       "      <th></th>\n",
       "      <th></th>\n",
       "      <th></th>\n",
       "      <th></th>\n",
       "      <th></th>\n",
       "      <th></th>\n",
       "      <th></th>\n",
       "      <th></th>\n",
       "      <th></th>\n",
       "      <th></th>\n",
       "      <th></th>\n",
       "      <th></th>\n",
       "      <th></th>\n",
       "      <th></th>\n",
       "      <th></th>\n",
       "      <th></th>\n",
       "      <th></th>\n",
       "      <th></th>\n",
       "      <th></th>\n",
       "      <th></th>\n",
       "    </tr>\n",
       "  </thead>\n",
       "  <tbody>\n",
       "    <tr>\n",
       "      <td>fresh</td>\n",
       "      <td>-7.84659</td>\n",
       "      <td>0.0</td>\n",
       "      <td>-8.539737</td>\n",
       "      <td>0.0</td>\n",
       "      <td>-8.539737</td>\n",
       "      <td>-6.747978</td>\n",
       "      <td>-6.930299</td>\n",
       "      <td>0.0</td>\n",
       "      <td>0.0</td>\n",
       "      <td>0.0</td>\n",
       "      <td>...</td>\n",
       "      <td>0.0</td>\n",
       "      <td>0.0</td>\n",
       "      <td>-8.539737</td>\n",
       "      <td>-8.539737</td>\n",
       "      <td>0.0</td>\n",
       "      <td>0.0</td>\n",
       "      <td>-8.539737</td>\n",
       "      <td>0.0</td>\n",
       "      <td>-7.84659</td>\n",
       "      <td>0.0</td>\n",
       "    </tr>\n",
       "  </tbody>\n",
       "</table>\n",
       "<p>1 rows × 20874 columns</p>\n",
       "</div>"
      ],
      "text/plain": [
       "           000  0014       007  044        07        10       100  101  104  \\\n",
       "fresh                                                                         \n",
       "fresh -7.84659   0.0 -8.539737  0.0 -8.539737 -6.747978 -6.930299  0.0  0.0   \n",
       "\n",
       "       105  ...  zoom  zooming     zooms     zorro  zorros  zowie    zucker  \\\n",
       "fresh       ...                                                               \n",
       "fresh  0.0  ...   0.0      0.0 -8.539737 -8.539737     0.0    0.0 -8.539737   \n",
       "\n",
       "       zweibel    zwick  zzzzzzzzz  \n",
       "fresh                               \n",
       "fresh      0.0 -7.84659        0.0  \n",
       "\n",
       "[1 rows x 20874 columns]"
      ]
     },
     "execution_count": 26,
     "metadata": {},
     "output_type": "execute_result"
    }
   ],
   "source": [
    "# compute logPr(w|F)\n",
    "lwf = words_sum[words_sum.index=='fresh']/Y_tr.value_counts()['fresh']\n",
    "lwf.replace(0,1,inplace=True)\n",
    "lwf = np.log(lwf)\n",
    "lwf"
   ]
  },
  {
   "cell_type": "code",
   "execution_count": 27,
   "metadata": {
    "scrolled": false
   },
   "outputs": [
    {
     "data": {
      "text/html": [
       "<div>\n",
       "<style scoped>\n",
       "    .dataframe tbody tr th:only-of-type {\n",
       "        vertical-align: middle;\n",
       "    }\n",
       "\n",
       "    .dataframe tbody tr th {\n",
       "        vertical-align: top;\n",
       "    }\n",
       "\n",
       "    .dataframe thead th {\n",
       "        text-align: right;\n",
       "    }\n",
       "</style>\n",
       "<table border=\"1\" class=\"dataframe\">\n",
       "  <thead>\n",
       "    <tr style=\"text-align: right;\">\n",
       "      <th></th>\n",
       "      <th>000</th>\n",
       "      <th>0014</th>\n",
       "      <th>007</th>\n",
       "      <th>044</th>\n",
       "      <th>07</th>\n",
       "      <th>10</th>\n",
       "      <th>100</th>\n",
       "      <th>101</th>\n",
       "      <th>104</th>\n",
       "      <th>105</th>\n",
       "      <th>...</th>\n",
       "      <th>zoom</th>\n",
       "      <th>zooming</th>\n",
       "      <th>zooms</th>\n",
       "      <th>zorro</th>\n",
       "      <th>zorros</th>\n",
       "      <th>zowie</th>\n",
       "      <th>zucker</th>\n",
       "      <th>zweibel</th>\n",
       "      <th>zwick</th>\n",
       "      <th>zzzzzzzzz</th>\n",
       "    </tr>\n",
       "    <tr>\n",
       "      <th>fresh</th>\n",
       "      <th></th>\n",
       "      <th></th>\n",
       "      <th></th>\n",
       "      <th></th>\n",
       "      <th></th>\n",
       "      <th></th>\n",
       "      <th></th>\n",
       "      <th></th>\n",
       "      <th></th>\n",
       "      <th></th>\n",
       "      <th></th>\n",
       "      <th></th>\n",
       "      <th></th>\n",
       "      <th></th>\n",
       "      <th></th>\n",
       "      <th></th>\n",
       "      <th></th>\n",
       "      <th></th>\n",
       "      <th></th>\n",
       "      <th></th>\n",
       "      <th></th>\n",
       "    </tr>\n",
       "  </thead>\n",
       "  <tbody>\n",
       "    <tr>\n",
       "      <td>rotten</td>\n",
       "      <td>-8.034631</td>\n",
       "      <td>0.0</td>\n",
       "      <td>-7.341484</td>\n",
       "      <td>0.0</td>\n",
       "      <td>0.0</td>\n",
       "      <td>-5.955189</td>\n",
       "      <td>-6.936019</td>\n",
       "      <td>0.0</td>\n",
       "      <td>0.0</td>\n",
       "      <td>0.0</td>\n",
       "      <td>...</td>\n",
       "      <td>0.0</td>\n",
       "      <td>0.0</td>\n",
       "      <td>0.0</td>\n",
       "      <td>-8.034631</td>\n",
       "      <td>0.0</td>\n",
       "      <td>-8.034631</td>\n",
       "      <td>-8.034631</td>\n",
       "      <td>0.0</td>\n",
       "      <td>0.0</td>\n",
       "      <td>0.0</td>\n",
       "    </tr>\n",
       "  </tbody>\n",
       "</table>\n",
       "<p>1 rows × 20874 columns</p>\n",
       "</div>"
      ],
      "text/plain": [
       "             000  0014       007  044   07        10       100  101  104  105  \\\n",
       "fresh                                                                           \n",
       "rotten -8.034631   0.0 -7.341484  0.0  0.0 -5.955189 -6.936019  0.0  0.0  0.0   \n",
       "\n",
       "        ...  zoom  zooming  zooms     zorro  zorros     zowie    zucker  \\\n",
       "fresh   ...                                                               \n",
       "rotten  ...   0.0      0.0    0.0 -8.034631     0.0 -8.034631 -8.034631   \n",
       "\n",
       "        zweibel  zwick  zzzzzzzzz  \n",
       "fresh                              \n",
       "rotten      0.0    0.0        0.0  \n",
       "\n",
       "[1 rows x 20874 columns]"
      ]
     },
     "execution_count": 27,
     "metadata": {},
     "output_type": "execute_result"
    }
   ],
   "source": [
    "# compute logPr(w|R)\n",
    "lwr = words_sum[words_sum.index=='rotten']/Y_tr.value_counts()['rotten']\n",
    "lwr.replace(0,1,inplace=True)\n",
    "lwr = np.log(lwr)\n",
    "lwr"
   ]
  },
  {
   "cell_type": "markdown",
   "metadata": {
    "colab": {},
    "colab_type": "code",
    "id": "sIP8jK8si3AW"
   },
   "source": [
    "#### 2-6 Compute the log-likelihood"
   ]
  },
  {
   "cell_type": "code",
   "execution_count": 28,
   "metadata": {},
   "outputs": [],
   "source": [
    "# define axis apply function for fresh\n",
    "def loglikelihood_fresh(f):\n",
    "    sums = 0\n",
    "    for i in range(lwf.shape[1]):\n",
    "        if f[i] !=0:\n",
    "            sums += lwf.iloc[0,i]\n",
    "    return sums+lf;        "
   ]
  },
  {
   "cell_type": "code",
   "execution_count": 29,
   "metadata": {},
   "outputs": [],
   "source": [
    "# define axis apply function for fresh\n",
    "def loglikelihood_rotten(r):\n",
    "    sums = 0\n",
    "    for i in range(lwr.shape[1]):\n",
    "        if r[i] !=0:\n",
    "            sums += lwr.iloc[0,i]\n",
    "    return sums+lr;"
   ]
  },
  {
   "cell_type": "code",
   "execution_count": 30,
   "metadata": {},
   "outputs": [],
   "source": [
    "# compute log likelihood for records in class fresh\n",
    "fresh=np.apply_along_axis(loglikelihood_fresh,1,X_val)"
   ]
  },
  {
   "cell_type": "code",
   "execution_count": 331,
   "metadata": {},
   "outputs": [
    {
     "data": {
      "text/plain": [
       "array([ -53.60679477, -127.59789338, -101.35211214, ..., -133.17183549,\n",
       "        -71.95128122,  -16.73423834])"
      ]
     },
     "execution_count": 331,
     "metadata": {},
     "output_type": "execute_result"
    }
   ],
   "source": [
    "fresh"
   ]
  },
  {
   "cell_type": "code",
   "execution_count": 31,
   "metadata": {},
   "outputs": [],
   "source": [
    "# compute log likelihood for records in class rotten\n",
    "rotten=np.apply_along_axis(loglikelihood_rotten,1,X_val)"
   ]
  },
  {
   "cell_type": "code",
   "execution_count": 333,
   "metadata": {},
   "outputs": [
    {
     "data": {
      "text/plain": [
       "array([ -55.16724942, -108.61816289, -104.35028338, ...,  -95.65020302,\n",
       "        -54.21318299,  -15.9371485 ])"
      ]
     },
     "execution_count": 333,
     "metadata": {},
     "output_type": "execute_result"
    }
   ],
   "source": [
    "rotten"
   ]
  },
  {
   "cell_type": "code",
   "execution_count": 34,
   "metadata": {},
   "outputs": [],
   "source": [
    "# create log likelihood, class and prediction table\n",
    "\n",
    "# the loglikelihood for fresh\n",
    "# and the loglikelihood for rotten\n",
    "val = pd.DataFrame(X_val, columns=words)\n",
    "val['fresh'] = fresh\n",
    "val['rotten'] = rotten\n",
    "\n",
    "# compute the predicted class\n",
    "pred = []\n",
    "for i in range(val.shape[0]):\n",
    "    if val['fresh'][i] > val['rotten'][i]:\n",
    "        pred.append('fresh')\n",
    "    else:\n",
    "        pred.append('rotten')\n",
    "val['pred'] = pred\n",
    "\n",
    "# attached the original class\n",
    "val2 = val[['pred','fresh','rotten']]\n",
    "Y_val_array = np.array(Y_val)\n",
    "val2['real'] = Y_val_array"
   ]
  },
  {
   "cell_type": "code",
   "execution_count": 35,
   "metadata": {
    "scrolled": false
   },
   "outputs": [
    {
     "data": {
      "text/html": [
       "<div>\n",
       "<style scoped>\n",
       "    .dataframe tbody tr th:only-of-type {\n",
       "        vertical-align: middle;\n",
       "    }\n",
       "\n",
       "    .dataframe tbody tr th {\n",
       "        vertical-align: top;\n",
       "    }\n",
       "\n",
       "    .dataframe thead th {\n",
       "        text-align: right;\n",
       "    }\n",
       "</style>\n",
       "<table border=\"1\" class=\"dataframe\">\n",
       "  <thead>\n",
       "    <tr style=\"text-align: right;\">\n",
       "      <th></th>\n",
       "      <th>pred</th>\n",
       "      <th>fresh</th>\n",
       "      <th>rotten</th>\n",
       "      <th>real</th>\n",
       "    </tr>\n",
       "  </thead>\n",
       "  <tbody>\n",
       "    <tr>\n",
       "      <td>0</td>\n",
       "      <td>rotten</td>\n",
       "      <td>-88.251133</td>\n",
       "      <td>-72.697867</td>\n",
       "      <td>rotten</td>\n",
       "    </tr>\n",
       "    <tr>\n",
       "      <td>1</td>\n",
       "      <td>rotten</td>\n",
       "      <td>-90.883451</td>\n",
       "      <td>-82.017162</td>\n",
       "      <td>fresh</td>\n",
       "    </tr>\n",
       "    <tr>\n",
       "      <td>2</td>\n",
       "      <td>rotten</td>\n",
       "      <td>-129.863535</td>\n",
       "      <td>-124.973495</td>\n",
       "      <td>rotten</td>\n",
       "    </tr>\n",
       "    <tr>\n",
       "      <td>3</td>\n",
       "      <td>rotten</td>\n",
       "      <td>-50.150173</td>\n",
       "      <td>-40.159201</td>\n",
       "      <td>rotten</td>\n",
       "    </tr>\n",
       "    <tr>\n",
       "      <td>4</td>\n",
       "      <td>rotten</td>\n",
       "      <td>-134.554721</td>\n",
       "      <td>-117.260136</td>\n",
       "      <td>fresh</td>\n",
       "    </tr>\n",
       "    <tr>\n",
       "      <td>...</td>\n",
       "      <td>...</td>\n",
       "      <td>...</td>\n",
       "      <td>...</td>\n",
       "      <td>...</td>\n",
       "    </tr>\n",
       "    <tr>\n",
       "      <td>2046</td>\n",
       "      <td>fresh</td>\n",
       "      <td>-40.018935</td>\n",
       "      <td>-48.435820</td>\n",
       "      <td>fresh</td>\n",
       "    </tr>\n",
       "    <tr>\n",
       "      <td>2047</td>\n",
       "      <td>rotten</td>\n",
       "      <td>-96.701809</td>\n",
       "      <td>-95.845435</td>\n",
       "      <td>rotten</td>\n",
       "    </tr>\n",
       "    <tr>\n",
       "      <td>2048</td>\n",
       "      <td>rotten</td>\n",
       "      <td>-95.546421</td>\n",
       "      <td>-73.834061</td>\n",
       "      <td>fresh</td>\n",
       "    </tr>\n",
       "    <tr>\n",
       "      <td>2049</td>\n",
       "      <td>rotten</td>\n",
       "      <td>-108.758599</td>\n",
       "      <td>-92.506033</td>\n",
       "      <td>fresh</td>\n",
       "    </tr>\n",
       "    <tr>\n",
       "      <td>2050</td>\n",
       "      <td>fresh</td>\n",
       "      <td>-37.536048</td>\n",
       "      <td>-43.927549</td>\n",
       "      <td>rotten</td>\n",
       "    </tr>\n",
       "  </tbody>\n",
       "</table>\n",
       "<p>2051 rows × 4 columns</p>\n",
       "</div>"
      ],
      "text/plain": [
       "        pred       fresh      rotten    real\n",
       "0     rotten  -88.251133  -72.697867  rotten\n",
       "1     rotten  -90.883451  -82.017162   fresh\n",
       "2     rotten -129.863535 -124.973495  rotten\n",
       "3     rotten  -50.150173  -40.159201  rotten\n",
       "4     rotten -134.554721 -117.260136   fresh\n",
       "...      ...         ...         ...     ...\n",
       "2046   fresh  -40.018935  -48.435820   fresh\n",
       "2047  rotten  -96.701809  -95.845435  rotten\n",
       "2048  rotten  -95.546421  -73.834061   fresh\n",
       "2049  rotten -108.758599  -92.506033   fresh\n",
       "2050   fresh  -37.536048  -43.927549  rotten\n",
       "\n",
       "[2051 rows x 4 columns]"
      ]
     },
     "execution_count": 35,
     "metadata": {},
     "output_type": "execute_result"
    }
   ],
   "source": [
    "val2"
   ]
  },
  {
   "cell_type": "markdown",
   "metadata": {},
   "source": [
    "#### 2-7 Confusion matrix & accuracy score"
   ]
  },
  {
   "cell_type": "code",
   "execution_count": 36,
   "metadata": {
    "scrolled": false
   },
   "outputs": [
    {
     "name": "stdout",
     "output_type": "stream",
     "text": [
      "Confusion Matrix:\n",
      "[[398 881]\n",
      " [219 553]]\n",
      "Accuracy Score: 0.4636762554851292\n"
     ]
    }
   ],
   "source": [
    "results = confusion_matrix(val2.real, val2.pred) \n",
    "print ('Confusion Matrix:')\n",
    "print(results) \n",
    "print ('Accuracy Score:',accuracy_score(val2.real, val2.pred))"
   ]
  },
  {
   "cell_type": "markdown",
   "metadata": {
    "colab_type": "text",
    "id": "5L2XnEpDfXFy"
   },
   "source": [
    "### 3 Interpretation"
   ]
  },
  {
   "cell_type": "markdown",
   "metadata": {},
   "source": [
    "#### 3-1 log Pr(w|F) and log Pr(w|R) for more frequent words"
   ]
  },
  {
   "cell_type": "markdown",
   "metadata": {},
   "source": [
    "3-1-1 Method 1: Count fresh/rotten respectively"
   ]
  },
  {
   "cell_type": "code",
   "execution_count": 37,
   "metadata": {},
   "outputs": [],
   "source": [
    "words_freq = words_sum.transpose()\n",
    "words_freq['log Pr(w|F)'] = np.array(lwf).reshape(20874,)\n",
    "words_freq['log Pr(w|R)'] = np.array(lwr).reshape(20874,)"
   ]
  },
  {
   "cell_type": "code",
   "execution_count": 38,
   "metadata": {},
   "outputs": [],
   "source": [
    "words_freq_fresh = words_freq[words_freq.fresh > 30]\n",
    "words_freq_rotten = words_freq[words_freq.rotten > 30]"
   ]
  },
  {
   "cell_type": "code",
   "execution_count": 39,
   "metadata": {},
   "outputs": [
    {
     "data": {
      "text/html": [
       "<div>\n",
       "<style scoped>\n",
       "    .dataframe tbody tr th:only-of-type {\n",
       "        vertical-align: middle;\n",
       "    }\n",
       "\n",
       "    .dataframe tbody tr th {\n",
       "        vertical-align: top;\n",
       "    }\n",
       "\n",
       "    .dataframe thead th {\n",
       "        text-align: right;\n",
       "    }\n",
       "</style>\n",
       "<table border=\"1\" class=\"dataframe\">\n",
       "  <thead>\n",
       "    <tr style=\"text-align: right;\">\n",
       "      <th>fresh</th>\n",
       "      <th>fresh</th>\n",
       "      <th>rotten</th>\n",
       "      <th>log Pr(w|F)</th>\n",
       "      <th>log Pr(w|R)</th>\n",
       "    </tr>\n",
       "  </thead>\n",
       "  <tbody>\n",
       "    <tr>\n",
       "      <td>about</td>\n",
       "      <td>215</td>\n",
       "      <td>110</td>\n",
       "      <td>-3.169099</td>\n",
       "      <td>-3.334151</td>\n",
       "    </tr>\n",
       "    <tr>\n",
       "      <td>acting</td>\n",
       "      <td>31</td>\n",
       "      <td>24</td>\n",
       "      <td>-5.105750</td>\n",
       "      <td>-4.856577</td>\n",
       "    </tr>\n",
       "    <tr>\n",
       "      <td>action</td>\n",
       "      <td>86</td>\n",
       "      <td>51</td>\n",
       "      <td>-4.085390</td>\n",
       "      <td>-4.102805</td>\n",
       "    </tr>\n",
       "    <tr>\n",
       "      <td>actors</td>\n",
       "      <td>39</td>\n",
       "      <td>18</td>\n",
       "      <td>-4.876176</td>\n",
       "      <td>-5.144259</td>\n",
       "    </tr>\n",
       "    <tr>\n",
       "      <td>after</td>\n",
       "      <td>32</td>\n",
       "      <td>21</td>\n",
       "      <td>-5.074001</td>\n",
       "      <td>-4.990109</td>\n",
       "    </tr>\n",
       "    <tr>\n",
       "      <td>...</td>\n",
       "      <td>...</td>\n",
       "      <td>...</td>\n",
       "      <td>...</td>\n",
       "      <td>...</td>\n",
       "    </tr>\n",
       "    <tr>\n",
       "      <td>years</td>\n",
       "      <td>31</td>\n",
       "      <td>14</td>\n",
       "      <td>-5.105750</td>\n",
       "      <td>-5.395574</td>\n",
       "    </tr>\n",
       "    <tr>\n",
       "      <td>yet</td>\n",
       "      <td>42</td>\n",
       "      <td>23</td>\n",
       "      <td>-4.802068</td>\n",
       "      <td>-4.899137</td>\n",
       "    </tr>\n",
       "    <tr>\n",
       "      <td>you</td>\n",
       "      <td>222</td>\n",
       "      <td>129</td>\n",
       "      <td>-3.137060</td>\n",
       "      <td>-3.174819</td>\n",
       "    </tr>\n",
       "    <tr>\n",
       "      <td>young</td>\n",
       "      <td>32</td>\n",
       "      <td>10</td>\n",
       "      <td>-5.074001</td>\n",
       "      <td>-5.732046</td>\n",
       "    </tr>\n",
       "    <tr>\n",
       "      <td>your</td>\n",
       "      <td>45</td>\n",
       "      <td>28</td>\n",
       "      <td>-4.733075</td>\n",
       "      <td>-4.702427</td>\n",
       "    </tr>\n",
       "  </tbody>\n",
       "</table>\n",
       "<p>228 rows × 4 columns</p>\n",
       "</div>"
      ],
      "text/plain": [
       "fresh   fresh  rotten  log Pr(w|F)  log Pr(w|R)\n",
       "about     215     110    -3.169099    -3.334151\n",
       "acting     31      24    -5.105750    -4.856577\n",
       "action     86      51    -4.085390    -4.102805\n",
       "actors     39      18    -4.876176    -5.144259\n",
       "after      32      21    -5.074001    -4.990109\n",
       "...       ...     ...          ...          ...\n",
       "years      31      14    -5.105750    -5.395574\n",
       "yet        42      23    -4.802068    -4.899137\n",
       "you       222     129    -3.137060    -3.174819\n",
       "young      32      10    -5.074001    -5.732046\n",
       "your       45      28    -4.733075    -4.702427\n",
       "\n",
       "[228 rows x 4 columns]"
      ]
     },
     "execution_count": 39,
     "metadata": {},
     "output_type": "execute_result"
    }
   ],
   "source": [
    "words_freq_fresh"
   ]
  },
  {
   "cell_type": "code",
   "execution_count": 40,
   "metadata": {
    "scrolled": false
   },
   "outputs": [
    {
     "data": {
      "text/html": [
       "<div>\n",
       "<style scoped>\n",
       "    .dataframe tbody tr th:only-of-type {\n",
       "        vertical-align: middle;\n",
       "    }\n",
       "\n",
       "    .dataframe tbody tr th {\n",
       "        vertical-align: top;\n",
       "    }\n",
       "\n",
       "    .dataframe thead th {\n",
       "        text-align: right;\n",
       "    }\n",
       "</style>\n",
       "<table border=\"1\" class=\"dataframe\">\n",
       "  <thead>\n",
       "    <tr style=\"text-align: right;\">\n",
       "      <th>fresh</th>\n",
       "      <th>fresh</th>\n",
       "      <th>rotten</th>\n",
       "      <th>log Pr(w|F)</th>\n",
       "      <th>log Pr(w|R)</th>\n",
       "    </tr>\n",
       "  </thead>\n",
       "  <tbody>\n",
       "    <tr>\n",
       "      <td>about</td>\n",
       "      <td>215</td>\n",
       "      <td>110</td>\n",
       "      <td>-3.169099</td>\n",
       "      <td>-3.334151</td>\n",
       "    </tr>\n",
       "    <tr>\n",
       "      <td>action</td>\n",
       "      <td>86</td>\n",
       "      <td>51</td>\n",
       "      <td>-4.085390</td>\n",
       "      <td>-4.102805</td>\n",
       "    </tr>\n",
       "    <tr>\n",
       "      <td>all</td>\n",
       "      <td>229</td>\n",
       "      <td>120</td>\n",
       "      <td>-3.106015</td>\n",
       "      <td>-3.247139</td>\n",
       "    </tr>\n",
       "    <tr>\n",
       "      <td>almost</td>\n",
       "      <td>43</td>\n",
       "      <td>34</td>\n",
       "      <td>-4.778537</td>\n",
       "      <td>-4.508271</td>\n",
       "    </tr>\n",
       "    <tr>\n",
       "      <td>also</td>\n",
       "      <td>64</td>\n",
       "      <td>34</td>\n",
       "      <td>-4.380854</td>\n",
       "      <td>-4.508271</td>\n",
       "    </tr>\n",
       "    <tr>\n",
       "      <td>...</td>\n",
       "      <td>...</td>\n",
       "      <td>...</td>\n",
       "      <td>...</td>\n",
       "      <td>...</td>\n",
       "    </tr>\n",
       "    <tr>\n",
       "      <td>will</td>\n",
       "      <td>78</td>\n",
       "      <td>48</td>\n",
       "      <td>-4.183028</td>\n",
       "      <td>-4.163430</td>\n",
       "    </tr>\n",
       "    <tr>\n",
       "      <td>with</td>\n",
       "      <td>507</td>\n",
       "      <td>274</td>\n",
       "      <td>-2.311226</td>\n",
       "      <td>-2.421503</td>\n",
       "    </tr>\n",
       "    <tr>\n",
       "      <td>work</td>\n",
       "      <td>77</td>\n",
       "      <td>37</td>\n",
       "      <td>-4.195932</td>\n",
       "      <td>-4.423713</td>\n",
       "    </tr>\n",
       "    <tr>\n",
       "      <td>would</td>\n",
       "      <td>49</td>\n",
       "      <td>41</td>\n",
       "      <td>-4.647917</td>\n",
       "      <td>-4.321059</td>\n",
       "    </tr>\n",
       "    <tr>\n",
       "      <td>you</td>\n",
       "      <td>222</td>\n",
       "      <td>129</td>\n",
       "      <td>-3.137060</td>\n",
       "      <td>-3.174819</td>\n",
       "    </tr>\n",
       "  </tbody>\n",
       "</table>\n",
       "<p>121 rows × 4 columns</p>\n",
       "</div>"
      ],
      "text/plain": [
       "fresh   fresh  rotten  log Pr(w|F)  log Pr(w|R)\n",
       "about     215     110    -3.169099    -3.334151\n",
       "action     86      51    -4.085390    -4.102805\n",
       "all       229     120    -3.106015    -3.247139\n",
       "almost     43      34    -4.778537    -4.508271\n",
       "also       64      34    -4.380854    -4.508271\n",
       "...       ...     ...          ...          ...\n",
       "will       78      48    -4.183028    -4.163430\n",
       "with      507     274    -2.311226    -2.421503\n",
       "work       77      37    -4.195932    -4.423713\n",
       "would      49      41    -4.647917    -4.321059\n",
       "you       222     129    -3.137060    -3.174819\n",
       "\n",
       "[121 rows x 4 columns]"
      ]
     },
     "execution_count": 40,
     "metadata": {},
     "output_type": "execute_result"
    }
   ],
   "source": [
    "words_freq_rotten"
   ]
  },
  {
   "cell_type": "markdown",
   "metadata": {},
   "source": [
    "3-1-2 Count word frequency in the whole dataset"
   ]
  },
  {
   "cell_type": "code",
   "execution_count": 41,
   "metadata": {},
   "outputs": [],
   "source": [
    "frequency = X_train.sum(axis=0)\n",
    "freq_index = np.where(frequency>30)[0]\n",
    "freq_words = np.array(words)[freq_index]\n",
    "freq_lwf = lwf.iloc[0,freq_index]\n",
    "freq_lwr = lwr.iloc[0,freq_index]\n",
    "freq = pd.DataFrame({'logPr(w|F)': freq_lwf,\n",
    "                    'logPr(w|R)': freq_lwr})"
   ]
  },
  {
   "cell_type": "code",
   "execution_count": 42,
   "metadata": {
    "scrolled": false
   },
   "outputs": [
    {
     "data": {
      "text/html": [
       "<div>\n",
       "<style scoped>\n",
       "    .dataframe tbody tr th:only-of-type {\n",
       "        vertical-align: middle;\n",
       "    }\n",
       "\n",
       "    .dataframe tbody tr th {\n",
       "        vertical-align: top;\n",
       "    }\n",
       "\n",
       "    .dataframe thead th {\n",
       "        text-align: right;\n",
       "    }\n",
       "</style>\n",
       "<table border=\"1\" class=\"dataframe\">\n",
       "  <thead>\n",
       "    <tr style=\"text-align: right;\">\n",
       "      <th></th>\n",
       "      <th>logPr(w|F)</th>\n",
       "      <th>logPr(w|R)</th>\n",
       "    </tr>\n",
       "  </thead>\n",
       "  <tbody>\n",
       "    <tr>\n",
       "      <td>about</td>\n",
       "      <td>-3.169099</td>\n",
       "      <td>-3.334151</td>\n",
       "    </tr>\n",
       "    <tr>\n",
       "      <td>above</td>\n",
       "      <td>-6.141842</td>\n",
       "      <td>-6.088721</td>\n",
       "    </tr>\n",
       "    <tr>\n",
       "      <td>across</td>\n",
       "      <td>-6.141842</td>\n",
       "      <td>-6.425193</td>\n",
       "    </tr>\n",
       "    <tr>\n",
       "      <td>act</td>\n",
       "      <td>-5.831687</td>\n",
       "      <td>-8.034631</td>\n",
       "    </tr>\n",
       "    <tr>\n",
       "      <td>acted</td>\n",
       "      <td>-5.320861</td>\n",
       "      <td>-6.088721</td>\n",
       "    </tr>\n",
       "    <tr>\n",
       "      <td>...</td>\n",
       "      <td>...</td>\n",
       "      <td>...</td>\n",
       "    </tr>\n",
       "    <tr>\n",
       "      <td>yelling</td>\n",
       "      <td>0.000000</td>\n",
       "      <td>0.000000</td>\n",
       "    </tr>\n",
       "    <tr>\n",
       "      <td>yglesias</td>\n",
       "      <td>0.000000</td>\n",
       "      <td>0.000000</td>\n",
       "    </tr>\n",
       "    <tr>\n",
       "      <td>young</td>\n",
       "      <td>-5.074001</td>\n",
       "      <td>-5.732046</td>\n",
       "    </tr>\n",
       "    <tr>\n",
       "      <td>younger</td>\n",
       "      <td>-6.930299</td>\n",
       "      <td>0.000000</td>\n",
       "    </tr>\n",
       "    <tr>\n",
       "      <td>yours</td>\n",
       "      <td>0.000000</td>\n",
       "      <td>0.000000</td>\n",
       "    </tr>\n",
       "  </tbody>\n",
       "</table>\n",
       "<p>754 rows × 2 columns</p>\n",
       "</div>"
      ],
      "text/plain": [
       "          logPr(w|F)  logPr(w|R)\n",
       "about      -3.169099   -3.334151\n",
       "above      -6.141842   -6.088721\n",
       "across     -6.141842   -6.425193\n",
       "act        -5.831687   -8.034631\n",
       "acted      -5.320861   -6.088721\n",
       "...              ...         ...\n",
       "yelling     0.000000    0.000000\n",
       "yglesias    0.000000    0.000000\n",
       "young      -5.074001   -5.732046\n",
       "younger    -6.930299    0.000000\n",
       "yours       0.000000    0.000000\n",
       "\n",
       "[754 rows x 2 columns]"
      ]
     },
     "execution_count": 42,
     "metadata": {},
     "output_type": "execute_result"
    }
   ],
   "source": [
    "freq"
   ]
  },
  {
   "cell_type": "markdown",
   "metadata": {},
   "source": [
    "#### 3-2 10 best words to predict F/R"
   ]
  },
  {
   "cell_type": "code",
   "execution_count": 48,
   "metadata": {},
   "outputs": [],
   "source": [
    "fresh_w = dict()\n",
    "rotten_w = dict()"
   ]
  },
  {
   "cell_type": "code",
   "execution_count": 49,
   "metadata": {},
   "outputs": [],
   "source": [
    "# create a dictionary linking weights and words for two classes\n",
    "for i in range(len(freq_index)):\n",
    "    weight = np.abs(freq_lwf[i]-freq_lwr[i])\n",
    "    if freq_lwf[i] > freq_lwr[i]:\n",
    "        fresh_w[weight] = freq_words[i]\n",
    "    else:\n",
    "        rotten_w[weight] = freq_words[i]"
   ]
  },
  {
   "cell_type": "code",
   "execution_count": 50,
   "metadata": {},
   "outputs": [],
   "source": [
    "fresh_best10 = [fresh_w[weight] for weight in sorted(fresh_w.keys(), reverse=True)[0:10]]\n",
    "rotten_best10 = [rotten_w[weight] for weight in sorted(rotten_w.keys(), reverse=True)[0:10]]"
   ]
  },
  {
   "cell_type": "code",
   "execution_count": 51,
   "metadata": {},
   "outputs": [
    {
     "data": {
      "text/plain": [
       "['wrong',\n",
       " 'strong',\n",
       " 'some',\n",
       " 'taste',\n",
       " 'act',\n",
       " 'camera',\n",
       " 'think',\n",
       " 'turn',\n",
       " 'cut',\n",
       " 'need']"
      ]
     },
     "execution_count": 51,
     "metadata": {},
     "output_type": "execute_result"
    }
   ],
   "source": [
    "fresh_best10"
   ]
  },
  {
   "cell_type": "code",
   "execution_count": 47,
   "metadata": {
    "scrolled": true
   },
   "outputs": [
    {
     "data": {
      "text/plain": [
       "['year',\n",
       " 'way',\n",
       " 'wit',\n",
       " 'truly',\n",
       " 'young',\n",
       " 'what',\n",
       " 'would',\n",
       " 'wonderful',\n",
       " 'lot',\n",
       " 'great']"
      ]
     },
     "execution_count": 47,
     "metadata": {},
     "output_type": "execute_result"
    }
   ],
   "source": [
    "rotten_best10"
   ]
  },
  {
   "cell_type": "markdown",
   "metadata": {},
   "source": [
    "'wrong' is the word that gives highest weight to fresh, and 'year' is the word that gives highest weight to rotten. \n",
    "\n",
    "However, there are some words that seem to be positive(negative) but has a high weight to predict rotten(fresh). For example, \"worse\" in fresh top 10, and \"truly\" in rotten top 10."
   ]
  },
  {
   "cell_type": "markdown",
   "metadata": {},
   "source": [
    "#### 3-3 Misclassified quotes"
   ]
  },
  {
   "cell_type": "code",
   "execution_count": 52,
   "metadata": {},
   "outputs": [],
   "source": [
    "misindex = val2[val2['real']!=val2['pred']].index\n",
    "quoteindex = Y_val.iloc[misindex].index"
   ]
  },
  {
   "cell_type": "code",
   "execution_count": 53,
   "metadata": {},
   "outputs": [],
   "source": [
    "quote = tomatoes.quote[quoteindex]"
   ]
  },
  {
   "cell_type": "code",
   "execution_count": 54,
   "metadata": {},
   "outputs": [],
   "source": [
    "quotes10 = pd.DataFrame({'quote':quote,'fresh':Y_val.iloc[misindex]})"
   ]
  },
  {
   "cell_type": "code",
   "execution_count": 352,
   "metadata": {},
   "outputs": [
    {
     "data": {
      "text/html": [
       "<div>\n",
       "<style scoped>\n",
       "    .dataframe tbody tr th:only-of-type {\n",
       "        vertical-align: middle;\n",
       "    }\n",
       "\n",
       "    .dataframe tbody tr th {\n",
       "        vertical-align: top;\n",
       "    }\n",
       "\n",
       "    .dataframe thead th {\n",
       "        text-align: right;\n",
       "    }\n",
       "</style>\n",
       "<table border=\"1\" class=\"dataframe\">\n",
       "  <thead>\n",
       "    <tr style=\"text-align: right;\">\n",
       "      <th></th>\n",
       "      <th>quote</th>\n",
       "      <th>fresh</th>\n",
       "    </tr>\n",
       "  </thead>\n",
       "  <tbody>\n",
       "    <tr>\n",
       "      <td>7710</td>\n",
       "      <td>Refusing to condescend to us with the usual cutesy anthropomorphic qualities often foisted on animated animals, Asbury and Cook keep matters realistic.</td>\n",
       "      <td>fresh</td>\n",
       "    </tr>\n",
       "    <tr>\n",
       "      <td>12998</td>\n",
       "      <td>The film works a bit better than the 2004 Punisher installment, the one starring surly, dislikable Thomas Jane as Frank Castle.</td>\n",
       "      <td>rotten</td>\n",
       "    </tr>\n",
       "    <tr>\n",
       "      <td>12845</td>\n",
       "      <td>Flawless is a fictional tale, but something in director Michael Radford's conscientious, methodical presentation gives it the feeling of true history. Watching it is like watching a historical dramatization of something that never really happened.</td>\n",
       "      <td>fresh</td>\n",
       "    </tr>\n",
       "    <tr>\n",
       "      <td>383</td>\n",
       "      <td>Will Ferrell has become the most unlikely embodiment of wholesome family fun since Fred MacMurray gave up film noir for My Three Sons.</td>\n",
       "      <td>fresh</td>\n",
       "    </tr>\n",
       "    <tr>\n",
       "      <td>12786</td>\n",
       "      <td>An impressive first feature by writer/director Courtney Hunt, Frozen River boasts considerable suspense-movie tension and a compelling emotional journey for its foreground characters.</td>\n",
       "      <td>fresh</td>\n",
       "    </tr>\n",
       "    <tr>\n",
       "      <td>6020</td>\n",
       "      <td>The complications of its story are found in the deep complexities of emotions and family relationships.</td>\n",
       "      <td>fresh</td>\n",
       "    </tr>\n",
       "    <tr>\n",
       "      <td>1681</td>\n",
       "      <td>The Lion King, complete with jaunty songs by Elton John and Tim Rice, is undeniably and fully worthy of its glorious Disney heritage. It is a gorgeous triumph -- one lion in which the studio can take justified pride.</td>\n",
       "      <td>fresh</td>\n",
       "    </tr>\n",
       "    <tr>\n",
       "      <td>8338</td>\n",
       "      <td>The Night Porter is as nasty as it is lubricious, a despicable attempt to titillate us by exploiting memories of persecution and suffering.</td>\n",
       "      <td>rotten</td>\n",
       "    </tr>\n",
       "    <tr>\n",
       "      <td>7571</td>\n",
       "      <td>Dream for an Insomniac is really a self-conscious modern sitcom that with its San Francisco setting suggests a pale shadow of Armistead Maupin's Tales From the City.</td>\n",
       "      <td>rotten</td>\n",
       "    </tr>\n",
       "    <tr>\n",
       "      <td>12770</td>\n",
       "      <td>The Fisher King has two actors at the top of their form, and a compelling, well-directed and well-produced story.</td>\n",
       "      <td>fresh</td>\n",
       "    </tr>\n",
       "  </tbody>\n",
       "</table>\n",
       "</div>"
      ],
      "text/plain": [
       "                                                                                                                                                                                                                                                         quote  \\\n",
       "7710                                                                                                   Refusing to condescend to us with the usual cutesy anthropomorphic qualities often foisted on animated animals, Asbury and Cook keep matters realistic.   \n",
       "12998                                                                                                                          The film works a bit better than the 2004 Punisher installment, the one starring surly, dislikable Thomas Jane as Frank Castle.   \n",
       "12845  Flawless is a fictional tale, but something in director Michael Radford's conscientious, methodical presentation gives it the feeling of true history. Watching it is like watching a historical dramatization of something that never really happened.   \n",
       "383                                                                                                                     Will Ferrell has become the most unlikely embodiment of wholesome family fun since Fred MacMurray gave up film noir for My Three Sons.   \n",
       "12786                                                                  An impressive first feature by writer/director Courtney Hunt, Frozen River boasts considerable suspense-movie tension and a compelling emotional journey for its foreground characters.   \n",
       "6020                                                                                                                                                   The complications of its story are found in the deep complexities of emotions and family relationships.   \n",
       "1681                                  The Lion King, complete with jaunty songs by Elton John and Tim Rice, is undeniably and fully worthy of its glorious Disney heritage. It is a gorgeous triumph -- one lion in which the studio can take justified pride.   \n",
       "8338                                                                                                               The Night Porter is as nasty as it is lubricious, a despicable attempt to titillate us by exploiting memories of persecution and suffering.   \n",
       "7571                                                                                     Dream for an Insomniac is really a self-conscious modern sitcom that with its San Francisco setting suggests a pale shadow of Armistead Maupin's Tales From the City.   \n",
       "12770                                                                                                                                        The Fisher King has two actors at the top of their form, and a compelling, well-directed and well-produced story.   \n",
       "\n",
       "        fresh  \n",
       "7710    fresh  \n",
       "12998  rotten  \n",
       "12845   fresh  \n",
       "383     fresh  \n",
       "12786   fresh  \n",
       "6020    fresh  \n",
       "1681    fresh  \n",
       "8338   rotten  \n",
       "7571   rotten  \n",
       "12770   fresh  "
      ]
     },
     "execution_count": 352,
     "metadata": {},
     "output_type": "execute_result"
    }
   ],
   "source": [
    "pd.options.display.max_colwidth = 1000\n",
    "quotes10.sample(10)"
   ]
  },
  {
   "cell_type": "markdown",
   "metadata": {},
   "source": [
    "Some possible reasons for misclassification:\n",
    "\n",
    "(1) Use \"double negative\" to express positive comments, such as \"refuse to condescend\". \n",
    "\n",
    "(2) Use positive words to demonstrate an ironic criticism, such as \"better than ... dislikable\"\n",
    "\n",
    "When words were split and considered independent, these expressions couldn't be interpreted based on context and can easy lead to misclassification."
   ]
  },
  {
   "cell_type": "markdown",
   "metadata": {},
   "source": [
    "### 4 NB with Smoothing"
   ]
  },
  {
   "cell_type": "markdown",
   "metadata": {},
   "source": [
    "#### 4-1 & 4-2 Create two functions + smoothing"
   ]
  },
  {
   "cell_type": "markdown",
   "metadata": {},
   "source": [
    "1 Fitting and add smoothing"
   ]
  },
  {
   "cell_type": "code",
   "execution_count": 55,
   "metadata": {},
   "outputs": [],
   "source": [
    "def nbfitting(X_tr,Y_tr,a):\n",
    "    prob = Y_tr.value_counts(1)\n",
    "    lf=np.log(prob[0])\n",
    "    lr=np.log(prob[1])\n",
    "    \n",
    "    bow_train = pd.DataFrame(data = X_tr, columns = words)\n",
    "    bow_train['fresh'] = Y_tr\n",
    "    words_sum = bow_train.groupby('fresh').sum()\n",
    "\n",
    "    lwf = (words_sum[words_sum.index=='fresh']+a)/(Y_tr.value_counts()['fresh']+2*a)\n",
    "    lwf = np.log(lwf)\n",
    "    \n",
    "    lwr = (words_sum[words_sum.index=='rotten']+a)/(Y_tr.value_counts()['rotten']+2*a)\n",
    "    lwr = np.log(lwr)\n",
    "    \n",
    "    return lf, lr, lwf, lwr"
   ]
  },
  {
   "cell_type": "markdown",
   "metadata": {},
   "source": [
    "2 Predicting"
   ]
  },
  {
   "cell_type": "code",
   "execution_count": 56,
   "metadata": {},
   "outputs": [],
   "source": [
    "def nbpred(X_val,Y_val):\n",
    "    fresh=np.apply_along_axis(loglikelihood_fresh,1,X_val)\n",
    "    rotten=np.apply_along_axis(loglikelihood_rotten,1,X_val)\n",
    "    pred = []\n",
    "    for i in range(len(fresh)):\n",
    "        if fresh[i] > rotten[i]:\n",
    "            pred.append('fresh')\n",
    "        else:\n",
    "            pred.append('rotten')\n",
    "            \n",
    "    Y_array = np.array(Y_val)\n",
    "    table = pd.DataFrame({'pred': pred,\n",
    "                          'real': Y_array})\n",
    "\n",
    "    score = accuracy_score(table.real, table.pred)\n",
    "    return score"
   ]
  },
  {
   "cell_type": "markdown",
   "metadata": {},
   "source": [
    "#### 4-3 Cross Validation"
   ]
  },
  {
   "cell_type": "code",
   "execution_count": 63,
   "metadata": {},
   "outputs": [],
   "source": [
    "def find_optimal_a(X,Y,aList):\n",
    "   \n",
    "    # empty list that will hold cv scores\n",
    "    cv_scores = []\n",
    "\n",
    "    # split the train data set into cross validation train and cross validation test\n",
    "    X_tr, X_cv, y_tr, y_cv = train_test_split(X, Y, test_size=0.3)\n",
    "\n",
    "    for i in aList:\n",
    "        # predict the response on the crossvalidation train\n",
    "        nbfit = nbfitting(X_tr,Y_tr,i)\n",
    "        lf = nbfit[0]\n",
    "        lr = nbfit[1]\n",
    "        lwf = nbfit[2]\n",
    "        lwr = nbfit[3]\n",
    "        pred = nbpred(X_cv, y_cv)\n",
    "\n",
    "        # evaluate CV accuracy\n",
    "        cv_scores.append(pred)\n",
    "        \n",
    "    # changing to misclassification error\n",
    "    MSE = [1 - x for x in cv_scores]\n",
    "\n",
    "    # determining best alpha\n",
    "    \n",
    "    print(\"the misclassification error for each alpha value is : \", np.round(MSE,3))\n",
    "    \n",
    "    optimal_alpha = aList[MSE.index(min(MSE))]\n",
    "    print('\\nThe optimal alpha is ', optimal_alpha)\n"
   ]
  },
  {
   "cell_type": "code",
   "execution_count": 58,
   "metadata": {},
   "outputs": [],
   "source": [
    "aList = np.array([0.01,0.05,0.001,0.005])"
   ]
  },
  {
   "cell_type": "code",
   "execution_count": 64,
   "metadata": {},
   "outputs": [
    {
     "name": "stdout",
     "output_type": "stream",
     "text": [
      "the misclassification error for each alpha value is :  [0.545 0.545 0.545 0.545]\n",
      "\n",
      "The optimal alpha is  0.01\n"
     ]
    }
   ],
   "source": [
    "find_optimal_a(X_train,Y_train,aList)"
   ]
  }
 ],
 "metadata": {
  "colab": {
   "name": "YANG_XINYI_naive bayes.ipynb",
   "provenance": []
  },
  "kernelspec": {
   "display_name": "Python 3",
   "language": "python",
   "name": "python3"
  },
  "language_info": {
   "codemirror_mode": {
    "name": "ipython",
    "version": 3
   },
   "file_extension": ".py",
   "mimetype": "text/x-python",
   "name": "python",
   "nbconvert_exporter": "python",
   "pygments_lexer": "ipython3",
   "version": "3.7.6"
  },
  "toc": {
   "base_numbering": 1,
   "nav_menu": {},
   "number_sections": true,
   "sideBar": true,
   "skip_h1_title": false,
   "title_cell": "Table of Contents",
   "title_sidebar": "Contents",
   "toc_cell": false,
   "toc_position": {},
   "toc_section_display": true,
   "toc_window_display": false
  }
 },
 "nbformat": 4,
 "nbformat_minor": 1
}
