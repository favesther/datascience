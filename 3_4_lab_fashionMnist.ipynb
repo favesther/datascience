{
 "cells": [
  {
   "cell_type": "code",
   "execution_count": 11,
   "metadata": {},
   "outputs": [],
   "source": [
    "import mnist_reader\n",
    "\n",
    "import numpy as np\n",
    "import pandas as pd\n",
    "from sklearn.cluster import MiniBatchKMeans\n",
    "from sklearn.metrics.pairwise import cosine_similarity\n",
    "from sklearn.decomposition import PCA\n",
    "\n",
    "from scipy.cluster import hierarchy\n",
    "\n",
    "import matplotlib.pyplot as plt\n",
    "%matplotlib inline\n",
    "import platform"
   ]
  },
  {
   "cell_type": "code",
   "execution_count": 12,
   "metadata": {},
   "outputs": [
    {
     "data": {
      "text/plain": [
       "('64bit', 'WindowsPE')"
      ]
     },
     "execution_count": 12,
     "metadata": {},
     "output_type": "execute_result"
    }
   ],
   "source": [
    "platform.architecture()"
   ]
  },
  {
   "cell_type": "code",
   "execution_count": 13,
   "metadata": {},
   "outputs": [],
   "source": [
    "X_train, y_train = mnist_reader.load_mnist('fashion-mnist-master/data/fashion', kind='train')\n",
    "X_test, y_test = mnist_reader.load_mnist('fashion-mnist-master/data/fashion', kind='t10k')"
   ]
  },
  {
   "cell_type": "code",
   "execution_count": 14,
   "metadata": {},
   "outputs": [
    {
     "data": {
      "text/plain": [
       "(60000, 784)"
      ]
     },
     "execution_count": 14,
     "metadata": {},
     "output_type": "execute_result"
    }
   ],
   "source": [
    "X_train.shape"
   ]
  },
  {
   "cell_type": "code",
   "execution_count": 15,
   "metadata": {},
   "outputs": [],
   "source": [
    "labelsDict = {0:'T-shirt/top',1:'Trouser',2:'Pullover',3:'Dress',4:'Coat',5:'Sandal',6:'Shirt',7:'Sneaker',8:'Bag',9:'Ankle boot'}"
   ]
  },
  {
   "cell_type": "code",
   "execution_count": 16,
   "metadata": {},
   "outputs": [
    {
     "data": {
      "text/plain": [
       "'Ankle boot'"
      ]
     },
     "execution_count": 16,
     "metadata": {},
     "output_type": "execute_result"
    }
   ],
   "source": [
    "labelsDict[y_train[0]]"
   ]
  },
  {
   "cell_type": "markdown",
   "metadata": {},
   "source": [
    "# image as data"
   ]
  },
  {
   "cell_type": "code",
   "execution_count": 17,
   "metadata": {},
   "outputs": [
    {
     "name": "stdout",
     "output_type": "stream",
     "text": [
      "Dress\n"
     ]
    },
    {
     "data": {
      "text/plain": [
       "<matplotlib.image.AxesImage at 0x26fa1ef6248>"
      ]
     },
     "execution_count": 17,
     "metadata": {},
     "output_type": "execute_result"
    },
    {
     "data": {
      "image/png": "[encoded data removed]",
      "text/plain": [
       "<Figure size 432x288 with 1 Axes>"
      ]
     },
     "metadata": {
      "needs_background": "light"
     },
     "output_type": "display_data"
    }
   ],
   "source": [
    "ind=500\n",
    "print (labelsDict[y_train[ind]])\n",
    "plt.imshow(np.reshape(X_train[ind],(28,28)),cmap=plt.get_cmap('Blues'))"
   ]
  },
  {
   "cell_type": "code",
   "execution_count": 18,
   "metadata": {},
   "outputs": [
    {
     "name": "stdout",
     "output_type": "stream",
     "text": [
      "Trouser\n"
     ]
    },
    {
     "data": {
      "text/plain": [
       "<matplotlib.image.AxesImage at 0x26fa1f50f48>"
      ]
     },
     "execution_count": 18,
     "metadata": {},
     "output_type": "execute_result"
    },
    {
     "data": {
      "image/png": "[encoded data removed]",
      "text/plain": [
       "<Figure size 432x288 with 1 Axes>"
      ]
     },
     "metadata": {
      "needs_background": "light"
     },
     "output_type": "display_data"
    }
   ],
   "source": [
    "ind=1000\n",
    "print (labelsDict[y_train[ind]])\n",
    "plt.imshow(np.reshape(X_train[ind],(28,28)),cmap=plt.get_cmap('PuRd'))"
   ]
  },
  {
   "cell_type": "code",
   "execution_count": 19,
   "metadata": {},
   "outputs": [
    {
     "data": {
      "text/plain": [
       "(784,)"
      ]
     },
     "execution_count": 19,
     "metadata": {},
     "output_type": "execute_result"
    }
   ],
   "source": [
    "X_train[ind].shape"
   ]
  },
  {
   "cell_type": "code",
   "execution_count": 20,
   "metadata": {},
   "outputs": [],
   "source": [
    "#randomly selet a value of the range input\n",
    "np.random.seed(11)\n",
    "inds=np.random.choice(np.arange(0,60000), size=30000, replace = False)"
   ]
  },
  {
   "cell_type": "code",
   "execution_count": 21,
   "metadata": {},
   "outputs": [
    {
     "data": {
      "text/plain": [
       "array([17110, 52027, 54904, ..., 15986, 55367, 26430])"
      ]
     },
     "execution_count": 21,
     "metadata": {},
     "output_type": "execute_result"
    }
   ],
   "source": [
    "inds"
   ]
  },
  {
   "cell_type": "code",
   "execution_count": 22,
   "metadata": {},
   "outputs": [],
   "source": [
    "X_small=X_train[inds,:]\n",
    "y_small=y_train[inds]"
   ]
  },
  {
   "cell_type": "code",
   "execution_count": 23,
   "metadata": {},
   "outputs": [],
   "source": [
    "#fit KMeans Model\n",
    "kmeanModel=MiniBatchKMeans(n_clusters=7, random_state=11).fit(X_train)"
   ]
  },
  {
   "cell_type": "code",
   "execution_count": 24,
   "metadata": {},
   "outputs": [
    {
     "data": {
      "text/plain": [
       "60000"
      ]
     },
     "execution_count": 24,
     "metadata": {},
     "output_type": "execute_result"
    }
   ],
   "source": [
    "clusterLabels = kmeanModel.labels_\n",
    "len(clusterLabels)"
   ]
  },
  {
   "cell_type": "code",
   "execution_count": 25,
   "metadata": {},
   "outputs": [
    {
     "data": {
      "text/plain": [
       "array([0, 1, 2, 3, 4, 5, 6])"
      ]
     },
     "execution_count": 25,
     "metadata": {},
     "output_type": "execute_result"
    }
   ],
   "source": [
    "np.unique(clusterLabels)"
   ]
  },
  {
   "cell_type": "code",
   "execution_count": 26,
   "metadata": {},
   "outputs": [],
   "source": [
    "clusterDf=pd.DataFrame({'labelCodes':y_train,'clusters':clusterLabels})"
   ]
  },
  {
   "cell_type": "code",
   "execution_count": 27,
   "metadata": {},
   "outputs": [
    {
     "data": {
      "text/html": [
       "<div>\n",
       "<style scoped>\n",
       "    .dataframe tbody tr th:only-of-type {\n",
       "        vertical-align: middle;\n",
       "    }\n",
       "\n",
       "    .dataframe tbody tr th {\n",
       "        vertical-align: top;\n",
       "    }\n",
       "\n",
       "    .dataframe thead th {\n",
       "        text-align: right;\n",
       "    }\n",
       "</style>\n",
       "<table border=\"1\" class=\"dataframe\">\n",
       "  <thead>\n",
       "    <tr style=\"text-align: right;\">\n",
       "      <th></th>\n",
       "      <th>labelCodes</th>\n",
       "      <th>clusters</th>\n",
       "    </tr>\n",
       "  </thead>\n",
       "  <tbody>\n",
       "    <tr>\n",
       "      <th>0</th>\n",
       "      <td>9</td>\n",
       "      <td>4</td>\n",
       "    </tr>\n",
       "    <tr>\n",
       "      <th>1</th>\n",
       "      <td>0</td>\n",
       "      <td>3</td>\n",
       "    </tr>\n",
       "    <tr>\n",
       "      <th>2</th>\n",
       "      <td>0</td>\n",
       "      <td>2</td>\n",
       "    </tr>\n",
       "    <tr>\n",
       "      <th>3</th>\n",
       "      <td>3</td>\n",
       "      <td>2</td>\n",
       "    </tr>\n",
       "    <tr>\n",
       "      <th>4</th>\n",
       "      <td>0</td>\n",
       "      <td>5</td>\n",
       "    </tr>\n",
       "    <tr>\n",
       "      <th>...</th>\n",
       "      <td>...</td>\n",
       "      <td>...</td>\n",
       "    </tr>\n",
       "    <tr>\n",
       "      <th>59995</th>\n",
       "      <td>5</td>\n",
       "      <td>1</td>\n",
       "    </tr>\n",
       "    <tr>\n",
       "      <th>59996</th>\n",
       "      <td>1</td>\n",
       "      <td>5</td>\n",
       "    </tr>\n",
       "    <tr>\n",
       "      <th>59997</th>\n",
       "      <td>3</td>\n",
       "      <td>3</td>\n",
       "    </tr>\n",
       "    <tr>\n",
       "      <th>59998</th>\n",
       "      <td>0</td>\n",
       "      <td>2</td>\n",
       "    </tr>\n",
       "    <tr>\n",
       "      <th>59999</th>\n",
       "      <td>5</td>\n",
       "      <td>1</td>\n",
       "    </tr>\n",
       "  </tbody>\n",
       "</table>\n",
       "<p>60000 rows × 2 columns</p>\n",
       "</div>"
      ],
      "text/plain": [
       "       labelCodes  clusters\n",
       "0               9         4\n",
       "1               0         3\n",
       "2               0         2\n",
       "3               3         2\n",
       "4               0         5\n",
       "...           ...       ...\n",
       "59995           5         1\n",
       "59996           1         5\n",
       "59997           3         3\n",
       "59998           0         2\n",
       "59999           5         1\n",
       "\n",
       "[60000 rows x 2 columns]"
      ]
     },
     "execution_count": 27,
     "metadata": {},
     "output_type": "execute_result"
    }
   ],
   "source": [
    "clusterDf"
   ]
  },
  {
   "cell_type": "code",
   "execution_count": 28,
   "metadata": {},
   "outputs": [
    {
     "data": {
      "text/html": [
       "<div>\n",
       "<style scoped>\n",
       "    .dataframe tbody tr th:only-of-type {\n",
       "        vertical-align: middle;\n",
       "    }\n",
       "\n",
       "    .dataframe tbody tr th {\n",
       "        vertical-align: top;\n",
       "    }\n",
       "\n",
       "    .dataframe thead th {\n",
       "        text-align: right;\n",
       "    }\n",
       "</style>\n",
       "<table border=\"1\" class=\"dataframe\">\n",
       "  <thead>\n",
       "    <tr style=\"text-align: right;\">\n",
       "      <th></th>\n",
       "      <th>labelCodes</th>\n",
       "      <th>clusters</th>\n",
       "      <th>labels</th>\n",
       "    </tr>\n",
       "  </thead>\n",
       "  <tbody>\n",
       "    <tr>\n",
       "      <th>0</th>\n",
       "      <td>9</td>\n",
       "      <td>4</td>\n",
       "      <td>Ankle boot</td>\n",
       "    </tr>\n",
       "    <tr>\n",
       "      <th>1</th>\n",
       "      <td>0</td>\n",
       "      <td>3</td>\n",
       "      <td>T-shirt/top</td>\n",
       "    </tr>\n",
       "    <tr>\n",
       "      <th>2</th>\n",
       "      <td>0</td>\n",
       "      <td>2</td>\n",
       "      <td>T-shirt/top</td>\n",
       "    </tr>\n",
       "    <tr>\n",
       "      <th>3</th>\n",
       "      <td>3</td>\n",
       "      <td>2</td>\n",
       "      <td>Dress</td>\n",
       "    </tr>\n",
       "    <tr>\n",
       "      <th>4</th>\n",
       "      <td>0</td>\n",
       "      <td>5</td>\n",
       "      <td>T-shirt/top</td>\n",
       "    </tr>\n",
       "    <tr>\n",
       "      <th>...</th>\n",
       "      <td>...</td>\n",
       "      <td>...</td>\n",
       "      <td>...</td>\n",
       "    </tr>\n",
       "    <tr>\n",
       "      <th>59995</th>\n",
       "      <td>5</td>\n",
       "      <td>1</td>\n",
       "      <td>Sandal</td>\n",
       "    </tr>\n",
       "    <tr>\n",
       "      <th>59996</th>\n",
       "      <td>1</td>\n",
       "      <td>5</td>\n",
       "      <td>Trouser</td>\n",
       "    </tr>\n",
       "    <tr>\n",
       "      <th>59997</th>\n",
       "      <td>3</td>\n",
       "      <td>3</td>\n",
       "      <td>Dress</td>\n",
       "    </tr>\n",
       "    <tr>\n",
       "      <th>59998</th>\n",
       "      <td>0</td>\n",
       "      <td>2</td>\n",
       "      <td>T-shirt/top</td>\n",
       "    </tr>\n",
       "    <tr>\n",
       "      <th>59999</th>\n",
       "      <td>5</td>\n",
       "      <td>1</td>\n",
       "      <td>Sandal</td>\n",
       "    </tr>\n",
       "  </tbody>\n",
       "</table>\n",
       "<p>60000 rows × 3 columns</p>\n",
       "</div>"
      ],
      "text/plain": [
       "       labelCodes  clusters       labels\n",
       "0               9         4   Ankle boot\n",
       "1               0         3  T-shirt/top\n",
       "2               0         2  T-shirt/top\n",
       "3               3         2        Dress\n",
       "4               0         5  T-shirt/top\n",
       "...           ...       ...          ...\n",
       "59995           5         1       Sandal\n",
       "59996           1         5      Trouser\n",
       "59997           3         3        Dress\n",
       "59998           0         2  T-shirt/top\n",
       "59999           5         1       Sandal\n",
       "\n",
       "[60000 rows x 3 columns]"
      ]
     },
     "execution_count": 28,
     "metadata": {},
     "output_type": "execute_result"
    }
   ],
   "source": [
    "clusterDf['labels']=clusterDf.labelCodes.map(labelsDict)\n",
    "clusterDf"
   ]
  },
  {
   "cell_type": "code",
   "execution_count": 29,
   "metadata": {},
   "outputs": [
    {
     "data": {
      "text/plain": [
       "0    11916\n",
       "2    11404\n",
       "1    10060\n",
       "5     8998\n",
       "3     8132\n",
       "6     6200\n",
       "4     3290\n",
       "Name: clusters, dtype: int64"
      ]
     },
     "execution_count": 29,
     "metadata": {},
     "output_type": "execute_result"
    }
   ],
   "source": [
    "clusterDf.clusters.value_counts()"
   ]
  },
  {
   "cell_type": "code",
   "execution_count": 30,
   "metadata": {},
   "outputs": [
    {
     "data": {
      "text/plain": [
       "Dress          6000\n",
       "Sneaker        6000\n",
       "Sandal         6000\n",
       "Bag            6000\n",
       "Shirt          6000\n",
       "Pullover       6000\n",
       "T-shirt/top    6000\n",
       "Trouser        6000\n",
       "Ankle boot     6000\n",
       "Coat           6000\n",
       "Name: labels, dtype: int64"
      ]
     },
     "execution_count": 30,
     "metadata": {},
     "output_type": "execute_result"
    }
   ],
   "source": [
    "clusterDf.labels.value_counts()"
   ]
  },
  {
   "cell_type": "code",
   "execution_count": 31,
   "metadata": {
    "scrolled": false
   },
   "outputs": [
    {
     "data": {
      "text/plain": [
       "clusters  labels     \n",
       "0         Pullover       3908\n",
       "          Coat           3879\n",
       "          Shirt          2258\n",
       "          Bag            1514\n",
       "          T-shirt/top     220\n",
       "          Trouser          75\n",
       "          Dress            57\n",
       "          Ankle boot        4\n",
       "          Sandal            1\n",
       "1         Sneaker        5267\n",
       "          Sandal         4134\n",
       "          Bag             320\n",
       "          Ankle boot      315\n",
       "          Shirt            12\n",
       "          T-shirt/top       8\n",
       "          Pullover          3\n",
       "          Coat              1\n",
       "2         Shirt          2417\n",
       "          Pullover       1912\n",
       "          T-shirt/top    1817\n",
       "          Bag            1589\n",
       "          Sandal         1174\n",
       "          Dress          1084\n",
       "          Coat            996\n",
       "          Trouser         274\n",
       "          Ankle boot      137\n",
       "          Sneaker           4\n",
       "3         T-shirt/top    3734\n",
       "          Dress          1717\n",
       "          Shirt          1229\n",
       "          Coat            952\n",
       "          Trouser         253\n",
       "          Pullover        156\n",
       "          Bag              86\n",
       "          Ankle boot        3\n",
       "          Sandal            2\n",
       "4         Ankle boot     2915\n",
       "          Sandal          333\n",
       "          Sneaker          29\n",
       "          Bag              11\n",
       "          Shirt             1\n",
       "          T-shirt/top       1\n",
       "5         Trouser        5397\n",
       "          Dress          3141\n",
       "          T-shirt/top     208\n",
       "          Coat            164\n",
       "          Shirt            61\n",
       "          Bag              15\n",
       "          Pullover          8\n",
       "          Ankle boot        3\n",
       "          Sandal            1\n",
       "6         Ankle boot     2623\n",
       "          Bag            2465\n",
       "          Sneaker         700\n",
       "          Sandal          355\n",
       "          Shirt            22\n",
       "          Pullover         13\n",
       "          T-shirt/top      12\n",
       "          Coat              8\n",
       "          Dress             1\n",
       "          Trouser           1\n",
       "Name: labels, dtype: int64"
      ]
     },
     "execution_count": 31,
     "metadata": {},
     "output_type": "execute_result"
    }
   ],
   "source": [
    "#enlarge output length limit\n",
    "pd.set_option('display.max_rows',500)\n",
    "clusterDf.groupby('clusters')['labels'].value_counts()"
   ]
  },
  {
   "cell_type": "code",
   "execution_count": 34,
   "metadata": {},
   "outputs": [
    {
     "name": "stdout",
     "output_type": "stream",
     "text": [
      "15\n",
      "23\n"
     ]
    }
   ],
   "source": [
    "label6=clusterDf[clusterDf.clusters==6]\n",
    "print(label6[label6.labels=='Ankle boot'].index[0])\n",
    "print(label6[label6.labels=='Bag'].index[0])"
   ]
  },
  {
   "cell_type": "code",
   "execution_count": 37,
   "metadata": {},
   "outputs": [],
   "source": [
    "coMat=clusterDf.groupby('clusters')['labels'].value_counts()\n",
    "#replace NA with 0\n",
    "coMat=coMat.unstack().fillna(0)\n",
    "#transpose it in order to read more convenient\n",
    "coMat=coMat.T"
   ]
  },
  {
   "cell_type": "code",
   "execution_count": 39,
   "metadata": {},
   "outputs": [
    {
     "data": {
      "text/html": [
       "<div>\n",
       "<style scoped>\n",
       "    .dataframe tbody tr th:only-of-type {\n",
       "        vertical-align: middle;\n",
       "    }\n",
       "\n",
       "    .dataframe tbody tr th {\n",
       "        vertical-align: top;\n",
       "    }\n",
       "\n",
       "    .dataframe thead th {\n",
       "        text-align: right;\n",
       "    }\n",
       "</style>\n",
       "<table border=\"1\" class=\"dataframe\">\n",
       "  <thead>\n",
       "    <tr style=\"text-align: right;\">\n",
       "      <th>clusters</th>\n",
       "      <th>0</th>\n",
       "      <th>1</th>\n",
       "      <th>2</th>\n",
       "      <th>3</th>\n",
       "      <th>4</th>\n",
       "      <th>5</th>\n",
       "      <th>6</th>\n",
       "    </tr>\n",
       "    <tr>\n",
       "      <th>labels</th>\n",
       "      <th></th>\n",
       "      <th></th>\n",
       "      <th></th>\n",
       "      <th></th>\n",
       "      <th></th>\n",
       "      <th></th>\n",
       "      <th></th>\n",
       "    </tr>\n",
       "  </thead>\n",
       "  <tbody>\n",
       "    <tr>\n",
       "      <th>Ankle boot</th>\n",
       "      <td>4.0</td>\n",
       "      <td>315.0</td>\n",
       "      <td>137.0</td>\n",
       "      <td>3.0</td>\n",
       "      <td>2915.0</td>\n",
       "      <td>3.0</td>\n",
       "      <td>2623.0</td>\n",
       "    </tr>\n",
       "    <tr>\n",
       "      <th>Bag</th>\n",
       "      <td>1514.0</td>\n",
       "      <td>320.0</td>\n",
       "      <td>1589.0</td>\n",
       "      <td>86.0</td>\n",
       "      <td>11.0</td>\n",
       "      <td>15.0</td>\n",
       "      <td>2465.0</td>\n",
       "    </tr>\n",
       "    <tr>\n",
       "      <th>Coat</th>\n",
       "      <td>3879.0</td>\n",
       "      <td>1.0</td>\n",
       "      <td>996.0</td>\n",
       "      <td>952.0</td>\n",
       "      <td>0.0</td>\n",
       "      <td>164.0</td>\n",
       "      <td>8.0</td>\n",
       "    </tr>\n",
       "    <tr>\n",
       "      <th>Dress</th>\n",
       "      <td>57.0</td>\n",
       "      <td>0.0</td>\n",
       "      <td>1084.0</td>\n",
       "      <td>1717.0</td>\n",
       "      <td>0.0</td>\n",
       "      <td>3141.0</td>\n",
       "      <td>1.0</td>\n",
       "    </tr>\n",
       "    <tr>\n",
       "      <th>Pullover</th>\n",
       "      <td>3908.0</td>\n",
       "      <td>3.0</td>\n",
       "      <td>1912.0</td>\n",
       "      <td>156.0</td>\n",
       "      <td>0.0</td>\n",
       "      <td>8.0</td>\n",
       "      <td>13.0</td>\n",
       "    </tr>\n",
       "    <tr>\n",
       "      <th>Sandal</th>\n",
       "      <td>1.0</td>\n",
       "      <td>4134.0</td>\n",
       "      <td>1174.0</td>\n",
       "      <td>2.0</td>\n",
       "      <td>333.0</td>\n",
       "      <td>1.0</td>\n",
       "      <td>355.0</td>\n",
       "    </tr>\n",
       "    <tr>\n",
       "      <th>Shirt</th>\n",
       "      <td>2258.0</td>\n",
       "      <td>12.0</td>\n",
       "      <td>2417.0</td>\n",
       "      <td>1229.0</td>\n",
       "      <td>1.0</td>\n",
       "      <td>61.0</td>\n",
       "      <td>22.0</td>\n",
       "    </tr>\n",
       "    <tr>\n",
       "      <th>Sneaker</th>\n",
       "      <td>0.0</td>\n",
       "      <td>5267.0</td>\n",
       "      <td>4.0</td>\n",
       "      <td>0.0</td>\n",
       "      <td>29.0</td>\n",
       "      <td>0.0</td>\n",
       "      <td>700.0</td>\n",
       "    </tr>\n",
       "    <tr>\n",
       "      <th>T-shirt/top</th>\n",
       "      <td>220.0</td>\n",
       "      <td>8.0</td>\n",
       "      <td>1817.0</td>\n",
       "      <td>3734.0</td>\n",
       "      <td>1.0</td>\n",
       "      <td>208.0</td>\n",
       "      <td>12.0</td>\n",
       "    </tr>\n",
       "    <tr>\n",
       "      <th>Trouser</th>\n",
       "      <td>75.0</td>\n",
       "      <td>0.0</td>\n",
       "      <td>274.0</td>\n",
       "      <td>253.0</td>\n",
       "      <td>0.0</td>\n",
       "      <td>5397.0</td>\n",
       "      <td>1.0</td>\n",
       "    </tr>\n",
       "  </tbody>\n",
       "</table>\n",
       "</div>"
      ],
      "text/plain": [
       "clusters          0       1       2       3       4       5       6\n",
       "labels                                                             \n",
       "Ankle boot      4.0   315.0   137.0     3.0  2915.0     3.0  2623.0\n",
       "Bag          1514.0   320.0  1589.0    86.0    11.0    15.0  2465.0\n",
       "Coat         3879.0     1.0   996.0   952.0     0.0   164.0     8.0\n",
       "Dress          57.0     0.0  1084.0  1717.0     0.0  3141.0     1.0\n",
       "Pullover     3908.0     3.0  1912.0   156.0     0.0     8.0    13.0\n",
       "Sandal          1.0  4134.0  1174.0     2.0   333.0     1.0   355.0\n",
       "Shirt        2258.0    12.0  2417.0  1229.0     1.0    61.0    22.0\n",
       "Sneaker         0.0  5267.0     4.0     0.0    29.0     0.0   700.0\n",
       "T-shirt/top   220.0     8.0  1817.0  3734.0     1.0   208.0    12.0\n",
       "Trouser        75.0     0.0   274.0   253.0     0.0  5397.0     1.0"
      ]
     },
     "execution_count": 39,
     "metadata": {},
     "output_type": "execute_result"
    }
   ],
   "source": [
    "#数数各组里各分类的数量\n",
    "coMat"
   ]
  },
  {
   "cell_type": "code",
   "execution_count": 40,
   "metadata": {},
   "outputs": [
    {
     "data": {
      "text/plain": [
       "(10, 10)"
      ]
     },
     "execution_count": 40,
     "metadata": {},
     "output_type": "execute_result"
    }
   ],
   "source": [
    "cosMat=cosine_similarity(coMat)\n",
    "cosMat.shape"
   ]
  },
  {
   "cell_type": "markdown",
   "metadata": {},
   "source": [
    "A cosine value of 0 means that the two vectors are at 90 degrees to each other (orthogonal) and have no match. The closer the cosine value to 1, the smaller the angle and the greater the match between vectors."
   ]
  },
  {
   "cell_type": "code",
   "execution_count": 41,
   "metadata": {},
   "outputs": [
    {
     "data": {
      "text/html": [
       "<div>\n",
       "<style scoped>\n",
       "    .dataframe tbody tr th:only-of-type {\n",
       "        vertical-align: middle;\n",
       "    }\n",
       "\n",
       "    .dataframe tbody tr th {\n",
       "        vertical-align: top;\n",
       "    }\n",
       "\n",
       "    .dataframe thead th {\n",
       "        text-align: right;\n",
       "    }\n",
       "</style>\n",
       "<table border=\"1\" class=\"dataframe\">\n",
       "  <thead>\n",
       "    <tr style=\"text-align: right;\">\n",
       "      <th>labels</th>\n",
       "      <th>Ankle boot</th>\n",
       "      <th>Bag</th>\n",
       "      <th>Coat</th>\n",
       "      <th>Dress</th>\n",
       "      <th>Pullover</th>\n",
       "      <th>Sandal</th>\n",
       "      <th>Shirt</th>\n",
       "      <th>Sneaker</th>\n",
       "      <th>T-shirt/top</th>\n",
       "      <th>Trouser</th>\n",
       "    </tr>\n",
       "    <tr>\n",
       "      <th>labels</th>\n",
       "      <th></th>\n",
       "      <th></th>\n",
       "      <th></th>\n",
       "      <th></th>\n",
       "      <th></th>\n",
       "      <th></th>\n",
       "      <th></th>\n",
       "      <th></th>\n",
       "      <th></th>\n",
       "      <th></th>\n",
       "    </tr>\n",
       "  </thead>\n",
       "  <tbody>\n",
       "    <tr>\n",
       "      <th>Ankle boot</th>\n",
       "      <td>1.000000</td>\n",
       "      <td>0.522498</td>\n",
       "      <td>0.010891</td>\n",
       "      <td>0.011269</td>\n",
       "      <td>0.018271</td>\n",
       "      <td>0.197648</td>\n",
       "      <td>0.029400</td>\n",
       "      <td>0.171177</td>\n",
       "      <td>0.018215</td>\n",
       "      <td>0.002696</td>\n",
       "    </tr>\n",
       "    <tr>\n",
       "      <th>Bag</th>\n",
       "      <td>0.522498</td>\n",
       "      <td>1.000000</td>\n",
       "      <td>0.553198</td>\n",
       "      <td>0.161668</td>\n",
       "      <td>0.623318</td>\n",
       "      <td>0.283610</td>\n",
       "      <td>0.634150</td>\n",
       "      <td>0.193904</td>\n",
       "      <td>0.258964</td>\n",
       "      <td>0.036447</td>\n",
       "    </tr>\n",
       "    <tr>\n",
       "      <th>Coat</th>\n",
       "      <td>0.010891</td>\n",
       "      <td>0.553198</td>\n",
       "      <td>1.000000</td>\n",
       "      <td>0.223908</td>\n",
       "      <td>0.959765</td>\n",
       "      <td>0.066352</td>\n",
       "      <td>0.849172</td>\n",
       "      <td>0.000678</td>\n",
       "      <td>0.364489</td>\n",
       "      <td>0.075813</td>\n",
       "    </tr>\n",
       "    <tr>\n",
       "      <th>Dress</th>\n",
       "      <td>0.011269</td>\n",
       "      <td>0.161668</td>\n",
       "      <td>0.223908</td>\n",
       "      <td>1.000000</td>\n",
       "      <td>0.158944</td>\n",
       "      <td>0.079095</td>\n",
       "      <td>0.382577</td>\n",
       "      <td>0.000253</td>\n",
       "      <td>0.580864</td>\n",
       "      <td>0.873973</td>\n",
       "    </tr>\n",
       "    <tr>\n",
       "      <th>Pullover</th>\n",
       "      <td>0.018271</td>\n",
       "      <td>0.623318</td>\n",
       "      <td>0.959765</td>\n",
       "      <td>0.158944</td>\n",
       "      <td>1.000000</td>\n",
       "      <td>0.120346</td>\n",
       "      <td>0.887649</td>\n",
       "      <td>0.001407</td>\n",
       "      <td>0.271328</td>\n",
       "      <td>0.038195</td>\n",
       "    </tr>\n",
       "    <tr>\n",
       "      <th>Sandal</th>\n",
       "      <td>0.197648</td>\n",
       "      <td>0.283610</td>\n",
       "      <td>0.066352</td>\n",
       "      <td>0.079095</td>\n",
       "      <td>0.120346</td>\n",
       "      <td>1.000000</td>\n",
       "      <td>0.190000</td>\n",
       "      <td>0.958943</td>\n",
       "      <td>0.120989</td>\n",
       "      <td>0.014018</td>\n",
       "    </tr>\n",
       "    <tr>\n",
       "      <th>Shirt</th>\n",
       "      <td>0.029400</td>\n",
       "      <td>0.634150</td>\n",
       "      <td>0.849172</td>\n",
       "      <td>0.382577</td>\n",
       "      <td>0.887649</td>\n",
       "      <td>0.190000</td>\n",
       "      <td>1.000000</td>\n",
       "      <td>0.004709</td>\n",
       "      <td>0.645864</td>\n",
       "      <td>0.077080</td>\n",
       "    </tr>\n",
       "    <tr>\n",
       "      <th>Sneaker</th>\n",
       "      <td>0.171177</td>\n",
       "      <td>0.193904</td>\n",
       "      <td>0.000678</td>\n",
       "      <td>0.000253</td>\n",
       "      <td>0.001407</td>\n",
       "      <td>0.958943</td>\n",
       "      <td>0.004709</td>\n",
       "      <td>1.000000</td>\n",
       "      <td>0.002614</td>\n",
       "      <td>0.000062</td>\n",
       "    </tr>\n",
       "    <tr>\n",
       "      <th>T-shirt/top</th>\n",
       "      <td>0.018215</td>\n",
       "      <td>0.258964</td>\n",
       "      <td>0.364489</td>\n",
       "      <td>0.580864</td>\n",
       "      <td>0.271328</td>\n",
       "      <td>0.120989</td>\n",
       "      <td>0.645864</td>\n",
       "      <td>0.002614</td>\n",
       "      <td>1.000000</td>\n",
       "      <td>0.114602</td>\n",
       "    </tr>\n",
       "    <tr>\n",
       "      <th>Trouser</th>\n",
       "      <td>0.002696</td>\n",
       "      <td>0.036447</td>\n",
       "      <td>0.075813</td>\n",
       "      <td>0.873973</td>\n",
       "      <td>0.038195</td>\n",
       "      <td>0.014018</td>\n",
       "      <td>0.077080</td>\n",
       "      <td>0.000062</td>\n",
       "      <td>0.114602</td>\n",
       "      <td>1.000000</td>\n",
       "    </tr>\n",
       "  </tbody>\n",
       "</table>\n",
       "</div>"
      ],
      "text/plain": [
       "labels       Ankle boot       Bag      Coat     Dress  Pullover    Sandal  \\\n",
       "labels                                                                      \n",
       "Ankle boot     1.000000  0.522498  0.010891  0.011269  0.018271  0.197648   \n",
       "Bag            0.522498  1.000000  0.553198  0.161668  0.623318  0.283610   \n",
       "Coat           0.010891  0.553198  1.000000  0.223908  0.959765  0.066352   \n",
       "Dress          0.011269  0.161668  0.223908  1.000000  0.158944  0.079095   \n",
       "Pullover       0.018271  0.623318  0.959765  0.158944  1.000000  0.120346   \n",
       "Sandal         0.197648  0.283610  0.066352  0.079095  0.120346  1.000000   \n",
       "Shirt          0.029400  0.634150  0.849172  0.382577  0.887649  0.190000   \n",
       "Sneaker        0.171177  0.193904  0.000678  0.000253  0.001407  0.958943   \n",
       "T-shirt/top    0.018215  0.258964  0.364489  0.580864  0.271328  0.120989   \n",
       "Trouser        0.002696  0.036447  0.075813  0.873973  0.038195  0.014018   \n",
       "\n",
       "labels          Shirt   Sneaker  T-shirt/top   Trouser  \n",
       "labels                                                  \n",
       "Ankle boot   0.029400  0.171177     0.018215  0.002696  \n",
       "Bag          0.634150  0.193904     0.258964  0.036447  \n",
       "Coat         0.849172  0.000678     0.364489  0.075813  \n",
       "Dress        0.382577  0.000253     0.580864  0.873973  \n",
       "Pullover     0.887649  0.001407     0.271328  0.038195  \n",
       "Sandal       0.190000  0.958943     0.120989  0.014018  \n",
       "Shirt        1.000000  0.004709     0.645864  0.077080  \n",
       "Sneaker      0.004709  1.000000     0.002614  0.000062  \n",
       "T-shirt/top  0.645864  0.002614     1.000000  0.114602  \n",
       "Trouser      0.077080  0.000062     0.114602  1.000000  "
      ]
     },
     "execution_count": 41,
     "metadata": {},
     "output_type": "execute_result"
    }
   ],
   "source": [
    "#对角对称\n",
    "cosMat=pd.DataFrame(cosMat,index=coMat.index, columns=coMat.index)\n",
    "cosMat\n",
    "#越接近1，越相似"
   ]
  },
  {
   "cell_type": "markdown",
   "metadata": {},
   "source": [
    "sneaker & sandal are similar  \n",
    "higher more similar"
   ]
  },
  {
   "cell_type": "code",
   "execution_count": 42,
   "metadata": {},
   "outputs": [],
   "source": [
    "Z=hierarchy.linkage(cosMat)"
   ]
  },
  {
   "cell_type": "code",
   "execution_count": 43,
   "metadata": {},
   "outputs": [
    {
     "data": {
      "image/png": "[encoded data removed]",
      "text/plain": [
       "<Figure size 432x288 with 1 Axes>"
      ]
     },
     "metadata": {
      "needs_background": "light"
     },
     "output_type": "display_data"
    }
   ],
   "source": [
    "dn=hierarchy.dendrogram(Z, labels=cosMat.columns,leaf_rotation=90)"
   ]
  },
  {
   "cell_type": "code",
   "execution_count": 44,
   "metadata": {},
   "outputs": [],
   "source": [
    "from scipy.spatial.distance import cdist"
   ]
  },
  {
   "cell_type": "code",
   "execution_count": 45,
   "metadata": {},
   "outputs": [
    {
     "data": {
      "text/plain": [
       "(7, 784)"
      ]
     },
     "execution_count": 45,
     "metadata": {},
     "output_type": "execute_result"
    }
   ],
   "source": [
    "cents=kmeanModel.cluster_centers_\n",
    "cents.shape"
   ]
  },
  {
   "cell_type": "code",
   "execution_count": 46,
   "metadata": {},
   "outputs": [],
   "source": [
    "distortions=[]\n",
    "for k in np.arange(2,30):\n",
    "    model=MiniBatchKMeans(n_clusters=k, random_state=11).fit(X_train)\n",
    "    distortions.append(np.sum(np.min(cdist(X_train, model.cluster_centers_,'euclidean'),axis=1))/X_train.shape[0])"
   ]
  },
  {
   "cell_type": "code",
   "execution_count": 47,
   "metadata": {},
   "outputs": [
    {
     "data": {
      "text/plain": [
       "Text(0, 0.5, 'Distortions')"
      ]
     },
     "execution_count": 47,
     "metadata": {},
     "output_type": "execute_result"
    },
    {
     "data": {
      "image/png": "[encoded data removed]",
      "text/plain": [
       "<Figure size 432x288 with 1 Axes>"
      ]
     },
     "metadata": {
      "needs_background": "light"
     },
     "output_type": "display_data"
    }
   ],
   "source": [
    "plt.plot(np.arange(2,30),distortions, 'bx-')\n",
    "plt.xlabel('K')\n",
    "plt.ylabel('Distortions')"
   ]
  },
  {
   "cell_type": "code",
   "execution_count": 48,
   "metadata": {},
   "outputs": [],
   "source": [
    "#fit the first two components\n"
   ]
  },
  {
   "cell_type": "code",
   "execution_count": 49,
   "metadata": {},
   "outputs": [
    {
     "data": {
      "text/plain": [
       "PCA(copy=True, iterated_power='auto', n_components=2, random_state=None,\n",
       "    svd_solver='auto', tol=0.0, whiten=False)"
      ]
     },
     "execution_count": 49,
     "metadata": {},
     "output_type": "execute_result"
    }
   ],
   "source": [
    "pca=PCA(n_components=2)\n",
    "pca.fit(X_train)"
   ]
  },
  {
   "cell_type": "code",
   "execution_count": 50,
   "metadata": {},
   "outputs": [
    {
     "data": {
      "text/plain": [
       "array([0.29039228, 0.1775531 ])"
      ]
     },
     "execution_count": 50,
     "metadata": {},
     "output_type": "execute_result"
    }
   ],
   "source": [
    "pca.explained_variance_ratio_"
   ]
  },
  {
   "cell_type": "code",
   "execution_count": 51,
   "metadata": {},
   "outputs": [],
   "source": [
    "reduced=pca.transform(X_train)"
   ]
  },
  {
   "cell_type": "code",
   "execution_count": 52,
   "metadata": {},
   "outputs": [
    {
     "data": {
      "text/html": [
       "<div>\n",
       "<style scoped>\n",
       "    .dataframe tbody tr th:only-of-type {\n",
       "        vertical-align: middle;\n",
       "    }\n",
       "\n",
       "    .dataframe tbody tr th {\n",
       "        vertical-align: top;\n",
       "    }\n",
       "\n",
       "    .dataframe thead th {\n",
       "        text-align: right;\n",
       "    }\n",
       "</style>\n",
       "<table border=\"1\" class=\"dataframe\">\n",
       "  <thead>\n",
       "    <tr style=\"text-align: right;\">\n",
       "      <th></th>\n",
       "      <th>X</th>\n",
       "      <th>Y</th>\n",
       "    </tr>\n",
       "  </thead>\n",
       "  <tbody>\n",
       "    <tr>\n",
       "      <th>0</th>\n",
       "      <td>-123.993791</td>\n",
       "      <td>1633.074396</td>\n",
       "    </tr>\n",
       "    <tr>\n",
       "      <th>1</th>\n",
       "      <td>1407.928853</td>\n",
       "      <td>-451.641336</td>\n",
       "    </tr>\n",
       "    <tr>\n",
       "      <th>2</th>\n",
       "      <td>-725.910795</td>\n",
       "      <td>-1101.838138</td>\n",
       "    </tr>\n",
       "    <tr>\n",
       "      <th>3</th>\n",
       "      <td>31.398664</td>\n",
       "      <td>-981.067672</td>\n",
       "    </tr>\n",
       "    <tr>\n",
       "      <th>4</th>\n",
       "      <td>804.119258</td>\n",
       "      <td>-1201.168720</td>\n",
       "    </tr>\n",
       "  </tbody>\n",
       "</table>\n",
       "</div>"
      ],
      "text/plain": [
       "             X            Y\n",
       "0  -123.993791  1633.074396\n",
       "1  1407.928853  -451.641336\n",
       "2  -725.910795 -1101.838138\n",
       "3    31.398664  -981.067672\n",
       "4   804.119258 -1201.168720"
      ]
     },
     "execution_count": 52,
     "metadata": {},
     "output_type": "execute_result"
    }
   ],
   "source": [
    "df=pd.DataFrame(reduced,columns=['X','Y'])\n",
    "df.head()"
   ]
  },
  {
   "cell_type": "code",
   "execution_count": 53,
   "metadata": {},
   "outputs": [],
   "source": [
    "df['labelCodes']=y_train\n",
    "df['labels']=df.labelCodes.map(labelsDict)"
   ]
  },
  {
   "cell_type": "code",
   "execution_count": 54,
   "metadata": {},
   "outputs": [
    {
     "data": {
      "text/html": [
       "<div>\n",
       "<style scoped>\n",
       "    .dataframe tbody tr th:only-of-type {\n",
       "        vertical-align: middle;\n",
       "    }\n",
       "\n",
       "    .dataframe tbody tr th {\n",
       "        vertical-align: top;\n",
       "    }\n",
       "\n",
       "    .dataframe thead th {\n",
       "        text-align: right;\n",
       "    }\n",
       "</style>\n",
       "<table border=\"1\" class=\"dataframe\">\n",
       "  <thead>\n",
       "    <tr style=\"text-align: right;\">\n",
       "      <th></th>\n",
       "      <th>X</th>\n",
       "      <th>Y</th>\n",
       "      <th>labelCodes</th>\n",
       "      <th>labels</th>\n",
       "    </tr>\n",
       "  </thead>\n",
       "  <tbody>\n",
       "    <tr>\n",
       "      <th>0</th>\n",
       "      <td>-123.993791</td>\n",
       "      <td>1633.074396</td>\n",
       "      <td>9</td>\n",
       "      <td>Ankle boot</td>\n",
       "    </tr>\n",
       "    <tr>\n",
       "      <th>1</th>\n",
       "      <td>1407.928853</td>\n",
       "      <td>-451.641336</td>\n",
       "      <td>0</td>\n",
       "      <td>T-shirt/top</td>\n",
       "    </tr>\n",
       "    <tr>\n",
       "      <th>2</th>\n",
       "      <td>-725.910795</td>\n",
       "      <td>-1101.838138</td>\n",
       "      <td>0</td>\n",
       "      <td>T-shirt/top</td>\n",
       "    </tr>\n",
       "    <tr>\n",
       "      <th>3</th>\n",
       "      <td>31.398664</td>\n",
       "      <td>-981.067672</td>\n",
       "      <td>3</td>\n",
       "      <td>Dress</td>\n",
       "    </tr>\n",
       "    <tr>\n",
       "      <th>4</th>\n",
       "      <td>804.119258</td>\n",
       "      <td>-1201.168720</td>\n",
       "      <td>0</td>\n",
       "      <td>T-shirt/top</td>\n",
       "    </tr>\n",
       "  </tbody>\n",
       "</table>\n",
       "</div>"
      ],
      "text/plain": [
       "             X            Y  labelCodes       labels\n",
       "0  -123.993791  1633.074396           9   Ankle boot\n",
       "1  1407.928853  -451.641336           0  T-shirt/top\n",
       "2  -725.910795 -1101.838138           0  T-shirt/top\n",
       "3    31.398664  -981.067672           3        Dress\n",
       "4   804.119258 -1201.168720           0  T-shirt/top"
      ]
     },
     "execution_count": 54,
     "metadata": {},
     "output_type": "execute_result"
    }
   ],
   "source": [
    "df.head()"
   ]
  },
  {
   "cell_type": "code",
   "execution_count": 55,
   "metadata": {},
   "outputs": [
    {
     "data": {
      "text/html": [
       "<div>\n",
       "<style scoped>\n",
       "    .dataframe tbody tr th:only-of-type {\n",
       "        vertical-align: middle;\n",
       "    }\n",
       "\n",
       "    .dataframe tbody tr th {\n",
       "        vertical-align: top;\n",
       "    }\n",
       "\n",
       "    .dataframe thead th {\n",
       "        text-align: right;\n",
       "    }\n",
       "</style>\n",
       "<table border=\"1\" class=\"dataframe\">\n",
       "  <thead>\n",
       "    <tr style=\"text-align: right;\">\n",
       "      <th></th>\n",
       "      <th>X</th>\n",
       "      <th>Y</th>\n",
       "    </tr>\n",
       "    <tr>\n",
       "      <th>labels</th>\n",
       "      <th></th>\n",
       "      <th></th>\n",
       "    </tr>\n",
       "  </thead>\n",
       "  <tbody>\n",
       "    <tr>\n",
       "      <th>Ankle boot</th>\n",
       "      <td>-557.836864</td>\n",
       "      <td>1100.992688</td>\n",
       "    </tr>\n",
       "    <tr>\n",
       "      <th>Bag</th>\n",
       "      <td>43.658760</td>\n",
       "      <td>880.205153</td>\n",
       "    </tr>\n",
       "    <tr>\n",
       "      <th>Coat</th>\n",
       "      <td>1059.289340</td>\n",
       "      <td>210.994924</td>\n",
       "    </tr>\n",
       "    <tr>\n",
       "      <th>Dress</th>\n",
       "      <td>282.555700</td>\n",
       "      <td>-1042.590808</td>\n",
       "    </tr>\n",
       "    <tr>\n",
       "      <th>Pullover</th>\n",
       "      <td>861.536311</td>\n",
       "      <td>330.556600</td>\n",
       "    </tr>\n",
       "    <tr>\n",
       "      <th>Sandal</th>\n",
       "      <td>-1499.340028</td>\n",
       "      <td>120.356565</td>\n",
       "    </tr>\n",
       "    <tr>\n",
       "      <th>Shirt</th>\n",
       "      <td>583.638253</td>\n",
       "      <td>-39.736501</td>\n",
       "    </tr>\n",
       "    <tr>\n",
       "      <th>Sneaker</th>\n",
       "      <td>-1474.973984</td>\n",
       "      <td>404.107214</td>\n",
       "    </tr>\n",
       "    <tr>\n",
       "      <th>T-shirt/top</th>\n",
       "      <td>685.822396</td>\n",
       "      <td>-610.317773</td>\n",
       "    </tr>\n",
       "    <tr>\n",
       "      <th>Trouser</th>\n",
       "      <td>15.650116</td>\n",
       "      <td>-1354.568061</td>\n",
       "    </tr>\n",
       "  </tbody>\n",
       "</table>\n",
       "</div>"
      ],
      "text/plain": [
       "                       X            Y\n",
       "labels                               \n",
       "Ankle boot   -557.836864  1100.992688\n",
       "Bag            43.658760   880.205153\n",
       "Coat         1059.289340   210.994924\n",
       "Dress         282.555700 -1042.590808\n",
       "Pullover      861.536311   330.556600\n",
       "Sandal      -1499.340028   120.356565\n",
       "Shirt         583.638253   -39.736501\n",
       "Sneaker     -1474.973984   404.107214\n",
       "T-shirt/top   685.822396  -610.317773\n",
       "Trouser        15.650116 -1354.568061"
      ]
     },
     "execution_count": 55,
     "metadata": {},
     "output_type": "execute_result"
    }
   ],
   "source": [
    "means=df.groupby('labels')[['X','Y']].mean()\n",
    "means"
   ]
  },
  {
   "cell_type": "code",
   "execution_count": 56,
   "metadata": {},
   "outputs": [
    {
     "data": {
      "text/plain": [
       "<matplotlib.collections.PathCollection at 0x26fa3e46cc8>"
      ]
     },
     "execution_count": 56,
     "metadata": {},
     "output_type": "execute_result"
    },
    {
     "data": {
      "image/png": "[encoded data removed]",
      "text/plain": [
       "<Figure size 432x288 with 1 Axes>"
      ]
     },
     "metadata": {
      "needs_background": "light"
     },
     "output_type": "display_data"
    }
   ],
   "source": [
    "plt.scatter(means.X,means.Y)"
   ]
  },
  {
   "cell_type": "code",
   "execution_count": 57,
   "metadata": {},
   "outputs": [],
   "source": [
    "cents=pca.transform(cents)"
   ]
  },
  {
   "cell_type": "code",
   "execution_count": 58,
   "metadata": {},
   "outputs": [
    {
     "data": {
      "image/png": "[encoded data removed]",
      "text/plain": [
       "<Figure size 432x288 with 1 Axes>"
      ]
     },
     "metadata": {
      "needs_background": "light"
     },
     "output_type": "display_data"
    }
   ],
   "source": [
    "fig, ax=plt.subplots()\n",
    "plt.scatter(df.X,df.Y, alpha=0.03,marker='.',c=df.labelCodes)\n",
    "plt.scatter(means.X,means.Y,color='b')\n",
    "plt.scatter(cents[:,0],cents[:,1],color='r')\n",
    "for i in range(len(means)):\n",
    "    ax.annotate(means.index[i],(means.X.iloc[i],means.Y.iloc[i]))\n",
    "\n",
    "for i in range(len(cents)):\n",
    "    ax.annotate(i,(cents[i,0],cents[i,1]))"
   ]
  },
  {
   "cell_type": "code",
   "execution_count": null,
   "metadata": {},
   "outputs": [],
   "source": []
  }
 ],
 "metadata": {
  "kernelspec": {
   "display_name": "Python 3",
   "language": "python",
   "name": "python3"
  },
  "language_info": {
   "codemirror_mode": {
    "name": "ipython",
    "version": 3
   },
   "file_extension": ".py",
   "mimetype": "text/x-python",
   "name": "python",
   "nbconvert_exporter": "python",
   "pygments_lexer": "ipython3",
   "version": "3.8.5"
  },
  "toc": {
   "base_numbering": 1,
   "nav_menu": {},
   "number_sections": true,
   "sideBar": true,
   "skip_h1_title": false,
   "title_cell": "Table of Contents",
   "title_sidebar": "Contents",
   "toc_cell": false,
   "toc_position": {},
   "toc_section_display": true,
   "toc_window_display": false
  },
  "varInspector": {
   "cols": {
    "lenName": 16,
    "lenType": 16,
    "lenVar": 40
   },
   "kernels_config": {
    "python": {
     "delete_cmd_postfix": "",
     "delete_cmd_prefix": "del ",
     "library": "var_list.py",
     "varRefreshCmd": "print(var_dic_list())"
    },
    "r": {
     "delete_cmd_postfix": ") ",
     "delete_cmd_prefix": "rm(",
     "library": "var_list.r",
     "varRefreshCmd": "cat(var_dic_list()) "
    }
   },
   "types_to_exclude": [
    "module",
    "function",
    "builtin_function_or_method",
    "instance",
    "_Feature"
   ],
   "window_display": false
  }
 },
 "nbformat": 4,
 "nbformat_minor": 4
}
