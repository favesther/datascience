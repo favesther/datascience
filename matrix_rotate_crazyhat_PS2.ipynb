{
 "cells": [
  {
   "cell_type": "markdown",
   "metadata": {},
   "source": [
    "# rotate crazy hat"
   ]
  },
  {
   "cell_type": "code",
   "execution_count": 9,
   "metadata": {},
   "outputs": [],
   "source": [
    "import numpy as np\n",
    "import pandas as pd\n",
    "import matplotlib.pyplot as plt\n",
    "%matplotlib inline\n",
    "import os"
   ]
  },
  {
   "cell_type": "markdown",
   "metadata": {},
   "source": [
    "read the dataset"
   ]
  },
  {
   "cell_type": "code",
   "execution_count": 99,
   "metadata": {},
   "outputs": [
    {
     "name": "stdout",
     "output_type": "stream",
     "text": [
      "C:\\Users\\Zhu\\OneDrive - UW\\574\n"
     ]
    }
   ],
   "source": [
    "path=os.getcwd()\n",
    "print(path)\n",
    "crazy_hat=pd.read_csv(\"data/crazy-hat.tsv\")"
   ]
  },
  {
   "cell_type": "code",
   "execution_count": 100,
   "metadata": {},
   "outputs": [
    {
     "data": {
      "text/html": [
       "<div>\n",
       "<style scoped>\n",
       "    .dataframe tbody tr th:only-of-type {\n",
       "        vertical-align: middle;\n",
       "    }\n",
       "\n",
       "    .dataframe tbody tr th {\n",
       "        vertical-align: top;\n",
       "    }\n",
       "\n",
       "    .dataframe thead th {\n",
       "        text-align: right;\n",
       "    }\n",
       "</style>\n",
       "<table border=\"1\" class=\"dataframe\">\n",
       "  <thead>\n",
       "    <tr style=\"text-align: right;\">\n",
       "      <th></th>\n",
       "      <th>x\\ty\\tgroup</th>\n",
       "    </tr>\n",
       "  </thead>\n",
       "  <tbody>\n",
       "    <tr>\n",
       "      <th>0</th>\n",
       "      <td>0\\t22\\toutline</td>\n",
       "    </tr>\n",
       "    <tr>\n",
       "      <th>1</th>\n",
       "      <td>16\\t-18\\toutline</td>\n",
       "    </tr>\n",
       "    <tr>\n",
       "      <th>2</th>\n",
       "      <td>-16\\t-18\\toutline</td>\n",
       "    </tr>\n",
       "    <tr>\n",
       "      <th>3</th>\n",
       "      <td>0\\t22\\toutline</td>\n",
       "    </tr>\n",
       "    <tr>\n",
       "      <th>4</th>\n",
       "      <td>-3\\t7\\tleye</td>\n",
       "    </tr>\n",
       "    <tr>\n",
       "      <th>5</th>\n",
       "      <td>-3\\t14\\tleye</td>\n",
       "    </tr>\n",
       "    <tr>\n",
       "      <th>6</th>\n",
       "      <td>2\\t7\\treye</td>\n",
       "    </tr>\n",
       "    <tr>\n",
       "      <th>7</th>\n",
       "      <td>2\\t14\\treye</td>\n",
       "    </tr>\n",
       "    <tr>\n",
       "      <th>8</th>\n",
       "      <td>-11\\t-10\\tmouth</td>\n",
       "    </tr>\n",
       "    <tr>\n",
       "      <th>9</th>\n",
       "      <td>-7\\t-17\\tmouth</td>\n",
       "    </tr>\n",
       "    <tr>\n",
       "      <th>10</th>\n",
       "      <td>-3\\t-10\\tmouth</td>\n",
       "    </tr>\n",
       "    <tr>\n",
       "      <th>11</th>\n",
       "      <td>2\\t-17\\tmouth</td>\n",
       "    </tr>\n",
       "    <tr>\n",
       "      <th>12</th>\n",
       "      <td>6\\t-10\\tmouth</td>\n",
       "    </tr>\n",
       "    <tr>\n",
       "      <th>13</th>\n",
       "      <td>10\\t-17\\tmouth</td>\n",
       "    </tr>\n",
       "    <tr>\n",
       "      <th>14</th>\n",
       "      <td>12\\t-13\\tmouth</td>\n",
       "    </tr>\n",
       "  </tbody>\n",
       "</table>\n",
       "</div>"
      ],
      "text/plain": [
       "          x\\ty\\tgroup\n",
       "0      0\\t22\\toutline\n",
       "1    16\\t-18\\toutline\n",
       "2   -16\\t-18\\toutline\n",
       "3      0\\t22\\toutline\n",
       "4         -3\\t7\\tleye\n",
       "5        -3\\t14\\tleye\n",
       "6          2\\t7\\treye\n",
       "7         2\\t14\\treye\n",
       "8     -11\\t-10\\tmouth\n",
       "9      -7\\t-17\\tmouth\n",
       "10     -3\\t-10\\tmouth\n",
       "11      2\\t-17\\tmouth\n",
       "12      6\\t-10\\tmouth\n",
       "13     10\\t-17\\tmouth\n",
       "14     12\\t-13\\tmouth"
      ]
     },
     "execution_count": 100,
     "metadata": {},
     "output_type": "execute_result"
    }
   ],
   "source": [
    "df=pd.DataFrame(crazy_hat)\n",
    "df"
   ]
  },
  {
   "cell_type": "markdown",
   "metadata": {},
   "source": [
    "split the string"
   ]
  },
  {
   "cell_type": "code",
   "execution_count": 101,
   "metadata": {},
   "outputs": [],
   "source": [
    "df['split']= df['x\\ty\\tgroup'].str.split('\\t')"
   ]
  },
  {
   "cell_type": "markdown",
   "metadata": {},
   "source": [
    "organize the string to different columns, x, y, group"
   ]
  },
  {
   "cell_type": "code",
   "execution_count": 102,
   "metadata": {},
   "outputs": [],
   "source": [
    "df['group']=df['split'].str[2]\n",
    "df['x']=df['split'].str[0]\n",
    "df['y']=df['split'].str[1]\n",
    "df['x']=df['x'].astype(int)\n",
    "df['y']=df['y'].astype(int)"
   ]
  },
  {
   "cell_type": "code",
   "execution_count": 103,
   "metadata": {},
   "outputs": [
    {
     "data": {
      "text/html": [
       "<div>\n",
       "<style scoped>\n",
       "    .dataframe tbody tr th:only-of-type {\n",
       "        vertical-align: middle;\n",
       "    }\n",
       "\n",
       "    .dataframe tbody tr th {\n",
       "        vertical-align: top;\n",
       "    }\n",
       "\n",
       "    .dataframe thead th {\n",
       "        text-align: right;\n",
       "    }\n",
       "</style>\n",
       "<table border=\"1\" class=\"dataframe\">\n",
       "  <thead>\n",
       "    <tr style=\"text-align: right;\">\n",
       "      <th></th>\n",
       "      <th>x</th>\n",
       "      <th>y</th>\n",
       "      <th>group</th>\n",
       "    </tr>\n",
       "  </thead>\n",
       "  <tbody>\n",
       "    <tr>\n",
       "      <th>0</th>\n",
       "      <td>0</td>\n",
       "      <td>22</td>\n",
       "      <td>outline</td>\n",
       "    </tr>\n",
       "    <tr>\n",
       "      <th>1</th>\n",
       "      <td>16</td>\n",
       "      <td>-18</td>\n",
       "      <td>outline</td>\n",
       "    </tr>\n",
       "    <tr>\n",
       "      <th>2</th>\n",
       "      <td>-16</td>\n",
       "      <td>-18</td>\n",
       "      <td>outline</td>\n",
       "    </tr>\n",
       "    <tr>\n",
       "      <th>3</th>\n",
       "      <td>0</td>\n",
       "      <td>22</td>\n",
       "      <td>outline</td>\n",
       "    </tr>\n",
       "    <tr>\n",
       "      <th>4</th>\n",
       "      <td>-3</td>\n",
       "      <td>7</td>\n",
       "      <td>leye</td>\n",
       "    </tr>\n",
       "    <tr>\n",
       "      <th>5</th>\n",
       "      <td>-3</td>\n",
       "      <td>14</td>\n",
       "      <td>leye</td>\n",
       "    </tr>\n",
       "    <tr>\n",
       "      <th>6</th>\n",
       "      <td>2</td>\n",
       "      <td>7</td>\n",
       "      <td>reye</td>\n",
       "    </tr>\n",
       "    <tr>\n",
       "      <th>7</th>\n",
       "      <td>2</td>\n",
       "      <td>14</td>\n",
       "      <td>reye</td>\n",
       "    </tr>\n",
       "    <tr>\n",
       "      <th>8</th>\n",
       "      <td>-11</td>\n",
       "      <td>-10</td>\n",
       "      <td>mouth</td>\n",
       "    </tr>\n",
       "    <tr>\n",
       "      <th>9</th>\n",
       "      <td>-7</td>\n",
       "      <td>-17</td>\n",
       "      <td>mouth</td>\n",
       "    </tr>\n",
       "    <tr>\n",
       "      <th>10</th>\n",
       "      <td>-3</td>\n",
       "      <td>-10</td>\n",
       "      <td>mouth</td>\n",
       "    </tr>\n",
       "    <tr>\n",
       "      <th>11</th>\n",
       "      <td>2</td>\n",
       "      <td>-17</td>\n",
       "      <td>mouth</td>\n",
       "    </tr>\n",
       "    <tr>\n",
       "      <th>12</th>\n",
       "      <td>6</td>\n",
       "      <td>-10</td>\n",
       "      <td>mouth</td>\n",
       "    </tr>\n",
       "    <tr>\n",
       "      <th>13</th>\n",
       "      <td>10</td>\n",
       "      <td>-17</td>\n",
       "      <td>mouth</td>\n",
       "    </tr>\n",
       "    <tr>\n",
       "      <th>14</th>\n",
       "      <td>12</td>\n",
       "      <td>-13</td>\n",
       "      <td>mouth</td>\n",
       "    </tr>\n",
       "  </tbody>\n",
       "</table>\n",
       "</div>"
      ],
      "text/plain": [
       "     x   y    group\n",
       "0    0  22  outline\n",
       "1   16 -18  outline\n",
       "2  -16 -18  outline\n",
       "3    0  22  outline\n",
       "4   -3   7     leye\n",
       "5   -3  14     leye\n",
       "6    2   7     reye\n",
       "7    2  14     reye\n",
       "8  -11 -10    mouth\n",
       "9   -7 -17    mouth\n",
       "10  -3 -10    mouth\n",
       "11   2 -17    mouth\n",
       "12   6 -10    mouth\n",
       "13  10 -17    mouth\n",
       "14  12 -13    mouth"
      ]
     },
     "execution_count": 103,
     "metadata": {},
     "output_type": "execute_result"
    }
   ],
   "source": [
    "df=pd.DataFrame(df,columns=['x','y','group'])\n",
    "df"
   ]
  },
  {
   "cell_type": "markdown",
   "metadata": {},
   "source": [
    "get the names of different groups"
   ]
  },
  {
   "cell_type": "code",
   "execution_count": 104,
   "metadata": {},
   "outputs": [
    {
     "data": {
      "text/plain": [
       "array(['outline', 'leye', 'reye', 'mouth'], dtype='<U7')"
      ]
     },
     "execution_count": 104,
     "metadata": {},
     "output_type": "execute_result"
    }
   ],
   "source": [
    "unique=df.group.unique().astype(str)\n",
    "unique"
   ]
  },
  {
   "cell_type": "markdown",
   "metadata": {},
   "source": [
    "create a dictionary for the style of different lines, use tuple and rgb codes"
   ]
  },
  {
   "cell_type": "code",
   "execution_count": 105,
   "metadata": {
    "scrolled": true
   },
   "outputs": [],
   "source": [
    "dict={'outline':(1,'black'),'leye':(1,'brown'),'reye':(1,'brown'),'mouth':(2,'red')}"
   ]
  },
  {
   "cell_type": "markdown",
   "metadata": {},
   "source": [
    "define a function"
   ]
  },
  {
   "cell_type": "code",
   "execution_count": 106,
   "metadata": {},
   "outputs": [],
   "source": [
    "def hat(a,u):\n",
    "    ax = plt.axes(label='image')\n",
    "    ax.plot(a[:,0], a[:,1],linewidth=dict[u][0], c=dict[u][1])\n",
    "    ax.set_aspect('equal') \n",
    "    #plt.show()"
   ]
  },
  {
   "cell_type": "markdown",
   "metadata": {},
   "source": [
    "use a loop to fill the matrix for different groups"
   ]
  },
  {
   "cell_type": "code",
   "execution_count": 107,
   "metadata": {},
   "outputs": [
    {
     "name": "stderr",
     "output_type": "stream",
     "text": [
      "C:\\Users\\Zhu\\Anaconda3\\lib\\site-packages\\ipykernel_launcher.py:2: MatplotlibDeprecationWarning: Adding an axes using the same arguments as a previous axes currently reuses the earlier instance.  In a future version, a new instance will always be created and returned.  Meanwhile, this warning can be suppressed, and the future behavior ensured, by passing a unique label to each axes instance.\n",
      "  \n"
     ]
    },
    {
     "data": {
      "image/png": "[encoded data removed]",
      "text/plain": [
       "<Figure size 432x288 with 1 Axes>"
      ]
     },
     "metadata": {
      "needs_background": "light"
     },
     "output_type": "display_data"
    }
   ],
   "source": [
    "i=0\n",
    "U=[]\n",
    "for u in unique:\n",
    "    a=np.array([df.iloc[i].x.astype(int),df.iloc[i].y.astype(int)])\n",
    "    while i<15:\n",
    "        if df.iloc[i].group==u:\n",
    "            b=np.array([df.iloc[i].x.astype(int),df.iloc[i].y.astype(int)])\n",
    "            a=np.vstack((a,b))\n",
    "            i+=1\n",
    "        else:\n",
    "            break\n",
    "    hat(a,u)\n",
    "    U.append(a)\n",
    "plt.show()"
   ]
  },
  {
   "cell_type": "markdown",
   "metadata": {},
   "source": [
    "<font color=orange>\n",
    "I tried a million times googling for solutions to use methods of \"hints\". And I succeeded finally!  \n",
    "I don't want to delete the original silly cells.  \n",
    "I can feel tears and pains through the draft cells.\n",
    "</font>"
   ]
  },
  {
   "cell_type": "markdown",
   "metadata": {},
   "source": []
  },
  {
   "cell_type": "code",
   "execution_count": 108,
   "metadata": {},
   "outputs": [
    {
     "name": "stderr",
     "output_type": "stream",
     "text": [
      "C:\\Users\\Zhu\\Anaconda3\\lib\\site-packages\\ipykernel_launcher.py:2: MatplotlibDeprecationWarning: Adding an axes using the same arguments as a previous axes currently reuses the earlier instance.  In a future version, a new instance will always be created and returned.  Meanwhile, this warning can be suppressed, and the future behavior ensured, by passing a unique label to each axes instance.\n",
      "  \n"
     ]
    },
    {
     "data": {
      "image/png": "[encoded data removed]",
      "text/plain": [
       "<Figure size 432x288 with 1 Axes>"
      ]
     },
     "metadata": {
      "needs_background": "light"
     },
     "output_type": "display_data"
    }
   ],
   "source": [
    "i=0\n",
    "r=66*np.pi/180\n",
    "R=np.array([[np.cos(r), -np.sin(r)],[np.sin(r),np.cos(r)]])\n",
    "for u in unique:\n",
    "    a=np.array([df.iloc[i].x.astype(int),df.iloc[i].y.astype(int)])\n",
    "    while i<15:\n",
    "        if df.iloc[i].group==u:\n",
    "            b=np.array([df.iloc[i].x.astype(int),df.iloc[i].y.astype(int)])\n",
    "            a=np.vstack((a,b))\n",
    "            i+=1\n",
    "        else:\n",
    "            break\n",
    "    hat(a @ R,u)\n",
    "plt.show()"
   ]
  },
  {
   "cell_type": "markdown",
   "metadata": {},
   "source": [
    "# manipulate images"
   ]
  },
  {
   "cell_type": "markdown",
   "metadata": {},
   "source": [
    "<font color=purple>\n",
    "    plt.gca().invert_xaxis()   </font>  \n",
    "this could flip the image by invert x axis"
   ]
  },
  {
   "cell_type": "code",
   "execution_count": 109,
   "metadata": {},
   "outputs": [],
   "source": [
    "fx=np.array([[-1,0],[0,1]])#the flip-x matrix Fx that flips (mirrors) the image on y axis\n",
    "sx=np.array([[1,0],[0,2]])#the stretch-y matrix Sy(s),stretch (or squish) the y components by amount s while leaving x components untouched"
   ]
  },
  {
   "cell_type": "code",
   "execution_count": 110,
   "metadata": {},
   "outputs": [
    {
     "name": "stderr",
     "output_type": "stream",
     "text": [
      "C:\\Users\\Zhu\\Anaconda3\\lib\\site-packages\\ipykernel_launcher.py:2: MatplotlibDeprecationWarning: Adding an axes using the same arguments as a previous axes currently reuses the earlier instance.  In a future version, a new instance will always be created and returned.  Meanwhile, this warning can be suppressed, and the future behavior ensured, by passing a unique label to each axes instance.\n",
      "  \n"
     ]
    },
    {
     "data": {
      "image/png": "[encoded data removed]",
      "text/plain": [
       "<Figure size 432x288 with 1 Axes>"
      ]
     },
     "metadata": {
      "needs_background": "light"
     },
     "output_type": "display_data"
    }
   ],
   "source": [
    "i=0\n",
    "for u in unique:\n",
    "    a=np.array([df.iloc[i].x.astype(int),df.iloc[i].y.astype(int)])\n",
    "    while i<15:\n",
    "        if df.iloc[i].group==u:\n",
    "            b=np.array([df.iloc[i].x.astype(int),df.iloc[i].y.astype(int)])\n",
    "            a=np.vstack((a,b))\n",
    "            i+=1\n",
    "        else:\n",
    "            break\n",
    "    hat(a @ fx,u)\n",
    "plt.show()"
   ]
  },
  {
   "cell_type": "code",
   "execution_count": 111,
   "metadata": {
    "scrolled": true
   },
   "outputs": [
    {
     "data": {
      "image/png": "[encoded data removed]",
      "text/plain": [
       "<Figure size 432x288 with 1 Axes>"
      ]
     },
     "metadata": {
      "needs_background": "light"
     },
     "output_type": "display_data"
    }
   ],
   "source": [
    "t=np.array([[1,2],[2,1],[1,0]])\n",
    "tf=t@fx\n",
    "ts=t@sx\n",
    "fig = plt.figure()\n",
    "ax = fig.add_subplot(1,1,1)\n",
    "ax.plot(tf[:,0], tf[:,1],marker='o',linewidth=1, c='black') #flip plot\n",
    "ax.plot(t[:,0], t[:,1],marker='o',linewidth=1, c='red')#original plot\n",
    "ax.plot(ts[:,0], ts[:,1],marker='o',linewidth=1, c='blue')#stretch plot\n",
    "ax.set_aspect('equal') \n",
    "plt.show()"
   ]
  },
  {
   "cell_type": "code",
   "execution_count": 112,
   "metadata": {},
   "outputs": [],
   "source": [
    "r1=-45*np.pi/180 #radiance of rotating 45 degree counterclockwise\n",
    "R1=np.array([[np.cos(r1),-np.sin(r1)],[np.sin(r1),np.cos(r1)]])\n",
    "r2=45*np.pi/180 #radiance of rotating 45 degree clockwise\n",
    "R2=np.array([[np.cos(r2),-np.sin(r2)],[np.sin(r2),np.cos(r2)]])"
   ]
  },
  {
   "cell_type": "code",
   "execution_count": 113,
   "metadata": {},
   "outputs": [
    {
     "data": {
      "image/png": "[encoded data removed]",
      "text/plain": [
       "<Figure size 432x288 with 1 Axes>"
      ]
     },
     "metadata": {
      "needs_background": "light"
     },
     "output_type": "display_data"
    }
   ],
   "source": [
    "sample=np.array([[0,0],[0,2],[1,1]])\n",
    "fig = plt.figure()\n",
    "ax = fig.add_subplot(1,1,1)\n",
    "ax.plot(sample[:,0], sample[:,1],marker='o',linewidth=1, c='black')\n",
    "ax.set_aspect('equal') \n",
    "plt.show()"
   ]
  },
  {
   "cell_type": "markdown",
   "metadata": {},
   "source": [
    "rotate 45 degrees counterclockwise"
   ]
  },
  {
   "cell_type": "code",
   "execution_count": 114,
   "metadata": {},
   "outputs": [
    {
     "data": {
      "image/png": "[encoded data removed]",
      "text/plain": [
       "<Figure size 432x288 with 1 Axes>"
      ]
     },
     "metadata": {
      "needs_background": "light"
     },
     "output_type": "display_data"
    }
   ],
   "source": [
    "s1= sample @ R1\n",
    "fig = plt.figure()\n",
    "ax = fig.add_subplot(1,1,1)\n",
    "ax.plot(s1[:,0], s1[:,1],marker='o',linewidth=1, c='black') \n",
    "ax.set_aspect('equal') \n",
    "plt.show()"
   ]
  },
  {
   "cell_type": "markdown",
   "metadata": {},
   "source": [
    "flip"
   ]
  },
  {
   "cell_type": "code",
   "execution_count": 115,
   "metadata": {
    "scrolled": true
   },
   "outputs": [
    {
     "data": {
      "image/png": "[encoded data removed]",
      "text/plain": [
       "<Figure size 432x288 with 1 Axes>"
      ]
     },
     "metadata": {
      "needs_background": "light"
     },
     "output_type": "display_data"
    }
   ],
   "source": [
    "s2=s1 @ fx\n",
    "fig = plt.figure()\n",
    "ax = fig.add_subplot(1,1,1)\n",
    "ax.plot(s2[:,0], s2[:,1],marker='o',linewidth=1, c='black') \n",
    "ax.set_aspect('equal') \n",
    "plt.show()"
   ]
  },
  {
   "cell_type": "markdown",
   "metadata": {},
   "source": [
    "stretch"
   ]
  },
  {
   "cell_type": "code",
   "execution_count": 116,
   "metadata": {},
   "outputs": [
    {
     "data": {
      "image/png": "[encoded data removed]",
      "text/plain": [
       "<Figure size 432x288 with 1 Axes>"
      ]
     },
     "metadata": {
      "needs_background": "light"
     },
     "output_type": "display_data"
    }
   ],
   "source": [
    "s3 = s2 @ sx\n",
    "fig = plt.figure()\n",
    "ax = fig.add_subplot(1,1,1)\n",
    "ax.plot(s3[:,0], s3[:,1],marker='o',linewidth=1, c='black') #flip plot\n",
    "ax.set_aspect('equal') \n",
    "plt.show()"
   ]
  },
  {
   "cell_type": "markdown",
   "metadata": {},
   "source": [
    "rotate by 45 degrees clockwise"
   ]
  },
  {
   "cell_type": "code",
   "execution_count": 117,
   "metadata": {
    "scrolled": true
   },
   "outputs": [
    {
     "data": {
      "image/png": "[encoded data removed]",
      "text/plain": [
       "<Figure size 432x288 with 1 Axes>"
      ]
     },
     "metadata": {
      "needs_background": "light"
     },
     "output_type": "display_data"
    }
   ],
   "source": [
    "s4= s3 @ R2\n",
    "fig = plt.figure()\n",
    "ax = fig.add_subplot(1,1,1)\n",
    "ax.plot(s4[:,0], s4[:,1],marker='o',linewidth=1, c='black') \n",
    "ax.set_aspect('equal') \n",
    "plt.show()"
   ]
  },
  {
   "cell_type": "markdown",
   "metadata": {},
   "source": [
    "(A @ B) @ C = A @ (B @ C)"
   ]
  },
  {
   "cell_type": "code",
   "execution_count": 118,
   "metadata": {
    "scrolled": true
   },
   "outputs": [
    {
     "data": {
      "text/plain": [
       "array([[0.5, 1.5],\n",
       "       [1.5, 0.5]])"
      ]
     },
     "execution_count": 118,
     "metadata": {},
     "output_type": "execute_result"
    }
   ],
   "source": [
    "X=R1 @ fx @ sx @ R2\n",
    "X"
   ]
  },
  {
   "cell_type": "code",
   "execution_count": 119,
   "metadata": {},
   "outputs": [
    {
     "data": {
      "image/png": "[encoded data removed]",
      "text/plain": [
       "<Figure size 432x288 with 1 Axes>"
      ]
     },
     "metadata": {
      "needs_background": "light"
     },
     "output_type": "display_data"
    }
   ],
   "source": [
    "s5=sample @ X\n",
    "fig = plt.figure()\n",
    "ax = fig.add_subplot(1,1,1)\n",
    "ax.plot(s5[:,0], s5[:,1],marker='o',linewidth=1, c='black') \n",
    "ax.set_aspect('equal') \n",
    "plt.show()"
   ]
  },
  {
   "cell_type": "markdown",
   "metadata": {},
   "source": [
    "X is the a single linear transformation matrix."
   ]
  },
  {
   "cell_type": "markdown",
   "metadata": {},
   "source": [
    "# Manipulate bitmap images"
   ]
  },
  {
   "cell_type": "markdown",
   "metadata": {},
   "source": [
    "the sample"
   ]
  },
  {
   "cell_type": "markdown",
   "metadata": {},
   "source": [
    "图片的坐标，左上角是（0,0）"
   ]
  },
  {
   "cell_type": "code",
   "execution_count": 10,
   "metadata": {
    "scrolled": true
   },
   "outputs": [
    {
     "data": {
      "image/png": "[encoded data removed]",
      "text/plain": [
       "<Figure size 216x216 with 1 Axes>"
      ]
     },
     "metadata": {
      "needs_background": "light"
     },
     "output_type": "display_data"
    }
   ],
   "source": [
    "from matplotlib.image import imread\n",
    "img = imread('smiley.png')\n",
    "# note: rows x columns x colors (not width x height!)\n",
    "R = img[:,:,1] # select color channel 2, G\n",
    "## create coordinate matrix\n",
    "xx, yy = np.meshgrid(np.arange(R.shape[1]),#第二列放在x\n",
    "                     np.arange(R.shape[0], 0, -1)) #第一列放在y\n",
    "X = np.stack((xx.ravel(), yy.ravel()), axis=1)\n",
    "fig = plt.figure(figsize=(3,3))\n",
    "ax = fig.add_subplot(1,1,1)\n",
    "ax.scatter(X[:,0], X[:,1], c=R.ravel(), marker='.', cmap=\"Greys_r\")\n",
    "ax.set_aspect('equal')\n",
    "plt.show()"
   ]
  },
  {
   "cell_type": "markdown",
   "metadata": {},
   "source": [
    "plot dont-own-tv.png in an analogous fashion"
   ]
  },
  {
   "cell_type": "code",
   "execution_count": 4,
   "metadata": {},
   "outputs": [
    {
     "ename": "NameError",
     "evalue": "name 'np' is not defined",
     "output_type": "error",
     "traceback": [
      "\u001b[1;31m---------------------------------------------------------------------------\u001b[0m",
      "\u001b[1;31mNameError\u001b[0m                                 Traceback (most recent call last)",
      "\u001b[1;32m<ipython-input-4-35b4fa773e51>\u001b[0m in \u001b[0;36m<module>\u001b[1;34m\u001b[0m\n\u001b[0;32m      3\u001b[0m \u001b[0mR\u001b[0m \u001b[1;33m=\u001b[0m \u001b[0mimg\u001b[0m\u001b[1;33m[\u001b[0m\u001b[1;33m:\u001b[0m\u001b[1;33m,\u001b[0m\u001b[1;33m:\u001b[0m\u001b[1;33m,\u001b[0m\u001b[1;36m2\u001b[0m\u001b[1;33m]\u001b[0m \u001b[1;31m# select color channel 2, G\u001b[0m\u001b[1;33m\u001b[0m\u001b[1;33m\u001b[0m\u001b[0m\n\u001b[0;32m      4\u001b[0m \u001b[1;31m## create coordinate matrix\u001b[0m\u001b[1;33m\u001b[0m\u001b[1;33m\u001b[0m\u001b[1;33m\u001b[0m\u001b[0m\n\u001b[1;32m----> 5\u001b[1;33m xx, yy = np.meshgrid(np.arange(R.shape[1]),\n\u001b[0m\u001b[0;32m      6\u001b[0m np.arange(R.shape[0], 0, -1))\n\u001b[0;32m      7\u001b[0m \u001b[0mX\u001b[0m \u001b[1;33m=\u001b[0m \u001b[0mnp\u001b[0m\u001b[1;33m.\u001b[0m\u001b[0mstack\u001b[0m\u001b[1;33m(\u001b[0m\u001b[1;33m(\u001b[0m\u001b[0mxx\u001b[0m\u001b[1;33m.\u001b[0m\u001b[0mravel\u001b[0m\u001b[1;33m(\u001b[0m\u001b[1;33m)\u001b[0m\u001b[1;33m,\u001b[0m \u001b[0myy\u001b[0m\u001b[1;33m.\u001b[0m\u001b[0mravel\u001b[0m\u001b[1;33m(\u001b[0m\u001b[1;33m)\u001b[0m\u001b[1;33m)\u001b[0m\u001b[1;33m,\u001b[0m \u001b[0maxis\u001b[0m\u001b[1;33m=\u001b[0m\u001b[1;36m1\u001b[0m\u001b[1;33m)\u001b[0m\u001b[1;33m\u001b[0m\u001b[1;33m\u001b[0m\u001b[0m\n",
      "\u001b[1;31mNameError\u001b[0m: name 'np' is not defined"
     ]
    }
   ],
   "source": [
    "from matplotlib.image import imread\n",
    "img = imread('dont-own-tv.png')\n",
    "R = img[:,:,2] # select color channel 2, G\n",
    "## create coordinate matrix\n",
    "xx, yy = np.meshgrid(np.arange(R.shape[1]),\n",
    "np.arange(R.shape[0], 0, -1))\n",
    "X = np.stack((xx.ravel(), yy.ravel()), axis=1)\n",
    "fig = plt.figure(figsize=(3,3))\n",
    "ax = fig.add_subplot(1,1,1)\n",
    "ax.scatter(X[:,0], X[:,1], c=R.ravel(), marker='.', cmap=\"Greys_r\")\n",
    "ax.set_aspect('equal')\n",
    "plt.show()\n",
    "#get the shape size in order to calculate for the exact stretch matrix"
   ]
  },
  {
   "cell_type": "code",
   "execution_count": 133,
   "metadata": {},
   "outputs": [
    {
     "data": {
      "text/plain": [
       "(509, 806, 3)"
      ]
     },
     "execution_count": 133,
     "metadata": {},
     "output_type": "execute_result"
    }
   ],
   "source": [
    "img.shape"
   ]
  },
  {
   "cell_type": "markdown",
   "metadata": {},
   "source": [
    "stretch"
   ]
  },
  {
   "cell_type": "code",
   "execution_count": 122,
   "metadata": {
    "scrolled": true
   },
   "outputs": [
    {
     "data": {
      "image/png": "[encoded data removed]",
      "text/plain": [
       "<Figure size 216x216 with 1 Axes>"
      ]
     },
     "metadata": {
      "needs_background": "light"
     },
     "output_type": "display_data"
    }
   ],
   "source": [
    "sx2=([[1,0],[0,300/189]])# adjust the stretch matrix to make it nearly squared\n",
    "v = X @ sx2\n",
    "xx, yy = np.meshgrid(np.arange(R.shape[1]),\n",
    "np.arange(R.shape[0], 0, -1))\n",
    "X = np.stack((xx.ravel(), yy.ravel()), axis=1)\n",
    "fig = plt.figure(figsize=(3,3))\n",
    "ax = fig.add_subplot(1,1,1)\n",
    "ax.scatter(v[:,0], v[:,1], c=R.ravel(), marker='.', cmap=\"Greys_r\")\n",
    "ax.set_aspect('equal')\n",
    "fig.savefig('picture.png',dpi=600)"
   ]
  },
  {
   "cell_type": "markdown",
   "metadata": {},
   "source": [
    "crop the arrowhead"
   ]
  },
  {
   "cell_type": "code",
   "execution_count": 2,
   "metadata": {},
   "outputs": [
    {
     "data": {
      "text/plain": [
       "(1800, 1800)"
      ]
     },
     "execution_count": 2,
     "metadata": {},
     "output_type": "execute_result"
    }
   ],
   "source": [
    "from PIL import Image\n",
    "im = Image.open(\"picture.png\")\n",
    "im.size"
   ]
  },
  {
   "cell_type": "markdown",
   "metadata": {},
   "source": [
    "I tried again and again to locate the arrowhead."
   ]
  },
  {
   "cell_type": "markdown",
   "metadata": {},
   "source": [
    "crop the arrowhead"
   ]
  },
  {
   "cell_type": "code",
   "execution_count": 139,
   "metadata": {},
   "outputs": [],
   "source": [
    "crop_rectangle =((1333,692,1467,833))\n",
    "cropped_im = im.crop(crop_rectangle)\n",
    "cropped_im.show()"
   ]
  },
  {
   "cell_type": "markdown",
   "metadata": {},
   "source": [
    "rotate it and save the image"
   ]
  },
  {
   "cell_type": "code",
   "execution_count": 140,
   "metadata": {},
   "outputs": [],
   "source": [
    "rotated_im=cropped_im.rotate(235)\n",
    "rotated_im.show()\n",
    "rotated_im.save(\"rotated_im.png\")"
   ]
  },
  {
   "cell_type": "markdown",
   "metadata": {},
   "source": [
    "I don't know how to do it, so I used the same method as above."
   ]
  },
  {
   "cell_type": "code",
   "execution_count": 7,
   "metadata": {},
   "outputs": [
    {
     "data": {
      "text/plain": [
       "(141, 134, 4)"
      ]
     },
     "execution_count": 7,
     "metadata": {},
     "output_type": "execute_result"
    }
   ],
   "source": [
    "img2 = imread('rotated_im.png')\n",
    "img2.shape"
   ]
  },
  {
   "cell_type": "code",
   "execution_count": 142,
   "metadata": {},
   "outputs": [],
   "source": [
    "from matplotlib.colors import LinearSegmentedColormap\n",
    "color=['red','white']\n",
    "cm=LinearSegmentedColormap.from_list('arrow',color, N=256)"
   ]
  },
  {
   "cell_type": "code",
   "execution_count": 143,
   "metadata": {},
   "outputs": [
    {
     "data": {
      "image/png": "[encoded data removed]",
      "text/plain": [
       "<Figure size 216x216 with 1 Axes>"
      ]
     },
     "metadata": {
      "needs_background": "light"
     },
     "output_type": "display_data"
    }
   ],
   "source": [
    "R = img2[:,:,2] # select color channel 2, G\n",
    "## create coordinate matrix\n",
    "xx, yy = np.meshgrid(np.arange(R.shape[1]),\n",
    "np.arange(R.shape[0], 0, -1))\n",
    "X = np.stack((xx.ravel(), yy.ravel()), axis=1)\n",
    "fig = plt.figure(figsize=(3,3))\n",
    "ax = fig.add_subplot(1,1,1)\n",
    "ax.scatter(X[:,0], X[:,1], c=R.ravel(), marker='.', cmap=cm)\n",
    "ax.set_aspect('equal')\n",
    "plt.show()"
   ]
  },
  {
   "cell_type": "markdown",
   "metadata": {},
   "source": [
    "If I use the cropped image, there wouldn't be the four cornors. And I really don't know how to exclude these cornors."
   ]
  },
  {
   "cell_type": "markdown",
   "metadata": {},
   "source": [
    "# my draft cells with tears and pains"
   ]
  },
  {
   "cell_type": "markdown",
   "metadata": {},
   "source": [
    "A=np.array([[0,22],[16,-18],[-16,-18],[0,22]])\n",
    "B=np.array([[-3,7],[-3,14]])\n",
    "C=np.array([[2,7],[2,14]])\n",
    "D=np.array([[-11,-10],[-7,-17],[-3,-10],[2,-17],[6,-10],[10,-17],[12,-13]])"
   ]
  },
  {
   "cell_type": "markdown",
   "metadata": {},
   "source": [
    "import math\n",
    "nrows = int(math.ceil(len(grouped)/2.))\n",
    "#fig, axs = plt.subplots(nrows,2)\n",
    "fig = plt.figure()\n",
    "ax = fig.add_subplot(1,1,1)\n",
    "for (name, df_hat), ax in zip(grouped, axs.flat):\n",
    "    df_hat.plot(x='x',y='y', ax=ax)\n"
   ]
  },
  {
   "cell_type": "markdown",
   "metadata": {},
   "source": [
    "df['position']=df['x'].str[:2]"
   ]
  },
  {
   "cell_type": "markdown",
   "metadata": {},
   "source": [
    "from PIL import Image\n",
    "im = Image.open(\"dont-own-tv.png\")\n",
    "pixels=im.load()\n",
    "#\\crop_rectangle = (50, 50, 200, 200)\n",
    "#cropped_im = im.crop(crop_rectangle)\n",
    "#cropped_im.show()\n",
    "print (pixels[200,200])"
   ]
  },
  {
   "cell_type": "markdown",
   "metadata": {},
   "source": [
    "im.size"
   ]
  },
  {
   "cell_type": "markdown",
   "metadata": {},
   "source": [
    "a=np.array([0,0])\n",
    "for x in range(600,806):\n",
    "    for y in range (200,509):\n",
    "        if pixels[x,y]==(241,31,31):\n",
    "            b=np.array([x,y])\n",
    "            a=np.vstack((a,b))"
   ]
  },
  {
   "cell_type": "markdown",
   "metadata": {},
   "source": [
    "A=np.delete(U[0],0,0)\n",
    "B=U[1]\n",
    "C=U[2]\n",
    "D=U[3]"
   ]
  },
  {
   "cell_type": "markdown",
   "metadata": {
    "scrolled": true
   },
   "source": [
    "fig = plt.figure()\n",
    "ax = fig.add_subplot(1,1,1)\n",
    "ax.plot(A[:,0], A[:,1],marker='o',linewidth=1, c='black')\n",
    "ax.plot(B[:,0], B[:,1],marker='o',linewidth=1, c='brown')\n",
    "ax.plot(C[:,0], C[:,1],marker='o',linewidth=1, c='brown')\n",
    "ax.plot(D[:,0], D[:,1],marker='o',linewidth=2, c='red')\n",
    "ax.set_aspect('equal') \n",
    "plt.show()"
   ]
  },
  {
   "cell_type": "markdown",
   "metadata": {},
   "source": [
    "Ar=A @ R\n",
    "Br=B @ R\n",
    "Cr=C @ R\n",
    "Dr=D @ R\n",
    "fig = plt.figure()\n",
    "ax = fig.add_subplot(1,1,1)\n",
    "ax.plot(Ar[:,0], Ar[:,1],linewidth=1, c='black')\n",
    "ax.plot(Br[:,0], Br[:,1],linewidth=1, c='brown')\n",
    "ax.plot(Cr[:,0], Cr[:,1],linewidth=1, c='brown')\n",
    "ax.plot(Dr[:,0], Dr[:,1],linewidth=2, c='red')\n",
    "ax.set_aspect('equal') \n",
    "plt.show()"
   ]
  },
  {
   "cell_type": "markdown",
   "metadata": {},
   "source": [
    "pixels=im.load()\n",
    "a=np.array([0,0])\n",
    "ah = LinearSegmentedColormap.from_list('arrow', (1,0,0), N=256,gamma=1.0)\n",
    "for x in range(1333,1467):\n",
    "    for y in range (692,833):\n",
    "        #if pixels[x,y]==(241,31,31):\n",
    "            b=np.array([x,y])\n",
    "            a=np.vstack((a,b))"
   ]
  }
 ],
 "metadata": {
  "kernelspec": {
   "display_name": "Python 3",
   "language": "python",
   "name": "python3"
  },
  "language_info": {
   "codemirror_mode": {
    "name": "ipython",
    "version": 3
   },
   "file_extension": ".py",
   "mimetype": "text/x-python",
   "name": "python",
   "nbconvert_exporter": "python",
   "pygments_lexer": "ipython3",
   "version": "3.7.6"
  },
  "toc": {
   "base_numbering": 1,
   "nav_menu": {},
   "number_sections": true,
   "sideBar": true,
   "skip_h1_title": false,
   "title_cell": "Table of Contents",
   "title_sidebar": "Contents",
   "toc_cell": false,
   "toc_position": {},
   "toc_section_display": true,
   "toc_window_display": false
  }
 },
 "nbformat": 4,
 "nbformat_minor": 2
}
