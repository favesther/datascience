{
 "cells": [
  {
   "cell_type": "markdown",
   "metadata": {},
   "source": [
    "# Part 1: set up"
   ]
  },
  {
   "cell_type": "code",
   "execution_count": 1,
   "metadata": {},
   "outputs": [],
   "source": [
    "import pandas as pd\n",
    "import numpy as np\n",
    "import string\n",
    "from nltk.corpus import stopwords\n",
    "from nltk.stem import PorterStemmer\n",
    "from sklearn.feature_extraction.text import CountVectorizer, TfidfVectorizer\n",
    "from sklearn.decomposition import LatentDirichletAllocation as LDA\n",
    "import pyLDAvis\n",
    "import pyLDAvis.sklearn\n",
    "\n",
    "import matplotlib.pyplot as plt\n",
    "\n",
    "from sklearn.metrics import accuracy_score, classification_report\n",
    "from sklearn.linear_model import LogisticRegression\n",
    "from sklearn import naive_bayes"
   ]
  },
  {
   "cell_type": "code",
   "execution_count": 2,
   "metadata": {},
   "outputs": [],
   "source": [
    "# load train datasets\n",
    "#get path\n",
    "import os\n",
    "train_path = r'train' \n",
    "import glob\n",
    "all_train_files = glob.glob(train_path + \"/*.txt\")\n",
    "li = []\n",
    "for filename in all_train_files:\n",
    "    #read the text files and merge them into one DataFrame\n",
    "    df = pd.read_csv(filename, sep=':',header=None)\n",
    "    li.append(df)\n",
    "#convert list to DataFrame\n",
    "train = pd.concat(li, ignore_index=True)"
   ]
  },
  {
   "cell_type": "code",
   "execution_count": 3,
   "metadata": {},
   "outputs": [
    {
     "data": {
      "text/html": [
       "<div>\n",
       "<style scoped>\n",
       "    .dataframe tbody tr th:only-of-type {\n",
       "        vertical-align: middle;\n",
       "    }\n",
       "\n",
       "    .dataframe tbody tr th {\n",
       "        vertical-align: top;\n",
       "    }\n",
       "\n",
       "    .dataframe thead th {\n",
       "        text-align: right;\n",
       "    }\n",
       "</style>\n",
       "<table border=\"1\" class=\"dataframe\">\n",
       "  <thead>\n",
       "    <tr style=\"text-align: right;\">\n",
       "      <th></th>\n",
       "      <th>0</th>\n",
       "      <th>1</th>\n",
       "      <th>2</th>\n",
       "      <th>3</th>\n",
       "    </tr>\n",
       "  </thead>\n",
       "  <tbody>\n",
       "    <tr>\n",
       "      <th>0</th>\n",
       "      <td>Joe Biden</td>\n",
       "      <td>I refuse to postpone any longer taking on cli...</td>\n",
       "      <td>NaN</td>\n",
       "      <td>NaN</td>\n",
       "    </tr>\n",
       "    <tr>\n",
       "      <th>1</th>\n",
       "      <td>Joe Biden</td>\n",
       "      <td>Because it got done before. I’m the only one ...</td>\n",
       "      <td>NaN</td>\n",
       "      <td>NaN</td>\n",
       "    </tr>\n",
       "    <tr>\n",
       "      <th>2</th>\n",
       "      <td>Joe Biden</td>\n",
       "      <td>No, what I said was, the question… Speak to c...</td>\n",
       "      <td>NaN</td>\n",
       "      <td>NaN</td>\n",
       "    </tr>\n",
       "    <tr>\n",
       "      <th>3</th>\n",
       "      <td>Joe Biden</td>\n",
       "      <td>What Latinos should look at is, comparing thi...</td>\n",
       "      <td>NaN</td>\n",
       "      <td>NaN</td>\n",
       "    </tr>\n",
       "    <tr>\n",
       "      <th>4</th>\n",
       "      <td>Joe Biden</td>\n",
       "      <td>What I would do as president is several more ...</td>\n",
       "      <td>NaN</td>\n",
       "      <td>NaN</td>\n",
       "    </tr>\n",
       "    <tr>\n",
       "      <th>...</th>\n",
       "      <td>...</td>\n",
       "      <td>...</td>\n",
       "      <td>...</td>\n",
       "      <td>...</td>\n",
       "    </tr>\n",
       "    <tr>\n",
       "      <th>523</th>\n",
       "      <td>Andrew Yang</td>\n",
       "      <td>I would not repeal the tariffs on day one, bu...</td>\n",
       "      <td>NaN</td>\n",
       "      <td>NaN</td>\n",
       "    </tr>\n",
       "    <tr>\n",
       "      <th>524</th>\n",
       "      <td>Andrew Yang</td>\n",
       "      <td>So to follow up on what Elizabeth said, why a...</td>\n",
       "      <td>NaN</td>\n",
       "      <td>NaN</td>\n",
       "    </tr>\n",
       "    <tr>\n",
       "      <th>525</th>\n",
       "      <td>Andrew Yang</td>\n",
       "      <td>Let me be clear, I am pro-good school. I’ve g...</td>\n",
       "      <td>NaN</td>\n",
       "      <td>NaN</td>\n",
       "    </tr>\n",
       "    <tr>\n",
       "      <th>526</th>\n",
       "      <td>Andrew Yang</td>\n",
       "      <td>We need to lighten up the emphasis on standar...</td>\n",
       "      <td>NaN</td>\n",
       "      <td>NaN</td>\n",
       "    </tr>\n",
       "    <tr>\n",
       "      <th>527</th>\n",
       "      <td>Andrew Yang</td>\n",
       "      <td>I was an unhappy lawyer for five whole months...</td>\n",
       "      <td>NaN</td>\n",
       "      <td>NaN</td>\n",
       "    </tr>\n",
       "  </tbody>\n",
       "</table>\n",
       "<p>528 rows × 4 columns</p>\n",
       "</div>"
      ],
      "text/plain": [
       "               0                                                  1    2    3\n",
       "0      Joe Biden   I refuse to postpone any longer taking on cli...  NaN  NaN\n",
       "1      Joe Biden   Because it got done before. I’m the only one ...  NaN  NaN\n",
       "2      Joe Biden   No, what I said was, the question… Speak to c...  NaN  NaN\n",
       "3      Joe Biden   What Latinos should look at is, comparing thi...  NaN  NaN\n",
       "4      Joe Biden   What I would do as president is several more ...  NaN  NaN\n",
       "..           ...                                                ...  ...  ...\n",
       "523  Andrew Yang   I would not repeal the tariffs on day one, bu...  NaN  NaN\n",
       "524  Andrew Yang   So to follow up on what Elizabeth said, why a...  NaN  NaN\n",
       "525  Andrew Yang   Let me be clear, I am pro-good school. I’ve g...  NaN  NaN\n",
       "526  Andrew Yang   We need to lighten up the emphasis on standar...  NaN  NaN\n",
       "527  Andrew Yang   I was an unhappy lawyer for five whole months...  NaN  NaN\n",
       "\n",
       "[528 rows x 4 columns]"
      ]
     },
     "execution_count": 3,
     "metadata": {},
     "output_type": "execute_result"
    }
   ],
   "source": [
    "train"
   ]
  },
  {
   "cell_type": "markdown",
   "metadata": {},
   "source": [
    "As the seperate was ':', it may appear in text. Therefore, we have more columns than expected. I need to find the lines with such situation and merge the texts."
   ]
  },
  {
   "cell_type": "code",
   "execution_count": 4,
   "metadata": {},
   "outputs": [
    {
     "data": {
      "text/html": [
       "<div>\n",
       "<style scoped>\n",
       "    .dataframe tbody tr th:only-of-type {\n",
       "        vertical-align: middle;\n",
       "    }\n",
       "\n",
       "    .dataframe tbody tr th {\n",
       "        vertical-align: top;\n",
       "    }\n",
       "\n",
       "    .dataframe thead th {\n",
       "        text-align: right;\n",
       "    }\n",
       "</style>\n",
       "<table border=\"1\" class=\"dataframe\">\n",
       "  <thead>\n",
       "    <tr style=\"text-align: right;\">\n",
       "      <th></th>\n",
       "      <th>0</th>\n",
       "      <th>1</th>\n",
       "      <th>2</th>\n",
       "      <th>3</th>\n",
       "    </tr>\n",
       "  </thead>\n",
       "  <tbody>\n",
       "    <tr>\n",
       "      <th>37</th>\n",
       "      <td>Joe Biden</td>\n",
       "      <td>Well, look, the next president of the United ...</td>\n",
       "      <td>Defeat Donald Trump, that’s number one; and, ...</td>\n",
       "      <td>Who is most likely to do what needs to be don...</td>\n",
       "    </tr>\n",
       "  </tbody>\n",
       "</table>\n",
       "</div>"
      ],
      "text/plain": [
       "            0                                                  1  \\\n",
       "37  Joe Biden   Well, look, the next president of the United ...   \n",
       "\n",
       "                                                    2  \\\n",
       "37   Defeat Donald Trump, that’s number one; and, ...   \n",
       "\n",
       "                                                    3  \n",
       "37   Who is most likely to do what needs to be don...  "
      ]
     },
     "execution_count": 4,
     "metadata": {},
     "output_type": "execute_result"
    }
   ],
   "source": [
    "train.dropna()"
   ]
  },
  {
   "cell_type": "markdown",
   "metadata": {},
   "source": [
    "There's only one line with multiple \":\" in text."
   ]
  },
  {
   "cell_type": "code",
   "execution_count": 5,
   "metadata": {},
   "outputs": [],
   "source": [
    "#merge and drop the other two\n",
    "train.iloc[37][1]=train.iloc[37][1]+train.iloc[37][2]+train.iloc[37][3]\n",
    "train=train.drop([2,3],axis=1)\n",
    "#rename the columns\n",
    "train=train.rename(columns={0:\"user\",1:\"quote\"})"
   ]
  },
  {
   "cell_type": "code",
   "execution_count": 6,
   "metadata": {},
   "outputs": [],
   "source": [
    "# load test datasets\n",
    "#get path\n",
    "test_path = r'test' \n",
    "all_test_files = glob.glob(test_path + \"/*.txt\")\n",
    "li = []\n",
    "for filename in all_test_files:\n",
    "    #read the text files and merge them into one DataFrame\n",
    "    df = pd.read_csv(filename, sep='&',header=None)\n",
    "    li.append(df)\n",
    "#convert list to DataFrame\n",
    "test = pd.concat(li, ignore_index=True)"
   ]
  },
  {
   "cell_type": "markdown",
   "metadata": {},
   "source": [
    "I found when I didn't set a seperation, the text seperates automatically when there's a notation. So I set & as the seperation, as maybe no text include one. "
   ]
  },
  {
   "cell_type": "code",
   "execution_count": 7,
   "metadata": {},
   "outputs": [
    {
     "data": {
      "text/html": [
       "<div>\n",
       "<style scoped>\n",
       "    .dataframe tbody tr th:only-of-type {\n",
       "        vertical-align: middle;\n",
       "    }\n",
       "\n",
       "    .dataframe tbody tr th {\n",
       "        vertical-align: top;\n",
       "    }\n",
       "\n",
       "    .dataframe thead th {\n",
       "        text-align: right;\n",
       "    }\n",
       "</style>\n",
       "<table border=\"1\" class=\"dataframe\">\n",
       "  <thead>\n",
       "    <tr style=\"text-align: right;\">\n",
       "      <th></th>\n",
       "      <th>0</th>\n",
       "    </tr>\n",
       "  </thead>\n",
       "  <tbody>\n",
       "    <tr>\n",
       "      <th>0</th>\n",
       "      <td>You know, I served under General Dunford, way ...</td>\n",
       "    </tr>\n",
       "    <tr>\n",
       "      <th>1</th>\n",
       "      <td>You know, when President Kennedy announced the...</td>\n",
       "    </tr>\n",
       "    <tr>\n",
       "      <th>2</th>\n",
       "      <td>This is a problem which continues to get worse...</td>\n",
       "    </tr>\n",
       "    <tr>\n",
       "      <th>3</th>\n",
       "      <td>Well, first of all, I have no criticism of tha...</td>\n",
       "    </tr>\n",
       "    <tr>\n",
       "      <th>4</th>\n",
       "      <td>I’m running for president because our country ...</td>\n",
       "    </tr>\n",
       "    <tr>\n",
       "      <th>...</th>\n",
       "      <td>...</td>\n",
       "    </tr>\n",
       "    <tr>\n",
       "      <th>106</th>\n",
       "      <td>Dealing with high-level national security brie...</td>\n",
       "    </tr>\n",
       "    <tr>\n",
       "      <th>107</th>\n",
       "      <td>Sure, there’s one point we’re really missing o...</td>\n",
       "    </tr>\n",
       "    <tr>\n",
       "      <th>108</th>\n",
       "      <td>My entire career has been spent having one cli...</td>\n",
       "    </tr>\n",
       "    <tr>\n",
       "      <th>109</th>\n",
       "      <td>At least Bernie’s being honest here and saying...</td>\n",
       "    </tr>\n",
       "    <tr>\n",
       "      <th>110</th>\n",
       "      <td>Well, first of all, the plan we’re hearing dis...</td>\n",
       "    </tr>\n",
       "  </tbody>\n",
       "</table>\n",
       "<p>111 rows × 1 columns</p>\n",
       "</div>"
      ],
      "text/plain": [
       "                                                     0\n",
       "0    You know, I served under General Dunford, way ...\n",
       "1    You know, when President Kennedy announced the...\n",
       "2    This is a problem which continues to get worse...\n",
       "3    Well, first of all, I have no criticism of tha...\n",
       "4    I’m running for president because our country ...\n",
       "..                                                 ...\n",
       "106  Dealing with high-level national security brie...\n",
       "107  Sure, there’s one point we’re really missing o...\n",
       "108  My entire career has been spent having one cli...\n",
       "109  At least Bernie’s being honest here and saying...\n",
       "110  Well, first of all, the plan we’re hearing dis...\n",
       "\n",
       "[111 rows x 1 columns]"
      ]
     },
     "execution_count": 7,
     "metadata": {},
     "output_type": "execute_result"
    }
   ],
   "source": [
    "test"
   ]
  },
  {
   "cell_type": "code",
   "execution_count": 8,
   "metadata": {},
   "outputs": [
    {
     "data": {
      "text/html": [
       "<div>\n",
       "<style scoped>\n",
       "    .dataframe tbody tr th:only-of-type {\n",
       "        vertical-align: middle;\n",
       "    }\n",
       "\n",
       "    .dataframe tbody tr th {\n",
       "        vertical-align: top;\n",
       "    }\n",
       "\n",
       "    .dataframe thead th {\n",
       "        text-align: right;\n",
       "    }\n",
       "</style>\n",
       "<table border=\"1\" class=\"dataframe\">\n",
       "  <thead>\n",
       "    <tr style=\"text-align: right;\">\n",
       "      <th></th>\n",
       "      <th>quote</th>\n",
       "    </tr>\n",
       "  </thead>\n",
       "  <tbody>\n",
       "    <tr>\n",
       "      <th>0</th>\n",
       "      <td>You know, I served under General Dunford, way ...</td>\n",
       "    </tr>\n",
       "    <tr>\n",
       "      <th>1</th>\n",
       "      <td>You know, when President Kennedy announced the...</td>\n",
       "    </tr>\n",
       "    <tr>\n",
       "      <th>2</th>\n",
       "      <td>This is a problem which continues to get worse...</td>\n",
       "    </tr>\n",
       "    <tr>\n",
       "      <th>3</th>\n",
       "      <td>Well, first of all, I have no criticism of tha...</td>\n",
       "    </tr>\n",
       "    <tr>\n",
       "      <th>4</th>\n",
       "      <td>I’m running for president because our country ...</td>\n",
       "    </tr>\n",
       "    <tr>\n",
       "      <th>...</th>\n",
       "      <td>...</td>\n",
       "    </tr>\n",
       "    <tr>\n",
       "      <th>106</th>\n",
       "      <td>Dealing with high-level national security brie...</td>\n",
       "    </tr>\n",
       "    <tr>\n",
       "      <th>107</th>\n",
       "      <td>Sure, there’s one point we’re really missing o...</td>\n",
       "    </tr>\n",
       "    <tr>\n",
       "      <th>108</th>\n",
       "      <td>My entire career has been spent having one cli...</td>\n",
       "    </tr>\n",
       "    <tr>\n",
       "      <th>109</th>\n",
       "      <td>At least Bernie’s being honest here and saying...</td>\n",
       "    </tr>\n",
       "    <tr>\n",
       "      <th>110</th>\n",
       "      <td>Well, first of all, the plan we’re hearing dis...</td>\n",
       "    </tr>\n",
       "  </tbody>\n",
       "</table>\n",
       "<p>111 rows × 1 columns</p>\n",
       "</div>"
      ],
      "text/plain": [
       "                                                 quote\n",
       "0    You know, I served under General Dunford, way ...\n",
       "1    You know, when President Kennedy announced the...\n",
       "2    This is a problem which continues to get worse...\n",
       "3    Well, first of all, I have no criticism of tha...\n",
       "4    I’m running for president because our country ...\n",
       "..                                                 ...\n",
       "106  Dealing with high-level national security brie...\n",
       "107  Sure, there’s one point we’re really missing o...\n",
       "108  My entire career has been spent having one cli...\n",
       "109  At least Bernie’s being honest here and saying...\n",
       "110  Well, first of all, the plan we’re hearing dis...\n",
       "\n",
       "[111 rows x 1 columns]"
      ]
     },
     "execution_count": 8,
     "metadata": {},
     "output_type": "execute_result"
    }
   ],
   "source": [
    "#rename the columns\n",
    "test.rename(columns={0:\"quote\"})"
   ]
  },
  {
   "cell_type": "markdown",
   "metadata": {},
   "source": [
    "Are there any instances where the name of the file does not align\n",
    "with the name at the start of the text?"
   ]
  },
  {
   "cell_type": "code",
   "execution_count": 9,
   "metadata": {},
   "outputs": [],
   "source": [
    "#get a list of filenames\n",
    "list=[]\n",
    "for filename in all_train_files:\n",
    "    #refine the text a little bit to make it easier later\n",
    "    name=filename[6:16]\n",
    "    list.append(name)\n",
    "#insert a column of filenames\n",
    "train['filename']=list"
   ]
  },
  {
   "cell_type": "code",
   "execution_count": 10,
   "metadata": {},
   "outputs": [],
   "source": [
    "# extract the exact Last names \n",
    "new=train['filename'].str.split(\"_\",n=1,expand=True)\n",
    "train['filename']=new[0]\n",
    "old=train['user'].str.split(\" \",n=1,expand=True)\n",
    "train['username']=old[1]"
   ]
  },
  {
   "cell_type": "code",
   "execution_count": 11,
   "metadata": {},
   "outputs": [
    {
     "data": {
      "text/plain": [
       "False"
      ]
     },
     "execution_count": 11,
     "metadata": {},
     "output_type": "execute_result"
    }
   ],
   "source": [
    "# compare the two columns to find out whether there's any difference\n",
    "'False' in train['filename']==train['username']"
   ]
  },
  {
   "cell_type": "markdown",
   "metadata": {},
   "source": [
    "No, so let's move on."
   ]
  },
  {
   "cell_type": "code",
   "execution_count": 12,
   "metadata": {},
   "outputs": [
    {
     "data": {
      "text/html": [
       "<div>\n",
       "<style scoped>\n",
       "    .dataframe tbody tr th:only-of-type {\n",
       "        vertical-align: middle;\n",
       "    }\n",
       "\n",
       "    .dataframe tbody tr th {\n",
       "        vertical-align: top;\n",
       "    }\n",
       "\n",
       "    .dataframe thead th {\n",
       "        text-align: right;\n",
       "    }\n",
       "</style>\n",
       "<table border=\"1\" class=\"dataframe\">\n",
       "  <thead>\n",
       "    <tr style=\"text-align: right;\">\n",
       "      <th></th>\n",
       "      <th>user</th>\n",
       "      <th>quote</th>\n",
       "      <th>filename</th>\n",
       "    </tr>\n",
       "    <tr>\n",
       "      <th>username</th>\n",
       "      <th></th>\n",
       "      <th></th>\n",
       "      <th></th>\n",
       "    </tr>\n",
       "  </thead>\n",
       "  <tbody>\n",
       "    <tr>\n",
       "      <th>Biden</th>\n",
       "      <td>60</td>\n",
       "      <td>60</td>\n",
       "      <td>60</td>\n",
       "    </tr>\n",
       "    <tr>\n",
       "      <th>Booker</th>\n",
       "      <td>50</td>\n",
       "      <td>50</td>\n",
       "      <td>50</td>\n",
       "    </tr>\n",
       "    <tr>\n",
       "      <th>Buttigieg</th>\n",
       "      <td>60</td>\n",
       "      <td>60</td>\n",
       "      <td>60</td>\n",
       "    </tr>\n",
       "    <tr>\n",
       "      <th>Castro</th>\n",
       "      <td>23</td>\n",
       "      <td>23</td>\n",
       "      <td>23</td>\n",
       "    </tr>\n",
       "    <tr>\n",
       "      <th>Gabbard</th>\n",
       "      <td>16</td>\n",
       "      <td>16</td>\n",
       "      <td>16</td>\n",
       "    </tr>\n",
       "    <tr>\n",
       "      <th>Harris</th>\n",
       "      <td>40</td>\n",
       "      <td>40</td>\n",
       "      <td>40</td>\n",
       "    </tr>\n",
       "    <tr>\n",
       "      <th>Klobuchar</th>\n",
       "      <td>55</td>\n",
       "      <td>55</td>\n",
       "      <td>55</td>\n",
       "    </tr>\n",
       "    <tr>\n",
       "      <th>O'Rourke</th>\n",
       "      <td>33</td>\n",
       "      <td>33</td>\n",
       "      <td>33</td>\n",
       "    </tr>\n",
       "    <tr>\n",
       "      <th>Sanders</th>\n",
       "      <td>60</td>\n",
       "      <td>60</td>\n",
       "      <td>60</td>\n",
       "    </tr>\n",
       "    <tr>\n",
       "      <th>Steyer</th>\n",
       "      <td>19</td>\n",
       "      <td>19</td>\n",
       "      <td>19</td>\n",
       "    </tr>\n",
       "    <tr>\n",
       "      <th>Warren</th>\n",
       "      <td>80</td>\n",
       "      <td>80</td>\n",
       "      <td>80</td>\n",
       "    </tr>\n",
       "    <tr>\n",
       "      <th>Yang</th>\n",
       "      <td>32</td>\n",
       "      <td>32</td>\n",
       "      <td>32</td>\n",
       "    </tr>\n",
       "  </tbody>\n",
       "</table>\n",
       "</div>"
      ],
      "text/plain": [
       "           user  quote  filename\n",
       "username                        \n",
       "Biden        60     60        60\n",
       "Booker       50     50        50\n",
       "Buttigieg    60     60        60\n",
       "Castro       23     23        23\n",
       "Gabbard      16     16        16\n",
       "Harris       40     40        40\n",
       "Klobuchar    55     55        55\n",
       "O'Rourke     33     33        33\n",
       "Sanders      60     60        60\n",
       "Steyer       19     19        19\n",
       "Warren       80     80        80\n",
       "Yang         32     32        32"
      ]
     },
     "execution_count": 12,
     "metadata": {},
     "output_type": "execute_result"
    }
   ],
   "source": [
    "train.groupby('username').count()"
   ]
  },
  {
   "cell_type": "code",
   "execution_count": 13,
   "metadata": {},
   "outputs": [
    {
     "data": {
      "text/plain": [
       "12"
      ]
     },
     "execution_count": 13,
     "metadata": {},
     "output_type": "execute_result"
    }
   ],
   "source": [
    "# Create a vector of training labels\n",
    "labels=train.username.unique()\n",
    "len(labels)"
   ]
  },
  {
   "cell_type": "code",
   "execution_count": 14,
   "metadata": {},
   "outputs": [
    {
     "data": {
      "text/plain": [
       "(12, 528)"
      ]
     },
     "execution_count": 14,
     "metadata": {},
     "output_type": "execute_result"
    }
   ],
   "source": [
    "len(labels), len(train)"
   ]
  },
  {
   "cell_type": "markdown",
   "metadata": {},
   "source": [
    "The labels are not evenly distributed in the dataset. There are 12 labels and 528 training data."
   ]
  },
  {
   "cell_type": "code",
   "execution_count": 15,
   "metadata": {},
   "outputs": [],
   "source": [
    "#extract only quote from the train DataFrame\n",
    "training=train.quote\n",
    "#convert training data to lower case\n",
    "training=training.str.lower()\n",
    "# replace lines and tabs\n",
    "training=training.str.replace('\\n',' ')\n",
    "training=training.str.replace('\\t',' ')\n",
    "#Remove punctuation from the training data.\n",
    "training=training.str.replace(r\"[^\\w\\s']\",' ')\n",
    "training=training.str.strip()\n",
    "#remove stop words from the training data using the NLTK package's English stop word list.\n",
    "stops=stopwords.words('english')\n",
    "#try PorterStemmer first\n",
    "stemmer=PorterStemmer()\n",
    "training=training.apply(lambda x:' '.join([stemmer.stem(word) for word in x.split() if word not in stops]))"
   ]
  },
  {
   "cell_type": "markdown",
   "metadata": {},
   "source": [
    "are there words specific to this dataset that may be worthwhile\n",
    "to treat as stop words?  \n",
    "In order to find out extra stopwords, I want to read some samples."
   ]
  },
  {
   "cell_type": "code",
   "execution_count": 16,
   "metadata": {},
   "outputs": [
    {
     "name": "stdout",
     "output_type": "stream",
     "text": [
      "['yeah think existenti threat human number one issu might add realli need kind lectur friend pass first climat chang bill politifact said game changer manag 90 billion recoveri plan invest money infrastructur relat clean energi time ever done friend produc coal mine produc coal around world accord press great britain produc welcom back fold long idea talk start let get straight think existenti threat time'\n",
      " 'believ need send somebodi differ kind experi experi ground solv problem work side side neighbor toughest issu come govern recogn requir execut leadership bring washington washington start look littl like best run commun heartland way around start happen'\n",
      " 'ye need held account financi also crimin penalti know draw straight line make sure hold execut account whether drug manufactur wall street execut held account decad half ago'\n",
      " 'congressman describ extrem deal negoti american worker american worker american worker want job build trade deal peopl want access market around world answer let make rais standard make pay worker let worker union rais environment standard come us say wanna abl sell product right whole game work big multin work peopl unit state chang'\n",
      " 'campaign proud say receiv campaign contribut candid point elect american histori four million contribut averag 18 apiec want part movement go beat trump transform america super panderson cooper fundrais wealthi peopl home pleas join us berniesand com thank']\n"
     ]
    }
   ],
   "source": [
    "print(training.sample(5).values)"
   ]
  },
  {
   "cell_type": "code",
   "execution_count": 17,
   "metadata": {},
   "outputs": [],
   "source": [
    "#just add some words seems commonplace in any occasions\n",
    "stops.extend(['us', 'year','come', 'much', 'lot', 'got', 'get', 'around', 'way','upon'])\n",
    "#clean again\n",
    "training2=training.apply(lambda x:' '.join([stemmer.stem(word) for word in x.split() if word not in stops]))"
   ]
  },
  {
   "cell_type": "code",
   "execution_count": 18,
   "metadata": {},
   "outputs": [],
   "source": [
    "#reset stopwords\n",
    "stops=stopwords.words('english')"
   ]
  },
  {
   "cell_type": "markdown",
   "metadata": {},
   "source": [
    "import more stemmers from library"
   ]
  },
  {
   "cell_type": "code",
   "execution_count": 19,
   "metadata": {},
   "outputs": [],
   "source": [
    "from nltk.stem.snowball import EnglishStemmer\n",
    "stemmerSnow=EnglishStemmer()\n",
    "from nltk.stem.lancaster import LancasterStemmer\n",
    "stemmerLanc=LancasterStemmer()"
   ]
  },
  {
   "cell_type": "code",
   "execution_count": 20,
   "metadata": {},
   "outputs": [],
   "source": [
    "trainSnow=training.apply(lambda x:' '.join([stemmerSnow.stem(word) for word in x.split() if word not in stops]))\n",
    "trainLanc=training.apply(lambda x:' '.join([stemmerLanc.stem(word) for word in x.split() if word not in stops]))"
   ]
  },
  {
   "cell_type": "markdown",
   "metadata": {},
   "source": [
    "Take a glance at the data"
   ]
  },
  {
   "cell_type": "code",
   "execution_count": 21,
   "metadata": {},
   "outputs": [
    {
     "name": "stdout",
     "output_type": "stream",
     "text": [
      "Porter Stemmer\n",
      "['refus postpon longer take climat chang lead world take climat chang look unit state america never singl solitari time set mind someth abl walk around head like woe best equip nation world take longer time postpon get move enorm enorm opportun get rid donald trump'\n",
      " 'got done one ever beat nra one ever beat nra nation guy brought bradi bill focu becam law number one number two sandi hook number thing happen went caus movement look happen mother organ mother gun violenc seen happen young peopl march washington make sure thing go chang sea chang propos put forward presid 50 member nra support overwhelmingli rest peopl support number much higher realiz say say correct 90 american peopl think get assault weapon street period get buyback get basement point thing chang thing chang lot happen way way beto handl excus say beto congressman']\n",
      "English Stemmer\n",
      "['refus postpon longer take climat chang lead world take climat chang look unit state america never singl solitari time set mind someth abl walk around head like woe best equip nation world take longer time postpon get move enorm enorm opportun get rid donald trump'\n",
      " 'got done one ever beat nra one ever beat nra nation guy brought bradi bill focu becam law number one number two sandi hook number thing happen went caus movement look happen mother organ mother gun violenc seen happen young peopl march washington make sure thing go chang sea chang propo put forward presid 50 member nra support overwhelming rest peopl support number much higher realiz say say correct 90 american peopl think get assault weapon street period get buyback get basement point thing chang thing chang lot happen way way beto handl excus say beto congressman']\n",
      "Lancaster Stemmer\n",
      "['ref postpon long tak clim chang lead world tak clim chang look unit stat americ nev singl solitar tim set mind some abl walk around head lik woe best equip nat world tak long tim postpon get mov enorm enorm opportun get rid donald trump'\n",
      " 'got don on ev beat nra on ev beat nra nat guy brought brad bil focu becam law numb on numb two sand hook numb thing hap went cau mov look hap moth org moth gun viol seen hap young peopl march washington mak sur thing go chang sea chang propo put forward presid 50 memb nra support overwhelmingl rest peopl support numb much high real say say correct 90 am peopl think get assault weapon street period get buyback get bas point thing chang thing chang lot hap way way beto handl exc say beto congressm']\n"
     ]
    }
   ],
   "source": [
    "print(\"Porter Stemmer\")\n",
    "print(training.head(2).values)\n",
    "print(\"English Stemmer\")\n",
    "print(trainSnow.head(2).values)\n",
    "print(\"Lancaster Stemmer\")\n",
    "print(trainLanc.head(2).values)"
   ]
  },
  {
   "cell_type": "markdown",
   "metadata": {},
   "source": [
    "I cannot see clearly in details. Let's try length, more straightforward."
   ]
  },
  {
   "cell_type": "code",
   "execution_count": 22,
   "metadata": {},
   "outputs": [
    {
     "data": {
      "text/plain": [
       "(263, 263, 236)"
      ]
     },
     "execution_count": 22,
     "metadata": {},
     "output_type": "execute_result"
    }
   ],
   "source": [
    "len(training[0]),len(trainSnow[0]),len(trainLanc[0])"
   ]
  },
  {
   "cell_type": "code",
   "execution_count": 23,
   "metadata": {},
   "outputs": [
    {
     "data": {
      "text/plain": [
       "(173, 172, 141)"
      ]
     },
     "execution_count": 23,
     "metadata": {},
     "output_type": "execute_result"
    }
   ],
   "source": [
    "len(training[200]),len(trainSnow[200]),len(trainLanc[200])"
   ]
  },
  {
   "cell_type": "code",
   "execution_count": 24,
   "metadata": {},
   "outputs": [
    {
     "data": {
      "text/plain": [
       "(288, 286, 233)"
      ]
     },
     "execution_count": 24,
     "metadata": {},
     "output_type": "execute_result"
    }
   ],
   "source": [
    "len(training[500]),len(trainSnow[500]),len(trainLanc[500])"
   ]
  },
  {
   "cell_type": "markdown",
   "metadata": {},
   "source": [
    "PorterStemmer and EnglishStemmer are rather similar. While LancasterStemmer always leads to very different results from the other two."
   ]
  },
  {
   "cell_type": "markdown",
   "metadata": {},
   "source": [
    "## CV of original train dataset"
   ]
  },
  {
   "cell_type": "code",
   "execution_count": 25,
   "metadata": {},
   "outputs": [
    {
     "name": "stdout",
     "output_type": "stream",
     "text": [
      "(528, 3371)\n"
     ]
    },
    {
     "data": {
      "text/html": [
       "<div>\n",
       "<style scoped>\n",
       "    .dataframe tbody tr th:only-of-type {\n",
       "        vertical-align: middle;\n",
       "    }\n",
       "\n",
       "    .dataframe tbody tr th {\n",
       "        vertical-align: top;\n",
       "    }\n",
       "\n",
       "    .dataframe thead th {\n",
       "        text-align: right;\n",
       "    }\n",
       "</style>\n",
       "<table border=\"1\" class=\"dataframe\">\n",
       "  <thead>\n",
       "    <tr style=\"text-align: right;\">\n",
       "      <th></th>\n",
       "      <th>000</th>\n",
       "      <th>02</th>\n",
       "      <th>040</th>\n",
       "      <th>05</th>\n",
       "      <th>10</th>\n",
       "      <th>100</th>\n",
       "      <th>1000</th>\n",
       "      <th>10th</th>\n",
       "      <th>11</th>\n",
       "      <th>12</th>\n",
       "      <th>...</th>\n",
       "      <th>yesterday</th>\n",
       "      <th>yet</th>\n",
       "      <th>yogi</th>\n",
       "      <th>york</th>\n",
       "      <th>young</th>\n",
       "      <th>younger</th>\n",
       "      <th>zealand</th>\n",
       "      <th>zelenski</th>\n",
       "      <th>zero</th>\n",
       "      <th>zuckerberg</th>\n",
       "    </tr>\n",
       "  </thead>\n",
       "  <tbody>\n",
       "    <tr>\n",
       "      <th>0</th>\n",
       "      <td>0</td>\n",
       "      <td>0</td>\n",
       "      <td>0</td>\n",
       "      <td>0</td>\n",
       "      <td>0</td>\n",
       "      <td>0</td>\n",
       "      <td>0</td>\n",
       "      <td>0</td>\n",
       "      <td>0</td>\n",
       "      <td>0</td>\n",
       "      <td>...</td>\n",
       "      <td>0</td>\n",
       "      <td>0</td>\n",
       "      <td>0</td>\n",
       "      <td>0</td>\n",
       "      <td>0</td>\n",
       "      <td>0</td>\n",
       "      <td>0</td>\n",
       "      <td>0</td>\n",
       "      <td>0</td>\n",
       "      <td>0</td>\n",
       "    </tr>\n",
       "    <tr>\n",
       "      <th>1</th>\n",
       "      <td>0</td>\n",
       "      <td>0</td>\n",
       "      <td>0</td>\n",
       "      <td>0</td>\n",
       "      <td>0</td>\n",
       "      <td>0</td>\n",
       "      <td>0</td>\n",
       "      <td>0</td>\n",
       "      <td>0</td>\n",
       "      <td>0</td>\n",
       "      <td>...</td>\n",
       "      <td>0</td>\n",
       "      <td>0</td>\n",
       "      <td>0</td>\n",
       "      <td>0</td>\n",
       "      <td>1</td>\n",
       "      <td>0</td>\n",
       "      <td>0</td>\n",
       "      <td>0</td>\n",
       "      <td>0</td>\n",
       "      <td>0</td>\n",
       "    </tr>\n",
       "    <tr>\n",
       "      <th>2</th>\n",
       "      <td>0</td>\n",
       "      <td>0</td>\n",
       "      <td>0</td>\n",
       "      <td>0</td>\n",
       "      <td>0</td>\n",
       "      <td>0</td>\n",
       "      <td>0</td>\n",
       "      <td>0</td>\n",
       "      <td>0</td>\n",
       "      <td>0</td>\n",
       "      <td>...</td>\n",
       "      <td>0</td>\n",
       "      <td>0</td>\n",
       "      <td>0</td>\n",
       "      <td>0</td>\n",
       "      <td>0</td>\n",
       "      <td>0</td>\n",
       "      <td>0</td>\n",
       "      <td>0</td>\n",
       "      <td>0</td>\n",
       "      <td>0</td>\n",
       "    </tr>\n",
       "    <tr>\n",
       "      <th>3</th>\n",
       "      <td>0</td>\n",
       "      <td>0</td>\n",
       "      <td>0</td>\n",
       "      <td>0</td>\n",
       "      <td>0</td>\n",
       "      <td>0</td>\n",
       "      <td>0</td>\n",
       "      <td>0</td>\n",
       "      <td>1</td>\n",
       "      <td>0</td>\n",
       "      <td>...</td>\n",
       "      <td>0</td>\n",
       "      <td>0</td>\n",
       "      <td>0</td>\n",
       "      <td>0</td>\n",
       "      <td>0</td>\n",
       "      <td>0</td>\n",
       "      <td>0</td>\n",
       "      <td>0</td>\n",
       "      <td>0</td>\n",
       "      <td>0</td>\n",
       "    </tr>\n",
       "    <tr>\n",
       "      <th>4</th>\n",
       "      <td>0</td>\n",
       "      <td>0</td>\n",
       "      <td>0</td>\n",
       "      <td>0</td>\n",
       "      <td>0</td>\n",
       "      <td>0</td>\n",
       "      <td>0</td>\n",
       "      <td>0</td>\n",
       "      <td>0</td>\n",
       "      <td>0</td>\n",
       "      <td>...</td>\n",
       "      <td>0</td>\n",
       "      <td>0</td>\n",
       "      <td>0</td>\n",
       "      <td>0</td>\n",
       "      <td>0</td>\n",
       "      <td>0</td>\n",
       "      <td>0</td>\n",
       "      <td>0</td>\n",
       "      <td>0</td>\n",
       "      <td>0</td>\n",
       "    </tr>\n",
       "    <tr>\n",
       "      <th>...</th>\n",
       "      <td>...</td>\n",
       "      <td>...</td>\n",
       "      <td>...</td>\n",
       "      <td>...</td>\n",
       "      <td>...</td>\n",
       "      <td>...</td>\n",
       "      <td>...</td>\n",
       "      <td>...</td>\n",
       "      <td>...</td>\n",
       "      <td>...</td>\n",
       "      <td>...</td>\n",
       "      <td>...</td>\n",
       "      <td>...</td>\n",
       "      <td>...</td>\n",
       "      <td>...</td>\n",
       "      <td>...</td>\n",
       "      <td>...</td>\n",
       "      <td>...</td>\n",
       "      <td>...</td>\n",
       "      <td>...</td>\n",
       "      <td>...</td>\n",
       "    </tr>\n",
       "    <tr>\n",
       "      <th>523</th>\n",
       "      <td>0</td>\n",
       "      <td>0</td>\n",
       "      <td>0</td>\n",
       "      <td>0</td>\n",
       "      <td>0</td>\n",
       "      <td>0</td>\n",
       "      <td>0</td>\n",
       "      <td>0</td>\n",
       "      <td>0</td>\n",
       "      <td>0</td>\n",
       "      <td>...</td>\n",
       "      <td>0</td>\n",
       "      <td>0</td>\n",
       "      <td>0</td>\n",
       "      <td>0</td>\n",
       "      <td>0</td>\n",
       "      <td>0</td>\n",
       "      <td>0</td>\n",
       "      <td>0</td>\n",
       "      <td>0</td>\n",
       "      <td>0</td>\n",
       "    </tr>\n",
       "    <tr>\n",
       "      <th>524</th>\n",
       "      <td>0</td>\n",
       "      <td>0</td>\n",
       "      <td>0</td>\n",
       "      <td>0</td>\n",
       "      <td>0</td>\n",
       "      <td>1</td>\n",
       "      <td>0</td>\n",
       "      <td>0</td>\n",
       "      <td>0</td>\n",
       "      <td>0</td>\n",
       "      <td>...</td>\n",
       "      <td>0</td>\n",
       "      <td>0</td>\n",
       "      <td>0</td>\n",
       "      <td>0</td>\n",
       "      <td>0</td>\n",
       "      <td>0</td>\n",
       "      <td>0</td>\n",
       "      <td>0</td>\n",
       "      <td>0</td>\n",
       "      <td>0</td>\n",
       "    </tr>\n",
       "    <tr>\n",
       "      <th>525</th>\n",
       "      <td>0</td>\n",
       "      <td>0</td>\n",
       "      <td>0</td>\n",
       "      <td>0</td>\n",
       "      <td>0</td>\n",
       "      <td>0</td>\n",
       "      <td>0</td>\n",
       "      <td>0</td>\n",
       "      <td>0</td>\n",
       "      <td>0</td>\n",
       "      <td>...</td>\n",
       "      <td>0</td>\n",
       "      <td>0</td>\n",
       "      <td>0</td>\n",
       "      <td>0</td>\n",
       "      <td>0</td>\n",
       "      <td>0</td>\n",
       "      <td>0</td>\n",
       "      <td>0</td>\n",
       "      <td>0</td>\n",
       "      <td>0</td>\n",
       "    </tr>\n",
       "    <tr>\n",
       "      <th>526</th>\n",
       "      <td>0</td>\n",
       "      <td>0</td>\n",
       "      <td>0</td>\n",
       "      <td>0</td>\n",
       "      <td>0</td>\n",
       "      <td>1</td>\n",
       "      <td>0</td>\n",
       "      <td>0</td>\n",
       "      <td>0</td>\n",
       "      <td>0</td>\n",
       "      <td>...</td>\n",
       "      <td>0</td>\n",
       "      <td>0</td>\n",
       "      <td>0</td>\n",
       "      <td>0</td>\n",
       "      <td>1</td>\n",
       "      <td>0</td>\n",
       "      <td>0</td>\n",
       "      <td>0</td>\n",
       "      <td>0</td>\n",
       "      <td>0</td>\n",
       "    </tr>\n",
       "    <tr>\n",
       "      <th>527</th>\n",
       "      <td>1</td>\n",
       "      <td>0</td>\n",
       "      <td>0</td>\n",
       "      <td>0</td>\n",
       "      <td>1</td>\n",
       "      <td>1</td>\n",
       "      <td>0</td>\n",
       "      <td>0</td>\n",
       "      <td>0</td>\n",
       "      <td>0</td>\n",
       "      <td>...</td>\n",
       "      <td>0</td>\n",
       "      <td>0</td>\n",
       "      <td>0</td>\n",
       "      <td>0</td>\n",
       "      <td>0</td>\n",
       "      <td>0</td>\n",
       "      <td>0</td>\n",
       "      <td>0</td>\n",
       "      <td>0</td>\n",
       "      <td>0</td>\n",
       "    </tr>\n",
       "  </tbody>\n",
       "</table>\n",
       "<p>528 rows × 3371 columns</p>\n",
       "</div>"
      ],
      "text/plain": [
       "     000  02  040  05  10  100  1000  10th  11  12  ...  yesterday  yet  yogi  \\\n",
       "0      0   0    0   0   0    0     0     0   0   0  ...          0    0     0   \n",
       "1      0   0    0   0   0    0     0     0   0   0  ...          0    0     0   \n",
       "2      0   0    0   0   0    0     0     0   0   0  ...          0    0     0   \n",
       "3      0   0    0   0   0    0     0     0   1   0  ...          0    0     0   \n",
       "4      0   0    0   0   0    0     0     0   0   0  ...          0    0     0   \n",
       "..   ...  ..  ...  ..  ..  ...   ...   ...  ..  ..  ...        ...  ...   ...   \n",
       "523    0   0    0   0   0    0     0     0   0   0  ...          0    0     0   \n",
       "524    0   0    0   0   0    1     0     0   0   0  ...          0    0     0   \n",
       "525    0   0    0   0   0    0     0     0   0   0  ...          0    0     0   \n",
       "526    0   0    0   0   0    1     0     0   0   0  ...          0    0     0   \n",
       "527    1   0    0   0   1    1     0     0   0   0  ...          0    0     0   \n",
       "\n",
       "     york  young  younger  zealand  zelenski  zero  zuckerberg  \n",
       "0       0      0        0        0         0     0           0  \n",
       "1       0      1        0        0         0     0           0  \n",
       "2       0      0        0        0         0     0           0  \n",
       "3       0      0        0        0         0     0           0  \n",
       "4       0      0        0        0         0     0           0  \n",
       "..    ...    ...      ...      ...       ...   ...         ...  \n",
       "523     0      0        0        0         0     0           0  \n",
       "524     0      0        0        0         0     0           0  \n",
       "525     0      0        0        0         0     0           0  \n",
       "526     0      1        0        0         0     0           0  \n",
       "527     0      0        0        0         0     0           0  \n",
       "\n",
       "[528 rows x 3371 columns]"
      ]
     },
     "execution_count": 25,
     "metadata": {},
     "output_type": "execute_result"
    }
   ],
   "source": [
    "#Tokenize your training data using unigrams\n",
    "#using default max_df & min_df = 1\n",
    "vec=CountVectorizer(ngram_range=(1,1))\n",
    "counts=vec.fit_transform(training).toarray()\n",
    "counts=pd.DataFrame(counts,columns=vec.get_feature_names())\n",
    "print(counts.shape)\n",
    "counts"
   ]
  },
  {
   "cell_type": "code",
   "execution_count": 26,
   "metadata": {},
   "outputs": [
    {
     "data": {
      "text/html": [
       "<div>\n",
       "<style scoped>\n",
       "    .dataframe tbody tr th:only-of-type {\n",
       "        vertical-align: middle;\n",
       "    }\n",
       "\n",
       "    .dataframe tbody tr th {\n",
       "        vertical-align: top;\n",
       "    }\n",
       "\n",
       "    .dataframe thead th {\n",
       "        text-align: right;\n",
       "    }\n",
       "</style>\n",
       "<table border=\"1\" class=\"dataframe\">\n",
       "  <thead>\n",
       "    <tr style=\"text-align: right;\">\n",
       "      <th></th>\n",
       "      <th>000</th>\n",
       "      <th>02</th>\n",
       "      <th>040</th>\n",
       "      <th>05</th>\n",
       "      <th>10</th>\n",
       "      <th>100</th>\n",
       "      <th>1000</th>\n",
       "      <th>10th</th>\n",
       "      <th>11</th>\n",
       "      <th>12</th>\n",
       "      <th>...</th>\n",
       "      <th>yesterday</th>\n",
       "      <th>yet</th>\n",
       "      <th>yogi</th>\n",
       "      <th>york</th>\n",
       "      <th>young</th>\n",
       "      <th>younger</th>\n",
       "      <th>zealand</th>\n",
       "      <th>zelenski</th>\n",
       "      <th>zero</th>\n",
       "      <th>zuckerberg</th>\n",
       "    </tr>\n",
       "  </thead>\n",
       "  <tbody>\n",
       "    <tr>\n",
       "      <th>133</th>\n",
       "      <td>0</td>\n",
       "      <td>0</td>\n",
       "      <td>0</td>\n",
       "      <td>0</td>\n",
       "      <td>1</td>\n",
       "      <td>1</td>\n",
       "      <td>0</td>\n",
       "      <td>0</td>\n",
       "      <td>0</td>\n",
       "      <td>0</td>\n",
       "      <td>...</td>\n",
       "      <td>0</td>\n",
       "      <td>0</td>\n",
       "      <td>0</td>\n",
       "      <td>0</td>\n",
       "      <td>0</td>\n",
       "      <td>0</td>\n",
       "      <td>0</td>\n",
       "      <td>0</td>\n",
       "      <td>0</td>\n",
       "      <td>0</td>\n",
       "    </tr>\n",
       "  </tbody>\n",
       "</table>\n",
       "<p>1 rows × 3371 columns</p>\n",
       "</div>"
      ],
      "text/plain": [
       "     000  02  040  05  10  100  1000  10th  11  12  ...  yesterday  yet  yogi  \\\n",
       "133    0   0    0   0   1    1     0     0   0   0  ...          0    0     0   \n",
       "\n",
       "     york  young  younger  zealand  zelenski  zero  zuckerberg  \n",
       "133     0      0        0        0         0     0           0  \n",
       "\n",
       "[1 rows x 3371 columns]"
      ]
     },
     "execution_count": 26,
     "metadata": {},
     "output_type": "execute_result"
    }
   ],
   "source": [
    "# I tried several times here to see the maximum of the values\n",
    "counts[counts.values>9]\n",
    "# so the most frequent word appears 10 times in the no.134 document"
   ]
  },
  {
   "cell_type": "markdown",
   "metadata": {},
   "source": [
    "There are 3371 unique tokens in the vocabulary."
   ]
  },
  {
   "cell_type": "code",
   "execution_count": 27,
   "metadata": {},
   "outputs": [],
   "source": [
    "#define a function for loop\n",
    "def try_df(mindf):\n",
    "    vec=CountVectorizer(ngram_range=(1,1),min_df=mindf)\n",
    "    counts=vec.fit_transform(training).toarray()\n",
    "    counts=pd.DataFrame(counts,columns=vec.get_feature_names())\n",
    "    print(\"min_df= \", mindf, \"token number=\", counts.shape[1])"
   ]
  },
  {
   "cell_type": "code",
   "execution_count": 28,
   "metadata": {},
   "outputs": [
    {
     "name": "stdout",
     "output_type": "stream",
     "text": [
      "min_df=  0.1 token number= 68\n",
      "min_df=  0.2 token number= 22\n",
      "min_df=  0.30000000000000004 token number= 6\n",
      "min_df=  0.4 token number= 1\n",
      "min_df=  0.5 token number= 1\n"
     ]
    }
   ],
   "source": [
    "#try different min_dfs\n",
    "#got value error so I changed the range of mindf\n",
    "for mindf in np.linspace(0.1,0.5,5):\n",
    "    try_df(mindf)"
   ]
  },
  {
   "cell_type": "code",
   "execution_count": 29,
   "metadata": {},
   "outputs": [],
   "source": [
    "#repeat the process for maxdf\n",
    "def try_df(maxdf):\n",
    "    vec=CountVectorizer(ngram_range=(1,1),max_df=maxdf)\n",
    "    counts=vec.fit_transform(training).toarray()\n",
    "    counts=pd.DataFrame(counts,columns=vec.get_feature_names())\n",
    "    print(\"max_df= \", maxdf, \"token number=\", counts.shape[1])"
   ]
  },
  {
   "cell_type": "code",
   "execution_count": 30,
   "metadata": {},
   "outputs": [
    {
     "name": "stdout",
     "output_type": "stream",
     "text": [
      "max_df=  1.0 token number= 3371\n",
      "max_df=  0.9 token number= 3371\n",
      "max_df=  0.8 token number= 3371\n",
      "max_df=  0.7 token number= 3371\n",
      "max_df=  0.6 token number= 3371\n",
      "max_df=  0.5 token number= 3370\n",
      "max_df=  0.3999999999999999 token number= 3370\n",
      "max_df=  0.29999999999999993 token number= 3365\n",
      "max_df=  0.19999999999999996 token number= 3349\n",
      "max_df=  0.1 token number= 3303\n"
     ]
    }
   ],
   "source": [
    "for maxdf in np.linspace(1,0.1,10):\n",
    "    try_df(maxdf)"
   ]
  },
  {
   "cell_type": "markdown",
   "metadata": {},
   "source": [
    "So most of the words seldom appears, only some words appears frequently."
   ]
  },
  {
   "cell_type": "markdown",
   "metadata": {},
   "source": [
    "Repeat the process for the test data."
   ]
  },
  {
   "cell_type": "code",
   "execution_count": 31,
   "metadata": {},
   "outputs": [],
   "source": [
    "#extract only quote from the train DataFrame\n",
    "testing=test[0]\n",
    "#convert training data to lower case\n",
    "testing=testing.str.lower()\n",
    "# replace lines and tabs\n",
    "testing=testing.str.replace('\\n',' ')\n",
    "testing=testing.str.replace('\\t',' ')\n",
    "#Remove punctuation from the training data.\n",
    "testing=testing.str.replace(r\"[^\\w\\s']\",' ')\n",
    "testing=testing.str.strip()\n",
    "#remove stop words from the training data using the NLTK package's English stop word list.\n",
    "stops=stopwords.words('english')\n",
    "#try PorterStemmer first\n",
    "stemmer=PorterStemmer()\n",
    "testing=testing.apply(lambda x:' '.join([stemmer.stem(word) for word in x.split() if word not in stops]))"
   ]
  },
  {
   "cell_type": "code",
   "execution_count": 32,
   "metadata": {},
   "outputs": [
    {
     "name": "stdout",
     "output_type": "stream",
     "text": [
      "(111, 3371)\n"
     ]
    }
   ],
   "source": [
    "#fit on the training data\n",
    "vec=vec.fit(training)\n",
    "#transform the test data\n",
    "counts_test=vec.transform(testing).toarray()\n",
    "counts_test=pd.DataFrame(counts_test,columns=vec.get_feature_names())\n",
    "print(counts_test.shape)"
   ]
  },
  {
   "cell_type": "markdown",
   "metadata": {},
   "source": [
    "In this way the number of features for your training and test data are identical."
   ]
  },
  {
   "cell_type": "markdown",
   "metadata": {},
   "source": [
    "# part 2: supervised learning"
   ]
  },
  {
   "cell_type": "markdown",
   "metadata": {},
   "source": [
    "because there's no label for test dataset. So, I split the train dataset to find out the model accuracy."
   ]
  },
  {
   "cell_type": "code",
   "execution_count": 33,
   "metadata": {},
   "outputs": [],
   "source": [
    "from sklearn.model_selection import train_test_split"
   ]
  },
  {
   "cell_type": "code",
   "execution_count": 34,
   "metadata": {},
   "outputs": [],
   "source": [
    "train_x, valid_x, train_y, valid_y = train_test_split(training, train.username)"
   ]
  },
  {
   "cell_type": "code",
   "execution_count": 35,
   "metadata": {},
   "outputs": [],
   "source": [
    "from sklearn.preprocessing import LabelEncoder"
   ]
  },
  {
   "cell_type": "code",
   "execution_count": 36,
   "metadata": {},
   "outputs": [],
   "source": [
    "# label encode the target variable\n",
    "encoder = LabelEncoder()\n",
    "train_y = encoder.fit_transform(train_y)\n",
    "valid_y = encoder.fit_transform(valid_y)"
   ]
  },
  {
   "cell_type": "code",
   "execution_count": 37,
   "metadata": {},
   "outputs": [],
   "source": [
    "#vec was trained on the whole train dataset\n",
    "xtrain_count =  vec.transform(train_x)\n",
    "xvalid_count =  vec.transform(valid_x)"
   ]
  },
  {
   "cell_type": "code",
   "execution_count": 38,
   "metadata": {},
   "outputs": [],
   "source": [
    "from sklearn.metrics import confusion_matrix \n",
    "from sklearn.metrics import accuracy_score \n",
    "from sklearn.metrics import classification_report"
   ]
  },
  {
   "cell_type": "code",
   "execution_count": 39,
   "metadata": {},
   "outputs": [],
   "source": [
    "#define a function to run faster for other models\n",
    "def train_model(classifier, feature_vector_train, label, feature_vector_valid, is_neural_net=False):\n",
    "    # fit the training dataset on the classifier\n",
    "    classifier.fit(feature_vector_train, label)\n",
    "    \n",
    "    # predict the labels on validation dataset\n",
    "    predictions = classifier.predict(feature_vector_valid)\n",
    "    \n",
    "    if is_neural_net:\n",
    "        predictions = predictions.argmax(axis=-1)\n",
    "    \n",
    "    return classification_report(predictions, valid_y,target_names=labels)"
   ]
  },
  {
   "cell_type": "markdown",
   "metadata": {},
   "source": [
    "## Logistic Regression"
   ]
  },
  {
   "cell_type": "code",
   "execution_count": 40,
   "metadata": {},
   "outputs": [
    {
     "name": "stdout",
     "output_type": "stream",
     "text": [
      "              precision    recall  f1-score   support\n",
      "\n",
      "       Biden       0.75      0.60      0.67        20\n",
      "      Booker       0.60      0.33      0.43        18\n",
      "   Buttigieg       0.53      0.53      0.53        19\n",
      "      Castro       0.20      0.50      0.29         2\n",
      "     Gabbard       0.50      1.00      0.67         2\n",
      "      Harris       0.33      0.60      0.43         5\n",
      "   Klobuchar       0.44      0.31      0.36        13\n",
      "    O'Rourke       0.33      0.60      0.43         5\n",
      "     Sanders       0.71      0.75      0.73        16\n",
      "      Steyer       0.50      1.00      0.67         3\n",
      "      Warren       0.64      0.54      0.58        26\n",
      "        Yang       0.33      0.67      0.44         3\n",
      "\n",
      "    accuracy                           0.55       132\n",
      "   macro avg       0.49      0.62      0.52       132\n",
      "weighted avg       0.58      0.55      0.55       132\n",
      "\n"
     ]
    }
   ],
   "source": [
    "report = train_model(LogisticRegression(), xtrain_count, train_y, xvalid_count)\n",
    "print (report)"
   ]
  },
  {
   "cell_type": "markdown",
   "metadata": {},
   "source": [
    "The model has an accuracy score of 52%. The class where it performs particularly well is \"Sanders\". It has the highest precision among all which is 82%. The classes where it performs particularly poorly is \"Castro\". It has the lowest precision 25% and other scores are also the lowest."
   ]
  },
  {
   "cell_type": "code",
   "execution_count": 41,
   "metadata": {},
   "outputs": [
    {
     "data": {
      "image/png": "[encoded data removed]",
      "text/plain": [
       "<Figure size 432x288 with 1 Axes>"
      ]
     },
     "metadata": {
      "needs_background": "light"
     },
     "output_type": "display_data"
    }
   ],
   "source": [
    "log=LogisticRegression()\n",
    "log=log.fit(xtrain_count,train_y)\n",
    "#use a plot to see coef for each label\n",
    "for i in range(len(labels)):\n",
    "    plt.scatter(labels[i],np.mean(log.coef_[i]))\n",
    "plt.xticks(rotation='vertical')\n",
    "#add a horizontal line at y=0\n",
    "plt.hlines(0,-0.5,12,colors='grey',linestyle='dotted')\n",
    "#add grids to match the dot and x axis\n",
    "plt.grid(axis='x')"
   ]
  },
  {
   "cell_type": "markdown",
   "metadata": {},
   "source": [
    "The regression coefficient of a variable corresponds to the change in log odds and its exponentiated form corresponds to the odds ratio. \n"
   ]
  },
  {
   "cell_type": "markdown",
   "metadata": {},
   "source": [
    "The coefficients of \"Biden\", \"Castro\", \"Gabbard\", \"Klobuchar\" and \"Steyer\" are closest to zero. The coefficients of \"Buttigieg\", \"O'Rourke\" and \"Yang\" are positive. The coefficients of \"Booker\", \"Harris\", \"Sanders\" and \"Warren\" are negative."
   ]
  },
  {
   "cell_type": "code",
   "execution_count": 42,
   "metadata": {},
   "outputs": [
    {
     "data": {
      "text/plain": [
       "([0, 1, 2, 3, 4, 5, 6, 7, 8, 9, 10, 11],\n",
       " <a list of 12 Text xticklabel objects>)"
      ]
     },
     "execution_count": 42,
     "metadata": {},
     "output_type": "execute_result"
    },
    {
     "data": {
      "image/png": "[encoded data removed]",
      "text/plain": [
       "<Figure size 432x288 with 1 Axes>"
      ]
     },
     "metadata": {
      "needs_background": "light"
     },
     "output_type": "display_data"
    }
   ],
   "source": [
    "#use a plot to see intercept of each label\n",
    "for i in range(len(labels)):\n",
    "    plt.scatter(labels[i],np.mean(log.intercept_[i]))\n",
    "plt.xticks(rotation='vertical')"
   ]
  },
  {
   "cell_type": "markdown",
   "metadata": {},
   "source": [
    "The intercept is the expected mean value of Y(labels) when all X=0."
   ]
  },
  {
   "cell_type": "markdown",
   "metadata": {},
   "source": [
    "## Tree\n",
    "### random forest"
   ]
  },
  {
   "cell_type": "code",
   "execution_count": 43,
   "metadata": {},
   "outputs": [],
   "source": [
    "from sklearn.ensemble import RandomForestClassifier"
   ]
  },
  {
   "cell_type": "code",
   "execution_count": 44,
   "metadata": {},
   "outputs": [
    {
     "name": "stdout",
     "output_type": "stream",
     "text": [
      "RF, Count Vectors:                precision    recall  f1-score   support\n",
      "\n",
      "       Biden       0.75      0.55      0.63        22\n",
      "      Booker       0.40      0.29      0.33        14\n",
      "   Buttigieg       0.32      0.60      0.41        10\n",
      "      Castro       0.00      0.00      0.00         0\n",
      "     Gabbard       0.00      0.00      0.00         0\n",
      "      Harris       0.22      0.12      0.16        16\n",
      "   Klobuchar       0.44      0.27      0.33        15\n",
      "    O'Rourke       0.11      1.00      0.20         1\n",
      "     Sanders       0.53      0.64      0.58        14\n",
      "      Steyer       0.00      0.00      0.00         0\n",
      "      Warren       0.73      0.41      0.52        39\n",
      "        Yang       0.17      1.00      0.29         1\n",
      "\n",
      "    accuracy                           0.42       132\n",
      "   macro avg       0.31      0.41      0.29       132\n",
      "weighted avg       0.54      0.42      0.45       132\n",
      "\n"
     ]
    },
    {
     "name": "stderr",
     "output_type": "stream",
     "text": [
      "C:\\ProgramData\\Anaconda3\\lib\\site-packages\\sklearn\\metrics\\_classification.py:1272: UndefinedMetricWarning: Recall and F-score are ill-defined and being set to 0.0 in labels with no true samples. Use `zero_division` parameter to control this behavior.\n",
      "  _warn_prf(average, modifier, msg_start, len(result))\n"
     ]
    }
   ],
   "source": [
    "report = train_model(RandomForestClassifier(), xtrain_count, train_y, xvalid_count)\n",
    "print (\"RF, Count Vectors: \", report)"
   ]
  },
  {
   "cell_type": "markdown",
   "metadata": {},
   "source": [
    "The accuracy of this randomforest model is poorer than logistic regression. It only receives an accuracy score of 43%. And there are 3 labels \"Castro\", \"Gabbard\" and \"Yang\" with 0 scores. Whereas, the model performs well on labels \"Sanders\" with precision 82% and \"Warren\" with precision \"70%\". "
   ]
  },
  {
   "cell_type": "markdown",
   "metadata": {},
   "source": [
    "### boosting model"
   ]
  },
  {
   "cell_type": "code",
   "execution_count": 45,
   "metadata": {},
   "outputs": [],
   "source": [
    "import xgboost"
   ]
  },
  {
   "cell_type": "code",
   "execution_count": 46,
   "metadata": {},
   "outputs": [
    {
     "name": "stdout",
     "output_type": "stream",
     "text": [
      "              precision    recall  f1-score   support\n",
      "\n",
      "       Biden       0.50      0.32      0.39        25\n",
      "      Booker       0.20      0.17      0.18        12\n",
      "   Buttigieg       0.42      0.62      0.50        13\n",
      "      Castro       0.00      0.00      0.00         8\n",
      "     Gabbard       0.25      0.50      0.33         2\n",
      "      Harris       0.22      0.20      0.21        10\n",
      "   Klobuchar       0.33      0.30      0.32        10\n",
      "    O'Rourke       0.44      0.67      0.53         6\n",
      "     Sanders       0.47      0.57      0.52        14\n",
      "      Steyer       0.33      1.00      0.50         2\n",
      "      Warren       0.55      0.48      0.51        25\n",
      "        Yang       0.17      0.20      0.18         5\n",
      "\n",
      "    accuracy                           0.39       132\n",
      "   macro avg       0.32      0.42      0.35       132\n",
      "weighted avg       0.39      0.39      0.37       132\n",
      "\n"
     ]
    }
   ],
   "source": [
    "report = train_model(xgboost.XGBClassifier(), xtrain_count.tocsc(), train_y, xvalid_count.tocsc())\n",
    "print (report)"
   ]
  },
  {
   "cell_type": "markdown",
   "metadata": {},
   "source": [
    "The accuracy score is 37%, even poorer than the randomforest model. Though there's only one label \"Gabbard\" with 0 scores, the overall scores for all the labels are lower than the logistic regression model. The model performs well on label \"Sanders\" as well. Maybe this Sanders is a special person who may frequently use some certain words."
   ]
  },
  {
   "cell_type": "markdown",
   "metadata": {},
   "source": [
    "## naive bayes"
   ]
  },
  {
   "cell_type": "code",
   "execution_count": 47,
   "metadata": {},
   "outputs": [],
   "source": [
    "from sklearn import naive_bayes"
   ]
  },
  {
   "cell_type": "code",
   "execution_count": 48,
   "metadata": {},
   "outputs": [
    {
     "name": "stderr",
     "output_type": "stream",
     "text": [
      "C:\\ProgramData\\Anaconda3\\lib\\site-packages\\sklearn\\metrics\\_classification.py:1272: UndefinedMetricWarning: Recall and F-score are ill-defined and being set to 0.0 in labels with no true samples. Use `zero_division` parameter to control this behavior.\n",
      "  _warn_prf(average, modifier, msg_start, len(result))\n"
     ]
    }
   ],
   "source": [
    "report = train_model(naive_bayes.MultinomialNB(), xtrain_count, train_y, xvalid_count)"
   ]
  },
  {
   "cell_type": "code",
   "execution_count": 49,
   "metadata": {},
   "outputs": [
    {
     "name": "stdout",
     "output_type": "stream",
     "text": [
      "              precision    recall  f1-score   support\n",
      "\n",
      "       Biden       0.62      0.56      0.59        18\n",
      "      Booker       0.30      0.30      0.30        10\n",
      "   Buttigieg       0.53      0.48      0.50        21\n",
      "      Castro       0.00      0.00      0.00         0\n",
      "     Gabbard       0.00      0.00      0.00         1\n",
      "      Harris       0.33      0.60      0.43         5\n",
      "   Klobuchar       0.78      0.47      0.58        15\n",
      "    O'Rourke       0.56      1.00      0.71         5\n",
      "     Sanders       0.65      0.69      0.67        16\n",
      "      Steyer       0.17      1.00      0.29         1\n",
      "      Warren       0.82      0.50      0.62        36\n",
      "        Yang       0.33      0.50      0.40         4\n",
      "\n",
      "    accuracy                           0.53       132\n",
      "   macro avg       0.42      0.51      0.42       132\n",
      "weighted avg       0.63      0.53      0.56       132\n",
      "\n"
     ]
    }
   ],
   "source": [
    "print(report)"
   ]
  },
  {
   "cell_type": "markdown",
   "metadata": {},
   "source": [
    "The naive bayes model performs the best among all. It has an accuracy score of 58%. I choose this model because we learn naive bayes and bag of words last quarter when we first learned about text processing. More than half of the labels have precision score over 50. Five labels have recall score 100 and they are \"Castro\", \"Gabbard\", \"Harris\", \"O'Rourke\" and \"Steyer\". "
   ]
  },
  {
   "cell_type": "markdown",
   "metadata": {},
   "source": [
    "## compare the models"
   ]
  },
  {
   "cell_type": "code",
   "execution_count": 50,
   "metadata": {},
   "outputs": [],
   "source": [
    "#define a function to run faster for other models\n",
    "#revise the former function to get the score as dataframes\n",
    "def scores(classifier, feature_vector_train, label, feature_vector_valid, is_neural_net=False):\n",
    "    # fit the training dataset on the classifier\n",
    "    classifier.fit(feature_vector_train, label)\n",
    "    \n",
    "    # predict the labels on validation dataset\n",
    "    predictions = classifier.predict(feature_vector_valid)\n",
    "    \n",
    "    if is_neural_net:\n",
    "        predictions = predictions.argmax(axis=-1)\n",
    "        \n",
    "    score = pd.DataFrame(classification_report(predictions, valid_y,target_names=labels, output_dict=True)).transpose()\n",
    "    \n",
    "    return  score"
   ]
  },
  {
   "cell_type": "code",
   "execution_count": 51,
   "metadata": {},
   "outputs": [
    {
     "name": "stderr",
     "output_type": "stream",
     "text": [
      "C:\\ProgramData\\Anaconda3\\lib\\site-packages\\sklearn\\metrics\\_classification.py:1272: UndefinedMetricWarning: Recall and F-score are ill-defined and being set to 0.0 in labels with no true samples. Use `zero_division` parameter to control this behavior.\n",
      "  _warn_prf(average, modifier, msg_start, len(result))\n",
      "C:\\ProgramData\\Anaconda3\\lib\\site-packages\\sklearn\\metrics\\_classification.py:1272: UndefinedMetricWarning: Recall and F-score are ill-defined and being set to 0.0 in labels with no true samples. Use `zero_division` parameter to control this behavior.\n",
      "  _warn_prf(average, modifier, msg_start, len(result))\n"
     ]
    }
   ],
   "source": [
    "lr=scores(LogisticRegression(), xtrain_count, train_y, xvalid_count)\n",
    "rf=scores(RandomForestClassifier(), xtrain_count, train_y, xvalid_count)\n",
    "nb=scores(naive_bayes.MultinomialNB(), xtrain_count, train_y, xvalid_count)"
   ]
  },
  {
   "cell_type": "code",
   "execution_count": 52,
   "metadata": {},
   "outputs": [
    {
     "data": {
      "text/plain": [
       "Index(['precision', 'recall', 'f1-score', 'support'], dtype='object')"
      ]
     },
     "execution_count": 52,
     "metadata": {},
     "output_type": "execute_result"
    }
   ],
   "source": [
    "lr.columns"
   ]
  },
  {
   "cell_type": "code",
   "execution_count": 53,
   "metadata": {},
   "outputs": [
    {
     "data": {
      "text/plain": [
       "<matplotlib.axes._subplots.AxesSubplot at 0x1ed131938c8>"
      ]
     },
     "execution_count": 53,
     "metadata": {},
     "output_type": "execute_result"
    },
    {
     "data": {
      "image/png": "[encoded data removed]",
      "text/plain": [
       "<Figure size 432x288 with 1 Axes>"
      ]
     },
     "metadata": {
      "needs_background": "light"
     },
     "output_type": "display_data"
    }
   ],
   "source": [
    "precision=lr.drop(['recall','f1-score','support'],axis=1)\n",
    "precision=precision.rename(columns={'precision':'LR'})\n",
    "precision['RF']=rf.precision\n",
    "precision['NB']=nb.precision\n",
    "precision.drop(['accuracy','macro avg','weighted avg'],axis=0,inplace=True)\n",
    "precision.plot.bar()"
   ]
  },
  {
   "cell_type": "code",
   "execution_count": 54,
   "metadata": {},
   "outputs": [
    {
     "data": {
      "text/plain": [
       "<matplotlib.axes._subplots.AxesSubplot at 0x1ed1a421c48>"
      ]
     },
     "execution_count": 54,
     "metadata": {},
     "output_type": "execute_result"
    },
    {
     "data": {
      "image/png": "[encoded data removed]",
      "text/plain": [
       "<Figure size 432x288 with 1 Axes>"
      ]
     },
     "metadata": {
      "needs_background": "light"
     },
     "output_type": "display_data"
    }
   ],
   "source": [
    "f1=lr.drop(['recall','precision','support'],axis=1)\n",
    "f1=f1.rename(columns={'f1-score':'LR'})\n",
    "f1['RF']=rf['f1-score']\n",
    "f1['NB']=nb['f1-score']\n",
    "f1.drop(['accuracy','macro avg','weighted avg'],axis=0,inplace=True)\n",
    "f1.plot.bar()"
   ]
  },
  {
   "cell_type": "code",
   "execution_count": 55,
   "metadata": {},
   "outputs": [
    {
     "data": {
      "text/plain": [
       "[<matplotlib.lines.Line2D at 0x1ed1a377b88>]"
      ]
     },
     "execution_count": 55,
     "metadata": {},
     "output_type": "execute_result"
    },
    {
     "data": {
      "image/png": "[encoded data removed]",
      "text/plain": [
       "<Figure size 432x288 with 1 Axes>"
      ]
     },
     "metadata": {
      "needs_background": "light"
     },
     "output_type": "display_data"
    }
   ],
   "source": [
    "lr_score=lr.iloc[12][0]\n",
    "rf_score=rf.iloc[12][0]\n",
    "nb_score=nb.iloc[12][0]\n",
    "xaxis=['LR','RF','NB']\n",
    "yaxis=[lr_score,rf_score,nb_score]\n",
    "plt.plot(xaxis,yaxis)"
   ]
  },
  {
   "cell_type": "markdown",
   "metadata": {},
   "source": [
    "The strongest model is the naive bayes model and the random forest model is the weakest."
   ]
  },
  {
   "cell_type": "markdown",
   "metadata": {},
   "source": [
    "## generate label for the test set"
   ]
  },
  {
   "cell_type": "code",
   "execution_count": 56,
   "metadata": {},
   "outputs": [],
   "source": [
    "y_train=train.username\n",
    "y_train= encoder.fit_transform(y_train)"
   ]
  },
  {
   "cell_type": "code",
   "execution_count": 57,
   "metadata": {},
   "outputs": [],
   "source": [
    "model=naive_bayes.MultinomialNB().fit(counts,y_train)"
   ]
  },
  {
   "cell_type": "code",
   "execution_count": 58,
   "metadata": {},
   "outputs": [
    {
     "data": {
      "text/plain": [
       "array(['Biden', 'Booker', 'Buttigieg', 'Castro', 'Gabbard', 'Harris',\n",
       "       'Klobuchar', \"O'Rourke\", 'Sanders', 'Steyer', 'Warren', 'Yang'],\n",
       "      dtype=object)"
      ]
     },
     "execution_count": 58,
     "metadata": {},
     "output_type": "execute_result"
    }
   ],
   "source": [
    "labels"
   ]
  },
  {
   "cell_type": "code",
   "execution_count": 59,
   "metadata": {},
   "outputs": [],
   "source": [
    "label=pd.Series(labels)"
   ]
  },
  {
   "cell_type": "code",
   "execution_count": 60,
   "metadata": {},
   "outputs": [],
   "source": [
    "#upper case\n",
    "label=label.str.upper()\n",
    "#remove punctuation\n",
    "label=label.str.replace(\"'\",'')\n",
    "#remove blackspace\n",
    "label=label.str.replace(\" \",'')"
   ]
  },
  {
   "cell_type": "code",
   "execution_count": 61,
   "metadata": {},
   "outputs": [],
   "source": [
    "#transform uppercased label to a dictionary\n",
    "dict=label.to_dict()"
   ]
  },
  {
   "cell_type": "code",
   "execution_count": 62,
   "metadata": {},
   "outputs": [],
   "source": [
    "#use model to predict outputs for the test set\n",
    "pred_test=model.predict(counts_test)\n",
    "#replace the numeric outputs with uppercased labels\n",
    "pred_test = [dict[letter] for letter in pred_test]"
   ]
  },
  {
   "cell_type": "code",
   "execution_count": 63,
   "metadata": {},
   "outputs": [
    {
     "data": {
      "text/plain": [
       "111"
      ]
     },
     "execution_count": 63,
     "metadata": {},
     "output_type": "execute_result"
    }
   ],
   "source": [
    "len(pred_test)"
   ]
  },
  {
   "cell_type": "markdown",
   "metadata": {},
   "source": [
    "# semi-supervised learning"
   ]
  },
  {
   "cell_type": "markdown",
   "metadata": {},
   "source": [
    "## choose classifier and model"
   ]
  },
  {
   "cell_type": "markdown",
   "metadata": {},
   "source": [
    "Try tf-idf classifier with different analyzers."
   ]
  },
  {
   "cell_type": "code",
   "execution_count": 64,
   "metadata": {},
   "outputs": [
    {
     "name": "stderr",
     "output_type": "stream",
     "text": [
      "C:\\ProgramData\\Anaconda3\\lib\\site-packages\\sklearn\\feature_extraction\\text.py:524: UserWarning: The parameter 'token_pattern' will not be used since 'analyzer' != 'word'\n",
      "  warnings.warn(\"The parameter 'token_pattern' will not be used\"\n"
     ]
    }
   ],
   "source": [
    "# word level tf-idf\n",
    "tfidf_vect = TfidfVectorizer(analyzer='word', token_pattern=r'\\w{1,}', max_features=5000)\n",
    "tfidf_vect.fit(training)\n",
    "xtrain_tfidf =  tfidf_vect.transform(train_x)\n",
    "xvalid_tfidf =  tfidf_vect.transform(valid_x)\n",
    "\n",
    "# ngram level tf-idf \n",
    "tfidf_vect_ngram = TfidfVectorizer(analyzer='word', token_pattern=r'\\w{1,}', ngram_range=(2,3), max_features=5000)\n",
    "tfidf_vect_ngram.fit(training)\n",
    "xtrain_tfidf_ngram =  tfidf_vect_ngram.transform(train_x)\n",
    "xvalid_tfidf_ngram =  tfidf_vect_ngram.transform(valid_x)\n",
    "\n",
    "# characters level tf-idf\n",
    "tfidf_vect_ngram_chars = TfidfVectorizer(analyzer='char', token_pattern=r'\\w{1,}', ngram_range=(2,3), max_features=5000)\n",
    "tfidf_vect_ngram_chars.fit(training)\n",
    "xtrain_tfidf_ngram_chars =  tfidf_vect_ngram_chars.transform(train_x) \n",
    "xvalid_tfidf_ngram_chars =  tfidf_vect_ngram_chars.transform(valid_x) "
   ]
  },
  {
   "cell_type": "markdown",
   "metadata": {},
   "source": [
    "check the accuracy of the better models naive bayes and logistic regression  with tf-idf data"
   ]
  },
  {
   "cell_type": "code",
   "execution_count": 65,
   "metadata": {},
   "outputs": [
    {
     "name": "stdout",
     "output_type": "stream",
     "text": [
      "              precision    recall  f1-score   support\n",
      "\n",
      "       Biden       0.31      0.71      0.43         7\n",
      "      Booker       0.10      0.50      0.17         2\n",
      "   Buttigieg       0.05      0.50      0.10         2\n",
      "      Castro       0.00      0.00      0.00         0\n",
      "     Gabbard       0.00      0.00      0.00         0\n",
      "      Harris       0.00      0.00      0.00         0\n",
      "   Klobuchar       0.44      0.67      0.53         6\n",
      "    O'Rourke       0.00      0.00      0.00         0\n",
      "     Sanders       0.24      1.00      0.38         4\n",
      "      Steyer       0.00      0.00      0.00         0\n",
      "      Warren       1.00      0.20      0.33       111\n",
      "        Yang       0.00      0.00      0.00         0\n",
      "\n",
      "    accuracy                           0.28       132\n",
      "   macro avg       0.18      0.30      0.16       132\n",
      "weighted avg       0.89      0.28      0.34       132\n",
      "\n"
     ]
    },
    {
     "name": "stderr",
     "output_type": "stream",
     "text": [
      "C:\\ProgramData\\Anaconda3\\lib\\site-packages\\sklearn\\metrics\\_classification.py:1272: UndefinedMetricWarning: Recall and F-score are ill-defined and being set to 0.0 in labels with no true samples. Use `zero_division` parameter to control this behavior.\n",
      "  _warn_prf(average, modifier, msg_start, len(result))\n"
     ]
    }
   ],
   "source": [
    "# Naive Bayes on Word Level TF IDF Vectors\n",
    "report = train_model(naive_bayes.MultinomialNB(), xtrain_tfidf, train_y, xvalid_tfidf)\n",
    "print (report)"
   ]
  },
  {
   "cell_type": "code",
   "execution_count": 66,
   "metadata": {},
   "outputs": [
    {
     "name": "stdout",
     "output_type": "stream",
     "text": [
      "              precision    recall  f1-score   support\n",
      "\n",
      "       Biden       0.44      0.78      0.56         9\n",
      "      Booker       0.30      0.75      0.43         4\n",
      "   Buttigieg       0.16      0.75      0.26         4\n",
      "      Castro       0.00      0.00      0.00         0\n",
      "     Gabbard       0.00      0.00      0.00         0\n",
      "      Harris       0.11      1.00      0.20         1\n",
      "   Klobuchar       0.44      0.67      0.53         6\n",
      "    O'Rourke       0.11      1.00      0.20         1\n",
      "     Sanders       0.47      0.67      0.55        12\n",
      "      Steyer       0.00      0.00      0.00         0\n",
      "      Warren       1.00      0.23      0.38        95\n",
      "        Yang       0.00      0.00      0.00         0\n",
      "\n",
      "    accuracy                           0.37       132\n",
      "   macro avg       0.25      0.49      0.26       132\n",
      "weighted avg       0.83      0.37      0.41       132\n",
      "\n"
     ]
    },
    {
     "name": "stderr",
     "output_type": "stream",
     "text": [
      "C:\\ProgramData\\Anaconda3\\lib\\site-packages\\sklearn\\metrics\\_classification.py:1272: UndefinedMetricWarning: Recall and F-score are ill-defined and being set to 0.0 in labels with no true samples. Use `zero_division` parameter to control this behavior.\n",
      "  _warn_prf(average, modifier, msg_start, len(result))\n"
     ]
    }
   ],
   "source": [
    "report = train_model(naive_bayes.MultinomialNB(),  xtrain_tfidf_ngram, train_y, xvalid_tfidf_ngram)\n",
    "print (report)"
   ]
  },
  {
   "cell_type": "code",
   "execution_count": 67,
   "metadata": {},
   "outputs": [
    {
     "name": "stdout",
     "output_type": "stream",
     "text": [
      "              precision    recall  f1-score   support\n",
      "\n",
      "       Biden       0.00      0.00      0.00         1\n",
      "      Booker       0.00      0.00      0.00         0\n",
      "   Buttigieg       0.00      0.00      0.00         0\n",
      "      Castro       0.00      0.00      0.00         0\n",
      "     Gabbard       0.00      0.00      0.00         0\n",
      "      Harris       0.00      0.00      0.00         0\n",
      "   Klobuchar       0.00      0.00      0.00         0\n",
      "    O'Rourke       0.00      0.00      0.00         0\n",
      "     Sanders       0.00      0.00      0.00         0\n",
      "      Steyer       0.00      0.00      0.00         0\n",
      "      Warren       1.00      0.17      0.29       131\n",
      "        Yang       0.00      0.00      0.00         0\n",
      "\n",
      "    accuracy                           0.17       132\n",
      "   macro avg       0.08      0.01      0.02       132\n",
      "weighted avg       0.99      0.17      0.29       132\n",
      "\n"
     ]
    },
    {
     "name": "stderr",
     "output_type": "stream",
     "text": [
      "C:\\ProgramData\\Anaconda3\\lib\\site-packages\\sklearn\\metrics\\_classification.py:1272: UndefinedMetricWarning: Recall and F-score are ill-defined and being set to 0.0 in labels with no true samples. Use `zero_division` parameter to control this behavior.\n",
      "  _warn_prf(average, modifier, msg_start, len(result))\n"
     ]
    }
   ],
   "source": [
    "report = train_model(naive_bayes.MultinomialNB(), xtrain_tfidf_ngram_chars, train_y, xvalid_tfidf_ngram_chars)\n",
    "print (report)"
   ]
  },
  {
   "cell_type": "code",
   "execution_count": 68,
   "metadata": {},
   "outputs": [
    {
     "name": "stdout",
     "output_type": "stream",
     "text": [
      "              precision    recall  f1-score   support\n",
      "\n",
      "       Biden       0.81      0.65      0.72        20\n",
      "      Booker       0.50      0.33      0.40        15\n",
      "   Buttigieg       0.47      0.53      0.50        17\n",
      "      Castro       0.00      0.00      0.00         0\n",
      "     Gabbard       0.00      0.00      0.00         0\n",
      "      Harris       0.33      0.75      0.46         4\n",
      "   Klobuchar       0.67      0.40      0.50        15\n",
      "    O'Rourke       0.22      1.00      0.36         2\n",
      "     Sanders       0.53      0.90      0.67        10\n",
      "      Steyer       0.00      0.00      0.00         0\n",
      "      Warren       0.91      0.41      0.56        49\n",
      "        Yang       0.00      0.00      0.00         0\n",
      "\n",
      "    accuracy                           0.51       132\n",
      "   macro avg       0.37      0.41      0.35       132\n",
      "weighted avg       0.71      0.51      0.56       132\n",
      "\n"
     ]
    },
    {
     "name": "stderr",
     "output_type": "stream",
     "text": [
      "C:\\ProgramData\\Anaconda3\\lib\\site-packages\\sklearn\\metrics\\_classification.py:1272: UndefinedMetricWarning: Recall and F-score are ill-defined and being set to 0.0 in labels with no true samples. Use `zero_division` parameter to control this behavior.\n",
      "  _warn_prf(average, modifier, msg_start, len(result))\n"
     ]
    }
   ],
   "source": [
    "report = train_model(LogisticRegression(), xtrain_tfidf, train_y, xvalid_tfidf)\n",
    "print (report)"
   ]
  },
  {
   "cell_type": "code",
   "execution_count": 69,
   "metadata": {},
   "outputs": [
    {
     "name": "stdout",
     "output_type": "stream",
     "text": [
      "              precision    recall  f1-score   support\n",
      "\n",
      "       Biden       0.44      0.70      0.54        10\n",
      "      Booker       0.40      0.57      0.47         7\n",
      "   Buttigieg       0.21      0.80      0.33         5\n",
      "      Castro       0.00      0.00      0.00         0\n",
      "     Gabbard       0.00      0.00      0.00         0\n",
      "      Harris       0.11      1.00      0.20         1\n",
      "   Klobuchar       0.56      0.45      0.50        11\n",
      "    O'Rourke       0.11      1.00      0.20         1\n",
      "     Sanders       0.35      0.60      0.44        10\n",
      "      Steyer       0.00      0.00      0.00         0\n",
      "      Warren       0.95      0.24      0.39        87\n",
      "        Yang       0.00      0.00      0.00         0\n",
      "\n",
      "    accuracy                           0.37       132\n",
      "   macro avg       0.26      0.45      0.26       132\n",
      "weighted avg       0.77      0.37      0.41       132\n",
      "\n"
     ]
    },
    {
     "name": "stderr",
     "output_type": "stream",
     "text": [
      "C:\\ProgramData\\Anaconda3\\lib\\site-packages\\sklearn\\metrics\\_classification.py:1272: UndefinedMetricWarning: Recall and F-score are ill-defined and being set to 0.0 in labels with no true samples. Use `zero_division` parameter to control this behavior.\n",
      "  _warn_prf(average, modifier, msg_start, len(result))\n"
     ]
    }
   ],
   "source": [
    "report = train_model(LogisticRegression(),  xtrain_tfidf_ngram, train_y, xvalid_tfidf_ngram)\n",
    "print (report)"
   ]
  },
  {
   "cell_type": "code",
   "execution_count": 70,
   "metadata": {},
   "outputs": [
    {
     "name": "stdout",
     "output_type": "stream",
     "text": [
      "              precision    recall  f1-score   support\n",
      "\n",
      "       Biden       0.50      0.57      0.53        14\n",
      "      Booker       0.50      0.42      0.45        12\n",
      "   Buttigieg       0.32      0.50      0.39        12\n",
      "      Castro       0.00      0.00      0.00         0\n",
      "     Gabbard       0.00      0.00      0.00         0\n",
      "      Harris       0.33      1.00      0.50         3\n",
      "   Klobuchar       1.00      0.33      0.50        27\n",
      "    O'Rourke       0.11      1.00      0.20         1\n",
      "     Sanders       0.47      0.73      0.57        11\n",
      "      Steyer       0.00      0.00      0.00         0\n",
      "      Warren       0.86      0.37      0.51        52\n",
      "        Yang       0.00      0.00      0.00         0\n",
      "\n",
      "    accuracy                           0.45       132\n",
      "   macro avg       0.34      0.41      0.30       132\n",
      "weighted avg       0.72      0.45      0.50       132\n",
      "\n"
     ]
    },
    {
     "name": "stderr",
     "output_type": "stream",
     "text": [
      "C:\\ProgramData\\Anaconda3\\lib\\site-packages\\sklearn\\metrics\\_classification.py:1272: UndefinedMetricWarning: Recall and F-score are ill-defined and being set to 0.0 in labels with no true samples. Use `zero_division` parameter to control this behavior.\n",
      "  _warn_prf(average, modifier, msg_start, len(result))\n"
     ]
    }
   ],
   "source": [
    "report = train_model(LogisticRegression(),  xtrain_tfidf_ngram_chars, train_y, xvalid_tfidf_ngram_chars)\n",
    "print (report)"
   ]
  },
  {
   "cell_type": "markdown",
   "metadata": {},
   "source": [
    "All the results are lower than the CountVectorizer classifier. So I give up the tf-idf classifier.   \n",
    "I don't feel any delay while running these codes.  All of them are running fast.  \n",
    "Therefore, I choose CountVectorizer classifier and naive bayes model."
   ]
  },
  {
   "cell_type": "markdown",
   "metadata": {},
   "source": [
    "## predict label probabilities on the test set"
   ]
  },
  {
   "cell_type": "code",
   "execution_count": 71,
   "metadata": {},
   "outputs": [],
   "source": [
    "proba=model.predict_proba(counts_test)\n",
    "proba=pd.DataFrame(proba)"
   ]
  },
  {
   "cell_type": "markdown",
   "metadata": {},
   "source": [
    "#maximum value of each row\n",
    "index=proba.idxmax(axis=1)"
   ]
  },
  {
   "cell_type": "markdown",
   "metadata": {},
   "source": [
    "Take the top 10% of test instances which have the highest\n",
    "probability of having the correct labels (i.e. the highest probabilities of belonging to any class)."
   ]
  },
  {
   "cell_type": "code",
   "execution_count": 72,
   "metadata": {},
   "outputs": [],
   "source": [
    "list=[]\n",
    "for i in np.arange(len(proba)):\n",
    "    list.append(proba.iloc[i].sum())\n",
    "proba['sum']=list\n",
    "\n",
    "top=proba.sort_values(by=['sum'],ascending=False).head(int(len(proba)*0.1))\n",
    "\n",
    "top.drop(['sum'],axis=1,inplace=True)"
   ]
  },
  {
   "cell_type": "markdown",
   "metadata": {},
   "source": [
    "Add predicted labels to this 10% and then add it to the training data."
   ]
  },
  {
   "cell_type": "code",
   "execution_count": 73,
   "metadata": {},
   "outputs": [],
   "source": [
    "#get the index of the top set\n",
    "top_index=top.index.tolist()\n",
    "#remove the top data from proba\n",
    "proba.drop(top_index,inplace=True)\n",
    "#extract the count converted data using index\n",
    "top_test=counts_test.iloc[top_index]\n",
    "\n",
    "#predict the labels of the top set\n",
    "pred_top=model.predict(top_test)"
   ]
  },
  {
   "cell_type": "code",
   "execution_count": 74,
   "metadata": {},
   "outputs": [
    {
     "data": {
      "text/plain": [
       "array([ 6, 10,  6,  2, 10,  1,  8,  0,  8,  2, 10])"
      ]
     },
     "execution_count": 74,
     "metadata": {},
     "output_type": "execute_result"
    }
   ],
   "source": [
    "pred_top"
   ]
  },
  {
   "cell_type": "code",
   "execution_count": 75,
   "metadata": {},
   "outputs": [
    {
     "data": {
      "text/plain": [
       "(528, 3371)"
      ]
     },
     "execution_count": 75,
     "metadata": {},
     "output_type": "execute_result"
    }
   ],
   "source": [
    "#before\n",
    "counts.shape"
   ]
  },
  {
   "cell_type": "markdown",
   "metadata": {},
   "source": [
    "turn xtrain_count from sparse matrix to a dataframe in order to add the top test set"
   ]
  },
  {
   "cell_type": "markdown",
   "metadata": {},
   "source": [
    "xtrain_count=vec.transform(train_x).toarray()\n",
    "xtrain_count=pd.DataFrame(xtrain_count,columns=vec.get_feature_names())"
   ]
  },
  {
   "cell_type": "code",
   "execution_count": 76,
   "metadata": {},
   "outputs": [],
   "source": [
    "#add top set and their predictions to the training data\n",
    "x_train=counts.append(top_test,ignore_index=True)"
   ]
  },
  {
   "cell_type": "code",
   "execution_count": 77,
   "metadata": {},
   "outputs": [
    {
     "data": {
      "text/plain": [
       "(539, 3371)"
      ]
     },
     "execution_count": 77,
     "metadata": {},
     "output_type": "execute_result"
    }
   ],
   "source": [
    "#after\n",
    "x_train.shape"
   ]
  },
  {
   "cell_type": "code",
   "execution_count": 78,
   "metadata": {},
   "outputs": [],
   "source": [
    "y_train=np.append(y_train,pred_top)"
   ]
  },
  {
   "cell_type": "code",
   "execution_count": 79,
   "metadata": {},
   "outputs": [
    {
     "data": {
      "text/plain": [
       "(539,)"
      ]
     },
     "execution_count": 79,
     "metadata": {},
     "output_type": "execute_result"
    }
   ],
   "source": [
    "#check whether y is comformed with x\n",
    "y_train.shape"
   ]
  },
  {
   "cell_type": "markdown",
   "metadata": {},
   "source": [
    "successfully added the 10%"
   ]
  },
  {
   "cell_type": "code",
   "execution_count": 80,
   "metadata": {},
   "outputs": [
    {
     "name": "stdout",
     "output_type": "stream",
     "text": [
      "              precision    recall  f1-score   support\n",
      "\n",
      "       Biden       1.00      0.94      0.97        17\n",
      "      Booker       1.00      1.00      1.00        10\n",
      "   Buttigieg       1.00      0.95      0.97        20\n",
      "      Castro       1.00      1.00      1.00         5\n",
      "     Gabbard       0.75      1.00      0.86         3\n",
      "      Harris       1.00      1.00      1.00         9\n",
      "   Klobuchar       1.00      1.00      1.00         9\n",
      "    O'Rourke       0.89      1.00      0.94         8\n",
      "     Sanders       1.00      1.00      1.00        17\n",
      "      Steyer       1.00      1.00      1.00         6\n",
      "      Warren       1.00      0.96      0.98        23\n",
      "        Yang       0.83      1.00      0.91         5\n",
      "\n",
      "    accuracy                           0.98       132\n",
      "   macro avg       0.96      0.99      0.97       132\n",
      "weighted avg       0.98      0.98      0.98       132\n",
      "\n"
     ]
    }
   ],
   "source": [
    "#retrain on the updated training set and get the report\n",
    "model =model.fit(x_train, y_train)\n",
    "prediction=model.predict(xvalid_count)\n",
    "print (classification_report(prediction, valid_y,target_names=labels))"
   ]
  },
  {
   "cell_type": "markdown",
   "metadata": {},
   "source": [
    "Compared to the accuracy on the original training data (should be 100), now it's only 0.98, decreased by 0.02.  "
   ]
  },
  {
   "cell_type": "code",
   "execution_count": 81,
   "metadata": {},
   "outputs": [],
   "source": [
    "#generate two lists for the plot\n",
    "#add the two points we already have\n",
    "ydata=[1.00,accuracy_score(prediction,valid_y).round(4)]\n",
    "xdata=['0%','10%']"
   ]
  },
  {
   "cell_type": "code",
   "execution_count": 82,
   "metadata": {},
   "outputs": [],
   "source": [
    "for iter in range(2,11):\n",
    "\n",
    "    top=proba.sort_values(by=['sum'],ascending=False).head(11)\n",
    "\n",
    "    top.drop(['sum'],axis=1,inplace=True)\n",
    "    #get the index of the top set\n",
    "    top_index=top.index.tolist()\n",
    "    #remove the top data from proba\n",
    "    proba.drop(top_index,inplace=True)\n",
    "    #extract the count converted data using index\n",
    "    top_test=counts_test.iloc[top_index]\n",
    "\n",
    "    #predict the labels of the top set\n",
    "    pred_top=model.predict(top_test)\n",
    "    #add top set and their predictions to the training data\n",
    "    x_train=x_train.append(top_test,ignore_index=True)\n",
    "    y_train=np.append(y_train,pred_top)\n",
    "    #retrain on the updated training set and get the report\n",
    "    model =model.fit(x_train, y_train)\n",
    "    prediction=model.predict(xvalid_count)\n",
    "    accuracy=accuracy_score(prediction, valid_y)\n",
    "    ydata.append(accuracy.round(4))\n",
    "    xdata.append(str(iter*10)+'%')"
   ]
  },
  {
   "cell_type": "markdown",
   "metadata": {},
   "source": [
    "draw a line plot to see how accuracy changed as I add more test data to the original train set"
   ]
  },
  {
   "cell_type": "code",
   "execution_count": 83,
   "metadata": {},
   "outputs": [
    {
     "data": {
      "text/plain": [
       "Text(0.5, 1.0, 'the classification accuracy on the original training dataset')"
      ]
     },
     "execution_count": 83,
     "metadata": {},
     "output_type": "execute_result"
    },
    {
     "data": {
      "image/png": "[encoded data removed]",
      "text/plain": [
       "<Figure size 432x288 with 1 Axes>"
      ]
     },
     "metadata": {
      "needs_background": "light"
     },
     "output_type": "display_data"
    }
   ],
   "source": [
    "plt.plot(xdata,ydata)\n",
    "plt.ylabel('accuracy score')\n",
    "plt.xlabel('percentage of the test dataset used')\n",
    "plt.title('the classification accuracy on the original training dataset')"
   ]
  },
  {
   "cell_type": "markdown",
   "metadata": {},
   "source": [
    "The accuracy score mostly decreases as more test data added to the original training set."
   ]
  },
  {
   "cell_type": "code",
   "execution_count": 84,
   "metadata": {},
   "outputs": [],
   "source": [
    "#Using the model that is trained on the entirety of the training data and 100% of the test data\n",
    "final_model=model\n",
    "#generate a final set of labels for the test data.\n",
    "predictions = final_model.predict(counts_test)\n",
    "#only use last names in all caps for the labels\n",
    "predictions = [dict[letter] for letter in predictions]"
   ]
  },
  {
   "cell_type": "code",
   "execution_count": 85,
   "metadata": {},
   "outputs": [
    {
     "data": {
      "text/plain": [
       "['BUTTIGIEG',\n",
       " 'BIDEN',\n",
       " 'WARREN',\n",
       " 'SANDERS',\n",
       " 'BUTTIGIEG',\n",
       " 'WARREN',\n",
       " 'GABBARD',\n",
       " 'BUTTIGIEG',\n",
       " 'OROURKE',\n",
       " 'WARREN',\n",
       " 'KLOBUCHAR',\n",
       " 'KLOBUCHAR',\n",
       " 'SANDERS',\n",
       " 'BIDEN',\n",
       " 'HARRIS',\n",
       " 'BUTTIGIEG',\n",
       " 'WARREN',\n",
       " 'WARREN',\n",
       " 'BIDEN',\n",
       " 'BOOKER',\n",
       " 'BOOKER',\n",
       " 'STEYER',\n",
       " 'HARRIS',\n",
       " 'WARREN',\n",
       " 'HARRIS',\n",
       " 'BUTTIGIEG',\n",
       " 'BOOKER',\n",
       " 'BIDEN',\n",
       " 'SANDERS',\n",
       " 'WARREN',\n",
       " 'WARREN',\n",
       " 'HARRIS',\n",
       " 'SANDERS',\n",
       " 'WARREN',\n",
       " 'BOOKER',\n",
       " 'BUTTIGIEG',\n",
       " 'WARREN',\n",
       " 'SANDERS',\n",
       " 'WARREN',\n",
       " 'WARREN',\n",
       " 'SANDERS',\n",
       " 'BUTTIGIEG',\n",
       " 'WARREN',\n",
       " 'WARREN',\n",
       " 'HARRIS',\n",
       " 'KLOBUCHAR',\n",
       " 'BUTTIGIEG',\n",
       " 'OROURKE',\n",
       " 'BUTTIGIEG',\n",
       " 'BOOKER',\n",
       " 'KLOBUCHAR',\n",
       " 'SANDERS',\n",
       " 'WARREN',\n",
       " 'BOOKER',\n",
       " 'WARREN',\n",
       " 'WARREN',\n",
       " 'WARREN',\n",
       " 'BIDEN',\n",
       " 'BUTTIGIEG',\n",
       " 'BIDEN',\n",
       " 'GABBARD',\n",
       " 'BUTTIGIEG',\n",
       " 'BUTTIGIEG',\n",
       " 'SANDERS',\n",
       " 'BIDEN',\n",
       " 'WARREN',\n",
       " 'KLOBUCHAR',\n",
       " 'WARREN',\n",
       " 'KLOBUCHAR',\n",
       " 'WARREN',\n",
       " 'BUTTIGIEG',\n",
       " 'BIDEN',\n",
       " 'WARREN',\n",
       " 'BUTTIGIEG',\n",
       " 'BUTTIGIEG',\n",
       " 'BIDEN',\n",
       " 'SANDERS',\n",
       " 'GABBARD',\n",
       " 'BUTTIGIEG',\n",
       " 'KLOBUCHAR',\n",
       " 'BOOKER',\n",
       " 'WARREN',\n",
       " 'HARRIS',\n",
       " 'BUTTIGIEG',\n",
       " 'WARREN',\n",
       " 'SANDERS',\n",
       " 'WARREN',\n",
       " 'WARREN',\n",
       " 'KLOBUCHAR',\n",
       " 'SANDERS',\n",
       " 'SANDERS',\n",
       " 'YANG',\n",
       " 'WARREN',\n",
       " 'WARREN',\n",
       " 'SANDERS',\n",
       " 'WARREN',\n",
       " 'KLOBUCHAR',\n",
       " 'BIDEN',\n",
       " 'OROURKE',\n",
       " 'BUTTIGIEG',\n",
       " 'CASTRO',\n",
       " 'WARREN',\n",
       " 'BOOKER',\n",
       " 'WARREN',\n",
       " 'WARREN',\n",
       " 'BUTTIGIEG',\n",
       " 'HARRIS',\n",
       " 'BOOKER',\n",
       " 'HARRIS',\n",
       " 'WARREN',\n",
       " 'WARREN']"
      ]
     },
     "execution_count": 85,
     "metadata": {},
     "output_type": "execute_result"
    }
   ],
   "source": [
    "predictions"
   ]
  },
  {
   "cell_type": "markdown",
   "metadata": {},
   "source": [
    "# Submission"
   ]
  },
  {
   "cell_type": "code",
   "execution_count": 86,
   "metadata": {},
   "outputs": [],
   "source": [
    "#get the file names\n",
    "output=pd.DataFrame(all_test_files,columns=['FILE'])\n",
    "#clean the file names\n",
    "output=output['FILE'].str.split('\\\\',n=1,expand=True)\n",
    "output.columns=['drop','FILE']\n",
    "output.drop(['drop'],axis=1,inplace=True)\n",
    "#add predictions from Q12 AND Q16 to the output form\n",
    "output['MODEL1']=pred_test\n",
    "output['MODEL2']=predictions"
   ]
  },
  {
   "cell_type": "code",
   "execution_count": 87,
   "metadata": {},
   "outputs": [
    {
     "data": {
      "text/plain": [
       "0.9099099099099099"
      ]
     },
     "execution_count": 87,
     "metadata": {},
     "output_type": "execute_result"
    }
   ],
   "source": [
    "accuracy_score(pred_test,predictions)"
   ]
  },
  {
   "cell_type": "markdown",
   "metadata": {},
   "source": [
    "There are nuance differences between the outputs of Q12 and Q16. But they are mostly alike."
   ]
  },
  {
   "cell_type": "code",
   "execution_count": 88,
   "metadata": {},
   "outputs": [],
   "source": [
    "output.to_csv(r'PS3_output.txt', header=output.columns,index=None,sep='\\t')"
   ]
  }
 ],
 "metadata": {
  "kernelspec": {
   "display_name": "Python 3",
   "language": "python",
   "name": "python3"
  },
  "language_info": {
   "codemirror_mode": {
    "name": "ipython",
    "version": 3
   },
   "file_extension": ".py",
   "mimetype": "text/x-python",
   "name": "python",
   "nbconvert_exporter": "python",
   "pygments_lexer": "ipython3",
   "version": "3.8.3"
  },
  "toc": {
   "base_numbering": 1,
   "nav_menu": {},
   "number_sections": true,
   "sideBar": true,
   "skip_h1_title": false,
   "title_cell": "Table of Contents",
   "title_sidebar": "Contents",
   "toc_cell": false,
   "toc_position": {
    "height": "calc(100% - 180px)",
    "left": "10px",
    "top": "150px",
    "width": "271.063px"
   },
   "toc_section_display": true,
   "toc_window_display": false
  }
 },
 "nbformat": 4,
 "nbformat_minor": 4
}
