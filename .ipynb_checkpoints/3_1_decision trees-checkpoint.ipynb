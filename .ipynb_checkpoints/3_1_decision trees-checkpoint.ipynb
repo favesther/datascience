{
 "cells": [
  {
   "cell_type": "markdown",
   "metadata": {},
   "source": [
    "# Creating helper functions"
   ]
  },
  {
   "cell_type": "code",
   "execution_count": 18,
   "metadata": {},
   "outputs": [],
   "source": [
    "import pandas as pd\n",
    "import numpy as np"
   ]
  },
  {
   "cell_type": "code",
   "execution_count": 19,
   "metadata": {},
   "outputs": [],
   "source": [
    "data=pd.read_csv(\"toydata.csv\")"
   ]
  },
  {
   "cell_type": "code",
   "execution_count": 20,
   "metadata": {},
   "outputs": [
    {
     "data": {
      "text/html": [
       "<div>\n",
       "<style scoped>\n",
       "    .dataframe tbody tr th:only-of-type {\n",
       "        vertical-align: middle;\n",
       "    }\n",
       "\n",
       "    .dataframe tbody tr th {\n",
       "        vertical-align: top;\n",
       "    }\n",
       "\n",
       "    .dataframe thead th {\n",
       "        text-align: right;\n",
       "    }\n",
       "</style>\n",
       "<table border=\"1\" class=\"dataframe\">\n",
       "  <thead>\n",
       "    <tr style=\"text-align: right;\">\n",
       "      <th></th>\n",
       "      <th>Variable A</th>\n",
       "      <th>Variable B</th>\n",
       "      <th>Variable C</th>\n",
       "      <th>Output</th>\n",
       "    </tr>\n",
       "  </thead>\n",
       "  <tbody>\n",
       "    <tr>\n",
       "      <th>0</th>\n",
       "      <td>Yes</td>\n",
       "      <td>On</td>\n",
       "      <td>High</td>\n",
       "      <td>Red</td>\n",
       "    </tr>\n",
       "    <tr>\n",
       "      <th>1</th>\n",
       "      <td>No</td>\n",
       "      <td>Off</td>\n",
       "      <td>Low</td>\n",
       "      <td>Blue</td>\n",
       "    </tr>\n",
       "    <tr>\n",
       "      <th>2</th>\n",
       "      <td>Yes</td>\n",
       "      <td>On</td>\n",
       "      <td>High</td>\n",
       "      <td>Red</td>\n",
       "    </tr>\n",
       "    <tr>\n",
       "      <th>3</th>\n",
       "      <td>Yes</td>\n",
       "      <td>Off</td>\n",
       "      <td>High</td>\n",
       "      <td>Red</td>\n",
       "    </tr>\n",
       "    <tr>\n",
       "      <th>4</th>\n",
       "      <td>No</td>\n",
       "      <td>On</td>\n",
       "      <td>High</td>\n",
       "      <td>Blue</td>\n",
       "    </tr>\n",
       "    <tr>\n",
       "      <th>5</th>\n",
       "      <td>Yes</td>\n",
       "      <td>On</td>\n",
       "      <td>Low</td>\n",
       "      <td>Blue</td>\n",
       "    </tr>\n",
       "    <tr>\n",
       "      <th>6</th>\n",
       "      <td>No</td>\n",
       "      <td>Off</td>\n",
       "      <td>High</td>\n",
       "      <td>Blue</td>\n",
       "    </tr>\n",
       "    <tr>\n",
       "      <th>7</th>\n",
       "      <td>No</td>\n",
       "      <td>On</td>\n",
       "      <td>High</td>\n",
       "      <td>Blue</td>\n",
       "    </tr>\n",
       "    <tr>\n",
       "      <th>8</th>\n",
       "      <td>Yes</td>\n",
       "      <td>On</td>\n",
       "      <td>Low</td>\n",
       "      <td>Blue</td>\n",
       "    </tr>\n",
       "    <tr>\n",
       "      <th>9</th>\n",
       "      <td>Yes</td>\n",
       "      <td>Off</td>\n",
       "      <td>High</td>\n",
       "      <td>Red</td>\n",
       "    </tr>\n",
       "  </tbody>\n",
       "</table>\n",
       "</div>"
      ],
      "text/plain": [
       "  Variable A Variable B Variable C Output\n",
       "0        Yes         On       High    Red\n",
       "1         No        Off        Low   Blue\n",
       "2        Yes         On       High    Red\n",
       "3        Yes        Off       High    Red\n",
       "4         No         On       High   Blue\n",
       "5        Yes         On        Low   Blue\n",
       "6         No        Off       High   Blue\n",
       "7         No         On       High   Blue\n",
       "8        Yes         On        Low   Blue\n",
       "9        Yes        Off       High    Red"
      ]
     },
     "execution_count": 20,
     "metadata": {},
     "output_type": "execute_result"
    }
   ],
   "source": [
    "data"
   ]
  },
  {
   "cell_type": "code",
   "execution_count": 21,
   "metadata": {},
   "outputs": [
    {
     "data": {
      "text/plain": [
       "Yes    6\n",
       "No     4\n",
       "Name: Variable A, dtype: int64"
      ]
     },
     "execution_count": 21,
     "metadata": {},
     "output_type": "execute_result"
    }
   ],
   "source": [
    "# count the values\n",
    "data['Variable A'].value_counts()"
   ]
  },
  {
   "cell_type": "code",
   "execution_count": 22,
   "metadata": {},
   "outputs": [
    {
     "data": {
      "text/plain": [
       "On     6\n",
       "Off    4\n",
       "Name: Variable B, dtype: int64"
      ]
     },
     "execution_count": 22,
     "metadata": {},
     "output_type": "execute_result"
    }
   ],
   "source": [
    "data['Variable B'].value_counts()"
   ]
  },
  {
   "cell_type": "code",
   "execution_count": 23,
   "metadata": {},
   "outputs": [
    {
     "data": {
      "text/plain": [
       "High    7\n",
       "Low     3\n",
       "Name: Variable C, dtype: int64"
      ]
     },
     "execution_count": 23,
     "metadata": {},
     "output_type": "execute_result"
    }
   ],
   "source": [
    "data['Variable C'].value_counts()"
   ]
  },
  {
   "cell_type": "code",
   "execution_count": 24,
   "metadata": {},
   "outputs": [
    {
     "data": {
      "text/plain": [
       "Blue    6\n",
       "Red     4\n",
       "Name: Output, dtype: int64"
      ]
     },
     "execution_count": 24,
     "metadata": {},
     "output_type": "execute_result"
    }
   ],
   "source": [
    "data['Output'].value_counts()"
   ]
  },
  {
   "cell_type": "code",
   "execution_count": 25,
   "metadata": {},
   "outputs": [],
   "source": [
    "#calculate Gini impurity\n",
    "def calcGini(a,b):\n",
    "        probOne = a/(a+b)\n",
    "        probTwo=b/(a+b)\n",
    "        return 1-(np.square(probOne) + np.square(probTwo))"
   ]
  },
  {
   "cell_type": "code",
   "execution_count": 26,
   "metadata": {},
   "outputs": [],
   "source": [
    "def calcEntropy(p):\n",
    "    E= - p*np.log2(p) - (1 - p)*np.log2((1 - p))\n",
    "    return E"
   ]
  },
  {
   "cell_type": "code",
   "execution_count": 27,
   "metadata": {},
   "outputs": [],
   "source": [
    "def weightedSum(weight,a,b):    \n",
    "    return weight*a+(1-weight)*b"
   ]
  },
  {
   "cell_type": "code",
   "execution_count": 28,
   "metadata": {},
   "outputs": [
    {
     "name": "stdout",
     "output_type": "stream",
     "text": [
      "Gini impurity of A is:  0.27\n",
      "the whole entropy is:  0.971\n",
      "entropy of A is:  0.551\n",
      "information gain of A is:  0.42\n"
     ]
    },
    {
     "name": "stderr",
     "output_type": "stream",
     "text": [
      "C:\\ProgramData\\Anaconda3\\lib\\site-packages\\ipykernel_launcher.py:2: RuntimeWarning: divide by zero encountered in log2\n",
      "  \n",
      "C:\\ProgramData\\Anaconda3\\lib\\site-packages\\ipykernel_launcher.py:2: RuntimeWarning: invalid value encountered in double_scalars\n",
      "  \n"
     ]
    }
   ],
   "source": [
    "redy=4 #red | YES\n",
    "bluey=2 # blue | yes\n",
    "GIYes=calcGini(redy,bluey)\n",
    "redn=0 # red | no\n",
    "bluen=4 # blue | no\n",
    "GINo=calcGini(redn,bluen)\n",
    "GIA=weightedSum(6/10,GIYes,GINo)\n",
    "print(\"Gini impurity of A is: \", GIA.round(2))\n",
    "# initial entropy for blue and red(output)\n",
    "E=calcEntropy(4/10)\n",
    "print(\"the whole entropy is: \", E.round(3))\n",
    "# 1 for binary classification\n",
    "Eyes=calcEntropy(redy/(redy+bluey))\n",
    "Eno=np.nan_to_num(calcEntropy(4/4))\n",
    "EA=weightedSum(6/10,Eyes,Eno)\n",
    "print(\"entropy of A is: \", EA.round(3))\n",
    "# the information gain\n",
    "igA=E-EA\n",
    "print (\"information gain of A is: \", igA.round(3))"
   ]
  },
  {
   "cell_type": "code",
   "execution_count": 29,
   "metadata": {
    "scrolled": true
   },
   "outputs": [
    {
     "name": "stdout",
     "output_type": "stream",
     "text": [
      "Gini impurity of B is:  0.47\n",
      "the whole entropy is:  0.971\n",
      "entropy of B is:  0.951\n",
      "information gain of B is:  0.02\n"
     ]
    }
   ],
   "source": [
    "redon=2 #red | on\n",
    "blueon=4 # blue | on\n",
    "GIon=calcGini(redon,blueon)\n",
    "redoff=2 # red | off\n",
    "blueoff=2 # blue | off\n",
    "GIoff=calcGini(redoff,blueoff)\n",
    "GIB=(6/10)*GIon+(4/10)*GIoff\n",
    "print(\"Gini impurity of B is: \", GIB.round(2))\n",
    "# initial entropy for blue and red(output)\n",
    "E=calcEntropy(4/10)\n",
    "print(\"the whole entropy is: \", E.round(3))\n",
    "# 1 for binary classification\n",
    "Eon=calcEntropy(redon/(redon+blueon))\n",
    "Eoff=calcEntropy(redoff/(redoff+blueoff))\n",
    "EB=weightedSum(6/10,Eon,Eoff)\n",
    "print(\"entropy of B is: \", EB.round(3))\n",
    "# the information gain\n",
    "igB=E-EB\n",
    "print (\"information gain of B is: \", igB.round(3))"
   ]
  },
  {
   "cell_type": "code",
   "execution_count": 30,
   "metadata": {},
   "outputs": [
    {
     "name": "stdout",
     "output_type": "stream",
     "text": [
      "Gini impurity of C is:  0.34\n",
      "the whole entropy is:  0.881\n",
      "entropy of C is:  0.69\n",
      "information gain of C is:  0.192\n"
     ]
    },
    {
     "name": "stderr",
     "output_type": "stream",
     "text": [
      "C:\\ProgramData\\Anaconda3\\lib\\site-packages\\ipykernel_launcher.py:2: RuntimeWarning: divide by zero encountered in log2\n",
      "  \n",
      "C:\\ProgramData\\Anaconda3\\lib\\site-packages\\ipykernel_launcher.py:2: RuntimeWarning: invalid value encountered in double_scalars\n",
      "  \n"
     ]
    }
   ],
   "source": [
    "redy=4 #red | HIGH\n",
    "bluey=3 # blue | HIGH\n",
    "GIYes=calcGini(redy,bluey)\n",
    "redn=0 # red | LOW\n",
    "bluen=3 # blue | LOW\n",
    "GINo=calcGini(redn,bluen)\n",
    "GIC=(7/10)*GIYes+(3/10)*GINo\n",
    "print(\"Gini impurity of C is: \", GIC.round(2))\n",
    "# initial entropy for blue and red(output)\n",
    "E=calcEntropy(3/10)\n",
    "print(\"the whole entropy is: \", E.round(3))\n",
    "# 1 for binary classification\n",
    "Eyes=calcEntropy(redy/(redy+bluey))\n",
    "Eno=np.nan_to_num(calcEntropy(redn/(redn+bluen)))\n",
    "EC=weightedSum(7/10,Eyes,Eno)\n",
    "print(\"entropy of C is: \", EC.round(3))\n",
    "# the information gain\n",
    "igC=E-EC\n",
    "print (\"information gain of C is: \", igC.round(3))"
   ]
  },
  {
   "cell_type": "markdown",
   "metadata": {},
   "source": [
    "# building trees"
   ]
  },
  {
   "cell_type": "code",
   "execution_count": 31,
   "metadata": {},
   "outputs": [],
   "source": [
    "from sklearn.datasets import load_boston"
   ]
  },
  {
   "cell_type": "code",
   "execution_count": 32,
   "metadata": {},
   "outputs": [
    {
     "name": "stdout",
     "output_type": "stream",
     "text": [
      "(506, 13)\n"
     ]
    }
   ],
   "source": [
    "#load datset\n",
    "boston=load_boston()\n",
    "# build pandas dataframe\n",
    "df=pd.DataFrame(boston.data,columns=boston.feature_names)\n",
    "print(df.shape)\n",
    "df['MEDV']=boston.target"
   ]
  },
  {
   "cell_type": "code",
   "execution_count": 33,
   "metadata": {},
   "outputs": [
    {
     "data": {
      "text/html": [
       "<div>\n",
       "<style scoped>\n",
       "    .dataframe tbody tr th:only-of-type {\n",
       "        vertical-align: middle;\n",
       "    }\n",
       "\n",
       "    .dataframe tbody tr th {\n",
       "        vertical-align: top;\n",
       "    }\n",
       "\n",
       "    .dataframe thead th {\n",
       "        text-align: right;\n",
       "    }\n",
       "</style>\n",
       "<table border=\"1\" class=\"dataframe\">\n",
       "  <thead>\n",
       "    <tr style=\"text-align: right;\">\n",
       "      <th></th>\n",
       "      <th>CRIM</th>\n",
       "      <th>ZN</th>\n",
       "      <th>INDUS</th>\n",
       "      <th>CHAS</th>\n",
       "      <th>NOX</th>\n",
       "      <th>RM</th>\n",
       "      <th>AGE</th>\n",
       "      <th>DIS</th>\n",
       "      <th>RAD</th>\n",
       "      <th>TAX</th>\n",
       "      <th>PTRATIO</th>\n",
       "      <th>B</th>\n",
       "      <th>LSTAT</th>\n",
       "      <th>MEDV</th>\n",
       "      <th>highPriced</th>\n",
       "    </tr>\n",
       "  </thead>\n",
       "  <tbody>\n",
       "    <tr>\n",
       "      <th>0</th>\n",
       "      <td>0.00632</td>\n",
       "      <td>18.0</td>\n",
       "      <td>2.31</td>\n",
       "      <td>0.0</td>\n",
       "      <td>0.538</td>\n",
       "      <td>6.575</td>\n",
       "      <td>65.2</td>\n",
       "      <td>4.0900</td>\n",
       "      <td>1.0</td>\n",
       "      <td>296.0</td>\n",
       "      <td>15.3</td>\n",
       "      <td>396.90</td>\n",
       "      <td>4.98</td>\n",
       "      <td>24.0</td>\n",
       "      <td>False</td>\n",
       "    </tr>\n",
       "    <tr>\n",
       "      <th>1</th>\n",
       "      <td>0.02731</td>\n",
       "      <td>0.0</td>\n",
       "      <td>7.07</td>\n",
       "      <td>0.0</td>\n",
       "      <td>0.469</td>\n",
       "      <td>6.421</td>\n",
       "      <td>78.9</td>\n",
       "      <td>4.9671</td>\n",
       "      <td>2.0</td>\n",
       "      <td>242.0</td>\n",
       "      <td>17.8</td>\n",
       "      <td>396.90</td>\n",
       "      <td>9.14</td>\n",
       "      <td>21.6</td>\n",
       "      <td>False</td>\n",
       "    </tr>\n",
       "    <tr>\n",
       "      <th>2</th>\n",
       "      <td>0.02729</td>\n",
       "      <td>0.0</td>\n",
       "      <td>7.07</td>\n",
       "      <td>0.0</td>\n",
       "      <td>0.469</td>\n",
       "      <td>7.185</td>\n",
       "      <td>61.1</td>\n",
       "      <td>4.9671</td>\n",
       "      <td>2.0</td>\n",
       "      <td>242.0</td>\n",
       "      <td>17.8</td>\n",
       "      <td>392.83</td>\n",
       "      <td>4.03</td>\n",
       "      <td>34.7</td>\n",
       "      <td>False</td>\n",
       "    </tr>\n",
       "    <tr>\n",
       "      <th>3</th>\n",
       "      <td>0.03237</td>\n",
       "      <td>0.0</td>\n",
       "      <td>2.18</td>\n",
       "      <td>0.0</td>\n",
       "      <td>0.458</td>\n",
       "      <td>6.998</td>\n",
       "      <td>45.8</td>\n",
       "      <td>6.0622</td>\n",
       "      <td>3.0</td>\n",
       "      <td>222.0</td>\n",
       "      <td>18.7</td>\n",
       "      <td>394.63</td>\n",
       "      <td>2.94</td>\n",
       "      <td>33.4</td>\n",
       "      <td>False</td>\n",
       "    </tr>\n",
       "    <tr>\n",
       "      <th>4</th>\n",
       "      <td>0.06905</td>\n",
       "      <td>0.0</td>\n",
       "      <td>2.18</td>\n",
       "      <td>0.0</td>\n",
       "      <td>0.458</td>\n",
       "      <td>7.147</td>\n",
       "      <td>54.2</td>\n",
       "      <td>6.0622</td>\n",
       "      <td>3.0</td>\n",
       "      <td>222.0</td>\n",
       "      <td>18.7</td>\n",
       "      <td>396.90</td>\n",
       "      <td>5.33</td>\n",
       "      <td>36.2</td>\n",
       "      <td>True</td>\n",
       "    </tr>\n",
       "  </tbody>\n",
       "</table>\n",
       "</div>"
      ],
      "text/plain": [
       "      CRIM    ZN  INDUS  CHAS    NOX     RM   AGE     DIS  RAD    TAX  \\\n",
       "0  0.00632  18.0   2.31   0.0  0.538  6.575  65.2  4.0900  1.0  296.0   \n",
       "1  0.02731   0.0   7.07   0.0  0.469  6.421  78.9  4.9671  2.0  242.0   \n",
       "2  0.02729   0.0   7.07   0.0  0.469  7.185  61.1  4.9671  2.0  242.0   \n",
       "3  0.03237   0.0   2.18   0.0  0.458  6.998  45.8  6.0622  3.0  222.0   \n",
       "4  0.06905   0.0   2.18   0.0  0.458  7.147  54.2  6.0622  3.0  222.0   \n",
       "\n",
       "   PTRATIO       B  LSTAT  MEDV  highPriced  \n",
       "0     15.3  396.90   4.98  24.0       False  \n",
       "1     17.8  396.90   9.14  21.6       False  \n",
       "2     17.8  392.83   4.03  34.7       False  \n",
       "3     18.7  394.63   2.94  33.4       False  \n",
       "4     18.7  396.90   5.33  36.2        True  "
      ]
     },
     "execution_count": 33,
     "metadata": {},
     "output_type": "execute_result"
    }
   ],
   "source": [
    "# create a new column a boolean indicator of whether the target value in the dataset (i.e. MEDV or median home value) is greater than $35K\n",
    "df['highPriced']=df.MEDV>35\n",
    "df.head()"
   ]
  },
  {
   "cell_type": "code",
   "execution_count": 34,
   "metadata": {},
   "outputs": [
    {
     "data": {
      "text/plain": [
       "count    506.000000\n",
       "mean      68.574901\n",
       "std       28.148861\n",
       "min        2.900000\n",
       "25%       45.025000\n",
       "50%       77.500000\n",
       "75%       94.075000\n",
       "max      100.000000\n",
       "Name: AGE, dtype: float64"
      ]
     },
     "execution_count": 34,
     "metadata": {},
     "output_type": "execute_result"
    }
   ],
   "source": [
    "# maybe knowing the distribution of age would help me \n",
    "df.AGE.describe()"
   ]
  },
  {
   "cell_type": "code",
   "execution_count": 35,
   "metadata": {},
   "outputs": [],
   "source": [
    "N=len(df)"
   ]
  },
  {
   "cell_type": "code",
   "execution_count": 36,
   "metadata": {},
   "outputs": [
    {
     "data": {
      "text/plain": [
       "False    458\n",
       "True      48\n",
       "Name: highPriced, dtype: int64"
      ]
     },
     "execution_count": 36,
     "metadata": {},
     "output_type": "execute_result"
    }
   ],
   "source": [
    "df.highPriced.value_counts()"
   ]
  },
  {
   "cell_type": "code",
   "execution_count": 37,
   "metadata": {},
   "outputs": [],
   "source": [
    "age=df.AGE.unique()\n",
    "age.sort()\n",
    "age=np.delete(age,0,0)\n",
    "age=np.delete(age,354,0)"
   ]
  },
  {
   "cell_type": "code",
   "execution_count": 38,
   "metadata": {},
   "outputs": [
    {
     "data": {
      "text/plain": [
       "array([ 6. ,  6.2,  6.5,  6.6,  6.8,  7.8,  8.4,  8.9,  9.8,  9.9, 10. ,\n",
       "       13. , 13.9, 14.7, 15.3, 15.7, 15.8, 16.3, 17. , 17.2, 17.5, 17.7,\n",
       "       17.8, 18.4, 18.5, 18.8, 19.1, 19.5, 20.1, 20.8, 21.1, 21.4, 21.5,\n",
       "       21.8, 21.9, 22.3, 22.9, 23.3, 23.4, 24.8, 25.8, 26.3, 27.6, 27.7,\n",
       "       27.9, 28.1, 28.4, 28.8, 28.9, 29.1, 29.2, 29.3, 29.7, 30.2, 30.8,\n",
       "       31.1, 31.3, 31.5, 31.9, 32. , 32.1, 32.2, 32.3, 32.9, 33. , 33.1,\n",
       "       33.2, 33.3, 33.5, 33.8, 34.1, 34.2, 34.5, 34.9, 35.7, 35.9, 36.1,\n",
       "       36.6, 36.8, 36.9, 37.2, 37.3, 37.8, 38.1, 38.3, 38.4, 38.5, 38.9,\n",
       "       39. , 40. , 40.1, 40.3, 40.4, 40.5, 41.1, 41.5, 41.9, 42.1, 42.2,\n",
       "       42.3, 42.4, 42.6, 42.8, 43.4, 43.7, 44.4, 45. , 45.1, 45.4, 45.6,\n",
       "       45.7, 45.8, 46.3, 46.7, 47.2, 47.4, 47.6, 48. , 48.2, 48.5, 49. ,\n",
       "       49.1, 49.3, 49.7, 49.9, 51. , 51.8, 51.9, 52.3, 52.5, 52.6, 52.8,\n",
       "       52.9, 53.2, 53.6, 53.7, 53.8, 54. , 54.2, 54.3, 54.4, 56. , 56.1,\n",
       "       56.4, 56.5, 56.7, 56.8, 57.8, 58. , 58.1, 58.4, 58.5, 58.7, 58.8,\n",
       "       59.1, 59.5, 59.6, 59.7, 61.1, 61.4, 61.5, 61.8, 62. , 62.2, 62.5,\n",
       "       62.8, 63. , 63.1, 64.5, 64.7, 65.1, 65.2, 65.3, 65.4, 66.1, 66.2,\n",
       "       66.5, 66.6, 67. , 67.2, 67.6, 67.8, 68.1, 68.2, 68.7, 68.8, 69.1,\n",
       "       69.5, 69.6, 69.7, 70.2, 70.3, 70.4, 70.6, 71. , 71.3, 71.6, 71.7,\n",
       "       71.9, 72.5, 72.7, 72.9, 73.1, 73.3, 73.4, 73.5, 73.9, 74.3, 74.4,\n",
       "       74.5, 74.8, 74.9, 75. , 76. , 76.5, 76.7, 76.9, 77. , 77.3, 77.7,\n",
       "       77.8, 78.1, 78.3, 78.7, 78.9, 79.2, 79.7, 79.8, 79.9, 80.3, 80.8,\n",
       "       81.3, 81.6, 81.7, 81.8, 82. , 82.5, 82.6, 82.8, 82.9, 83. , 83.2,\n",
       "       83.3, 83.4, 83.5, 83.7, 84. , 84.1, 84.2, 84.4, 84.5, 84.6, 84.7,\n",
       "       85.1, 85.2, 85.4, 85.5, 85.7, 85.9, 86.1, 86.3, 86.5, 86.9, 87.3,\n",
       "       87.4, 87.6, 87.9, 88. , 88.2, 88.4, 88.5, 88.6, 88.8, 89. , 89.1,\n",
       "       89.2, 89.3, 89.4, 89.5, 89.6, 89.8, 89.9, 90. , 90.3, 90.4, 90.7,\n",
       "       90.8, 91. , 91.1, 91.2, 91.3, 91.4, 91.5, 91.6, 91.7, 91.8, 91.9,\n",
       "       92.1, 92.2, 92.4, 92.6, 92.7, 92.9, 93. , 93.3, 93.4, 93.5, 93.6,\n",
       "       93.8, 93.9, 94. , 94.1, 94.3, 94.4, 94.5, 94.6, 94.7, 94.8, 94.9,\n",
       "       95. , 95.2, 95.3, 95.4, 95.6, 95.7, 95.8, 96. , 96.1, 96.2, 96.4,\n",
       "       96.6, 96.7, 96.8, 96.9, 97. , 97.1, 97.2, 97.3, 97.4, 97.5, 97.7,\n",
       "       97.8, 97.9, 98. , 98.1, 98.2, 98.3, 98.4, 98.5, 98.7, 98.8, 98.9,\n",
       "       99.1, 99.3])"
      ]
     },
     "execution_count": 38,
     "metadata": {},
     "output_type": "execute_result"
    }
   ],
   "source": [
    "age"
   ]
  },
  {
   "cell_type": "code",
   "execution_count": 39,
   "metadata": {},
   "outputs": [
    {
     "name": "stderr",
     "output_type": "stream",
     "text": [
      "C:\\ProgramData\\Anaconda3\\lib\\site-packages\\ipykernel_launcher.py:2: RuntimeWarning: divide by zero encountered in log2\n",
      "  \n",
      "C:\\ProgramData\\Anaconda3\\lib\\site-packages\\ipykernel_launcher.py:2: RuntimeWarning: invalid value encountered in double_scalars\n",
      "  \n"
     ]
    },
    {
     "name": "stdout",
     "output_type": "stream",
     "text": [
      "Gini impurity is:  0.17\n",
      "the bestsplit considering Gini impurity is:  37.3\n",
      "entropy of is:  0.447\n",
      "the best split considering entrophy is:  37.3\n",
      "the whole entropy is:  0.426\n",
      "information gain of A is:  -0.021\n"
     ]
    }
   ],
   "source": [
    "bestGI=1\n",
    "bestE=1\n",
    "besti1=0\n",
    "besti2=0\n",
    "for i in age:\n",
    "    v1=len(df[(df.highPriced==True) & (df.AGE>=i)])\n",
    "    v2=len(df[(df.highPriced==False) & (df.AGE>=i)])\n",
    "    v3=len(df[(df.highPriced==True) & (df.AGE<i)])\n",
    "    v4=len(df[(df.highPriced==False) & (df.AGE<i)])\n",
    "    GItrue=calcGini(v1,v2)  \n",
    "    Etrue=calcEntropy(v1/(v1+v2))\n",
    "    GIfalse=calcGini(v3,v4)\n",
    "    Efalse=calcEntropy(v3/(v3+v4))\n",
    "    GI=weightedSum(len(df[df.AGE>=i])/N,GItrue,GIfalse)\n",
    "    if GI<=bestGI:\n",
    "        bestGI=GI\n",
    "        besti1=i \n",
    "    E=calcEntropy(df.AGE[df.AGE>=i].count()/N)      \n",
    "    EA=weightedSum(len(df[df.AGE>=i])/N,Etrue,Efalse)\n",
    "    if EA<=bestE:\n",
    "        bestE=EA\n",
    "        besti2=i\n",
    "ig=E-bestE\n",
    "print(\"Gini impurity is: \", bestGI.round(2))\n",
    "print(\"the bestsplit considering Gini impurity is: \", besti1)\n",
    "print(\"entropy of is: \", bestE.round(3))\n",
    "print(\"the best split considering entrophy is: \", besti2)\n",
    "print(\"the whole entropy is: \", E.round(3)) \n",
    "print (\"information gain of A is: \", ig.round(3))"
   ]
  },
  {
   "cell_type": "code",
   "execution_count": 40,
   "metadata": {},
   "outputs": [],
   "source": [
    "# transform to a function\n",
    "def myfunc(AGE):\n",
    "    bestGI=1\n",
    "    bestE=1\n",
    "    besti1=0\n",
    "    besti2=0\n",
    "    age=df[AGE].unique()\n",
    "    age.sort()\n",
    "    age=np.delete(age,0,0)\n",
    "    age=np.delete(age,len(age)-1,0)\n",
    "    for i in age:\n",
    "        v1=len(df[(df.highPriced==True) & (df[AGE]>=i)])\n",
    "        v2=len(df[(df.highPriced==False) & (df[AGE]>=i)])\n",
    "        v3=len(df[(df.highPriced==True) & (df[AGE]<i)])\n",
    "        v4=len(df[(df.highPriced==False) & (df[AGE]<i)])\n",
    "\n",
    "        GItrue=calcGini(v1,v2)  \n",
    "        Etrue=calcEntropy(v1/(v1+v2))\n",
    "        GIfalse=calcGini(v3,v4)\n",
    "        GI=weightedSum(len(df[df[AGE]>=i])/N,GItrue,GIfalse)\n",
    "        E=calcEntropy(df[AGE][df[AGE]>=i].count()/N)\n",
    "        Efalse=calcEntropy(v3/(v3+v4))\n",
    "        EA=weightedSum(len(df[df[AGE]>=i])/N,Etrue,Efalse)\n",
    "        if GI<=bestGI:\n",
    "            bestGI=GI\n",
    "            besti1=i\n",
    "        if EA<=bestE:\n",
    "            bestE=EA\n",
    "            besti2=i\n",
    "    ig=E-bestE\n",
    "    print(\"Gini impurity is: \", bestGI.round(2))\n",
    "    print(\"the bestsplit considering Gini impurity is: \", besti1)\n",
    "    print(\"entropy of is: \", bestE.round(3))\n",
    "    print(\"the best split considering entrophy is: \", besti2)\n",
    "    print(\"the whole entropy is: \", E.round(3)) \n",
    "    print (\"information gain of\", AGE, \"is: \", ig.round(3))"
   ]
  },
  {
   "cell_type": "code",
   "execution_count": 41,
   "metadata": {},
   "outputs": [
    {
     "name": "stderr",
     "output_type": "stream",
     "text": [
      "C:\\ProgramData\\Anaconda3\\lib\\site-packages\\ipykernel_launcher.py:2: RuntimeWarning: divide by zero encountered in log2\n",
      "  \n",
      "C:\\ProgramData\\Anaconda3\\lib\\site-packages\\ipykernel_launcher.py:2: RuntimeWarning: invalid value encountered in double_scalars\n",
      "  \n"
     ]
    },
    {
     "name": "stdout",
     "output_type": "stream",
     "text": [
      "Gini impurity is:  0.17\n",
      "the bestsplit considering Gini impurity is:  37.3\n",
      "entropy of is:  0.447\n",
      "the best split considering entrophy is:  37.3\n",
      "the whole entropy is:  0.426\n",
      "information gain of AGE is:  -0.021\n"
     ]
    }
   ],
   "source": [
    "# validate the function\n",
    "myfunc('AGE')"
   ]
  },
  {
   "cell_type": "code",
   "execution_count": 42,
   "metadata": {
    "scrolled": true
   },
   "outputs": [
    {
     "name": "stderr",
     "output_type": "stream",
     "text": [
      "C:\\ProgramData\\Anaconda3\\lib\\site-packages\\ipykernel_launcher.py:2: RuntimeWarning: divide by zero encountered in log2\n",
      "  \n",
      "C:\\ProgramData\\Anaconda3\\lib\\site-packages\\ipykernel_launcher.py:2: RuntimeWarning: invalid value encountered in double_scalars\n",
      "  \n"
     ]
    },
    {
     "name": "stdout",
     "output_type": "stream",
     "text": [
      "Gini impurity is:  0.17\n",
      "the bestsplit considering Gini impurity is:  0.02187\n",
      "entropy of is:  0.437\n",
      "the best split considering entrophy is:  2.14918\n",
      "the whole entropy is:  0.037\n",
      "information gain of CRIM is:  -0.4\n"
     ]
    }
   ],
   "source": [
    "myfunc('CRIM')"
   ]
  },
  {
   "cell_type": "markdown",
   "metadata": {},
   "source": [
    "AGE has the same optimum value under different criterion, while CRIM doesn't. However, they have the same best gini impurity and extremely close entropy."
   ]
  },
  {
   "cell_type": "code",
   "execution_count": 43,
   "metadata": {},
   "outputs": [],
   "source": [
    "from sklearn import tree"
   ]
  },
  {
   "cell_type": "code",
   "execution_count": 44,
   "metadata": {
    "scrolled": true
   },
   "outputs": [
    {
     "data": {
      "text/plain": [
       "[Text(93.55889423076924, 213.41333333333333, 'X[0] <= 37.25\\nentropy = 0.452\\nsamples = 506\\nvalue = [458, 48]'),\n",
       " Text(35.41153846153846, 205.36, 'X[0] <= 36.85\\nentropy = 0.61\\nsamples = 100\\nvalue = [85, 15]'),\n",
       " Text(28.973076923076924, 197.30666666666667, 'X[0] <= 34.35\\nentropy = 0.565\\nsamples = 98\\nvalue = [85, 13]'),\n",
       " Text(22.534615384615385, 189.25333333333333, 'X[0] <= 34.15\\nentropy = 0.604\\nsamples = 88\\nvalue = [75, 13]'),\n",
       " Text(16.096153846153847, 181.2, 'X[0] <= 8.1\\nentropy = 0.579\\nsamples = 87\\nvalue = [75, 12]'),\n",
       " Text(9.657692307692308, 173.14666666666668, 'entropy = 0.0\\nsamples = 9\\nvalue = [9, 0]'),\n",
       " Text(22.534615384615385, 173.14666666666668, 'X[0] <= 8.65\\nentropy = 0.619\\nsamples = 78\\nvalue = [66, 12]'),\n",
       " Text(16.096153846153847, 165.09333333333333, 'entropy = 0.0\\nsamples = 1\\nvalue = [0, 1]'),\n",
       " Text(28.973076923076924, 165.09333333333333, 'X[0] <= 15.5\\nentropy = 0.592\\nsamples = 77\\nvalue = [66, 11]'),\n",
       " Text(22.534615384615385, 157.04, 'entropy = 0.0\\nsamples = 8\\nvalue = [8, 0]'),\n",
       " Text(35.41153846153846, 157.04, 'X[0] <= 15.75\\nentropy = 0.633\\nsamples = 69\\nvalue = [58, 11]'),\n",
       " Text(28.973076923076924, 148.98666666666668, 'entropy = 0.0\\nsamples = 1\\nvalue = [0, 1]'),\n",
       " Text(41.85, 148.98666666666668, 'X[0] <= 21.45\\nentropy = 0.602\\nsamples = 68\\nvalue = [58, 10]'),\n",
       " Text(19.315384615384616, 140.93333333333334, 'X[0] <= 17.1\\nentropy = 0.276\\nsamples = 21\\nvalue = [20, 1]'),\n",
       " Text(12.876923076923077, 132.88, 'X[0] <= 16.65\\nentropy = 0.918\\nsamples = 3\\nvalue = [2, 1]'),\n",
       " Text(6.438461538461539, 124.82666666666667, 'entropy = 0.0\\nsamples = 2\\nvalue = [2, 0]'),\n",
       " Text(19.315384615384616, 124.82666666666667, 'entropy = 0.0\\nsamples = 1\\nvalue = [0, 1]'),\n",
       " Text(25.753846153846155, 132.88, 'entropy = 0.0\\nsamples = 18\\nvalue = [18, 0]'),\n",
       " Text(64.38461538461539, 140.93333333333334, 'X[0] <= 21.65\\nentropy = 0.705\\nsamples = 47\\nvalue = [38, 9]'),\n",
       " Text(57.94615384615385, 132.88, 'entropy = 0.0\\nsamples = 1\\nvalue = [0, 1]'),\n",
       " Text(70.82307692307693, 132.88, 'X[0] <= 27.8\\nentropy = 0.667\\nsamples = 46\\nvalue = [38, 8]'),\n",
       " Text(32.19230769230769, 124.82666666666667, 'X[0] <= 24.1\\nentropy = 0.89\\nsamples = 13\\nvalue = [9, 4]'),\n",
       " Text(19.315384615384616, 116.77333333333334, 'X[0] <= 22.1\\nentropy = 0.592\\nsamples = 7\\nvalue = [6, 1]'),\n",
       " Text(12.876923076923077, 108.72, 'X[0] <= 21.85\\nentropy = 0.918\\nsamples = 3\\nvalue = [2, 1]'),\n",
       " Text(6.438461538461539, 100.66666666666667, 'entropy = 0.0\\nsamples = 1\\nvalue = [1, 0]'),\n",
       " Text(19.315384615384616, 100.66666666666667, 'entropy = 1.0\\nsamples = 2\\nvalue = [1, 1]'),\n",
       " Text(25.753846153846155, 108.72, 'entropy = 0.0\\nsamples = 4\\nvalue = [4, 0]'),\n",
       " Text(45.06923076923077, 116.77333333333334, 'X[0] <= 25.3\\nentropy = 1.0\\nsamples = 6\\nvalue = [3, 3]'),\n",
       " Text(38.63076923076923, 108.72, 'entropy = 0.0\\nsamples = 1\\nvalue = [0, 1]'),\n",
       " Text(51.50769230769231, 108.72, 'X[0] <= 26.05\\nentropy = 0.971\\nsamples = 5\\nvalue = [3, 2]'),\n",
       " Text(45.06923076923077, 100.66666666666667, 'entropy = 0.0\\nsamples = 1\\nvalue = [1, 0]'),\n",
       " Text(57.94615384615385, 100.66666666666667, 'X[0] <= 26.95\\nentropy = 1.0\\nsamples = 4\\nvalue = [2, 2]'),\n",
       " Text(51.50769230769231, 92.61333333333334, 'entropy = 0.0\\nsamples = 1\\nvalue = [0, 1]'),\n",
       " Text(64.38461538461539, 92.61333333333334, 'X[0] <= 27.65\\nentropy = 0.918\\nsamples = 3\\nvalue = [2, 1]'),\n",
       " Text(57.94615384615385, 84.56, 'entropy = 0.0\\nsamples = 1\\nvalue = [1, 0]'),\n",
       " Text(70.82307692307693, 84.56, 'entropy = 1.0\\nsamples = 2\\nvalue = [1, 1]'),\n",
       " Text(109.45384615384616, 124.82666666666667, 'X[0] <= 31.7\\nentropy = 0.533\\nsamples = 33\\nvalue = [29, 4]'),\n",
       " Text(103.01538461538462, 116.77333333333334, 'entropy = 0.0\\nsamples = 16\\nvalue = [16, 0]'),\n",
       " Text(115.8923076923077, 116.77333333333334, 'X[0] <= 33.25\\nentropy = 0.787\\nsamples = 17\\nvalue = [13, 4]'),\n",
       " Text(109.45384615384616, 108.72, 'X[0] <= 33.15\\nentropy = 0.89\\nsamples = 13\\nvalue = [9, 4]'),\n",
       " Text(103.01538461538462, 100.66666666666667, 'X[0] <= 32.25\\nentropy = 0.811\\nsamples = 12\\nvalue = [9, 3]'),\n",
       " Text(96.57692307692308, 92.61333333333334, 'X[0] <= 32.05\\nentropy = 0.954\\nsamples = 8\\nvalue = [5, 3]'),\n",
       " Text(83.7, 84.56, 'X[0] <= 31.95\\nentropy = 1.0\\nsamples = 4\\nvalue = [2, 2]'),\n",
       " Text(77.26153846153846, 76.50666666666666, 'entropy = 1.0\\nsamples = 2\\nvalue = [1, 1]'),\n",
       " Text(90.13846153846154, 76.50666666666666, 'entropy = 1.0\\nsamples = 2\\nvalue = [1, 1]'),\n",
       " Text(109.45384615384616, 84.56, 'X[0] <= 32.15\\nentropy = 0.811\\nsamples = 4\\nvalue = [3, 1]'),\n",
       " Text(103.01538461538462, 76.50666666666666, 'entropy = 0.0\\nsamples = 1\\nvalue = [1, 0]'),\n",
       " Text(115.8923076923077, 76.50666666666666, 'entropy = 0.918\\nsamples = 3\\nvalue = [2, 1]'),\n",
       " Text(109.45384615384616, 92.61333333333334, 'entropy = 0.0\\nsamples = 4\\nvalue = [4, 0]'),\n",
       " Text(115.8923076923077, 100.66666666666667, 'entropy = 0.0\\nsamples = 1\\nvalue = [0, 1]'),\n",
       " Text(122.33076923076923, 108.72, 'entropy = 0.0\\nsamples = 4\\nvalue = [4, 0]'),\n",
       " Text(28.973076923076924, 181.2, 'entropy = 0.0\\nsamples = 1\\nvalue = [0, 1]'),\n",
       " Text(35.41153846153846, 189.25333333333333, 'entropy = 0.0\\nsamples = 10\\nvalue = [10, 0]'),\n",
       " Text(41.85, 197.30666666666667, 'entropy = 0.0\\nsamples = 2\\nvalue = [0, 2]'),\n",
       " Text(151.70625, 205.36, 'X[0] <= 49.5\\nentropy = 0.407\\nsamples = 406\\nvalue = [373, 33]'),\n",
       " Text(122.33076923076923, 197.30666666666667, 'X[0] <= 41.3\\nentropy = 0.154\\nsamples = 45\\nvalue = [44, 1]'),\n",
       " Text(115.8923076923077, 189.25333333333333, 'X[0] <= 40.8\\nentropy = 0.353\\nsamples = 15\\nvalue = [14, 1]'),\n",
       " Text(109.45384615384616, 181.2, 'entropy = 0.0\\nsamples = 13\\nvalue = [13, 0]'),\n",
       " Text(122.33076923076923, 181.2, 'entropy = 1.0\\nsamples = 2\\nvalue = [1, 1]'),\n",
       " Text(128.76923076923077, 189.25333333333333, 'entropy = 0.0\\nsamples = 30\\nvalue = [30, 0]'),\n",
       " Text(181.08173076923077, 197.30666666666667, 'X[0] <= 54.25\\nentropy = 0.432\\nsamples = 361\\nvalue = [329, 32]'),\n",
       " Text(141.64615384615385, 189.25333333333333, 'X[0] <= 49.8\\nentropy = 0.852\\nsamples = 18\\nvalue = [13, 5]'),\n",
       " Text(135.2076923076923, 181.2, 'entropy = 0.0\\nsamples = 1\\nvalue = [0, 1]'),\n",
       " Text(148.0846153846154, 181.2, 'X[0] <= 54.1\\nentropy = 0.787\\nsamples = 17\\nvalue = [13, 4]'),\n",
       " Text(141.64615384615385, 173.14666666666668, 'X[0] <= 53.65\\nentropy = 0.696\\nsamples = 16\\nvalue = [13, 3]'),\n",
       " Text(135.2076923076923, 165.09333333333333, 'X[0] <= 51.4\\nentropy = 0.779\\nsamples = 13\\nvalue = [10, 3]'),\n",
       " Text(128.76923076923077, 157.04, 'entropy = 0.0\\nsamples = 2\\nvalue = [2, 0]'),\n",
       " Text(141.64615384615385, 157.04, 'X[0] <= 51.85\\nentropy = 0.845\\nsamples = 11\\nvalue = [8, 3]'),\n",
       " Text(135.2076923076923, 148.98666666666668, 'entropy = 0.0\\nsamples = 1\\nvalue = [0, 1]'),\n",
       " Text(148.0846153846154, 148.98666666666668, 'X[0] <= 52.55\\nentropy = 0.722\\nsamples = 10\\nvalue = [8, 2]'),\n",
       " Text(141.64615384615385, 140.93333333333334, 'entropy = 0.0\\nsamples = 4\\nvalue = [4, 0]'),\n",
       " Text(154.52307692307693, 140.93333333333334, 'X[0] <= 52.7\\nentropy = 0.918\\nsamples = 6\\nvalue = [4, 2]'),\n",
       " Text(148.0846153846154, 132.88, 'entropy = 0.0\\nsamples = 1\\nvalue = [0, 1]'),\n",
       " Text(160.96153846153845, 132.88, 'X[0] <= 53.4\\nentropy = 0.722\\nsamples = 5\\nvalue = [4, 1]'),\n",
       " Text(154.52307692307693, 124.82666666666667, 'entropy = 0.0\\nsamples = 3\\nvalue = [3, 0]'),\n",
       " Text(167.4, 124.82666666666667, 'entropy = 1.0\\nsamples = 2\\nvalue = [1, 1]'),\n",
       " Text(148.0846153846154, 165.09333333333333, 'entropy = 0.0\\nsamples = 3\\nvalue = [3, 0]'),\n",
       " Text(154.52307692307693, 173.14666666666668, 'entropy = 0.0\\nsamples = 1\\nvalue = [0, 1]'),\n",
       " Text(220.5173076923077, 189.25333333333333, 'X[0] <= 58.25\\nentropy = 0.398\\nsamples = 343\\nvalue = [316, 27]'),\n",
       " Text(214.07884615384617, 181.2, 'entropy = 0.0\\nsamples = 12\\nvalue = [12, 0]'),\n",
       " Text(226.95576923076925, 181.2, 'X[0] <= 58.45\\nentropy = 0.408\\nsamples = 331\\nvalue = [304, 27]'),\n",
       " Text(220.5173076923077, 173.14666666666668, 'entropy = 0.0\\nsamples = 1\\nvalue = [0, 1]'),\n",
       " Text(233.39423076923077, 173.14666666666668, 'X[0] <= 62.1\\nentropy = 0.398\\nsamples = 330\\nvalue = [304, 26]'),\n",
       " Text(226.95576923076925, 165.09333333333333, 'entropy = 0.0\\nsamples = 15\\nvalue = [15, 0]'),\n",
       " Text(239.83269230769233, 165.09333333333333, 'X[0] <= 62.35\\nentropy = 0.411\\nsamples = 315\\nvalue = [289, 26]'),\n",
       " Text(233.39423076923077, 157.04, 'entropy = 0.0\\nsamples = 1\\nvalue = [0, 1]'),\n",
       " Text(246.27115384615385, 157.04, 'X[0] <= 92.3\\nentropy = 0.401\\nsamples = 314\\nvalue = [289, 25]'),\n",
       " Text(212.46923076923076, 148.98666666666668, 'X[0] <= 92.15\\nentropy = 0.456\\nsamples = 167\\nvalue = [151, 16]'),\n",
       " Text(206.03076923076924, 140.93333333333334, 'X[0] <= 89.35\\nentropy = 0.438\\nsamples = 166\\nvalue = [151, 15]'),\n",
       " Text(186.7153846153846, 132.88, 'X[0] <= 87.1\\nentropy = 0.373\\nsamples = 139\\nvalue = [129, 10]'),\n",
       " Text(180.27692307692308, 124.82666666666667, 'X[0] <= 86.4\\nentropy = 0.421\\nsamples = 117\\nvalue = [107, 10]'),\n",
       " Text(167.4, 116.77333333333334, 'X[0] <= 83.35\\nentropy = 0.367\\nsamples = 114\\nvalue = [106, 8]'),\n",
       " Text(160.96153846153845, 108.72, 'X[0] <= 82.95\\nentropy = 0.423\\nsamples = 93\\nvalue = [85, 8]'),\n",
       " Text(148.0846153846154, 100.66666666666667, 'X[0] <= 78.5\\nentropy = 0.356\\nsamples = 89\\nvalue = [83, 6]'),\n",
       " Text(141.64615384615385, 92.61333333333334, 'X[0] <= 78.2\\nentropy = 0.439\\nsamples = 66\\nvalue = [60, 6]'),\n",
       " Text(135.2076923076923, 84.56, 'X[0] <= 76.25\\nentropy = 0.391\\nsamples = 65\\nvalue = [60, 5]'),\n",
       " Text(128.76923076923077, 76.50666666666666, 'X[0] <= 75.5\\nentropy = 0.451\\nsamples = 53\\nvalue = [48, 5]'),\n",
       " Text(122.33076923076923, 68.45333333333335, 'X[0] <= 73.35\\nentropy = 0.391\\nsamples = 52\\nvalue = [48, 4]'),\n",
       " Text(115.8923076923077, 60.400000000000006, 'X[0] <= 73.2\\nentropy = 0.446\\nsamples = 43\\nvalue = [39, 4]'),\n",
       " Text(109.45384615384616, 52.346666666666664, 'X[0] <= 70.5\\nentropy = 0.371\\nsamples = 42\\nvalue = [39, 3]'),\n",
       " Text(103.01538461538462, 44.29333333333335, 'X[0] <= 70.35\\nentropy = 0.459\\nsamples = 31\\nvalue = [28, 3]'),\n",
       " Text(96.57692307692308, 36.24000000000001, 'X[0] <= 67.1\\nentropy = 0.362\\nsamples = 29\\nvalue = [27, 2]'),\n",
       " Text(90.13846153846154, 28.186666666666667, 'X[0] <= 66.8\\nentropy = 0.544\\nsamples = 16\\nvalue = [14, 2]'),\n",
       " Text(83.7, 20.133333333333354, 'X[0] <= 64.6\\nentropy = 0.353\\nsamples = 15\\nvalue = [14, 1]'),\n",
       " Text(77.26153846153846, 12.080000000000013, 'X[0] <= 63.8\\nentropy = 0.722\\nsamples = 5\\nvalue = [4, 1]'),\n",
       " Text(70.82307692307693, 4.026666666666671, 'entropy = 0.0\\nsamples = 4\\nvalue = [4, 0]'),\n",
       " Text(83.7, 4.026666666666671, 'entropy = 0.0\\nsamples = 1\\nvalue = [0, 1]'),\n",
       " Text(90.13846153846154, 12.080000000000013, 'entropy = 0.0\\nsamples = 10\\nvalue = [10, 0]'),\n",
       " Text(96.57692307692308, 20.133333333333354, 'entropy = 0.0\\nsamples = 1\\nvalue = [0, 1]'),\n",
       " Text(103.01538461538462, 28.186666666666667, 'entropy = 0.0\\nsamples = 13\\nvalue = [13, 0]'),\n",
       " Text(109.45384615384616, 36.24000000000001, 'entropy = 1.0\\nsamples = 2\\nvalue = [1, 1]'),\n",
       " Text(115.8923076923077, 44.29333333333335, 'entropy = 0.0\\nsamples = 11\\nvalue = [11, 0]'),\n",
       " Text(122.33076923076923, 52.346666666666664, 'entropy = 0.0\\nsamples = 1\\nvalue = [0, 1]'),\n",
       " Text(128.76923076923077, 60.400000000000006, 'entropy = 0.0\\nsamples = 9\\nvalue = [9, 0]'),\n",
       " Text(135.2076923076923, 68.45333333333335, 'entropy = 0.0\\nsamples = 1\\nvalue = [0, 1]'),\n",
       " Text(141.64615384615385, 76.50666666666666, 'entropy = 0.0\\nsamples = 12\\nvalue = [12, 0]'),\n",
       " Text(148.0846153846154, 84.56, 'entropy = 0.0\\nsamples = 1\\nvalue = [0, 1]'),\n",
       " Text(154.52307692307693, 92.61333333333334, 'entropy = 0.0\\nsamples = 23\\nvalue = [23, 0]'),\n",
       " Text(173.83846153846156, 100.66666666666667, 'X[0] <= 83.25\\nentropy = 1.0\\nsamples = 4\\nvalue = [2, 2]'),\n",
       " Text(167.4, 92.61333333333334, 'X[0] <= 83.1\\nentropy = 0.918\\nsamples = 3\\nvalue = [2, 1]'),\n",
       " Text(160.96153846153845, 84.56, 'entropy = 1.0\\nsamples = 2\\nvalue = [1, 1]'),\n",
       " Text(173.83846153846156, 84.56, 'entropy = 0.0\\nsamples = 1\\nvalue = [1, 0]'),\n",
       " Text(180.27692307692308, 92.61333333333334, 'entropy = 0.0\\nsamples = 1\\nvalue = [0, 1]'),\n",
       " Text(173.83846153846156, 108.72, 'entropy = 0.0\\nsamples = 21\\nvalue = [21, 0]'),\n",
       " Text(193.15384615384616, 116.77333333333334, 'X[0] <= 86.7\\nentropy = 0.918\\nsamples = 3\\nvalue = [1, 2]'),\n",
       " Text(186.7153846153846, 108.72, 'entropy = 1.0\\nsamples = 2\\nvalue = [1, 1]'),\n",
       " Text(199.5923076923077, 108.72, 'entropy = 0.0\\nsamples = 1\\nvalue = [0, 1]'),\n",
       " Text(193.15384615384616, 124.82666666666667, 'entropy = 0.0\\nsamples = 22\\nvalue = [22, 0]'),\n",
       " Text(225.34615384615387, 132.88, 'X[0] <= 89.7\\nentropy = 0.691\\nsamples = 27\\nvalue = [22, 5]'),\n",
       " Text(212.46923076923076, 124.82666666666667, 'X[0] <= 89.45\\nentropy = 0.918\\nsamples = 3\\nvalue = [1, 2]'),\n",
       " Text(206.03076923076924, 116.77333333333334, 'entropy = 0.0\\nsamples = 1\\nvalue = [0, 1]'),\n",
       " Text(218.90769230769232, 116.77333333333334, 'X[0] <= 89.55\\nentropy = 1.0\\nsamples = 2\\nvalue = [1, 1]'),\n",
       " Text(212.46923076923076, 108.72, 'entropy = 0.0\\nsamples = 1\\nvalue = [1, 0]'),\n",
       " Text(225.34615384615387, 108.72, 'entropy = 0.0\\nsamples = 1\\nvalue = [0, 1]'),\n",
       " Text(238.22307692307692, 124.82666666666667, 'X[0] <= 90.75\\nentropy = 0.544\\nsamples = 24\\nvalue = [21, 3]'),\n",
       " Text(231.7846153846154, 116.77333333333334, 'entropy = 0.0\\nsamples = 7\\nvalue = [7, 0]'),\n",
       " Text(244.66153846153847, 116.77333333333334, 'X[0] <= 91.65\\nentropy = 0.672\\nsamples = 17\\nvalue = [14, 3]'),\n",
       " Text(238.22307692307692, 108.72, 'X[0] <= 91.45\\nentropy = 0.845\\nsamples = 11\\nvalue = [8, 3]'),\n",
       " Text(231.7846153846154, 100.66666666666667, 'X[0] <= 90.9\\nentropy = 0.503\\nsamples = 9\\nvalue = [8, 1]'),\n",
       " Text(225.34615384615387, 92.61333333333334, 'entropy = 1.0\\nsamples = 2\\nvalue = [1, 1]'),\n",
       " Text(238.22307692307692, 92.61333333333334, 'entropy = 0.0\\nsamples = 7\\nvalue = [7, 0]'),\n",
       " Text(244.66153846153847, 100.66666666666667, 'entropy = 0.0\\nsamples = 2\\nvalue = [0, 2]'),\n",
       " Text(251.10000000000002, 108.72, 'entropy = 0.0\\nsamples = 6\\nvalue = [6, 0]'),\n",
       " Text(218.90769230769232, 140.93333333333334, 'entropy = 0.0\\nsamples = 1\\nvalue = [0, 1]'),\n",
       " Text(280.07307692307694, 148.98666666666668, 'X[0] <= 96.15\\nentropy = 0.332\\nsamples = 147\\nvalue = [138, 9]'),\n",
       " Text(263.9769230769231, 140.93333333333334, 'X[0] <= 93.95\\nentropy = 0.133\\nsamples = 54\\nvalue = [53, 1]'),\n",
       " Text(257.53846153846155, 132.88, 'X[0] <= 93.85\\nentropy = 0.297\\nsamples = 19\\nvalue = [18, 1]'),\n",
       " Text(251.10000000000002, 124.82666666666667, 'entropy = 0.0\\nsamples = 17\\nvalue = [17, 0]'),\n",
       " Text(263.9769230769231, 124.82666666666667, 'entropy = 1.0\\nsamples = 2\\nvalue = [1, 1]'),\n",
       " Text(270.4153846153846, 132.88, 'entropy = 0.0\\nsamples = 35\\nvalue = [35, 0]'),\n",
       " Text(296.1692307692308, 140.93333333333334, 'X[0] <= 97.6\\nentropy = 0.423\\nsamples = 93\\nvalue = [85, 8]'),\n",
       " Text(283.2923076923077, 132.88, 'X[0] <= 97.45\\nentropy = 0.684\\nsamples = 22\\nvalue = [18, 4]'),\n",
       " Text(276.8538461538462, 124.82666666666667, 'X[0] <= 96.3\\nentropy = 0.592\\nsamples = 21\\nvalue = [18, 3]'),\n",
       " Text(270.4153846153846, 116.77333333333334, 'entropy = 0.918\\nsamples = 3\\nvalue = [2, 1]'),\n",
       " Text(283.2923076923077, 116.77333333333334, 'X[0] <= 96.75\\nentropy = 0.503\\nsamples = 18\\nvalue = [16, 2]'),\n",
       " Text(276.8538461538462, 108.72, 'entropy = 0.0\\nsamples = 5\\nvalue = [5, 0]'),\n",
       " Text(289.7307692307692, 108.72, 'X[0] <= 96.85\\nentropy = 0.619\\nsamples = 13\\nvalue = [11, 2]'),\n",
       " Text(283.2923076923077, 100.66666666666667, 'entropy = 0.0\\nsamples = 1\\nvalue = [0, 1]'),\n",
       " Text(296.1692307692308, 100.66666666666667, 'X[0] <= 97.35\\nentropy = 0.414\\nsamples = 12\\nvalue = [11, 1]'),\n",
       " Text(289.7307692307692, 92.61333333333334, 'entropy = 0.0\\nsamples = 9\\nvalue = [9, 0]'),\n",
       " Text(302.60769230769233, 92.61333333333334, 'entropy = 0.918\\nsamples = 3\\nvalue = [2, 1]'),\n",
       " Text(289.7307692307692, 124.82666666666667, 'entropy = 0.0\\nsamples = 1\\nvalue = [0, 1]'),\n",
       " Text(309.04615384615386, 132.88, 'X[0] <= 98.15\\nentropy = 0.313\\nsamples = 71\\nvalue = [67, 4]'),\n",
       " Text(302.60769230769233, 124.82666666666667, 'entropy = 0.0\\nsamples = 9\\nvalue = [9, 0]'),\n",
       " Text(315.4846153846154, 124.82666666666667, 'X[0] <= 98.25\\nentropy = 0.345\\nsamples = 62\\nvalue = [58, 4]'),\n",
       " Text(309.04615384615386, 116.77333333333334, 'entropy = 0.811\\nsamples = 4\\nvalue = [3, 1]'),\n",
       " Text(321.9230769230769, 116.77333333333334, 'X[0] <= 99.65\\nentropy = 0.294\\nsamples = 58\\nvalue = [55, 3]'),\n",
       " Text(315.4846153846154, 108.72, 'entropy = 0.0\\nsamples = 15\\nvalue = [15, 0]'),\n",
       " Text(328.3615384615385, 108.72, 'entropy = 0.365\\nsamples = 43\\nvalue = [40, 3]')]"
      ]
     },
     "execution_count": 44,
     "metadata": {},
     "output_type": "execute_result"
    },
    {
     "data": {
      "image/png": "[encoded data removed]",
      "text/plain": [
       "<Figure size 432x288 with 1 Axes>"
      ]
     },
     "metadata": {
      "needs_background": "light"
     },
     "output_type": "display_data"
    }
   ],
   "source": [
    "clf=tree.DecisionTreeClassifier(criterion=\"entropy\")\n",
    "tree.plot_tree(clf.fit(df.AGE.to_numpy().reshape(-1,1),df.highPriced))"
   ]
  },
  {
   "cell_type": "code",
   "execution_count": 45,
   "metadata": {},
   "outputs": [
    {
     "data": {
      "text/plain": [
       "[Text(167.4, 181.2, 'X[0] <= 6.941\\nentropy = 0.452\\nsamples = 506\\nvalue = [458, 48]'),\n",
       " Text(83.7, 108.72, 'X[1] <= 9.535\\nentropy = 0.106\\nsamples = 430\\nvalue = [424, 6]'),\n",
       " Text(41.85, 36.23999999999998, 'entropy = 0.262\\nsamples = 135\\nvalue = [129, 6]'),\n",
       " Text(125.55000000000001, 36.23999999999998, 'entropy = 0.0\\nsamples = 295\\nvalue = [295, 0]'),\n",
       " Text(251.10000000000002, 108.72, 'X[0] <= 7.437\\nentropy = 0.992\\nsamples = 76\\nvalue = [34, 42]'),\n",
       " Text(209.25, 36.23999999999998, 'entropy = 0.859\\nsamples = 46\\nvalue = [33, 13]'),\n",
       " Text(292.95, 36.23999999999998, 'entropy = 0.211\\nsamples = 30\\nvalue = [1, 29]')]"
      ]
     },
     "execution_count": 45,
     "metadata": {},
     "output_type": "execute_result"
    },
    {
     "data": {
      "image/png": "[encoded data removed]",
      "text/plain": [
       "<Figure size 432x288 with 1 Axes>"
      ]
     },
     "metadata": {
      "needs_background": "light"
     },
     "output_type": "display_data"
    }
   ],
   "source": [
    "clf=tree.DecisionTreeClassifier(criterion=\"entropy\",max_depth=2)\n",
    "df1=pd.DataFrame(df,columns=('RM','LSTAT','RAD'))\n",
    "tree.plot_tree(clf.fit(df1,df.highPriced))"
   ]
  },
  {
   "cell_type": "code",
   "execution_count": 46,
   "metadata": {},
   "outputs": [],
   "source": [
    "dt=clf.fit(df1,df.highPriced)"
   ]
  },
  {
   "cell_type": "code",
   "execution_count": 47,
   "metadata": {},
   "outputs": [
    {
     "name": "stderr",
     "output_type": "stream",
     "text": [
      "C:\\ProgramData\\Anaconda3\\lib\\site-packages\\sklearn\\utils\\deprecation.py:144: FutureWarning: The sklearn.tree.export module is  deprecated in version 0.22 and will be removed in version 0.24. The corresponding classes / functions should instead be imported from sklearn.tree. Anything that cannot be imported from sklearn.tree is now part of the private API.\n",
      "  warnings.warn(message, FutureWarning)\n"
     ]
    }
   ],
   "source": [
    "from sklearn.tree.export import export_text\n",
    "r = export_text(dt, feature_names=('RM','LSTAT','RAD'))"
   ]
  },
  {
   "cell_type": "code",
   "execution_count": 48,
   "metadata": {},
   "outputs": [
    {
     "name": "stdout",
     "output_type": "stream",
     "text": [
      "|--- RM <= 6.94\n",
      "|   |--- LSTAT <= 9.53\n",
      "|   |   |--- class: False\n",
      "|   |--- LSTAT >  9.53\n",
      "|   |   |--- class: False\n",
      "|--- RM >  6.94\n",
      "|   |--- RM <= 7.44\n",
      "|   |   |--- class: False\n",
      "|   |--- RM >  7.44\n",
      "|   |   |--- class: True\n",
      "\n"
     ]
    }
   ],
   "source": [
    "print(r)"
   ]
  },
  {
   "cell_type": "code",
   "execution_count": 49,
   "metadata": {},
   "outputs": [
    {
     "data": {
      "text/html": [
       "<div>\n",
       "<style scoped>\n",
       "    .dataframe tbody tr th:only-of-type {\n",
       "        vertical-align: middle;\n",
       "    }\n",
       "\n",
       "    .dataframe tbody tr th {\n",
       "        vertical-align: top;\n",
       "    }\n",
       "\n",
       "    .dataframe thead th {\n",
       "        text-align: right;\n",
       "    }\n",
       "</style>\n",
       "<table border=\"1\" class=\"dataframe\">\n",
       "  <thead>\n",
       "    <tr style=\"text-align: right;\">\n",
       "      <th></th>\n",
       "      <th>level</th>\n",
       "      <th>col</th>\n",
       "      <th>threshold</th>\n",
       "    </tr>\n",
       "  </thead>\n",
       "  <tbody>\n",
       "    <tr>\n",
       "      <th>0</th>\n",
       "      <td>1</td>\n",
       "      <td>RM</td>\n",
       "      <td>6.94</td>\n",
       "    </tr>\n",
       "    <tr>\n",
       "      <th>1</th>\n",
       "      <td>2</td>\n",
       "      <td>LSTAT</td>\n",
       "      <td>9.53</td>\n",
       "    </tr>\n",
       "    <tr>\n",
       "      <th>2</th>\n",
       "      <td>2</td>\n",
       "      <td>RM</td>\n",
       "      <td>7.44</td>\n",
       "    </tr>\n",
       "  </tbody>\n",
       "</table>\n",
       "</div>"
      ],
      "text/plain": [
       "   level    col  threshold\n",
       "0      1     RM       6.94\n",
       "1      2  LSTAT       9.53\n",
       "2      2     RM       7.44"
      ]
     },
     "execution_count": 49,
     "metadata": {},
     "output_type": "execute_result"
    }
   ],
   "source": [
    "dict={'level':(1,2,2),'col':('RM','LSTAT','RM'),'threshold':(6.94,9.53,7.44)}\n",
    "pd.DataFrame(dict)"
   ]
  },
  {
   "cell_type": "code",
   "execution_count": 50,
   "metadata": {},
   "outputs": [],
   "source": [
    "import matplotlib.pyplot as plt\n",
    "%matplotlib inline"
   ]
  },
  {
   "cell_type": "code",
   "execution_count": 51,
   "metadata": {},
   "outputs": [
    {
     "data": {
      "image/png": "[encoded data removed]",
      "text/plain": [
       "<Figure size 432x288 with 1 Axes>"
      ]
     },
     "metadata": {
      "needs_background": "light"
     },
     "output_type": "display_data"
    }
   ],
   "source": [
    "x=df1.RM\n",
    "y=df1.LSTAT\n",
    "plt.xlabel('RM')\n",
    "plt.ylabel('LSTAT')\n",
    "plt.scatter(x, y, c=df.highPriced, edgecolor='w',alpha=0.4)\n",
    "plt.axvline(x=6.94,color='r',label='RM, level 1')\n",
    "plt.axvline(x=7.44,color='orange',label='RM, level 2')\n",
    "plt.axhline(y=9.53,label='LSTAT, level 2')\n",
    "plt.legend()\n",
    "plt.show()"
   ]
  },
  {
   "cell_type": "markdown",
   "metadata": {},
   "source": [
    "# making predictions\n",
    "## 10 Create a training/test split for your data."
   ]
  },
  {
   "cell_type": "code",
   "execution_count": 52,
   "metadata": {},
   "outputs": [],
   "source": [
    "from sklearn.model_selection import train_test_split"
   ]
  },
  {
   "cell_type": "code",
   "execution_count": 53,
   "metadata": {},
   "outputs": [],
   "source": [
    "# every 5th observation from the original dataset to be the test\n",
    "test=df.iloc[0:506:5]"
   ]
  },
  {
   "cell_type": "code",
   "execution_count": 54,
   "metadata": {},
   "outputs": [
    {
     "name": "stdout",
     "output_type": "stream",
     "text": [
      "(102, 15) (404, 15)\n"
     ]
    }
   ],
   "source": [
    "# exclude test (subset of dataframe) to get train\n",
    "train = df.merge(test, how='left', indicator=True)\n",
    "train = train[train['_merge'] == 'left_only']\n",
    "train=train.drop(['_merge'],axis=1)\n",
    "# the number of the observations in respective data\n",
    "print(test.shape,train.shape)"
   ]
  },
  {
   "cell_type": "code",
   "execution_count": 55,
   "metadata": {},
   "outputs": [
    {
     "name": "stdout",
     "output_type": "stream",
     "text": [
      "0      False\n",
      "5      False\n",
      "10     False\n",
      "15     False\n",
      "20     False\n",
      "       ...  \n",
      "485    False\n",
      "490    False\n",
      "495    False\n",
      "500    False\n",
      "505    False\n",
      "Name: highPriced, Length: 102, dtype: bool 1      False\n",
      "2      False\n",
      "3      False\n",
      "4       True\n",
      "6      False\n",
      "       ...  \n",
      "499    False\n",
      "501    False\n",
      "502    False\n",
      "503    False\n",
      "504    False\n",
      "Name: highPriced, Length: 404, dtype: bool\n"
     ]
    }
   ],
   "source": [
    "# the respective target variable\n",
    "print(test.highPriced,train.highPriced)"
   ]
  },
  {
   "cell_type": "markdown",
   "metadata": {},
   "source": [
    "## 11. Create a baseline set of predictions."
   ]
  },
  {
   "cell_type": "code",
   "execution_count": 56,
   "metadata": {},
   "outputs": [],
   "source": [
    "import random"
   ]
  },
  {
   "cell_type": "code",
   "execution_count": 57,
   "metadata": {},
   "outputs": [
    {
     "data": {
      "text/html": [
       "<div>\n",
       "<style scoped>\n",
       "    .dataframe tbody tr th:only-of-type {\n",
       "        vertical-align: middle;\n",
       "    }\n",
       "\n",
       "    .dataframe tbody tr th {\n",
       "        vertical-align: top;\n",
       "    }\n",
       "\n",
       "    .dataframe thead th {\n",
       "        text-align: right;\n",
       "    }\n",
       "</style>\n",
       "<table border=\"1\" class=\"dataframe\">\n",
       "  <thead>\n",
       "    <tr style=\"text-align: right;\">\n",
       "      <th></th>\n",
       "      <th>CRIM</th>\n",
       "      <th>ZN</th>\n",
       "      <th>INDUS</th>\n",
       "      <th>CHAS</th>\n",
       "      <th>NOX</th>\n",
       "      <th>RM</th>\n",
       "      <th>AGE</th>\n",
       "      <th>DIS</th>\n",
       "      <th>RAD</th>\n",
       "      <th>TAX</th>\n",
       "      <th>PTRATIO</th>\n",
       "      <th>B</th>\n",
       "      <th>LSTAT</th>\n",
       "      <th>MEDV</th>\n",
       "      <th>highPriced</th>\n",
       "    </tr>\n",
       "  </thead>\n",
       "  <tbody>\n",
       "    <tr>\n",
       "      <th>0</th>\n",
       "      <td>0.00632</td>\n",
       "      <td>18.0</td>\n",
       "      <td>2.31</td>\n",
       "      <td>0.0</td>\n",
       "      <td>0.538</td>\n",
       "      <td>6.575</td>\n",
       "      <td>65.2</td>\n",
       "      <td>4.0900</td>\n",
       "      <td>1.0</td>\n",
       "      <td>296.0</td>\n",
       "      <td>15.3</td>\n",
       "      <td>396.90</td>\n",
       "      <td>4.98</td>\n",
       "      <td>24.0</td>\n",
       "      <td>False</td>\n",
       "    </tr>\n",
       "    <tr>\n",
       "      <th>5</th>\n",
       "      <td>0.02985</td>\n",
       "      <td>0.0</td>\n",
       "      <td>2.18</td>\n",
       "      <td>0.0</td>\n",
       "      <td>0.458</td>\n",
       "      <td>6.430</td>\n",
       "      <td>58.7</td>\n",
       "      <td>6.0622</td>\n",
       "      <td>3.0</td>\n",
       "      <td>222.0</td>\n",
       "      <td>18.7</td>\n",
       "      <td>394.12</td>\n",
       "      <td>5.21</td>\n",
       "      <td>28.7</td>\n",
       "      <td>False</td>\n",
       "    </tr>\n",
       "    <tr>\n",
       "      <th>10</th>\n",
       "      <td>0.22489</td>\n",
       "      <td>12.5</td>\n",
       "      <td>7.87</td>\n",
       "      <td>0.0</td>\n",
       "      <td>0.524</td>\n",
       "      <td>6.377</td>\n",
       "      <td>94.3</td>\n",
       "      <td>6.3467</td>\n",
       "      <td>5.0</td>\n",
       "      <td>311.0</td>\n",
       "      <td>15.2</td>\n",
       "      <td>392.52</td>\n",
       "      <td>20.45</td>\n",
       "      <td>15.0</td>\n",
       "      <td>False</td>\n",
       "    </tr>\n",
       "    <tr>\n",
       "      <th>15</th>\n",
       "      <td>0.62739</td>\n",
       "      <td>0.0</td>\n",
       "      <td>8.14</td>\n",
       "      <td>0.0</td>\n",
       "      <td>0.538</td>\n",
       "      <td>5.834</td>\n",
       "      <td>56.5</td>\n",
       "      <td>4.4986</td>\n",
       "      <td>4.0</td>\n",
       "      <td>307.0</td>\n",
       "      <td>21.0</td>\n",
       "      <td>395.62</td>\n",
       "      <td>8.47</td>\n",
       "      <td>19.9</td>\n",
       "      <td>False</td>\n",
       "    </tr>\n",
       "    <tr>\n",
       "      <th>20</th>\n",
       "      <td>1.25179</td>\n",
       "      <td>0.0</td>\n",
       "      <td>8.14</td>\n",
       "      <td>0.0</td>\n",
       "      <td>0.538</td>\n",
       "      <td>5.570</td>\n",
       "      <td>98.1</td>\n",
       "      <td>3.7979</td>\n",
       "      <td>4.0</td>\n",
       "      <td>307.0</td>\n",
       "      <td>21.0</td>\n",
       "      <td>376.57</td>\n",
       "      <td>21.02</td>\n",
       "      <td>13.6</td>\n",
       "      <td>False</td>\n",
       "    </tr>\n",
       "    <tr>\n",
       "      <th>...</th>\n",
       "      <td>...</td>\n",
       "      <td>...</td>\n",
       "      <td>...</td>\n",
       "      <td>...</td>\n",
       "      <td>...</td>\n",
       "      <td>...</td>\n",
       "      <td>...</td>\n",
       "      <td>...</td>\n",
       "      <td>...</td>\n",
       "      <td>...</td>\n",
       "      <td>...</td>\n",
       "      <td>...</td>\n",
       "      <td>...</td>\n",
       "      <td>...</td>\n",
       "      <td>...</td>\n",
       "    </tr>\n",
       "    <tr>\n",
       "      <th>485</th>\n",
       "      <td>3.67367</td>\n",
       "      <td>0.0</td>\n",
       "      <td>18.10</td>\n",
       "      <td>0.0</td>\n",
       "      <td>0.583</td>\n",
       "      <td>6.312</td>\n",
       "      <td>51.9</td>\n",
       "      <td>3.9917</td>\n",
       "      <td>24.0</td>\n",
       "      <td>666.0</td>\n",
       "      <td>20.2</td>\n",
       "      <td>388.62</td>\n",
       "      <td>10.58</td>\n",
       "      <td>21.2</td>\n",
       "      <td>False</td>\n",
       "    </tr>\n",
       "    <tr>\n",
       "      <th>490</th>\n",
       "      <td>0.20746</td>\n",
       "      <td>0.0</td>\n",
       "      <td>27.74</td>\n",
       "      <td>0.0</td>\n",
       "      <td>0.609</td>\n",
       "      <td>5.093</td>\n",
       "      <td>98.0</td>\n",
       "      <td>1.8226</td>\n",
       "      <td>4.0</td>\n",
       "      <td>711.0</td>\n",
       "      <td>20.1</td>\n",
       "      <td>318.43</td>\n",
       "      <td>29.68</td>\n",
       "      <td>8.1</td>\n",
       "      <td>False</td>\n",
       "    </tr>\n",
       "    <tr>\n",
       "      <th>495</th>\n",
       "      <td>0.17899</td>\n",
       "      <td>0.0</td>\n",
       "      <td>9.69</td>\n",
       "      <td>0.0</td>\n",
       "      <td>0.585</td>\n",
       "      <td>5.670</td>\n",
       "      <td>28.8</td>\n",
       "      <td>2.7986</td>\n",
       "      <td>6.0</td>\n",
       "      <td>391.0</td>\n",
       "      <td>19.2</td>\n",
       "      <td>393.29</td>\n",
       "      <td>17.60</td>\n",
       "      <td>23.1</td>\n",
       "      <td>False</td>\n",
       "    </tr>\n",
       "    <tr>\n",
       "      <th>500</th>\n",
       "      <td>0.22438</td>\n",
       "      <td>0.0</td>\n",
       "      <td>9.69</td>\n",
       "      <td>0.0</td>\n",
       "      <td>0.585</td>\n",
       "      <td>6.027</td>\n",
       "      <td>79.7</td>\n",
       "      <td>2.4982</td>\n",
       "      <td>6.0</td>\n",
       "      <td>391.0</td>\n",
       "      <td>19.2</td>\n",
       "      <td>396.90</td>\n",
       "      <td>14.33</td>\n",
       "      <td>16.8</td>\n",
       "      <td>False</td>\n",
       "    </tr>\n",
       "    <tr>\n",
       "      <th>505</th>\n",
       "      <td>0.04741</td>\n",
       "      <td>0.0</td>\n",
       "      <td>11.93</td>\n",
       "      <td>0.0</td>\n",
       "      <td>0.573</td>\n",
       "      <td>6.030</td>\n",
       "      <td>80.8</td>\n",
       "      <td>2.5050</td>\n",
       "      <td>1.0</td>\n",
       "      <td>273.0</td>\n",
       "      <td>21.0</td>\n",
       "      <td>396.90</td>\n",
       "      <td>7.88</td>\n",
       "      <td>11.9</td>\n",
       "      <td>False</td>\n",
       "    </tr>\n",
       "  </tbody>\n",
       "</table>\n",
       "<p>102 rows × 15 columns</p>\n",
       "</div>"
      ],
      "text/plain": [
       "        CRIM    ZN  INDUS  CHAS    NOX     RM   AGE     DIS   RAD    TAX  \\\n",
       "0    0.00632  18.0   2.31   0.0  0.538  6.575  65.2  4.0900   1.0  296.0   \n",
       "5    0.02985   0.0   2.18   0.0  0.458  6.430  58.7  6.0622   3.0  222.0   \n",
       "10   0.22489  12.5   7.87   0.0  0.524  6.377  94.3  6.3467   5.0  311.0   \n",
       "15   0.62739   0.0   8.14   0.0  0.538  5.834  56.5  4.4986   4.0  307.0   \n",
       "20   1.25179   0.0   8.14   0.0  0.538  5.570  98.1  3.7979   4.0  307.0   \n",
       "..       ...   ...    ...   ...    ...    ...   ...     ...   ...    ...   \n",
       "485  3.67367   0.0  18.10   0.0  0.583  6.312  51.9  3.9917  24.0  666.0   \n",
       "490  0.20746   0.0  27.74   0.0  0.609  5.093  98.0  1.8226   4.0  711.0   \n",
       "495  0.17899   0.0   9.69   0.0  0.585  5.670  28.8  2.7986   6.0  391.0   \n",
       "500  0.22438   0.0   9.69   0.0  0.585  6.027  79.7  2.4982   6.0  391.0   \n",
       "505  0.04741   0.0  11.93   0.0  0.573  6.030  80.8  2.5050   1.0  273.0   \n",
       "\n",
       "     PTRATIO       B  LSTAT  MEDV  highPriced  \n",
       "0       15.3  396.90   4.98  24.0       False  \n",
       "5       18.7  394.12   5.21  28.7       False  \n",
       "10      15.2  392.52  20.45  15.0       False  \n",
       "15      21.0  395.62   8.47  19.9       False  \n",
       "20      21.0  376.57  21.02  13.6       False  \n",
       "..       ...     ...    ...   ...         ...  \n",
       "485     20.2  388.62  10.58  21.2       False  \n",
       "490     20.1  318.43  29.68   8.1       False  \n",
       "495     19.2  393.29  17.60  23.1       False  \n",
       "500     19.2  396.90  14.33  16.8       False  \n",
       "505     21.0  396.90   7.88  11.9       False  \n",
       "\n",
       "[102 rows x 15 columns]"
      ]
     },
     "execution_count": 57,
     "metadata": {},
     "output_type": "execute_result"
    }
   ],
   "source": [
    "random.seed(1000)\n",
    "#pred=train.sample(102).highPriced\n",
    "pred=test.assign(highPriced=train.sample(102).highPriced.values)\n",
    "pred"
   ]
  },
  {
   "cell_type": "code",
   "execution_count": 58,
   "metadata": {},
   "outputs": [],
   "source": [
    "from sklearn.metrics import confusion_matrix \n",
    "from sklearn.metrics import accuracy_score \n",
    "from sklearn.metrics import classification_report"
   ]
  },
  {
   "cell_type": "code",
   "execution_count": 59,
   "metadata": {},
   "outputs": [
    {
     "name": "stdout",
     "output_type": "stream",
     "text": [
      "the accuracy score is  0.8725490196078431\n",
      "              precision    recall  f1-score   support\n",
      "\n",
      "       False       0.94      0.93      0.93        95\n",
      "        True       0.12      0.14      0.13         7\n",
      "\n",
      "    accuracy                           0.87       102\n",
      "   macro avg       0.53      0.53      0.53       102\n",
      "weighted avg       0.88      0.87      0.88       102\n",
      "\n"
     ]
    }
   ],
   "source": [
    "print(\"the accuracy score is \",accuracy_score(test.highPriced,pred.highPriced))\n",
    "print(classification_report(test.highPriced,pred.highPriced))"
   ]
  },
  {
   "cell_type": "code",
   "execution_count": 60,
   "metadata": {},
   "outputs": [
    {
     "name": "stdout",
     "output_type": "stream",
     "text": [
      "(26, 15)\n"
     ]
    },
    {
     "data": {
      "text/html": [
       "<div>\n",
       "<style scoped>\n",
       "    .dataframe tbody tr th:only-of-type {\n",
       "        vertical-align: middle;\n",
       "    }\n",
       "\n",
       "    .dataframe tbody tr th {\n",
       "        vertical-align: top;\n",
       "    }\n",
       "\n",
       "    .dataframe thead th {\n",
       "        text-align: right;\n",
       "    }\n",
       "</style>\n",
       "<table border=\"1\" class=\"dataframe\">\n",
       "  <thead>\n",
       "    <tr style=\"text-align: right;\">\n",
       "      <th></th>\n",
       "      <th>CRIM</th>\n",
       "      <th>ZN</th>\n",
       "      <th>INDUS</th>\n",
       "      <th>CHAS</th>\n",
       "      <th>NOX</th>\n",
       "      <th>RM</th>\n",
       "      <th>AGE</th>\n",
       "      <th>DIS</th>\n",
       "      <th>RAD</th>\n",
       "      <th>TAX</th>\n",
       "      <th>PTRATIO</th>\n",
       "      <th>B</th>\n",
       "      <th>LSTAT</th>\n",
       "      <th>MEDV</th>\n",
       "      <th>highPriced</th>\n",
       "    </tr>\n",
       "  </thead>\n",
       "  <tbody>\n",
       "    <tr>\n",
       "      <th>50</th>\n",
       "      <td>0.08873</td>\n",
       "      <td>21.0</td>\n",
       "      <td>5.64</td>\n",
       "      <td>0.0</td>\n",
       "      <td>0.4390</td>\n",
       "      <td>5.963</td>\n",
       "      <td>45.7</td>\n",
       "      <td>6.8147</td>\n",
       "      <td>4.0</td>\n",
       "      <td>243.0</td>\n",
       "      <td>16.8</td>\n",
       "      <td>395.56</td>\n",
       "      <td>13.45</td>\n",
       "      <td>19.7</td>\n",
       "      <td>False</td>\n",
       "    </tr>\n",
       "    <tr>\n",
       "      <th>55</th>\n",
       "      <td>0.01311</td>\n",
       "      <td>90.0</td>\n",
       "      <td>1.22</td>\n",
       "      <td>0.0</td>\n",
       "      <td>0.4030</td>\n",
       "      <td>7.249</td>\n",
       "      <td>21.9</td>\n",
       "      <td>8.6966</td>\n",
       "      <td>5.0</td>\n",
       "      <td>226.0</td>\n",
       "      <td>17.9</td>\n",
       "      <td>395.93</td>\n",
       "      <td>4.81</td>\n",
       "      <td>35.4</td>\n",
       "      <td>True</td>\n",
       "    </tr>\n",
       "    <tr>\n",
       "      <th>155</th>\n",
       "      <td>3.53501</td>\n",
       "      <td>0.0</td>\n",
       "      <td>19.58</td>\n",
       "      <td>1.0</td>\n",
       "      <td>0.8710</td>\n",
       "      <td>6.152</td>\n",
       "      <td>82.6</td>\n",
       "      <td>1.7455</td>\n",
       "      <td>5.0</td>\n",
       "      <td>403.0</td>\n",
       "      <td>14.7</td>\n",
       "      <td>88.01</td>\n",
       "      <td>15.02</td>\n",
       "      <td>15.6</td>\n",
       "      <td>False</td>\n",
       "    </tr>\n",
       "    <tr>\n",
       "      <th>175</th>\n",
       "      <td>0.06664</td>\n",
       "      <td>0.0</td>\n",
       "      <td>4.05</td>\n",
       "      <td>0.0</td>\n",
       "      <td>0.5100</td>\n",
       "      <td>6.546</td>\n",
       "      <td>33.1</td>\n",
       "      <td>3.1323</td>\n",
       "      <td>5.0</td>\n",
       "      <td>296.0</td>\n",
       "      <td>16.6</td>\n",
       "      <td>390.96</td>\n",
       "      <td>5.33</td>\n",
       "      <td>29.4</td>\n",
       "      <td>False</td>\n",
       "    </tr>\n",
       "    <tr>\n",
       "      <th>180</th>\n",
       "      <td>0.06588</td>\n",
       "      <td>0.0</td>\n",
       "      <td>2.46</td>\n",
       "      <td>0.0</td>\n",
       "      <td>0.4880</td>\n",
       "      <td>7.765</td>\n",
       "      <td>83.3</td>\n",
       "      <td>2.7410</td>\n",
       "      <td>3.0</td>\n",
       "      <td>193.0</td>\n",
       "      <td>17.8</td>\n",
       "      <td>395.56</td>\n",
       "      <td>7.56</td>\n",
       "      <td>39.8</td>\n",
       "      <td>True</td>\n",
       "    </tr>\n",
       "    <tr>\n",
       "      <th>190</th>\n",
       "      <td>0.09068</td>\n",
       "      <td>45.0</td>\n",
       "      <td>3.44</td>\n",
       "      <td>0.0</td>\n",
       "      <td>0.4370</td>\n",
       "      <td>6.951</td>\n",
       "      <td>21.5</td>\n",
       "      <td>6.4798</td>\n",
       "      <td>5.0</td>\n",
       "      <td>398.0</td>\n",
       "      <td>15.2</td>\n",
       "      <td>377.68</td>\n",
       "      <td>5.10</td>\n",
       "      <td>37.0</td>\n",
       "      <td>True</td>\n",
       "    </tr>\n",
       "    <tr>\n",
       "      <th>195</th>\n",
       "      <td>0.01381</td>\n",
       "      <td>80.0</td>\n",
       "      <td>0.46</td>\n",
       "      <td>0.0</td>\n",
       "      <td>0.4220</td>\n",
       "      <td>7.875</td>\n",
       "      <td>32.0</td>\n",
       "      <td>5.6484</td>\n",
       "      <td>4.0</td>\n",
       "      <td>255.0</td>\n",
       "      <td>14.4</td>\n",
       "      <td>394.23</td>\n",
       "      <td>2.97</td>\n",
       "      <td>50.0</td>\n",
       "      <td>True</td>\n",
       "    </tr>\n",
       "    <tr>\n",
       "      <th>220</th>\n",
       "      <td>0.35809</td>\n",
       "      <td>0.0</td>\n",
       "      <td>6.20</td>\n",
       "      <td>1.0</td>\n",
       "      <td>0.5070</td>\n",
       "      <td>6.951</td>\n",
       "      <td>88.5</td>\n",
       "      <td>2.8617</td>\n",
       "      <td>8.0</td>\n",
       "      <td>307.0</td>\n",
       "      <td>17.4</td>\n",
       "      <td>391.70</td>\n",
       "      <td>9.71</td>\n",
       "      <td>26.7</td>\n",
       "      <td>False</td>\n",
       "    </tr>\n",
       "    <tr>\n",
       "      <th>225</th>\n",
       "      <td>0.52693</td>\n",
       "      <td>0.0</td>\n",
       "      <td>6.20</td>\n",
       "      <td>0.0</td>\n",
       "      <td>0.5040</td>\n",
       "      <td>8.725</td>\n",
       "      <td>83.0</td>\n",
       "      <td>2.8944</td>\n",
       "      <td>8.0</td>\n",
       "      <td>307.0</td>\n",
       "      <td>17.4</td>\n",
       "      <td>382.00</td>\n",
       "      <td>4.63</td>\n",
       "      <td>50.0</td>\n",
       "      <td>True</td>\n",
       "    </tr>\n",
       "    <tr>\n",
       "      <th>280</th>\n",
       "      <td>0.03578</td>\n",
       "      <td>20.0</td>\n",
       "      <td>3.33</td>\n",
       "      <td>0.0</td>\n",
       "      <td>0.4429</td>\n",
       "      <td>7.820</td>\n",
       "      <td>64.5</td>\n",
       "      <td>4.6947</td>\n",
       "      <td>5.0</td>\n",
       "      <td>216.0</td>\n",
       "      <td>14.9</td>\n",
       "      <td>387.31</td>\n",
       "      <td>3.76</td>\n",
       "      <td>45.4</td>\n",
       "      <td>True</td>\n",
       "    </tr>\n",
       "    <tr>\n",
       "      <th>315</th>\n",
       "      <td>0.25356</td>\n",
       "      <td>0.0</td>\n",
       "      <td>9.90</td>\n",
       "      <td>0.0</td>\n",
       "      <td>0.5440</td>\n",
       "      <td>5.705</td>\n",
       "      <td>77.7</td>\n",
       "      <td>3.9450</td>\n",
       "      <td>4.0</td>\n",
       "      <td>304.0</td>\n",
       "      <td>18.4</td>\n",
       "      <td>396.42</td>\n",
       "      <td>11.50</td>\n",
       "      <td>16.2</td>\n",
       "      <td>False</td>\n",
       "    </tr>\n",
       "    <tr>\n",
       "      <th>440</th>\n",
       "      <td>22.05110</td>\n",
       "      <td>0.0</td>\n",
       "      <td>18.10</td>\n",
       "      <td>0.0</td>\n",
       "      <td>0.7400</td>\n",
       "      <td>5.818</td>\n",
       "      <td>92.4</td>\n",
       "      <td>1.8662</td>\n",
       "      <td>24.0</td>\n",
       "      <td>666.0</td>\n",
       "      <td>20.2</td>\n",
       "      <td>391.45</td>\n",
       "      <td>22.11</td>\n",
       "      <td>10.5</td>\n",
       "      <td>False</td>\n",
       "    </tr>\n",
       "    <tr>\n",
       "      <th>445</th>\n",
       "      <td>10.67180</td>\n",
       "      <td>0.0</td>\n",
       "      <td>18.10</td>\n",
       "      <td>0.0</td>\n",
       "      <td>0.7400</td>\n",
       "      <td>6.459</td>\n",
       "      <td>94.8</td>\n",
       "      <td>1.9879</td>\n",
       "      <td>24.0</td>\n",
       "      <td>666.0</td>\n",
       "      <td>20.2</td>\n",
       "      <td>43.06</td>\n",
       "      <td>23.98</td>\n",
       "      <td>11.8</td>\n",
       "      <td>False</td>\n",
       "    </tr>\n",
       "    <tr>\n",
       "      <th>50</th>\n",
       "      <td>0.08873</td>\n",
       "      <td>21.0</td>\n",
       "      <td>5.64</td>\n",
       "      <td>0.0</td>\n",
       "      <td>0.4390</td>\n",
       "      <td>5.963</td>\n",
       "      <td>45.7</td>\n",
       "      <td>6.8147</td>\n",
       "      <td>4.0</td>\n",
       "      <td>243.0</td>\n",
       "      <td>16.8</td>\n",
       "      <td>395.56</td>\n",
       "      <td>13.45</td>\n",
       "      <td>19.7</td>\n",
       "      <td>True</td>\n",
       "    </tr>\n",
       "    <tr>\n",
       "      <th>55</th>\n",
       "      <td>0.01311</td>\n",
       "      <td>90.0</td>\n",
       "      <td>1.22</td>\n",
       "      <td>0.0</td>\n",
       "      <td>0.4030</td>\n",
       "      <td>7.249</td>\n",
       "      <td>21.9</td>\n",
       "      <td>8.6966</td>\n",
       "      <td>5.0</td>\n",
       "      <td>226.0</td>\n",
       "      <td>17.9</td>\n",
       "      <td>395.93</td>\n",
       "      <td>4.81</td>\n",
       "      <td>35.4</td>\n",
       "      <td>False</td>\n",
       "    </tr>\n",
       "    <tr>\n",
       "      <th>155</th>\n",
       "      <td>3.53501</td>\n",
       "      <td>0.0</td>\n",
       "      <td>19.58</td>\n",
       "      <td>1.0</td>\n",
       "      <td>0.8710</td>\n",
       "      <td>6.152</td>\n",
       "      <td>82.6</td>\n",
       "      <td>1.7455</td>\n",
       "      <td>5.0</td>\n",
       "      <td>403.0</td>\n",
       "      <td>14.7</td>\n",
       "      <td>88.01</td>\n",
       "      <td>15.02</td>\n",
       "      <td>15.6</td>\n",
       "      <td>True</td>\n",
       "    </tr>\n",
       "    <tr>\n",
       "      <th>175</th>\n",
       "      <td>0.06664</td>\n",
       "      <td>0.0</td>\n",
       "      <td>4.05</td>\n",
       "      <td>0.0</td>\n",
       "      <td>0.5100</td>\n",
       "      <td>6.546</td>\n",
       "      <td>33.1</td>\n",
       "      <td>3.1323</td>\n",
       "      <td>5.0</td>\n",
       "      <td>296.0</td>\n",
       "      <td>16.6</td>\n",
       "      <td>390.96</td>\n",
       "      <td>5.33</td>\n",
       "      <td>29.4</td>\n",
       "      <td>True</td>\n",
       "    </tr>\n",
       "    <tr>\n",
       "      <th>180</th>\n",
       "      <td>0.06588</td>\n",
       "      <td>0.0</td>\n",
       "      <td>2.46</td>\n",
       "      <td>0.0</td>\n",
       "      <td>0.4880</td>\n",
       "      <td>7.765</td>\n",
       "      <td>83.3</td>\n",
       "      <td>2.7410</td>\n",
       "      <td>3.0</td>\n",
       "      <td>193.0</td>\n",
       "      <td>17.8</td>\n",
       "      <td>395.56</td>\n",
       "      <td>7.56</td>\n",
       "      <td>39.8</td>\n",
       "      <td>False</td>\n",
       "    </tr>\n",
       "    <tr>\n",
       "      <th>190</th>\n",
       "      <td>0.09068</td>\n",
       "      <td>45.0</td>\n",
       "      <td>3.44</td>\n",
       "      <td>0.0</td>\n",
       "      <td>0.4370</td>\n",
       "      <td>6.951</td>\n",
       "      <td>21.5</td>\n",
       "      <td>6.4798</td>\n",
       "      <td>5.0</td>\n",
       "      <td>398.0</td>\n",
       "      <td>15.2</td>\n",
       "      <td>377.68</td>\n",
       "      <td>5.10</td>\n",
       "      <td>37.0</td>\n",
       "      <td>False</td>\n",
       "    </tr>\n",
       "    <tr>\n",
       "      <th>195</th>\n",
       "      <td>0.01381</td>\n",
       "      <td>80.0</td>\n",
       "      <td>0.46</td>\n",
       "      <td>0.0</td>\n",
       "      <td>0.4220</td>\n",
       "      <td>7.875</td>\n",
       "      <td>32.0</td>\n",
       "      <td>5.6484</td>\n",
       "      <td>4.0</td>\n",
       "      <td>255.0</td>\n",
       "      <td>14.4</td>\n",
       "      <td>394.23</td>\n",
       "      <td>2.97</td>\n",
       "      <td>50.0</td>\n",
       "      <td>False</td>\n",
       "    </tr>\n",
       "    <tr>\n",
       "      <th>220</th>\n",
       "      <td>0.35809</td>\n",
       "      <td>0.0</td>\n",
       "      <td>6.20</td>\n",
       "      <td>1.0</td>\n",
       "      <td>0.5070</td>\n",
       "      <td>6.951</td>\n",
       "      <td>88.5</td>\n",
       "      <td>2.8617</td>\n",
       "      <td>8.0</td>\n",
       "      <td>307.0</td>\n",
       "      <td>17.4</td>\n",
       "      <td>391.70</td>\n",
       "      <td>9.71</td>\n",
       "      <td>26.7</td>\n",
       "      <td>True</td>\n",
       "    </tr>\n",
       "    <tr>\n",
       "      <th>225</th>\n",
       "      <td>0.52693</td>\n",
       "      <td>0.0</td>\n",
       "      <td>6.20</td>\n",
       "      <td>0.0</td>\n",
       "      <td>0.5040</td>\n",
       "      <td>8.725</td>\n",
       "      <td>83.0</td>\n",
       "      <td>2.8944</td>\n",
       "      <td>8.0</td>\n",
       "      <td>307.0</td>\n",
       "      <td>17.4</td>\n",
       "      <td>382.00</td>\n",
       "      <td>4.63</td>\n",
       "      <td>50.0</td>\n",
       "      <td>False</td>\n",
       "    </tr>\n",
       "    <tr>\n",
       "      <th>280</th>\n",
       "      <td>0.03578</td>\n",
       "      <td>20.0</td>\n",
       "      <td>3.33</td>\n",
       "      <td>0.0</td>\n",
       "      <td>0.4429</td>\n",
       "      <td>7.820</td>\n",
       "      <td>64.5</td>\n",
       "      <td>4.6947</td>\n",
       "      <td>5.0</td>\n",
       "      <td>216.0</td>\n",
       "      <td>14.9</td>\n",
       "      <td>387.31</td>\n",
       "      <td>3.76</td>\n",
       "      <td>45.4</td>\n",
       "      <td>False</td>\n",
       "    </tr>\n",
       "    <tr>\n",
       "      <th>315</th>\n",
       "      <td>0.25356</td>\n",
       "      <td>0.0</td>\n",
       "      <td>9.90</td>\n",
       "      <td>0.0</td>\n",
       "      <td>0.5440</td>\n",
       "      <td>5.705</td>\n",
       "      <td>77.7</td>\n",
       "      <td>3.9450</td>\n",
       "      <td>4.0</td>\n",
       "      <td>304.0</td>\n",
       "      <td>18.4</td>\n",
       "      <td>396.42</td>\n",
       "      <td>11.50</td>\n",
       "      <td>16.2</td>\n",
       "      <td>True</td>\n",
       "    </tr>\n",
       "    <tr>\n",
       "      <th>440</th>\n",
       "      <td>22.05110</td>\n",
       "      <td>0.0</td>\n",
       "      <td>18.10</td>\n",
       "      <td>0.0</td>\n",
       "      <td>0.7400</td>\n",
       "      <td>5.818</td>\n",
       "      <td>92.4</td>\n",
       "      <td>1.8662</td>\n",
       "      <td>24.0</td>\n",
       "      <td>666.0</td>\n",
       "      <td>20.2</td>\n",
       "      <td>391.45</td>\n",
       "      <td>22.11</td>\n",
       "      <td>10.5</td>\n",
       "      <td>True</td>\n",
       "    </tr>\n",
       "    <tr>\n",
       "      <th>445</th>\n",
       "      <td>10.67180</td>\n",
       "      <td>0.0</td>\n",
       "      <td>18.10</td>\n",
       "      <td>0.0</td>\n",
       "      <td>0.7400</td>\n",
       "      <td>6.459</td>\n",
       "      <td>94.8</td>\n",
       "      <td>1.9879</td>\n",
       "      <td>24.0</td>\n",
       "      <td>666.0</td>\n",
       "      <td>20.2</td>\n",
       "      <td>43.06</td>\n",
       "      <td>23.98</td>\n",
       "      <td>11.8</td>\n",
       "      <td>True</td>\n",
       "    </tr>\n",
       "  </tbody>\n",
       "</table>\n",
       "</div>"
      ],
      "text/plain": [
       "         CRIM    ZN  INDUS  CHAS     NOX     RM   AGE     DIS   RAD    TAX  \\\n",
       "50    0.08873  21.0   5.64   0.0  0.4390  5.963  45.7  6.8147   4.0  243.0   \n",
       "55    0.01311  90.0   1.22   0.0  0.4030  7.249  21.9  8.6966   5.0  226.0   \n",
       "155   3.53501   0.0  19.58   1.0  0.8710  6.152  82.6  1.7455   5.0  403.0   \n",
       "175   0.06664   0.0   4.05   0.0  0.5100  6.546  33.1  3.1323   5.0  296.0   \n",
       "180   0.06588   0.0   2.46   0.0  0.4880  7.765  83.3  2.7410   3.0  193.0   \n",
       "190   0.09068  45.0   3.44   0.0  0.4370  6.951  21.5  6.4798   5.0  398.0   \n",
       "195   0.01381  80.0   0.46   0.0  0.4220  7.875  32.0  5.6484   4.0  255.0   \n",
       "220   0.35809   0.0   6.20   1.0  0.5070  6.951  88.5  2.8617   8.0  307.0   \n",
       "225   0.52693   0.0   6.20   0.0  0.5040  8.725  83.0  2.8944   8.0  307.0   \n",
       "280   0.03578  20.0   3.33   0.0  0.4429  7.820  64.5  4.6947   5.0  216.0   \n",
       "315   0.25356   0.0   9.90   0.0  0.5440  5.705  77.7  3.9450   4.0  304.0   \n",
       "440  22.05110   0.0  18.10   0.0  0.7400  5.818  92.4  1.8662  24.0  666.0   \n",
       "445  10.67180   0.0  18.10   0.0  0.7400  6.459  94.8  1.9879  24.0  666.0   \n",
       "50    0.08873  21.0   5.64   0.0  0.4390  5.963  45.7  6.8147   4.0  243.0   \n",
       "55    0.01311  90.0   1.22   0.0  0.4030  7.249  21.9  8.6966   5.0  226.0   \n",
       "155   3.53501   0.0  19.58   1.0  0.8710  6.152  82.6  1.7455   5.0  403.0   \n",
       "175   0.06664   0.0   4.05   0.0  0.5100  6.546  33.1  3.1323   5.0  296.0   \n",
       "180   0.06588   0.0   2.46   0.0  0.4880  7.765  83.3  2.7410   3.0  193.0   \n",
       "190   0.09068  45.0   3.44   0.0  0.4370  6.951  21.5  6.4798   5.0  398.0   \n",
       "195   0.01381  80.0   0.46   0.0  0.4220  7.875  32.0  5.6484   4.0  255.0   \n",
       "220   0.35809   0.0   6.20   1.0  0.5070  6.951  88.5  2.8617   8.0  307.0   \n",
       "225   0.52693   0.0   6.20   0.0  0.5040  8.725  83.0  2.8944   8.0  307.0   \n",
       "280   0.03578  20.0   3.33   0.0  0.4429  7.820  64.5  4.6947   5.0  216.0   \n",
       "315   0.25356   0.0   9.90   0.0  0.5440  5.705  77.7  3.9450   4.0  304.0   \n",
       "440  22.05110   0.0  18.10   0.0  0.7400  5.818  92.4  1.8662  24.0  666.0   \n",
       "445  10.67180   0.0  18.10   0.0  0.7400  6.459  94.8  1.9879  24.0  666.0   \n",
       "\n",
       "     PTRATIO       B  LSTAT  MEDV  highPriced  \n",
       "50      16.8  395.56  13.45  19.7       False  \n",
       "55      17.9  395.93   4.81  35.4        True  \n",
       "155     14.7   88.01  15.02  15.6       False  \n",
       "175     16.6  390.96   5.33  29.4       False  \n",
       "180     17.8  395.56   7.56  39.8        True  \n",
       "190     15.2  377.68   5.10  37.0        True  \n",
       "195     14.4  394.23   2.97  50.0        True  \n",
       "220     17.4  391.70   9.71  26.7       False  \n",
       "225     17.4  382.00   4.63  50.0        True  \n",
       "280     14.9  387.31   3.76  45.4        True  \n",
       "315     18.4  396.42  11.50  16.2       False  \n",
       "440     20.2  391.45  22.11  10.5       False  \n",
       "445     20.2   43.06  23.98  11.8       False  \n",
       "50      16.8  395.56  13.45  19.7        True  \n",
       "55      17.9  395.93   4.81  35.4       False  \n",
       "155     14.7   88.01  15.02  15.6        True  \n",
       "175     16.6  390.96   5.33  29.4        True  \n",
       "180     17.8  395.56   7.56  39.8       False  \n",
       "190     15.2  377.68   5.10  37.0       False  \n",
       "195     14.4  394.23   2.97  50.0       False  \n",
       "220     17.4  391.70   9.71  26.7        True  \n",
       "225     17.4  382.00   4.63  50.0       False  \n",
       "280     14.9  387.31   3.76  45.4       False  \n",
       "315     18.4  396.42  11.50  16.2        True  \n",
       "440     20.2  391.45  22.11  10.5        True  \n",
       "445     20.2   43.06  23.98  11.8        True  "
      ]
     },
     "execution_count": 60,
     "metadata": {},
     "output_type": "execute_result"
    }
   ],
   "source": [
    "# find the rows that are different\n",
    "diff=pd.concat([test,pred]).drop_duplicates(keep=False)\n",
    "print(diff.shape)\n",
    "diff"
   ]
  },
  {
   "cell_type": "markdown",
   "metadata": {},
   "source": [
    "## 12. use a 2-level decision tree to make predictions\n",
    "Re-train a 2-level decision tree (i.e. a tree with 4 leaf nodes) using the training dataset with only the RM and LSTAT variables as inputs."
   ]
  },
  {
   "cell_type": "code",
   "execution_count": 61,
   "metadata": {},
   "outputs": [
    {
     "name": "stdout",
     "output_type": "stream",
     "text": [
      "the accuracy score is  0.9705882352941176\n"
     ]
    }
   ],
   "source": [
    "traintree=train.loc[:,['RM','LSTAT']]\n",
    "model=clf.fit(traintree,train.highPriced)\n",
    "Xtest=test.loc[:,['RM','LSTAT']]\n",
    "ytest=test.highPriced\n",
    "ypred=model.predict(Xtest)\n",
    "print(\"the accuracy score is \",accuracy_score(ytest,ypred))"
   ]
  },
  {
   "cell_type": "markdown",
   "metadata": {},
   "source": [
    "Compared to the tree using the whole dataset, this tree firstly splits at a different value.On level 2, although the right side still splits at the same value of RM, the split point of the left differs greatly. "
   ]
  },
  {
   "cell_type": "code",
   "execution_count": 62,
   "metadata": {},
   "outputs": [
    {
     "data": {
      "text/plain": [
       "(102,)"
      ]
     },
     "execution_count": 62,
     "metadata": {},
     "output_type": "execute_result"
    }
   ],
   "source": [
    "ytest.shape"
   ]
  },
  {
   "cell_type": "code",
   "execution_count": 63,
   "metadata": {},
   "outputs": [
    {
     "name": "stdout",
     "output_type": "stream",
     "text": [
      "the accuracy score is  0.7941176470588235\n"
     ]
    }
   ],
   "source": [
    "pred=train.sample(102).highPriced\n",
    "print(\"the accuracy score is \",accuracy_score(ytest,pred))"
   ]
  },
  {
   "cell_type": "markdown",
   "metadata": {},
   "source": [
    "slightly better than the baseline"
   ]
  },
  {
   "cell_type": "markdown",
   "metadata": {},
   "source": [
    "# comparing to out-of-the-box classifiers\n",
    "##  13. Use sklearn’s DecisionTreeClassifier to recreate the decision tree that is trained on the training data."
   ]
  },
  {
   "cell_type": "code",
   "execution_count": 64,
   "metadata": {},
   "outputs": [
    {
     "name": "stdout",
     "output_type": "stream",
     "text": [
      "|--- RM <= 7.13\n",
      "|   |--- LSTAT <= 5.12\n",
      "|   |   |--- class: False\n",
      "|   |--- LSTAT >  5.12\n",
      "|   |   |--- class: False\n",
      "|--- RM >  7.13\n",
      "|   |--- RM <= 7.44\n",
      "|   |   |--- class: False\n",
      "|   |--- RM >  7.44\n",
      "|   |   |--- class: True\n",
      "\n"
     ]
    },
    {
     "data": {
      "image/png": "[encoded data removed]",
      "text/plain": [
       "<Figure size 432x288 with 1 Axes>"
      ]
     },
     "metadata": {
      "needs_background": "light"
     },
     "output_type": "display_data"
    }
   ],
   "source": [
    "X=train.drop(['MEDV','highPriced'],axis=1)\n",
    "y=train.highPriced.values\n",
    "tree3=clf.fit(X,y)\n",
    "tree.plot_tree(tree3.fit(X,y))\n",
    "r = export_text(tree3.fit(X,y),feature_names=('CRIM', 'ZN', 'INDUS', 'CHAS', 'NOX', 'RM', 'AGE', 'DIS', 'RAD', 'TAX',\n",
    "       'PTRATIO', 'B', 'LSTAT'))\n",
    "print(r)"
   ]
  },
  {
   "cell_type": "code",
   "execution_count": 65,
   "metadata": {},
   "outputs": [
    {
     "name": "stdout",
     "output_type": "stream",
     "text": [
      "the accuracy score is  0.9579207920792079\n",
      "              precision    recall  f1-score   support\n",
      "\n",
      "       False       0.96      1.00      0.98       363\n",
      "        True       0.96      0.61      0.75        41\n",
      "\n",
      "    accuracy                           0.96       404\n",
      "   macro avg       0.96      0.80      0.86       404\n",
      "weighted avg       0.96      0.96      0.95       404\n",
      "\n"
     ]
    }
   ],
   "source": [
    "predx=tree3.predict(X)\n",
    "print(\"the accuracy score is \",accuracy_score(train.highPriced,predx))\n",
    "print(classification_report(train.highPriced,predx))"
   ]
  },
  {
   "cell_type": "code",
   "execution_count": 66,
   "metadata": {},
   "outputs": [
    {
     "ename": "ValueError",
     "evalue": "No axis named 1 for object type <class 'pandas.core.series.Series'>",
     "output_type": "error",
     "traceback": [
      "\u001b[1;31m---------------------------------------------------------------------------\u001b[0m",
      "\u001b[1;31mValueError\u001b[0m                                Traceback (most recent call last)",
      "\u001b[1;32m<ipython-input-66-df13abfd89f7>\u001b[0m in \u001b[0;36m<module>\u001b[1;34m\u001b[0m\n\u001b[0;32m      1\u001b[0m \u001b[1;31m# pred in the baseline\u001b[0m\u001b[1;33m\u001b[0m\u001b[1;33m\u001b[0m\u001b[1;33m\u001b[0m\u001b[0m\n\u001b[1;32m----> 2\u001b[1;33m \u001b[0mX\u001b[0m\u001b[1;33m=\u001b[0m\u001b[0mpred\u001b[0m\u001b[1;33m.\u001b[0m\u001b[0mdrop\u001b[0m\u001b[1;33m(\u001b[0m\u001b[1;33m[\u001b[0m\u001b[1;34m'MEDV'\u001b[0m\u001b[1;33m,\u001b[0m\u001b[1;34m'highPriced'\u001b[0m\u001b[1;33m]\u001b[0m\u001b[1;33m,\u001b[0m\u001b[0maxis\u001b[0m\u001b[1;33m=\u001b[0m\u001b[1;36m1\u001b[0m\u001b[1;33m)\u001b[0m\u001b[1;33m\u001b[0m\u001b[1;33m\u001b[0m\u001b[0m\n\u001b[0m\u001b[0;32m      3\u001b[0m \u001b[0my\u001b[0m\u001b[1;33m=\u001b[0m\u001b[0mpred\u001b[0m\u001b[1;33m.\u001b[0m\u001b[0mhighPriced\u001b[0m\u001b[1;33m.\u001b[0m\u001b[0mvalues\u001b[0m\u001b[1;33m\u001b[0m\u001b[1;33m\u001b[0m\u001b[0m\n\u001b[0;32m      4\u001b[0m \u001b[0mtree\u001b[0m\u001b[1;33m.\u001b[0m\u001b[0mplot_tree\u001b[0m\u001b[1;33m(\u001b[0m\u001b[0mclf\u001b[0m\u001b[1;33m.\u001b[0m\u001b[0mfit\u001b[0m\u001b[1;33m(\u001b[0m\u001b[0mX\u001b[0m\u001b[1;33m,\u001b[0m\u001b[0my\u001b[0m\u001b[1;33m)\u001b[0m\u001b[1;33m)\u001b[0m\u001b[1;33m\u001b[0m\u001b[1;33m\u001b[0m\u001b[0m\n\u001b[0;32m      5\u001b[0m r = export_text(clf.fit(X,y),feature_names=('CRIM', 'ZN', 'INDUS', 'CHAS', 'NOX', 'RM', 'AGE', 'DIS', 'RAD', 'TAX',\n",
      "\u001b[1;32mC:\\ProgramData\\Anaconda3\\lib\\site-packages\\pandas\\core\\series.py\u001b[0m in \u001b[0;36mdrop\u001b[1;34m(self, labels, axis, index, columns, level, inplace, errors)\u001b[0m\n\u001b[0;32m   4137\u001b[0m             \u001b[0mlevel\u001b[0m\u001b[1;33m=\u001b[0m\u001b[0mlevel\u001b[0m\u001b[1;33m,\u001b[0m\u001b[1;33m\u001b[0m\u001b[1;33m\u001b[0m\u001b[0m\n\u001b[0;32m   4138\u001b[0m             \u001b[0minplace\u001b[0m\u001b[1;33m=\u001b[0m\u001b[0minplace\u001b[0m\u001b[1;33m,\u001b[0m\u001b[1;33m\u001b[0m\u001b[1;33m\u001b[0m\u001b[0m\n\u001b[1;32m-> 4139\u001b[1;33m             \u001b[0merrors\u001b[0m\u001b[1;33m=\u001b[0m\u001b[0merrors\u001b[0m\u001b[1;33m,\u001b[0m\u001b[1;33m\u001b[0m\u001b[1;33m\u001b[0m\u001b[0m\n\u001b[0m\u001b[0;32m   4140\u001b[0m         )\n\u001b[0;32m   4141\u001b[0m \u001b[1;33m\u001b[0m\u001b[0m\n",
      "\u001b[1;32mC:\\ProgramData\\Anaconda3\\lib\\site-packages\\pandas\\core\\generic.py\u001b[0m in \u001b[0;36mdrop\u001b[1;34m(self, labels, axis, index, columns, level, inplace, errors)\u001b[0m\n\u001b[0;32m   3921\u001b[0m             \u001b[1;32mif\u001b[0m \u001b[0mindex\u001b[0m \u001b[1;32mis\u001b[0m \u001b[1;32mnot\u001b[0m \u001b[1;32mNone\u001b[0m \u001b[1;32mor\u001b[0m \u001b[0mcolumns\u001b[0m \u001b[1;32mis\u001b[0m \u001b[1;32mnot\u001b[0m \u001b[1;32mNone\u001b[0m\u001b[1;33m:\u001b[0m\u001b[1;33m\u001b[0m\u001b[1;33m\u001b[0m\u001b[0m\n\u001b[0;32m   3922\u001b[0m                 \u001b[1;32mraise\u001b[0m \u001b[0mValueError\u001b[0m\u001b[1;33m(\u001b[0m\u001b[1;34m\"Cannot specify both 'labels' and 'index'/'columns'\"\u001b[0m\u001b[1;33m)\u001b[0m\u001b[1;33m\u001b[0m\u001b[1;33m\u001b[0m\u001b[0m\n\u001b[1;32m-> 3923\u001b[1;33m             \u001b[0maxis_name\u001b[0m \u001b[1;33m=\u001b[0m \u001b[0mself\u001b[0m\u001b[1;33m.\u001b[0m\u001b[0m_get_axis_name\u001b[0m\u001b[1;33m(\u001b[0m\u001b[0maxis\u001b[0m\u001b[1;33m)\u001b[0m\u001b[1;33m\u001b[0m\u001b[1;33m\u001b[0m\u001b[0m\n\u001b[0m\u001b[0;32m   3924\u001b[0m             \u001b[0maxes\u001b[0m \u001b[1;33m=\u001b[0m \u001b[1;33m{\u001b[0m\u001b[0maxis_name\u001b[0m\u001b[1;33m:\u001b[0m \u001b[0mlabels\u001b[0m\u001b[1;33m}\u001b[0m\u001b[1;33m\u001b[0m\u001b[1;33m\u001b[0m\u001b[0m\n\u001b[0;32m   3925\u001b[0m         \u001b[1;32melif\u001b[0m \u001b[0mindex\u001b[0m \u001b[1;32mis\u001b[0m \u001b[1;32mnot\u001b[0m \u001b[1;32mNone\u001b[0m \u001b[1;32mor\u001b[0m \u001b[0mcolumns\u001b[0m \u001b[1;32mis\u001b[0m \u001b[1;32mnot\u001b[0m \u001b[1;32mNone\u001b[0m\u001b[1;33m:\u001b[0m\u001b[1;33m\u001b[0m\u001b[1;33m\u001b[0m\u001b[0m\n",
      "\u001b[1;32mC:\\ProgramData\\Anaconda3\\lib\\site-packages\\pandas\\core\\generic.py\u001b[0m in \u001b[0;36m_get_axis_name\u001b[1;34m(cls, axis)\u001b[0m\n\u001b[0;32m    418\u001b[0m             \u001b[1;32mexcept\u001b[0m \u001b[0mKeyError\u001b[0m\u001b[1;33m:\u001b[0m\u001b[1;33m\u001b[0m\u001b[1;33m\u001b[0m\u001b[0m\n\u001b[0;32m    419\u001b[0m                 \u001b[1;32mpass\u001b[0m\u001b[1;33m\u001b[0m\u001b[1;33m\u001b[0m\u001b[0m\n\u001b[1;32m--> 420\u001b[1;33m         \u001b[1;32mraise\u001b[0m \u001b[0mValueError\u001b[0m\u001b[1;33m(\u001b[0m\u001b[1;34mf\"No axis named {axis} for object type {cls}\"\u001b[0m\u001b[1;33m)\u001b[0m\u001b[1;33m\u001b[0m\u001b[1;33m\u001b[0m\u001b[0m\n\u001b[0m\u001b[0;32m    421\u001b[0m \u001b[1;33m\u001b[0m\u001b[0m\n\u001b[0;32m    422\u001b[0m     \u001b[1;32mdef\u001b[0m \u001b[0m_get_axis\u001b[0m\u001b[1;33m(\u001b[0m\u001b[0mself\u001b[0m\u001b[1;33m,\u001b[0m \u001b[0maxis\u001b[0m\u001b[1;33m)\u001b[0m\u001b[1;33m:\u001b[0m\u001b[1;33m\u001b[0m\u001b[1;33m\u001b[0m\u001b[0m\n",
      "\u001b[1;31mValueError\u001b[0m: No axis named 1 for object type <class 'pandas.core.series.Series'>"
     ]
    }
   ],
   "source": [
    "# pred in the baseline\n",
    "X=pred.drop(['MEDV','highPriced'],axis=1)\n",
    "y=pred.highPriced.values\n",
    "tree.plot_tree(clf.fit(X,y))\n",
    "r = export_text(clf.fit(X,y),feature_names=('CRIM', 'ZN', 'INDUS', 'CHAS', 'NOX', 'RM', 'AGE', 'DIS', 'RAD', 'TAX',\n",
    "       'PTRATIO', 'B', 'LSTAT'))\n",
    "print(r)"
   ]
  },
  {
   "cell_type": "markdown",
   "metadata": {},
   "source": [
    "This classifier is almost the same with the train tree above and slightly different with the original one. The tree based on test and random sampling outputs is totally different from this one."
   ]
  },
  {
   "cell_type": "markdown",
   "metadata": {},
   "source": [
    "## 14. bagging classifier"
   ]
  },
  {
   "cell_type": "code",
   "execution_count": null,
   "metadata": {},
   "outputs": [],
   "source": [
    "from sklearn.ensemble import BaggingClassifier"
   ]
  },
  {
   "cell_type": "code",
   "execution_count": null,
   "metadata": {},
   "outputs": [],
   "source": [
    "bagclf=BaggingClassifier(base_estimator=clf)\n",
    "X=train.drop(['MEDV','highPriced'],axis=1)\n",
    "y=train.highPriced.values\n",
    "model=bagclf.fit(X,y)\n",
    "pred=model.predict(test.drop(['MEDV','highPriced'],axis=1))"
   ]
  },
  {
   "cell_type": "code",
   "execution_count": null,
   "metadata": {},
   "outputs": [],
   "source": [
    "print(\"the accuracy score is \",accuracy_score(test.highPriced,pred))\n",
    "print(classification_report(test.highPriced,pred))"
   ]
  },
  {
   "cell_type": "markdown",
   "metadata": {},
   "source": [
    "This bagging classifier is better than the decision tree."
   ]
  },
  {
   "cell_type": "markdown",
   "metadata": {},
   "source": [
    "## 15. RandomForestClassifier"
   ]
  },
  {
   "cell_type": "code",
   "execution_count": null,
   "metadata": {},
   "outputs": [],
   "source": [
    "from sklearn.ensemble import RandomForestClassifier"
   ]
  },
  {
   "cell_type": "code",
   "execution_count": null,
   "metadata": {},
   "outputs": [],
   "source": [
    "forestclf=RandomForestClassifier(n_estimators=1,criterion=\"entropy\",max_leaf_nodes=4)\n",
    "X=train.drop(['MEDV','highPriced'],axis=1)\n",
    "y=train.highPriced.values\n",
    "model=forestclf.fit(X,y)\n",
    "pred=model.predict(test.drop(['MEDV','highPriced'],axis=1))\n",
    "print(\"the accuracy score is \",accuracy_score(test.highPriced,pred))\n",
    "print(classification_report(test.highPriced,pred))"
   ]
  },
  {
   "cell_type": "markdown",
   "metadata": {},
   "source": [
    "The random forest classifier perform worse than the models above."
   ]
  }
 ],
 "metadata": {
  "kernelspec": {
   "display_name": "Python 3",
   "language": "python",
   "name": "python3"
  },
  "language_info": {
   "codemirror_mode": {
    "name": "ipython",
    "version": 3
   },
   "file_extension": ".py",
   "mimetype": "text/x-python",
   "name": "python",
   "nbconvert_exporter": "python",
   "pygments_lexer": "ipython3",
   "version": "3.8.3"
  },
  "toc": {
   "base_numbering": 1,
   "nav_menu": {},
   "number_sections": true,
   "sideBar": true,
   "skip_h1_title": false,
   "title_cell": "Table of Contents",
   "title_sidebar": "Contents",
   "toc_cell": false,
   "toc_position": {},
   "toc_section_display": true,
   "toc_window_display": false
  },
  "varInspector": {
   "cols": {
    "lenName": 16,
    "lenType": 16,
    "lenVar": 40
   },
   "kernels_config": {
    "python": {
     "delete_cmd_postfix": "",
     "delete_cmd_prefix": "del ",
     "library": "var_list.py",
     "varRefreshCmd": "print(var_dic_list())"
    },
    "r": {
     "delete_cmd_postfix": ") ",
     "delete_cmd_prefix": "rm(",
     "library": "var_list.r",
     "varRefreshCmd": "cat(var_dic_list()) "
    }
   },
   "types_to_exclude": [
    "module",
    "function",
    "builtin_function_or_method",
    "instance",
    "_Feature"
   ],
   "window_display": false
  }
 },
 "nbformat": 4,
 "nbformat_minor": 2
}
