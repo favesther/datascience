{
 "cells": [
  {
   "cell_type": "markdown",
   "metadata": {},
   "source": [
    "# Import Libraries"
   ]
  },
  {
   "cell_type": "code",
   "execution_count": 1,
   "metadata": {},
   "outputs": [],
   "source": [
    "import pandas as pd \n",
    "import numpy as np\n",
    "import random\n",
    "import matplotlib.pyplot as plt"
   ]
  },
  {
   "cell_type": "markdown",
   "metadata": {},
   "source": [
    "# Import Data"
   ]
  },
  {
   "cell_type": "code",
   "execution_count": 2,
   "metadata": {},
   "outputs": [],
   "source": [
    "# Import Data\n",
    "restaurant_all = pd.read_csv(r\"D:\\Tony\\Programming\\Datasets\\Yelp\\yelp_restaurant.csv\", encoding='utf-8')\n",
    "restaurant = pd.read_csv(r\"D:\\Tony\\Programming\\Datasets\\Yelp\\yelp_restaurant_2019.csv\", encoding='utf-8')\n",
    "reviews = pd.read_csv(r\"D:\\Tony\\Programming\\Datasets\\Yelp\\yelp_reviews_2018.csv\", encoding='utf-8')"
   ]
  },
  {
   "cell_type": "markdown",
   "metadata": {},
   "source": [
    "# Calculate Features"
   ]
  },
  {
   "cell_type": "markdown",
   "metadata": {},
   "source": [
    "### Transform continuous output to classes"
   ]
  },
  {
   "cell_type": "code",
   "execution_count": 3,
   "metadata": {
    "scrolled": true
   },
   "outputs": [
    {
     "name": "stdout",
     "output_type": "stream",
     "text": [
      "2.959556950917159 1.464816384890813 0.4882721282969379 -0.7434447729291692\n"
     ]
    }
   ],
   "source": [
    "# Create target labels\n",
    "ppl80 = restaurant['popularity'].quantile(q=0.8)\n",
    "ppl60 = restaurant['popularity'].quantile(q=0.6)\n",
    "ppl40 = restaurant['popularity'].quantile(q=0.4)\n",
    "ppl20 = restaurant['popularity'].quantile(q=0.2)\n",
    "\n",
    "print(ppl80, ppl60, ppl40, ppl20)\n",
    "\n",
    "conditions = [\n",
    "    (restaurant['popularity'] >= ppl80),\n",
    "    (restaurant['popularity'] < ppl80) & (restaurant['popularity'] >= ppl60),\n",
    "    (restaurant['popularity'] < ppl60) & (restaurant['popularity'] >= ppl40),\n",
    "    (restaurant['popularity'] < ppl40) & (restaurant['popularity'] >= ppl20),\n",
    "    (restaurant['popularity'] < ppl20)\n",
    "]\n",
    "\n",
    "choices = [5,4,3,2,1]\n",
    "\n",
    "restaurant['pop_label'] = np.select(condlist=conditions, choicelist=choices)"
   ]
  },
  {
   "cell_type": "code",
   "execution_count": 4,
   "metadata": {},
   "outputs": [
    {
     "data": {
      "text/plain": [
       "(array([4.000e+00, 1.400e+01, 5.400e+01, 2.010e+02, 4.900e+02, 9.920e+02,\n",
       "        2.357e+03, 2.826e+03, 4.343e+03, 5.565e+03, 3.866e+03, 2.780e+03,\n",
       "        1.859e+03, 1.160e+03, 6.480e+02, 3.440e+02, 1.200e+02, 4.300e+01,\n",
       "        1.000e+01, 7.000e+00]),\n",
       " array([-8.01874897, -7.06204014, -6.10533131, -5.14862248, -4.19191365,\n",
       "        -3.23520482, -2.27849599, -1.32178716, -0.36507833,  0.5916305 ,\n",
       "         1.54833933,  2.50504816,  3.46175699,  4.41846582,  5.37517465,\n",
       "         6.33188349,  7.28859232,  8.24530115,  9.20200998, 10.15871881,\n",
       "        11.11542764]),\n",
       " <a list of 20 Patch objects>)"
      ]
     },
     "execution_count": 4,
     "metadata": {},
     "output_type": "execute_result"
    },
    {
     "data": {
      "image/png": "[encoded data removed]",
      "text/plain": [
       "<Figure size 432x288 with 1 Axes>"
      ]
     },
     "metadata": {
      "needs_background": "light"
     },
     "output_type": "display_data"
    }
   ],
   "source": [
    "plt.hist(restaurant['popularity'], bins=20)"
   ]
  },
  {
   "cell_type": "code",
   "execution_count": 5,
   "metadata": {},
   "outputs": [
    {
     "data": {
      "text/plain": [
       "(5537, 5522, 5292, 5778, 5554)"
      ]
     },
     "execution_count": 5,
     "metadata": {},
     "output_type": "execute_result"
    }
   ],
   "source": [
    "len(restaurant[restaurant['pop_label'] == 1]), len(restaurant[restaurant['pop_label'] == 2]), \\\n",
    "len(restaurant[restaurant['pop_label'] == 3]), len(restaurant[restaurant['pop_label'] == 4]), \\\n",
    "len(restaurant[restaurant['pop_label'] == 5])"
   ]
  },
  {
   "cell_type": "markdown",
   "metadata": {},
   "source": [
    "### Calculate average city review counts"
   ]
  },
  {
   "cell_type": "code",
   "execution_count": 6,
   "metadata": {},
   "outputs": [
    {
     "data": {
      "text/plain": [
       "(27683, 27683)"
      ]
     },
     "execution_count": 6,
     "metadata": {},
     "output_type": "execute_result"
    }
   ],
   "source": [
    "# Join df\n",
    "res_join = pd.merge(restaurant, restaurant_all, how='inner', on=['business_id'])\n",
    "len(restaurant), len(res_join)"
   ]
  },
  {
   "cell_type": "code",
   "execution_count": 7,
   "metadata": {},
   "outputs": [],
   "source": [
    "# Calculate overall city review counts\n",
    "cities = res_join.groupby(['city', 'state']).agg({'count':'sum'})\n",
    "\n",
    "# Combine calculations with restaurant df\n",
    "res_join = pd.merge(res_join, cities, how='left', on=['city', 'state'])"
   ]
  },
  {
   "cell_type": "code",
   "execution_count": 8,
   "metadata": {
    "scrolled": false
   },
   "outputs": [
    {
     "data": {
      "text/plain": [
       "(27683, 19)"
      ]
     },
     "execution_count": 8,
     "metadata": {},
     "output_type": "execute_result"
    }
   ],
   "source": [
    "res_join.shape"
   ]
  },
  {
   "cell_type": "code",
   "execution_count": 9,
   "metadata": {},
   "outputs": [
    {
     "data": {
      "text/html": [
       "<div>\n",
       "<style scoped>\n",
       "    .dataframe tbody tr th:only-of-type {\n",
       "        vertical-align: middle;\n",
       "    }\n",
       "\n",
       "    .dataframe tbody tr th {\n",
       "        vertical-align: top;\n",
       "    }\n",
       "\n",
       "    .dataframe thead th {\n",
       "        text-align: right;\n",
       "    }\n",
       "</style>\n",
       "<table border=\"1\" class=\"dataframe\">\n",
       "  <thead>\n",
       "    <tr style=\"text-align: right;\">\n",
       "      <th></th>\n",
       "      <th>business_id</th>\n",
       "      <th>stars_x</th>\n",
       "      <th>count_x</th>\n",
       "      <th>popularity</th>\n",
       "      <th>pop_label</th>\n",
       "      <th>name</th>\n",
       "      <th>address</th>\n",
       "      <th>city</th>\n",
       "      <th>state</th>\n",
       "      <th>postal_code</th>\n",
       "      <th>latitude</th>\n",
       "      <th>longitude</th>\n",
       "      <th>stars_y</th>\n",
       "      <th>review_count</th>\n",
       "      <th>is_open</th>\n",
       "      <th>attributes</th>\n",
       "      <th>categories</th>\n",
       "      <th>hours</th>\n",
       "      <th>count_y</th>\n",
       "    </tr>\n",
       "  </thead>\n",
       "  <tbody>\n",
       "    <tr>\n",
       "      <td>0</td>\n",
       "      <td>--1UhMGODdWsrMastO9DZw</td>\n",
       "      <td>4.000000</td>\n",
       "      <td>3</td>\n",
       "      <td>1.098612</td>\n",
       "      <td>3</td>\n",
       "      <td>The Spicy Amigos</td>\n",
       "      <td>821 4 Avenue SW</td>\n",
       "      <td>Calgary</td>\n",
       "      <td>AB</td>\n",
       "      <td>T2P 0K5</td>\n",
       "      <td>51.049673</td>\n",
       "      <td>-114.079977</td>\n",
       "      <td>4.0</td>\n",
       "      <td>27</td>\n",
       "      <td>1</td>\n",
       "      <td>{'RestaurantsAttire': \"u'casual'\", 'GoodForMea...</td>\n",
       "      <td>Restaurants, Mexican</td>\n",
       "      <td>{'Monday': '11:0-20:0', 'Tuesday': '11:0-20:0'...</td>\n",
       "      <td>4905</td>\n",
       "    </tr>\n",
       "    <tr>\n",
       "      <td>1</td>\n",
       "      <td>--6MefnULPED_I942VcFNA</td>\n",
       "      <td>1.636364</td>\n",
       "      <td>11</td>\n",
       "      <td>-3.269857</td>\n",
       "      <td>1</td>\n",
       "      <td>John's Chinese BBQ Restaurant</td>\n",
       "      <td>328 Highway 7 E, Chalmers Gate 11, Unit 10</td>\n",
       "      <td>Richmond Hill</td>\n",
       "      <td>ON</td>\n",
       "      <td>L4B 3P7</td>\n",
       "      <td>43.841694</td>\n",
       "      <td>-79.399755</td>\n",
       "      <td>3.0</td>\n",
       "      <td>55</td>\n",
       "      <td>1</td>\n",
       "      <td>{'NoiseLevel': \"'average'\", 'RestaurantsPriceR...</td>\n",
       "      <td>Chinese, Restaurants</td>\n",
       "      <td>{'Monday': '11:0-22:30', 'Tuesday': '11:0-22:3...</td>\n",
       "      <td>2101</td>\n",
       "    </tr>\n",
       "    <tr>\n",
       "      <td>2</td>\n",
       "      <td>--9e1ONYQuAa-CB_Rrw7Tw</td>\n",
       "      <td>4.083333</td>\n",
       "      <td>132</td>\n",
       "      <td>5.289702</td>\n",
       "      <td>5</td>\n",
       "      <td>Delmonico Steakhouse</td>\n",
       "      <td>3355 Las Vegas Blvd S</td>\n",
       "      <td>Las Vegas</td>\n",
       "      <td>NV</td>\n",
       "      <td>89109</td>\n",
       "      <td>36.123183</td>\n",
       "      <td>-115.169190</td>\n",
       "      <td>4.0</td>\n",
       "      <td>1759</td>\n",
       "      <td>1</td>\n",
       "      <td>{'Alcohol': \"'full_bar'\", 'BusinessParking': \"...</td>\n",
       "      <td>Seafood, Cajun/Creole, Restaurants, Steakhouses</td>\n",
       "      <td>{'Monday': '17:0-22:0', 'Tuesday': '17:0-22:0'...</td>\n",
       "      <td>168192</td>\n",
       "    </tr>\n",
       "    <tr>\n",
       "      <td>3</td>\n",
       "      <td>--DaPTJW3-tB1vP-PfdTEg</td>\n",
       "      <td>4.333333</td>\n",
       "      <td>3</td>\n",
       "      <td>1.464816</td>\n",
       "      <td>4</td>\n",
       "      <td>Sunnyside Grill</td>\n",
       "      <td>1218 Saint Clair Avenue W</td>\n",
       "      <td>Toronto</td>\n",
       "      <td>ON</td>\n",
       "      <td>M6E</td>\n",
       "      <td>43.677807</td>\n",
       "      <td>-79.444674</td>\n",
       "      <td>4.0</td>\n",
       "      <td>51</td>\n",
       "      <td>1</td>\n",
       "      <td>{'RestaurantsReservations': 'False', 'NoiseLev...</td>\n",
       "      <td>Restaurants, Breakfast &amp; Brunch</td>\n",
       "      <td>{'Monday': '7:0-15:0', 'Tuesday': '7:0-15:0', ...</td>\n",
       "      <td>33883</td>\n",
       "    </tr>\n",
       "    <tr>\n",
       "      <td>4</td>\n",
       "      <td>--FBCX-N37CMYDfs790Bnw</td>\n",
       "      <td>3.782609</td>\n",
       "      <td>23</td>\n",
       "      <td>2.453865</td>\n",
       "      <td>4</td>\n",
       "      <td>The Bar At Bermuda &amp; St. Rose</td>\n",
       "      <td>11624 Bermuda Rd</td>\n",
       "      <td>Henderson</td>\n",
       "      <td>NV</td>\n",
       "      <td>89052</td>\n",
       "      <td>35.978679</td>\n",
       "      <td>-115.155057</td>\n",
       "      <td>4.0</td>\n",
       "      <td>166</td>\n",
       "      <td>1</td>\n",
       "      <td>{'RestaurantsGoodForGroups': 'True', 'Restaura...</td>\n",
       "      <td>American (New), Nightlife, Beer, Wine &amp; Spirit...</td>\n",
       "      <td>{'Monday': '0:0-0:0', 'Tuesday': '0:0-0:0', 'W...</td>\n",
       "      <td>17221</td>\n",
       "    </tr>\n",
       "  </tbody>\n",
       "</table>\n",
       "</div>"
      ],
      "text/plain": [
       "              business_id   stars_x  count_x  popularity  pop_label  \\\n",
       "0  --1UhMGODdWsrMastO9DZw  4.000000        3    1.098612          3   \n",
       "1  --6MefnULPED_I942VcFNA  1.636364       11   -3.269857          1   \n",
       "2  --9e1ONYQuAa-CB_Rrw7Tw  4.083333      132    5.289702          5   \n",
       "3  --DaPTJW3-tB1vP-PfdTEg  4.333333        3    1.464816          4   \n",
       "4  --FBCX-N37CMYDfs790Bnw  3.782609       23    2.453865          4   \n",
       "\n",
       "                            name                                     address  \\\n",
       "0               The Spicy Amigos                             821 4 Avenue SW   \n",
       "1  John's Chinese BBQ Restaurant  328 Highway 7 E, Chalmers Gate 11, Unit 10   \n",
       "2           Delmonico Steakhouse                       3355 Las Vegas Blvd S   \n",
       "3                Sunnyside Grill                   1218 Saint Clair Avenue W   \n",
       "4  The Bar At Bermuda & St. Rose                            11624 Bermuda Rd   \n",
       "\n",
       "            city state postal_code   latitude   longitude  stars_y  \\\n",
       "0        Calgary    AB     T2P 0K5  51.049673 -114.079977      4.0   \n",
       "1  Richmond Hill    ON     L4B 3P7  43.841694  -79.399755      3.0   \n",
       "2      Las Vegas    NV       89109  36.123183 -115.169190      4.0   \n",
       "3        Toronto    ON         M6E  43.677807  -79.444674      4.0   \n",
       "4      Henderson    NV       89052  35.978679 -115.155057      4.0   \n",
       "\n",
       "   review_count  is_open                                         attributes  \\\n",
       "0            27        1  {'RestaurantsAttire': \"u'casual'\", 'GoodForMea...   \n",
       "1            55        1  {'NoiseLevel': \"'average'\", 'RestaurantsPriceR...   \n",
       "2          1759        1  {'Alcohol': \"'full_bar'\", 'BusinessParking': \"...   \n",
       "3            51        1  {'RestaurantsReservations': 'False', 'NoiseLev...   \n",
       "4           166        1  {'RestaurantsGoodForGroups': 'True', 'Restaura...   \n",
       "\n",
       "                                          categories  \\\n",
       "0                               Restaurants, Mexican   \n",
       "1                               Chinese, Restaurants   \n",
       "2    Seafood, Cajun/Creole, Restaurants, Steakhouses   \n",
       "3                    Restaurants, Breakfast & Brunch   \n",
       "4  American (New), Nightlife, Beer, Wine & Spirit...   \n",
       "\n",
       "                                               hours  count_y  \n",
       "0  {'Monday': '11:0-20:0', 'Tuesday': '11:0-20:0'...     4905  \n",
       "1  {'Monday': '11:0-22:30', 'Tuesday': '11:0-22:3...     2101  \n",
       "2  {'Monday': '17:0-22:0', 'Tuesday': '17:0-22:0'...   168192  \n",
       "3  {'Monday': '7:0-15:0', 'Tuesday': '7:0-15:0', ...    33883  \n",
       "4  {'Monday': '0:0-0:0', 'Tuesday': '0:0-0:0', 'W...    17221  "
      ]
     },
     "execution_count": 9,
     "metadata": {},
     "output_type": "execute_result"
    }
   ],
   "source": [
    "res_join.head()"
   ]
  },
  {
   "cell_type": "markdown",
   "metadata": {},
   "source": [
    "# Combine Features to One Dataframe"
   ]
  },
  {
   "cell_type": "markdown",
   "metadata": {},
   "source": [
    "### Train test split"
   ]
  },
  {
   "cell_type": "code",
   "execution_count": 10,
   "metadata": {
    "scrolled": false
   },
   "outputs": [],
   "source": [
    "# Define list of restaurants\n",
    "list_of_restaurants = reviews['business_id'].unique()\n",
    "\n",
    "# Sample from list\n",
    "SAMPLE = random.sample(range(len(list_of_restaurants)), round(0.8*len(list_of_restaurants)))\n",
    "list_of_restaurants_train = list_of_restaurants[SAMPLE]\n",
    "list_of_restaurants_test = list(set(list_of_restaurants)-set(list_of_restaurants[SAMPLE]))\n",
    "feature_train = reviews[reviews['business_id'].isin(list_of_restaurants_train)].iloc[:,[0,1,2,3,4]]\n",
    "feature_test = reviews[reviews['business_id'].isin(list_of_restaurants_test)].iloc[:,[0,1,2,3,4]]"
   ]
  },
  {
   "cell_type": "code",
   "execution_count": 11,
   "metadata": {},
   "outputs": [
    {
     "data": {
      "text/plain": [
       "((539587, 5), (136549, 5))"
      ]
     },
     "execution_count": 11,
     "metadata": {},
     "output_type": "execute_result"
    }
   ],
   "source": [
    "feature_train.shape, feature_test.shape"
   ]
  },
  {
   "cell_type": "markdown",
   "metadata": {},
   "source": [
    "### Combine review features with restaurant features"
   ]
  },
  {
   "cell_type": "code",
   "execution_count": 12,
   "metadata": {
    "scrolled": true
   },
   "outputs": [],
   "source": [
    "feature_train = pd.merge(feature_train, res_join, how='left', on=['business_id']) \n",
    "feature_test = pd.merge(feature_test, res_join, how='left', on=['business_id'])"
   ]
  },
  {
   "cell_type": "markdown",
   "metadata": {},
   "source": [
    "### Select required columns"
   ]
  },
  {
   "cell_type": "code",
   "execution_count": 13,
   "metadata": {
    "scrolled": false
   },
   "outputs": [],
   "source": [
    "feature_train = feature_train.iloc[:,[0,1,2,3,4,5,6,7,8,-1]]\n",
    "feature_train.columns = ['business_id', 'user_id', 'rev_stars', 'like', 'text', \n",
    "                         'res_stars', 'res_count', 'pop', 'pop_label', 'city_count']\n",
    "feature_test = feature_test.iloc[:,[0,1,2,3,4,5,6,7,8,-1]]\n",
    "feature_test.columns = ['business_id', 'user_id', 'rev_stars', 'like', 'text', \n",
    "                        'res_stars', 'res_count', 'pop', 'pop_label', 'city_count']"
   ]
  },
  {
   "cell_type": "code",
   "execution_count": 14,
   "metadata": {},
   "outputs": [
    {
     "data": {
      "text/plain": [
       "((539587, 10), (136549, 10))"
      ]
     },
     "execution_count": 14,
     "metadata": {},
     "output_type": "execute_result"
    }
   ],
   "source": [
    "feature_train.shape, feature_test.shape"
   ]
  },
  {
   "cell_type": "markdown",
   "metadata": {},
   "source": [
    "### Remove NAs"
   ]
  },
  {
   "cell_type": "code",
   "execution_count": 15,
   "metadata": {
    "scrolled": true
   },
   "outputs": [
    {
     "data": {
      "text/plain": [
       "(526780, 10)"
      ]
     },
     "execution_count": 15,
     "metadata": {},
     "output_type": "execute_result"
    }
   ],
   "source": [
    "feature_train = feature_train.dropna().reset_index().drop(columns=['index'])\n",
    "feature_train.shape"
   ]
  },
  {
   "cell_type": "code",
   "execution_count": 16,
   "metadata": {
    "scrolled": true
   },
   "outputs": [
    {
     "data": {
      "text/plain": [
       "(133220, 10)"
      ]
     },
     "execution_count": 16,
     "metadata": {},
     "output_type": "execute_result"
    }
   ],
   "source": [
    "feature_test = feature_test.dropna().reset_index().drop(columns=['index'])\n",
    "feature_test.shape"
   ]
  },
  {
   "cell_type": "markdown",
   "metadata": {},
   "source": [
    "# Add Extra Features"
   ]
  },
  {
   "cell_type": "markdown",
   "metadata": {},
   "source": [
    "### Length of reviews"
   ]
  },
  {
   "cell_type": "code",
   "execution_count": 17,
   "metadata": {
    "scrolled": true
   },
   "outputs": [],
   "source": [
    "feature_train['text_len'] = feature_train['text'].str.split().str.len()\n",
    "feature_test['text_len'] = feature_test['text'].str.split().str.len()"
   ]
  },
  {
   "cell_type": "markdown",
   "metadata": {},
   "source": [
    "# Export Features"
   ]
  },
  {
   "cell_type": "code",
   "execution_count": 18,
   "metadata": {},
   "outputs": [],
   "source": [
    "feature_train.to_csv(r'D:\\Tony\\Programming\\Datasets\\Yelp\\yelp_feature_train.csv', index=False, encoding='utf-8')\n",
    "feature_test.to_csv(r'D:\\Tony\\Programming\\Datasets\\Yelp\\yelp_feature_test.csv', index=False, encoding='utf-8')"
   ]
  }
 ],
 "metadata": {
  "kernelspec": {
   "display_name": "Python 3",
   "language": "python",
   "name": "python3"
  },
  "language_info": {
   "codemirror_mode": {
    "name": "ipython",
    "version": 3
   },
   "file_extension": ".py",
   "mimetype": "text/x-python",
   "name": "python",
   "nbconvert_exporter": "python",
   "pygments_lexer": "ipython3",
   "version": "3.7.4"
  }
 },
 "nbformat": 4,
 "nbformat_minor": 2
}
