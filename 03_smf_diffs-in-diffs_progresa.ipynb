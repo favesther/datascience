{
 "cells": [
  {
   "cell_type": "code",
   "execution_count": 1,
   "metadata": {},
   "outputs": [],
   "source": [
    "import pandas as pd\n",
    "import numpy as np\n",
    "import scipy.stats as stats\n",
    "import statsmodels.formula.api as smf"
   ]
  },
  {
   "cell_type": "code",
   "execution_count": 2,
   "metadata": {},
   "outputs": [],
   "source": [
    "import os\n",
    "progresa_df=pd.read_csv(\"data/progresa-sample.csv.bz2\")"
   ]
  },
  {
   "cell_type": "markdown",
   "metadata": {},
   "source": [
    "each row corresponds to an observation taken for a given child for a given year.  \n",
    "**year** year in which data is collected  \n",
    "**sex** male = 1  \n",
    "**indig** indigenous = 1  \n",
    "**dist_sec** nearest distance to a secondary school  \n",
    "**sc** enrolled in school in year of survey (=1)  \n",
    "**grc** grade enrolled  \n",
    "**fam_n** family size  \n",
    "**min_dist** min distance to an urban center  \n",
    "**dist_cap** min distance to the capital  \n",
    "**poor** poor = \"pobre\", not poor = \"no pobre\"  \n",
    "**progresa** treatment = \"basal\", control = \"0\"  \n",
    "**hohedu** years of schooling of head of household  \n",
    "**hohwag** monthly wages of head of household  \n",
    "**welfare_index** welfare index used to classify poor  \n",
    "**hohsex** gender of head of household (male=1)  \n",
    "**hohage** age of head of household  \n",
    "**age** years old  \n",
    "**folnum** individual id  \n",
    "**village** village id  \n",
    "**sc97** enrolled in school in 1997 (=1)"
   ]
  },
  {
   "cell_type": "markdown",
   "metadata": {},
   "source": [
    "# Descriptive analysis\n",
    "## summary statistics\n",
    "1. Report summary statistics (mean, standard deviation, and number of missings) for all of the demographic variables in the dataset (i.e., everything except year, folnum, village). A central variable, progresa is coded in a rather unintuitive way. Find it's actual coding scheme. Does this fit with the documentation above?  \n",
    "Present these in a single table alphabetized by variable name. Do NOT simply expect the grader to scroll through your output!"
   ]
  },
  {
   "cell_type": "code",
   "execution_count": 3,
   "metadata": {
    "scrolled": true
   },
   "outputs": [
    {
     "data": {
      "text/plain": [
       "Index(['year', 'sex', 'indig', 'dist_sec', 'sc', 'grc', 'fam_n', 'min_dist',\n",
       "       'dist_cap', 'poor', 'progresa', 'hohedu', 'hohwag', 'welfare_index',\n",
       "       'hohsex', 'hohage', 'age', 'village', 'folnum', 'grc97', 'sc97'],\n",
       "      dtype='object')"
      ]
     },
     "execution_count": 3,
     "metadata": {},
     "output_type": "execute_result"
    }
   ],
   "source": [
    "progresa_df.columns"
   ]
  },
  {
   "cell_type": "code",
   "execution_count": 4,
   "metadata": {},
   "outputs": [],
   "source": [
    "progresa_df.progresa=progresa_df.progresa.replace('basal',1)"
   ]
  },
  {
   "cell_type": "code",
   "execution_count": 5,
   "metadata": {},
   "outputs": [],
   "source": [
    "df_progresa=pd.DataFrame(progresa_df,columns=['sex', 'indig', 'dist_sec', 'sc', 'grc', 'fam_n', 'min_dist',\n",
    "                                     'dist_cap', 'poor', 'progresa', 'hohedu', 'hohwag', 'welfare_index',\n",
    "                                     'hohsex', 'hohage', 'age', 'grc97', 'sc97'])"
   ]
  },
  {
   "cell_type": "code",
   "execution_count": 6,
   "metadata": {},
   "outputs": [
    {
     "data": {
      "text/plain": [
       "(77250, 21)"
      ]
     },
     "execution_count": 6,
     "metadata": {},
     "output_type": "execute_result"
    }
   ],
   "source": [
    "progresa_df.shape"
   ]
  },
  {
   "cell_type": "markdown",
   "metadata": {},
   "source": [
    "40,000 children who are surveyed in both year...then there should be 80,000 lines of data."
   ]
  },
  {
   "cell_type": "code",
   "execution_count": 7,
   "metadata": {},
   "outputs": [],
   "source": [
    "missing=df_progresa.isnull().sum()"
   ]
  },
  {
   "cell_type": "code",
   "execution_count": 8,
   "metadata": {},
   "outputs": [
    {
     "data": {
      "text/plain": [
       "sex                24\n",
       "indig             300\n",
       "dist_sec            0\n",
       "sc               8453\n",
       "grc              6549\n",
       "fam_n               0\n",
       "min_dist            0\n",
       "dist_cap            0\n",
       "poor                0\n",
       "progresa            0\n",
       "hohedu              0\n",
       "hohwag              0\n",
       "welfare_index     210\n",
       "hohsex             20\n",
       "hohage             10\n",
       "age                 0\n",
       "grc97               0\n",
       "sc97             3872\n",
       "dtype: int64"
      ]
     },
     "execution_count": 8,
     "metadata": {},
     "output_type": "execute_result"
    }
   ],
   "source": [
    "missing"
   ]
  },
  {
   "cell_type": "code",
   "execution_count": 9,
   "metadata": {},
   "outputs": [],
   "source": [
    "#sort the columns alphabetically\n",
    "df_progresa = df_progresa.reindex(sorted(df_progresa.columns), axis=1)\n",
    "#get the mean and std of the dataset\n",
    "df_progresa_explore=df_progresa.describe()\n",
    "#transpose the dataset and exclude other columns\n",
    "df_progresa_explore=pd.DataFrame(df_progresa_explore.T,columns=['mean','std'])"
   ]
  },
  {
   "cell_type": "code",
   "execution_count": 10,
   "metadata": {},
   "outputs": [
    {
     "data": {
      "text/html": [
       "<div>\n",
       "<style scoped>\n",
       "    .dataframe tbody tr th:only-of-type {\n",
       "        vertical-align: middle;\n",
       "    }\n",
       "\n",
       "    .dataframe tbody tr th {\n",
       "        vertical-align: top;\n",
       "    }\n",
       "\n",
       "    .dataframe thead th {\n",
       "        text-align: right;\n",
       "    }\n",
       "</style>\n",
       "<table border=\"1\" class=\"dataframe\">\n",
       "  <thead>\n",
       "    <tr style=\"text-align: right;\">\n",
       "      <th></th>\n",
       "      <th>mean</th>\n",
       "      <th>std</th>\n",
       "      <th>missing</th>\n",
       "    </tr>\n",
       "  </thead>\n",
       "  <tbody>\n",
       "    <tr>\n",
       "      <th>age</th>\n",
       "      <td>11.366460</td>\n",
       "      <td>3.167744</td>\n",
       "      <td>0</td>\n",
       "    </tr>\n",
       "    <tr>\n",
       "      <th>dist_cap</th>\n",
       "      <td>147.674452</td>\n",
       "      <td>76.063134</td>\n",
       "      <td>0</td>\n",
       "    </tr>\n",
       "    <tr>\n",
       "      <th>dist_sec</th>\n",
       "      <td>2.418910</td>\n",
       "      <td>2.234109</td>\n",
       "      <td>0</td>\n",
       "    </tr>\n",
       "    <tr>\n",
       "      <th>fam_n</th>\n",
       "      <td>7.215715</td>\n",
       "      <td>2.352900</td>\n",
       "      <td>0</td>\n",
       "    </tr>\n",
       "    <tr>\n",
       "      <th>grc</th>\n",
       "      <td>3.963537</td>\n",
       "      <td>2.499063</td>\n",
       "      <td>6549</td>\n",
       "    </tr>\n",
       "    <tr>\n",
       "      <th>grc97</th>\n",
       "      <td>3.705372</td>\n",
       "      <td>2.572387</td>\n",
       "      <td>0</td>\n",
       "    </tr>\n",
       "    <tr>\n",
       "      <th>hohage</th>\n",
       "      <td>44.436717</td>\n",
       "      <td>11.620372</td>\n",
       "      <td>10</td>\n",
       "    </tr>\n",
       "    <tr>\n",
       "      <th>hohedu</th>\n",
       "      <td>2.768104</td>\n",
       "      <td>2.656106</td>\n",
       "      <td>0</td>\n",
       "    </tr>\n",
       "    <tr>\n",
       "      <th>hohsex</th>\n",
       "      <td>0.925185</td>\n",
       "      <td>0.263095</td>\n",
       "      <td>20</td>\n",
       "    </tr>\n",
       "    <tr>\n",
       "      <th>hohwag</th>\n",
       "      <td>586.985312</td>\n",
       "      <td>788.133664</td>\n",
       "      <td>0</td>\n",
       "    </tr>\n",
       "    <tr>\n",
       "      <th>indig</th>\n",
       "      <td>0.298324</td>\n",
       "      <td>0.457525</td>\n",
       "      <td>300</td>\n",
       "    </tr>\n",
       "    <tr>\n",
       "      <th>min_dist</th>\n",
       "      <td>103.447520</td>\n",
       "      <td>42.089441</td>\n",
       "      <td>0</td>\n",
       "    </tr>\n",
       "    <tr>\n",
       "      <th>sc</th>\n",
       "      <td>0.819818</td>\n",
       "      <td>0.384342</td>\n",
       "      <td>8453</td>\n",
       "    </tr>\n",
       "    <tr>\n",
       "      <th>sc97</th>\n",
       "      <td>0.813922</td>\n",
       "      <td>0.389172</td>\n",
       "      <td>3872</td>\n",
       "    </tr>\n",
       "    <tr>\n",
       "      <th>sex</th>\n",
       "      <td>0.512211</td>\n",
       "      <td>0.499854</td>\n",
       "      <td>24</td>\n",
       "    </tr>\n",
       "    <tr>\n",
       "      <th>welfare_index</th>\n",
       "      <td>690.346564</td>\n",
       "      <td>139.491130</td>\n",
       "      <td>210</td>\n",
       "    </tr>\n",
       "  </tbody>\n",
       "</table>\n",
       "</div>"
      ],
      "text/plain": [
       "                     mean         std  missing\n",
       "age             11.366460    3.167744        0\n",
       "dist_cap       147.674452   76.063134        0\n",
       "dist_sec         2.418910    2.234109        0\n",
       "fam_n            7.215715    2.352900        0\n",
       "grc              3.963537    2.499063     6549\n",
       "grc97            3.705372    2.572387        0\n",
       "hohage          44.436717   11.620372       10\n",
       "hohedu           2.768104    2.656106        0\n",
       "hohsex           0.925185    0.263095       20\n",
       "hohwag         586.985312  788.133664        0\n",
       "indig            0.298324    0.457525      300\n",
       "min_dist       103.447520   42.089441        0\n",
       "sc               0.819818    0.384342     8453\n",
       "sc97             0.813922    0.389172     3872\n",
       "sex              0.512211    0.499854       24\n",
       "welfare_index  690.346564  139.491130      210"
      ]
     },
     "execution_count": 10,
     "metadata": {},
     "output_type": "execute_result"
    }
   ],
   "source": [
    "#add the missing summary column\n",
    "df_progresa_explore['missing']=missing\n",
    "df_progresa_explore"
   ]
  },
  {
   "cell_type": "markdown",
   "metadata": {},
   "source": [
    "## Differences at baseline?\n",
    "Now let's investigate the differences in baseline. Are the baseline (1997) demographic characteristics for the poor different in treatment and control villages?  \n",
    "1.2.1  Use t-test to determine whether there is a statistically significant difference in the average values of each of the variables in the dataset. Focus only on the data from 1997 for poor."
   ]
  },
  {
   "cell_type": "code",
   "execution_count": 11,
   "metadata": {},
   "outputs": [],
   "source": [
    "#filter\n",
    "df1997=progresa_df[(progresa_df.year==97) & (progresa_df.poor=='pobre')]"
   ]
  },
  {
   "cell_type": "code",
   "execution_count": 12,
   "metadata": {
    "scrolled": true
   },
   "outputs": [],
   "source": [
    "#drop unrelated columns\n",
    "df1997=df1997.drop(['year','folnum','village','poor'],axis=1)"
   ]
  },
  {
   "cell_type": "code",
   "execution_count": 13,
   "metadata": {
    "scrolled": true
   },
   "outputs": [],
   "source": [
    "#split into treatment and control datasets\n",
    "dfcontrol=df1997[df1997.progresa=='0'].drop(['progresa'],axis=1)\n",
    "dftreat=df1997[df1997.progresa==1].drop(['progresa'],axis=1)"
   ]
  },
  {
   "cell_type": "code",
   "execution_count": 14,
   "metadata": {},
   "outputs": [],
   "source": [
    "from scipy.stats import ttest_ind"
   ]
  },
  {
   "cell_type": "code",
   "execution_count": 15,
   "metadata": {},
   "outputs": [],
   "source": [
    "con_col=list(dfcontrol)\n",
    "#create a dictionary in order to create the dataframe\n",
    "dic={'Variable Name':[],'Variable Avg (Treatment villages)':[],'Avg (control)':[],'difference':[],'p-value':[]}\n",
    "for column in con_col:\n",
    "    dic['Variable Name'].append(column)\n",
    "    dic['Variable Avg (Treatment villages)'].append(round(dftreat[column].dropna().mean(), 5))\n",
    "    dic['Avg (control)'].append(round(dfcontrol[column].dropna().mean(), 5))\n",
    "for i in range(len(con_col)):\n",
    "    dic['difference'].append(\n",
    "        round((dic['Variable Avg (Treatment villages)'][i]\n",
    "               - dic['Avg (control)'][i]), 5))\n",
    "    dic['p-value'].append(stats.ttest_ind(dftreat[dic['Variable Name'][i]].dropna(), dfcontrol[dic['Variable Name'][i]].dropna())[1])"
   ]
  },
  {
   "cell_type": "markdown",
   "metadata": {},
   "source": [
    "Present your results in a single table with the following columns and 14 (or so) rows:\n",
    "Variable Avg (Treatment villages) Avg (control) difference p-value\n",
    "sex 0.5193 0.5051 0.0143 0.0122\n",
    ". . ."
   ]
  },
  {
   "cell_type": "code",
   "execution_count": 16,
   "metadata": {},
   "outputs": [
    {
     "data": {
      "text/html": [
       "<div>\n",
       "<style scoped>\n",
       "    .dataframe tbody tr th:only-of-type {\n",
       "        vertical-align: middle;\n",
       "    }\n",
       "\n",
       "    .dataframe tbody tr th {\n",
       "        vertical-align: top;\n",
       "    }\n",
       "\n",
       "    .dataframe thead th {\n",
       "        text-align: right;\n",
       "    }\n",
       "</style>\n",
       "<table border=\"1\" class=\"dataframe\">\n",
       "  <thead>\n",
       "    <tr style=\"text-align: right;\">\n",
       "      <th></th>\n",
       "      <th>Variable Name</th>\n",
       "      <th>Variable Avg (Treatment villages)</th>\n",
       "      <th>Avg (control)</th>\n",
       "      <th>difference</th>\n",
       "      <th>p-value</th>\n",
       "    </tr>\n",
       "  </thead>\n",
       "  <tbody>\n",
       "    <tr>\n",
       "      <th>0</th>\n",
       "      <td>sex</td>\n",
       "      <td>0.51932</td>\n",
       "      <td>0.50505</td>\n",
       "      <td>0.01427</td>\n",
       "      <td>1.219172e-02</td>\n",
       "    </tr>\n",
       "    <tr>\n",
       "      <th>1</th>\n",
       "      <td>indig</td>\n",
       "      <td>0.32599</td>\n",
       "      <td>0.33221</td>\n",
       "      <td>-0.00622</td>\n",
       "      <td>2.453603e-01</td>\n",
       "    </tr>\n",
       "    <tr>\n",
       "      <th>2</th>\n",
       "      <td>dist_sec</td>\n",
       "      <td>2.45312</td>\n",
       "      <td>2.50766</td>\n",
       "      <td>-0.05454</td>\n",
       "      <td>3.569843e-02</td>\n",
       "    </tr>\n",
       "    <tr>\n",
       "      <th>3</th>\n",
       "      <td>sc</td>\n",
       "      <td>0.82270</td>\n",
       "      <td>0.81519</td>\n",
       "      <td>0.00751</td>\n",
       "      <td>9.517806e-02</td>\n",
       "    </tr>\n",
       "    <tr>\n",
       "      <th>4</th>\n",
       "      <td>grc</td>\n",
       "      <td>3.53160</td>\n",
       "      <td>3.54305</td>\n",
       "      <td>-0.01145</td>\n",
       "      <td>6.890151e-01</td>\n",
       "    </tr>\n",
       "    <tr>\n",
       "      <th>5</th>\n",
       "      <td>fam_n</td>\n",
       "      <td>7.28133</td>\n",
       "      <td>7.30247</td>\n",
       "      <td>-0.02114</td>\n",
       "      <td>4.271039e-01</td>\n",
       "    </tr>\n",
       "    <tr>\n",
       "      <th>6</th>\n",
       "      <td>min_dist</td>\n",
       "      <td>107.15291</td>\n",
       "      <td>103.23785</td>\n",
       "      <td>3.91506</td>\n",
       "      <td>2.358312e-16</td>\n",
       "    </tr>\n",
       "    <tr>\n",
       "      <th>7</th>\n",
       "      <td>dist_cap</td>\n",
       "      <td>150.82907</td>\n",
       "      <td>153.76973</td>\n",
       "      <td>-2.94066</td>\n",
       "      <td>8.415005e-04</td>\n",
       "    </tr>\n",
       "    <tr>\n",
       "      <th>8</th>\n",
       "      <td>hohedu</td>\n",
       "      <td>2.66314</td>\n",
       "      <td>2.59035</td>\n",
       "      <td>0.07279</td>\n",
       "      <td>1.105093e-02</td>\n",
       "    </tr>\n",
       "    <tr>\n",
       "      <th>9</th>\n",
       "      <td>hohwag</td>\n",
       "      <td>544.33954</td>\n",
       "      <td>573.16356</td>\n",
       "      <td>-28.82402</td>\n",
       "      <td>3.253835e-04</td>\n",
       "    </tr>\n",
       "    <tr>\n",
       "      <th>10</th>\n",
       "      <td>welfare_index</td>\n",
       "      <td>655.42838</td>\n",
       "      <td>659.57910</td>\n",
       "      <td>-4.15072</td>\n",
       "      <td>1.431016e-03</td>\n",
       "    </tr>\n",
       "    <tr>\n",
       "      <th>11</th>\n",
       "      <td>hohsex</td>\n",
       "      <td>0.92466</td>\n",
       "      <td>0.92295</td>\n",
       "      <td>0.00171</td>\n",
       "      <td>5.711858e-01</td>\n",
       "    </tr>\n",
       "    <tr>\n",
       "      <th>12</th>\n",
       "      <td>hohage</td>\n",
       "      <td>43.64883</td>\n",
       "      <td>44.27692</td>\n",
       "      <td>-0.62809</td>\n",
       "      <td>1.796243e-06</td>\n",
       "    </tr>\n",
       "    <tr>\n",
       "      <th>13</th>\n",
       "      <td>age</td>\n",
       "      <td>10.71699</td>\n",
       "      <td>10.74202</td>\n",
       "      <td>-0.02503</td>\n",
       "      <td>4.785594e-01</td>\n",
       "    </tr>\n",
       "    <tr>\n",
       "      <th>14</th>\n",
       "      <td>grc97</td>\n",
       "      <td>3.53160</td>\n",
       "      <td>3.54305</td>\n",
       "      <td>-0.01145</td>\n",
       "      <td>6.890151e-01</td>\n",
       "    </tr>\n",
       "    <tr>\n",
       "      <th>15</th>\n",
       "      <td>sc97</td>\n",
       "      <td>0.82270</td>\n",
       "      <td>0.81519</td>\n",
       "      <td>0.00751</td>\n",
       "      <td>9.517806e-02</td>\n",
       "    </tr>\n",
       "  </tbody>\n",
       "</table>\n",
       "</div>"
      ],
      "text/plain": [
       "    Variable Name  Variable Avg (Treatment villages)  Avg (control)  \\\n",
       "0             sex                            0.51932        0.50505   \n",
       "1           indig                            0.32599        0.33221   \n",
       "2        dist_sec                            2.45312        2.50766   \n",
       "3              sc                            0.82270        0.81519   \n",
       "4             grc                            3.53160        3.54305   \n",
       "5           fam_n                            7.28133        7.30247   \n",
       "6        min_dist                          107.15291      103.23785   \n",
       "7        dist_cap                          150.82907      153.76973   \n",
       "8          hohedu                            2.66314        2.59035   \n",
       "9          hohwag                          544.33954      573.16356   \n",
       "10  welfare_index                          655.42838      659.57910   \n",
       "11         hohsex                            0.92466        0.92295   \n",
       "12         hohage                           43.64883       44.27692   \n",
       "13            age                           10.71699       10.74202   \n",
       "14          grc97                            3.53160        3.54305   \n",
       "15           sc97                            0.82270        0.81519   \n",
       "\n",
       "    difference       p-value  \n",
       "0      0.01427  1.219172e-02  \n",
       "1     -0.00622  2.453603e-01  \n",
       "2     -0.05454  3.569843e-02  \n",
       "3      0.00751  9.517806e-02  \n",
       "4     -0.01145  6.890151e-01  \n",
       "5     -0.02114  4.271039e-01  \n",
       "6      3.91506  2.358312e-16  \n",
       "7     -2.94066  8.415005e-04  \n",
       "8      0.07279  1.105093e-02  \n",
       "9    -28.82402  3.253835e-04  \n",
       "10    -4.15072  1.431016e-03  \n",
       "11     0.00171  5.711858e-01  \n",
       "12    -0.62809  1.796243e-06  \n",
       "13    -0.02503  4.785594e-01  \n",
       "14    -0.01145  6.890151e-01  \n",
       "15     0.00751  9.517806e-02  "
      ]
     },
     "execution_count": 16,
     "metadata": {},
     "output_type": "execute_result"
    }
   ],
   "source": [
    "df1997ttest = pd.DataFrame(dic, columns=['Variable Name','Variable Avg (Treatment villages)','Avg (control)','difference','p-value'])\n",
    "df1997ttest"
   ]
  },
  {
   "cell_type": "markdown",
   "metadata": {},
   "source": [
    "### Are there statistically significant differences between treatment and control villages as baseline?  "
   ]
  },
  {
   "cell_type": "code",
   "execution_count": 17,
   "metadata": {},
   "outputs": [
    {
     "data": {
      "text/html": [
       "<div>\n",
       "<style scoped>\n",
       "    .dataframe tbody tr th:only-of-type {\n",
       "        vertical-align: middle;\n",
       "    }\n",
       "\n",
       "    .dataframe tbody tr th {\n",
       "        vertical-align: top;\n",
       "    }\n",
       "\n",
       "    .dataframe thead th {\n",
       "        text-align: right;\n",
       "    }\n",
       "</style>\n",
       "<table border=\"1\" class=\"dataframe\">\n",
       "  <thead>\n",
       "    <tr style=\"text-align: right;\">\n",
       "      <th></th>\n",
       "      <th>Variable Name</th>\n",
       "      <th>Variable Avg (Treatment villages)</th>\n",
       "      <th>Avg (control)</th>\n",
       "      <th>difference</th>\n",
       "      <th>p-value</th>\n",
       "    </tr>\n",
       "  </thead>\n",
       "  <tbody>\n",
       "    <tr>\n",
       "      <th>0</th>\n",
       "      <td>sex</td>\n",
       "      <td>0.51932</td>\n",
       "      <td>0.50505</td>\n",
       "      <td>0.01427</td>\n",
       "      <td>1.219172e-02</td>\n",
       "    </tr>\n",
       "    <tr>\n",
       "      <th>2</th>\n",
       "      <td>dist_sec</td>\n",
       "      <td>2.45312</td>\n",
       "      <td>2.50766</td>\n",
       "      <td>-0.05454</td>\n",
       "      <td>3.569843e-02</td>\n",
       "    </tr>\n",
       "    <tr>\n",
       "      <th>6</th>\n",
       "      <td>min_dist</td>\n",
       "      <td>107.15291</td>\n",
       "      <td>103.23785</td>\n",
       "      <td>3.91506</td>\n",
       "      <td>2.358312e-16</td>\n",
       "    </tr>\n",
       "    <tr>\n",
       "      <th>7</th>\n",
       "      <td>dist_cap</td>\n",
       "      <td>150.82907</td>\n",
       "      <td>153.76973</td>\n",
       "      <td>-2.94066</td>\n",
       "      <td>8.415005e-04</td>\n",
       "    </tr>\n",
       "    <tr>\n",
       "      <th>8</th>\n",
       "      <td>hohedu</td>\n",
       "      <td>2.66314</td>\n",
       "      <td>2.59035</td>\n",
       "      <td>0.07279</td>\n",
       "      <td>1.105093e-02</td>\n",
       "    </tr>\n",
       "    <tr>\n",
       "      <th>9</th>\n",
       "      <td>hohwag</td>\n",
       "      <td>544.33954</td>\n",
       "      <td>573.16356</td>\n",
       "      <td>-28.82402</td>\n",
       "      <td>3.253835e-04</td>\n",
       "    </tr>\n",
       "    <tr>\n",
       "      <th>10</th>\n",
       "      <td>welfare_index</td>\n",
       "      <td>655.42838</td>\n",
       "      <td>659.57910</td>\n",
       "      <td>-4.15072</td>\n",
       "      <td>1.431016e-03</td>\n",
       "    </tr>\n",
       "    <tr>\n",
       "      <th>12</th>\n",
       "      <td>hohage</td>\n",
       "      <td>43.64883</td>\n",
       "      <td>44.27692</td>\n",
       "      <td>-0.62809</td>\n",
       "      <td>1.796243e-06</td>\n",
       "    </tr>\n",
       "  </tbody>\n",
       "</table>\n",
       "</div>"
      ],
      "text/plain": [
       "    Variable Name  Variable Avg (Treatment villages)  Avg (control)  \\\n",
       "0             sex                            0.51932        0.50505   \n",
       "2        dist_sec                            2.45312        2.50766   \n",
       "6        min_dist                          107.15291      103.23785   \n",
       "7        dist_cap                          150.82907      153.76973   \n",
       "8          hohedu                            2.66314        2.59035   \n",
       "9          hohwag                          544.33954      573.16356   \n",
       "10  welfare_index                          655.42838      659.57910   \n",
       "12         hohage                           43.64883       44.27692   \n",
       "\n",
       "    difference       p-value  \n",
       "0      0.01427  1.219172e-02  \n",
       "2     -0.05454  3.569843e-02  \n",
       "6      3.91506  2.358312e-16  \n",
       "7     -2.94066  8.415005e-04  \n",
       "8      0.07279  1.105093e-02  \n",
       "9    -28.82402  3.253835e-04  \n",
       "10    -4.15072  1.431016e-03  \n",
       "12    -0.62809  1.796243e-06  "
      ]
     },
     "execution_count": 17,
     "metadata": {},
     "output_type": "execute_result"
    }
   ],
   "source": [
    "#filter variables that has a p-value below 0.05\n",
    "df1997ttest[(df1997ttest['p-value']<0.05)]"
   ]
  },
  {
   "cell_type": "code",
   "execution_count": 18,
   "metadata": {},
   "outputs": [
    {
     "name": "stdout",
     "output_type": "stream",
     "text": [
      "0               sex\n",
      "2          dist_sec\n",
      "6          min_dist\n",
      "7          dist_cap\n",
      "8            hohedu\n",
      "9            hohwag\n",
      "10    welfare_index\n",
      "12           hohage\n",
      "Name: Variable Name, dtype: object\n",
      "Variables above show statistically significant differences between treatment and control villages as baseline.\n"
     ]
    }
   ],
   "source": [
    "print(df1997ttest[(df1997ttest['p-value']<0.05)]['Variable Name'])\n",
    "print('Variables above show statistically significant differences between treatment and control villages as baseline.')"
   ]
  },
  {
   "cell_type": "markdown",
   "metadata": {},
   "source": [
    "### Why does it matter if there are differences at baseline?\n",
    "Because if we want to do randomization in exploring the causal relationships between people and treatment, in this case if\n",
    "the two groups existed a difference at baseline, the differences shown after the treatment may not be valid, because we can\n",
    "not prove that the changes happend to the subjects are caused by the treatment directly.\n",
    "\n",
    "### What does this imply about how to measure the impact of the treatment?\n",
    "In this study, we want to measure the impact of the treatment by calculating the differences between two groups. So we\n",
    "may want to use other methods such as to remove the existing differences at baseline for those variable which were\n",
    "significant so as to measure the impact of treatment without bias."
   ]
  },
  {
   "cell_type": "markdown",
   "metadata": {},
   "source": [
    "# Measuring Impact\n",
    "Our goal is to estimate the causal impact of the Progresa program on the schooling outcomes of individuals\n",
    "in Mexico. We will focus on the impact of the program on the poor, since only the poor were eligible to\n",
    "receive the Progresa assistance.\n",
    "## Before-after estimator\n",
    "First, implement the before-after estimator. Compare the schooling rate of poor households in progresa\n",
    "villages before (i.e. 1997) and after (i.e. 1998) the program.\n",
    "1. compute the estimator by just comparing the average schooling rates for these villages."
   ]
  },
  {
   "cell_type": "code",
   "execution_count": 19,
   "metadata": {
    "scrolled": false
   },
   "outputs": [],
   "source": [
    "#implement the before-after estimator\n",
    "progresa_df['before'] = progresa_df.year ==97"
   ]
  },
  {
   "cell_type": "code",
   "execution_count": 20,
   "metadata": {},
   "outputs": [
    {
     "data": {
      "text/plain": [
       "before\n",
       "False    0.846479\n",
       "True     0.822697\n",
       "Name: sc, dtype: float64"
      ]
     },
     "execution_count": 20,
     "metadata": {},
     "output_type": "execute_result"
    }
   ],
   "source": [
    "# filter poor households in progresa villages \n",
    "df21=progresa_df[(progresa_df['poor']=='pobre') & (progresa_df['progresa']==1)]\n",
    "df21.groupby('before').sc.mean()"
   ]
  },
  {
   "cell_type": "markdown",
   "metadata": {},
   "source": [
    "2. now re-compute the estimator using linear regression, and individual schooling rates. Do not include other regressors.`"
   ]
  },
  {
   "cell_type": "code",
   "execution_count": 21,
   "metadata": {},
   "outputs": [
    {
     "data": {
      "text/html": [
       "<table class=\"simpletable\">\n",
       "<caption>OLS Regression Results</caption>\n",
       "<tr>\n",
       "  <th>Dep. Variable:</th>           <td>sc</td>        <th>  R-squared:         </th> <td>   0.001</td> \n",
       "</tr>\n",
       "<tr>\n",
       "  <th>Model:</th>                   <td>OLS</td>       <th>  Adj. R-squared:    </th> <td>   0.001</td> \n",
       "</tr>\n",
       "<tr>\n",
       "  <th>Method:</th>             <td>Least Squares</td>  <th>  F-statistic:       </th> <td>   36.84</td> \n",
       "</tr>\n",
       "<tr>\n",
       "  <th>Date:</th>             <td>Wed, 05 Feb 2020</td> <th>  Prob (F-statistic):</th> <td>1.30e-09</td> \n",
       "</tr>\n",
       "<tr>\n",
       "  <th>Time:</th>                 <td>14:23:34</td>     <th>  Log-Likelihood:    </th> <td> -15557.</td> \n",
       "</tr>\n",
       "<tr>\n",
       "  <th>No. Observations:</th>      <td> 36175</td>      <th>  AIC:               </th> <td>3.112e+04</td>\n",
       "</tr>\n",
       "<tr>\n",
       "  <th>Df Residuals:</th>          <td> 36173</td>      <th>  BIC:               </th> <td>3.113e+04</td>\n",
       "</tr>\n",
       "<tr>\n",
       "  <th>Df Model:</th>              <td>     1</td>      <th>                     </th>     <td> </td>    \n",
       "</tr>\n",
       "<tr>\n",
       "  <th>Covariance Type:</th>      <td>nonrobust</td>    <th>                     </th>     <td> </td>    \n",
       "</tr>\n",
       "</table>\n",
       "<table class=\"simpletable\">\n",
       "<tr>\n",
       "         <td></td>           <th>coef</th>     <th>std err</th>      <th>t</th>      <th>P>|t|</th>  <th>[0.025</th>    <th>0.975]</th>  \n",
       "</tr>\n",
       "<tr>\n",
       "  <th>Intercept</th>      <td>    0.8465</td> <td>    0.003</td> <td>  296.922</td> <td> 0.000</td> <td>    0.841</td> <td>    0.852</td>\n",
       "</tr>\n",
       "<tr>\n",
       "  <th>before[T.True]</th> <td>   -0.0238</td> <td>    0.004</td> <td>   -6.069</td> <td> 0.000</td> <td>   -0.031</td> <td>   -0.016</td>\n",
       "</tr>\n",
       "</table>\n",
       "<table class=\"simpletable\">\n",
       "<tr>\n",
       "  <th>Omnibus:</th>       <td>10294.733</td> <th>  Durbin-Watson:     </th> <td>   1.394</td> \n",
       "</tr>\n",
       "<tr>\n",
       "  <th>Prob(Omnibus):</th>  <td> 0.000</td>   <th>  Jarque-Bera (JB):  </th> <td>21582.139</td>\n",
       "</tr>\n",
       "<tr>\n",
       "  <th>Skew:</th>           <td>-1.791</td>   <th>  Prob(JB):          </th> <td>    0.00</td> \n",
       "</tr>\n",
       "<tr>\n",
       "  <th>Kurtosis:</th>       <td> 4.217</td>   <th>  Cond. No.          </th> <td>    2.69</td> \n",
       "</tr>\n",
       "</table><br/><br/>Warnings:<br/>[1] Standard Errors assume that the covariance matrix of the errors is correctly specified."
      ],
      "text/plain": [
       "<class 'statsmodels.iolib.summary.Summary'>\n",
       "\"\"\"\n",
       "                            OLS Regression Results                            \n",
       "==============================================================================\n",
       "Dep. Variable:                     sc   R-squared:                       0.001\n",
       "Model:                            OLS   Adj. R-squared:                  0.001\n",
       "Method:                 Least Squares   F-statistic:                     36.84\n",
       "Date:                Wed, 05 Feb 2020   Prob (F-statistic):           1.30e-09\n",
       "Time:                        14:23:34   Log-Likelihood:                -15557.\n",
       "No. Observations:               36175   AIC:                         3.112e+04\n",
       "Df Residuals:                   36173   BIC:                         3.113e+04\n",
       "Df Model:                           1                                         \n",
       "Covariance Type:            nonrobust                                         \n",
       "==================================================================================\n",
       "                     coef    std err          t      P>|t|      [0.025      0.975]\n",
       "----------------------------------------------------------------------------------\n",
       "Intercept          0.8465      0.003    296.922      0.000       0.841       0.852\n",
       "before[T.True]    -0.0238      0.004     -6.069      0.000      -0.031      -0.016\n",
       "==============================================================================\n",
       "Omnibus:                    10294.733   Durbin-Watson:                   1.394\n",
       "Prob(Omnibus):                  0.000   Jarque-Bera (JB):            21582.139\n",
       "Skew:                          -1.791   Prob(JB):                         0.00\n",
       "Kurtosis:                       4.217   Cond. No.                         2.69\n",
       "==============================================================================\n",
       "\n",
       "Warnings:\n",
       "[1] Standard Errors assume that the covariance matrix of the errors is correctly specified.\n",
       "\"\"\""
      ]
     },
     "execution_count": 21,
     "metadata": {},
     "output_type": "execute_result"
    }
   ],
   "source": [
    "m = smf.ols(formula = 'sc ~ before', data=df21)\n",
    "r = m.fit()\n",
    "r.summary()"
   ]
  },
  {
   "cell_type": "markdown",
   "metadata": {},
   "source": [
    "3. finally, estimate a multiple regression model that includes other covariates."
   ]
  },
  {
   "cell_type": "code",
   "execution_count": 22,
   "metadata": {
    "scrolled": false
   },
   "outputs": [
    {
     "data": {
      "text/html": [
       "<table class=\"simpletable\">\n",
       "<caption>OLS Regression Results</caption>\n",
       "<tr>\n",
       "  <th>Dep. Variable:</th>           <td>sc</td>        <th>  R-squared:         </th> <td>   0.298</td> \n",
       "</tr>\n",
       "<tr>\n",
       "  <th>Model:</th>                   <td>OLS</td>       <th>  Adj. R-squared:    </th> <td>   0.298</td> \n",
       "</tr>\n",
       "<tr>\n",
       "  <th>Method:</th>             <td>Least Squares</td>  <th>  F-statistic:       </th> <td>   1531.</td> \n",
       "</tr>\n",
       "<tr>\n",
       "  <th>Date:</th>             <td>Wed, 05 Feb 2020</td> <th>  Prob (F-statistic):</th>  <td>  0.00</td>  \n",
       "</tr>\n",
       "<tr>\n",
       "  <th>Time:</th>                 <td>14:23:34</td>     <th>  Log-Likelihood:    </th> <td> -9171.4</td> \n",
       "</tr>\n",
       "<tr>\n",
       "  <th>No. Observations:</th>      <td> 36119</td>      <th>  AIC:               </th> <td>1.836e+04</td>\n",
       "</tr>\n",
       "<tr>\n",
       "  <th>Df Residuals:</th>          <td> 36108</td>      <th>  BIC:               </th> <td>1.846e+04</td>\n",
       "</tr>\n",
       "<tr>\n",
       "  <th>Df Model:</th>              <td>    10</td>      <th>                     </th>     <td> </td>    \n",
       "</tr>\n",
       "<tr>\n",
       "  <th>Covariance Type:</th>      <td>nonrobust</td>    <th>                     </th>     <td> </td>    \n",
       "</tr>\n",
       "</table>\n",
       "<table class=\"simpletable\">\n",
       "<tr>\n",
       "         <td></td>           <th>coef</th>     <th>std err</th>      <th>t</th>      <th>P>|t|</th>  <th>[0.025</th>    <th>0.975]</th>  \n",
       "</tr>\n",
       "<tr>\n",
       "  <th>Intercept</th>      <td>    1.6275</td> <td>    0.013</td> <td>  125.790</td> <td> 0.000</td> <td>    1.602</td> <td>    1.653</td>\n",
       "</tr>\n",
       "<tr>\n",
       "  <th>before[T.True]</th> <td>   -0.0533</td> <td>    0.003</td> <td>  -16.124</td> <td> 0.000</td> <td>   -0.060</td> <td>   -0.047</td>\n",
       "</tr>\n",
       "<tr>\n",
       "  <th>sex</th>            <td>    0.0355</td> <td>    0.003</td> <td>   10.803</td> <td> 0.000</td> <td>    0.029</td> <td>    0.042</td>\n",
       "</tr>\n",
       "<tr>\n",
       "  <th>age</th>            <td>   -0.0946</td> <td>    0.001</td> <td>  -92.694</td> <td> 0.000</td> <td>   -0.097</td> <td>   -0.093</td>\n",
       "</tr>\n",
       "<tr>\n",
       "  <th>dist_sec</th>       <td>   -0.0062</td> <td>    0.001</td> <td>   -7.647</td> <td> 0.000</td> <td>   -0.008</td> <td>   -0.005</td>\n",
       "</tr>\n",
       "<tr>\n",
       "  <th>grc</th>            <td>    0.0468</td> <td>    0.001</td> <td>   36.837</td> <td> 0.000</td> <td>    0.044</td> <td>    0.049</td>\n",
       "</tr>\n",
       "<tr>\n",
       "  <th>fam_n</th>          <td>    0.0013</td> <td>    0.001</td> <td>    1.838</td> <td> 0.066</td> <td>-8.87e-05</td> <td>    0.003</td>\n",
       "</tr>\n",
       "<tr>\n",
       "  <th>min_dist</th>       <td>    0.0007</td> <td> 4.06e-05</td> <td>   16.823</td> <td> 0.000</td> <td>    0.001</td> <td>    0.001</td>\n",
       "</tr>\n",
       "<tr>\n",
       "  <th>hohedu</th>         <td>    0.0040</td> <td>    0.001</td> <td>    5.538</td> <td> 0.000</td> <td>    0.003</td> <td>    0.005</td>\n",
       "</tr>\n",
       "<tr>\n",
       "  <th>hohwag</th>         <td>-1.457e-06</td> <td> 2.39e-06</td> <td>   -0.611</td> <td> 0.542</td> <td>-6.14e-06</td> <td> 3.22e-06</td>\n",
       "</tr>\n",
       "<tr>\n",
       "  <th>hohage</th>         <td>   -0.0001</td> <td>    0.000</td> <td>   -0.763</td> <td> 0.446</td> <td>   -0.000</td> <td>    0.000</td>\n",
       "</tr>\n",
       "</table>\n",
       "<table class=\"simpletable\">\n",
       "<tr>\n",
       "  <th>Omnibus:</th>       <td>4384.335</td> <th>  Durbin-Watson:     </th> <td>   1.489</td>\n",
       "</tr>\n",
       "<tr>\n",
       "  <th>Prob(Omnibus):</th>  <td> 0.000</td>  <th>  Jarque-Bera (JB):  </th> <td>6169.829</td>\n",
       "</tr>\n",
       "<tr>\n",
       "  <th>Skew:</th>           <td>-0.961</td>  <th>  Prob(JB):          </th> <td>    0.00</td>\n",
       "</tr>\n",
       "<tr>\n",
       "  <th>Kurtosis:</th>       <td> 3.637</td>  <th>  Cond. No.          </th> <td>7.04e+03</td>\n",
       "</tr>\n",
       "</table><br/><br/>Warnings:<br/>[1] Standard Errors assume that the covariance matrix of the errors is correctly specified.<br/>[2] The condition number is large, 7.04e+03. This might indicate that there are<br/>strong multicollinearity or other numerical problems."
      ],
      "text/plain": [
       "<class 'statsmodels.iolib.summary.Summary'>\n",
       "\"\"\"\n",
       "                            OLS Regression Results                            \n",
       "==============================================================================\n",
       "Dep. Variable:                     sc   R-squared:                       0.298\n",
       "Model:                            OLS   Adj. R-squared:                  0.298\n",
       "Method:                 Least Squares   F-statistic:                     1531.\n",
       "Date:                Wed, 05 Feb 2020   Prob (F-statistic):               0.00\n",
       "Time:                        14:23:34   Log-Likelihood:                -9171.4\n",
       "No. Observations:               36119   AIC:                         1.836e+04\n",
       "Df Residuals:                   36108   BIC:                         1.846e+04\n",
       "Df Model:                          10                                         \n",
       "Covariance Type:            nonrobust                                         \n",
       "==================================================================================\n",
       "                     coef    std err          t      P>|t|      [0.025      0.975]\n",
       "----------------------------------------------------------------------------------\n",
       "Intercept          1.6275      0.013    125.790      0.000       1.602       1.653\n",
       "before[T.True]    -0.0533      0.003    -16.124      0.000      -0.060      -0.047\n",
       "sex                0.0355      0.003     10.803      0.000       0.029       0.042\n",
       "age               -0.0946      0.001    -92.694      0.000      -0.097      -0.093\n",
       "dist_sec          -0.0062      0.001     -7.647      0.000      -0.008      -0.005\n",
       "grc                0.0468      0.001     36.837      0.000       0.044       0.049\n",
       "fam_n              0.0013      0.001      1.838      0.066   -8.87e-05       0.003\n",
       "min_dist           0.0007   4.06e-05     16.823      0.000       0.001       0.001\n",
       "hohedu             0.0040      0.001      5.538      0.000       0.003       0.005\n",
       "hohwag         -1.457e-06   2.39e-06     -0.611      0.542   -6.14e-06    3.22e-06\n",
       "hohage            -0.0001      0.000     -0.763      0.446      -0.000       0.000\n",
       "==============================================================================\n",
       "Omnibus:                     4384.335   Durbin-Watson:                   1.489\n",
       "Prob(Omnibus):                  0.000   Jarque-Bera (JB):             6169.829\n",
       "Skew:                          -0.961   Prob(JB):                         0.00\n",
       "Kurtosis:                       3.637   Cond. No.                     7.04e+03\n",
       "==============================================================================\n",
       "\n",
       "Warnings:\n",
       "[1] Standard Errors assume that the covariance matrix of the errors is correctly specified.\n",
       "[2] The condition number is large, 7.04e+03. This might indicate that there are\n",
       "strong multicollinearity or other numerical problems.\n",
       "\"\"\""
      ]
     },
     "execution_count": 22,
     "metadata": {},
     "output_type": "execute_result"
    }
   ],
   "source": [
    "m = smf.ols(formula = 'sc ~ before + sex + age + dist_sec + grc + fam_n + min_dist + hohedu + hohwag+ hohage', data=df21)\n",
    "r = m.fit()\n",
    "r.summary()"
   ]
  },
  {
   "cell_type": "markdown",
   "metadata": {},
   "source": [
    "**4. compare all the estimators. Are your estimates statistically significant? What do they suggest about the efficacy of the progresa program?**  \n",
    "  The estimators are statistically significant except \"fam_n\", \"hohwag\" and \"hohage\". It seems that other estimators have some effect the before estimator.The schooling rate is 0.0533 lower in 1997 according to the before estimator. Male has 0.0355 higher schooling rate than female. Kids the one year older have 0.0946 lower schooling rate. Kids one grade higher have 0.0468 higher schooling rate. Other estimators have too little effect to mention."
   ]
  },
  {
   "cell_type": "markdown",
   "metadata": {},
   "source": [
    "## Cross-sectional estimator\n",
    "Now let's implement the cross-sectional estimator. Proceed along the same lines as what you did above.\n",
    "1. Begin by estimating the impact of Progresa by compring the average enrollment rate among poor households in the treatment villages and the average enrollment rate among poor households in the control villages. What do you find?\n"
   ]
  },
  {
   "cell_type": "code",
   "execution_count": 23,
   "metadata": {},
   "outputs": [
    {
     "data": {
      "text/plain": [
       "progresa\n",
       "1    0.846479\n",
       "0    0.807637\n",
       "Name: sc, dtype: float64"
      ]
     },
     "execution_count": 23,
     "metadata": {},
     "output_type": "execute_result"
    }
   ],
   "source": [
    "progresa_df[(progresa_df.before==False) & (progresa_df.poor=='pobre')].groupby('progresa').sc.mean()"
   ]
  },
  {
   "cell_type": "markdown",
   "metadata": {},
   "source": [
    "After Progresa, the average enrollment rate among poor households in the treatment villages is approximately 0.04 higher than the average enrollment rate among poor households in the control villages. "
   ]
  },
  {
   "cell_type": "markdown",
   "metadata": {},
   "source": [
    "2. Now repeat the estimator using simple regression."
   ]
  },
  {
   "cell_type": "code",
   "execution_count": 24,
   "metadata": {
    "scrolled": false
   },
   "outputs": [
    {
     "data": {
      "text/html": [
       "<table class=\"simpletable\">\n",
       "<caption>OLS Regression Results</caption>\n",
       "<tr>\n",
       "  <th>Dep. Variable:</th>           <td>sc</td>        <th>  R-squared:         </th> <td>   0.003</td> \n",
       "</tr>\n",
       "<tr>\n",
       "  <th>Model:</th>                   <td>OLS</td>       <th>  Adj. R-squared:    </th> <td>   0.003</td> \n",
       "</tr>\n",
       "<tr>\n",
       "  <th>Method:</th>             <td>Least Squares</td>  <th>  F-statistic:       </th> <td>   69.87</td> \n",
       "</tr>\n",
       "<tr>\n",
       "  <th>Date:</th>             <td>Wed, 05 Feb 2020</td> <th>  Prob (F-statistic):</th> <td>6.64e-17</td> \n",
       "</tr>\n",
       "<tr>\n",
       "  <th>Time:</th>                 <td>14:23:34</td>     <th>  Log-Likelihood:    </th> <td> -11926.</td> \n",
       "</tr>\n",
       "<tr>\n",
       "  <th>No. Observations:</th>      <td> 27450</td>      <th>  AIC:               </th> <td>2.386e+04</td>\n",
       "</tr>\n",
       "<tr>\n",
       "  <th>Df Residuals:</th>          <td> 27448</td>      <th>  BIC:               </th> <td>2.387e+04</td>\n",
       "</tr>\n",
       "<tr>\n",
       "  <th>Df Model:</th>              <td>     1</td>      <th>                     </th>     <td> </td>    \n",
       "</tr>\n",
       "<tr>\n",
       "  <th>Covariance Type:</th>      <td>nonrobust</td>    <th>                     </th>     <td> </td>    \n",
       "</tr>\n",
       "</table>\n",
       "<table class=\"simpletable\">\n",
       "<tr>\n",
       "        <td></td>           <th>coef</th>     <th>std err</th>      <th>t</th>      <th>P>|t|</th>  <th>[0.025</th>    <th>0.975]</th>  \n",
       "</tr>\n",
       "<tr>\n",
       "  <th>Intercept</th>     <td>    0.8465</td> <td>    0.003</td> <td>  295.616</td> <td> 0.000</td> <td>    0.841</td> <td>    0.852</td>\n",
       "</tr>\n",
       "<tr>\n",
       "  <th>progresa[T.0]</th> <td>   -0.0388</td> <td>    0.005</td> <td>   -8.359</td> <td> 0.000</td> <td>   -0.048</td> <td>   -0.030</td>\n",
       "</tr>\n",
       "</table>\n",
       "<table class=\"simpletable\">\n",
       "<tr>\n",
       "  <th>Omnibus:</th>       <td>7638.939</td> <th>  Durbin-Watson:     </th> <td>   1.734</td> \n",
       "</tr>\n",
       "<tr>\n",
       "  <th>Prob(Omnibus):</th>  <td> 0.000</td>  <th>  Jarque-Bera (JB):  </th> <td>15767.534</td>\n",
       "</tr>\n",
       "<tr>\n",
       "  <th>Skew:</th>           <td>-1.767</td>  <th>  Prob(JB):          </th> <td>    0.00</td> \n",
       "</tr>\n",
       "<tr>\n",
       "  <th>Kurtosis:</th>       <td> 4.140</td>  <th>  Cond. No.          </th> <td>    2.43</td> \n",
       "</tr>\n",
       "</table><br/><br/>Warnings:<br/>[1] Standard Errors assume that the covariance matrix of the errors is correctly specified."
      ],
      "text/plain": [
       "<class 'statsmodels.iolib.summary.Summary'>\n",
       "\"\"\"\n",
       "                            OLS Regression Results                            \n",
       "==============================================================================\n",
       "Dep. Variable:                     sc   R-squared:                       0.003\n",
       "Model:                            OLS   Adj. R-squared:                  0.003\n",
       "Method:                 Least Squares   F-statistic:                     69.87\n",
       "Date:                Wed, 05 Feb 2020   Prob (F-statistic):           6.64e-17\n",
       "Time:                        14:23:34   Log-Likelihood:                -11926.\n",
       "No. Observations:               27450   AIC:                         2.386e+04\n",
       "Df Residuals:                   27448   BIC:                         2.387e+04\n",
       "Df Model:                           1                                         \n",
       "Covariance Type:            nonrobust                                         \n",
       "=================================================================================\n",
       "                    coef    std err          t      P>|t|      [0.025      0.975]\n",
       "---------------------------------------------------------------------------------\n",
       "Intercept         0.8465      0.003    295.616      0.000       0.841       0.852\n",
       "progresa[T.0]    -0.0388      0.005     -8.359      0.000      -0.048      -0.030\n",
       "==============================================================================\n",
       "Omnibus:                     7638.939   Durbin-Watson:                   1.734\n",
       "Prob(Omnibus):                  0.000   Jarque-Bera (JB):            15767.534\n",
       "Skew:                          -1.767   Prob(JB):                         0.00\n",
       "Kurtosis:                       4.140   Cond. No.                         2.43\n",
       "==============================================================================\n",
       "\n",
       "Warnings:\n",
       "[1] Standard Errors assume that the covariance matrix of the errors is correctly specified.\n",
       "\"\"\""
      ]
     },
     "execution_count": 24,
     "metadata": {},
     "output_type": "execute_result"
    }
   ],
   "source": [
    "m = smf.ols(formula = 'sc ~ progresa', data=progresa_df[(progresa_df.before==False) & (progresa_df.poor=='pobre')])\n",
    "r = m.fit()\n",
    "r.summary()"
   ]
  },
  {
   "cell_type": "markdown",
   "metadata": {},
   "source": [
    "**After Progresa, the enrollment rate among poor households in the treatment villages is 0.0388 higher than that among poor households in the control villiages.**"
   ]
  },
  {
   "cell_type": "markdown",
   "metadata": {},
   "source": [
    "3. Third, use multiple regression to get the same estimate.\n",
    "4. Finally, as above, compare your three estimators. What do you find? Are the effects statistically significant?"
   ]
  },
  {
   "cell_type": "code",
   "execution_count": 25,
   "metadata": {},
   "outputs": [
    {
     "data": {
      "text/html": [
       "<table class=\"simpletable\">\n",
       "<caption>OLS Regression Results</caption>\n",
       "<tr>\n",
       "  <th>Dep. Variable:</th>           <td>sc</td>        <th>  R-squared:         </th> <td>   0.256</td> \n",
       "</tr>\n",
       "<tr>\n",
       "  <th>Model:</th>                   <td>OLS</td>       <th>  Adj. R-squared:    </th> <td>   0.255</td> \n",
       "</tr>\n",
       "<tr>\n",
       "  <th>Method:</th>             <td>Least Squares</td>  <th>  F-statistic:       </th> <td>   3140.</td> \n",
       "</tr>\n",
       "<tr>\n",
       "  <th>Date:</th>             <td>Wed, 05 Feb 2020</td> <th>  Prob (F-statistic):</th>  <td>  0.00</td>  \n",
       "</tr>\n",
       "<tr>\n",
       "  <th>Time:</th>                 <td>14:23:35</td>     <th>  Log-Likelihood:    </th> <td> -7906.3</td> \n",
       "</tr>\n",
       "<tr>\n",
       "  <th>No. Observations:</th>      <td> 27440</td>      <th>  AIC:               </th> <td>1.582e+04</td>\n",
       "</tr>\n",
       "<tr>\n",
       "  <th>Df Residuals:</th>          <td> 27436</td>      <th>  BIC:               </th> <td>1.585e+04</td>\n",
       "</tr>\n",
       "<tr>\n",
       "  <th>Df Model:</th>              <td>     3</td>      <th>                     </th>     <td> </td>    \n",
       "</tr>\n",
       "<tr>\n",
       "  <th>Covariance Type:</th>      <td>nonrobust</td>    <th>                     </th>     <td> </td>    \n",
       "</tr>\n",
       "</table>\n",
       "<table class=\"simpletable\">\n",
       "<tr>\n",
       "        <td></td>           <th>coef</th>     <th>std err</th>      <th>t</th>      <th>P>|t|</th>  <th>[0.025</th>    <th>0.975]</th>  \n",
       "</tr>\n",
       "<tr>\n",
       "  <th>Intercept</th>     <td>    1.5743</td> <td>    0.008</td> <td>  189.094</td> <td> 0.000</td> <td>    1.558</td> <td>    1.591</td>\n",
       "</tr>\n",
       "<tr>\n",
       "  <th>progresa[T.0]</th> <td>   -0.0361</td> <td>    0.004</td> <td>   -8.978</td> <td> 0.000</td> <td>   -0.044</td> <td>   -0.028</td>\n",
       "</tr>\n",
       "<tr>\n",
       "  <th>age</th>           <td>   -0.0660</td> <td>    0.001</td> <td>  -96.359</td> <td> 0.000</td> <td>   -0.067</td> <td>   -0.065</td>\n",
       "</tr>\n",
       "<tr>\n",
       "  <th>sex</th>           <td>    0.0309</td> <td>    0.004</td> <td>    7.929</td> <td> 0.000</td> <td>    0.023</td> <td>    0.039</td>\n",
       "</tr>\n",
       "</table>\n",
       "<table class=\"simpletable\">\n",
       "<tr>\n",
       "  <th>Omnibus:</th>       <td>3162.379</td> <th>  Durbin-Watson:     </th> <td>   1.691</td>\n",
       "</tr>\n",
       "<tr>\n",
       "  <th>Prob(Omnibus):</th>  <td> 0.000</td>  <th>  Jarque-Bera (JB):  </th> <td>4373.914</td>\n",
       "</tr>\n",
       "<tr>\n",
       "  <th>Skew:</th>           <td>-0.967</td>  <th>  Prob(JB):          </th> <td>    0.00</td>\n",
       "</tr>\n",
       "<tr>\n",
       "  <th>Kurtosis:</th>       <td> 3.292</td>  <th>  Cond. No.          </th> <td>    50.7</td>\n",
       "</tr>\n",
       "</table><br/><br/>Warnings:<br/>[1] Standard Errors assume that the covariance matrix of the errors is correctly specified."
      ],
      "text/plain": [
       "<class 'statsmodels.iolib.summary.Summary'>\n",
       "\"\"\"\n",
       "                            OLS Regression Results                            \n",
       "==============================================================================\n",
       "Dep. Variable:                     sc   R-squared:                       0.256\n",
       "Model:                            OLS   Adj. R-squared:                  0.255\n",
       "Method:                 Least Squares   F-statistic:                     3140.\n",
       "Date:                Wed, 05 Feb 2020   Prob (F-statistic):               0.00\n",
       "Time:                        14:23:35   Log-Likelihood:                -7906.3\n",
       "No. Observations:               27440   AIC:                         1.582e+04\n",
       "Df Residuals:                   27436   BIC:                         1.585e+04\n",
       "Df Model:                           3                                         \n",
       "Covariance Type:            nonrobust                                         \n",
       "=================================================================================\n",
       "                    coef    std err          t      P>|t|      [0.025      0.975]\n",
       "---------------------------------------------------------------------------------\n",
       "Intercept         1.5743      0.008    189.094      0.000       1.558       1.591\n",
       "progresa[T.0]    -0.0361      0.004     -8.978      0.000      -0.044      -0.028\n",
       "age              -0.0660      0.001    -96.359      0.000      -0.067      -0.065\n",
       "sex               0.0309      0.004      7.929      0.000       0.023       0.039\n",
       "==============================================================================\n",
       "Omnibus:                     3162.379   Durbin-Watson:                   1.691\n",
       "Prob(Omnibus):                  0.000   Jarque-Bera (JB):             4373.914\n",
       "Skew:                          -0.967   Prob(JB):                         0.00\n",
       "Kurtosis:                       3.292   Cond. No.                         50.7\n",
       "==============================================================================\n",
       "\n",
       "Warnings:\n",
       "[1] Standard Errors assume that the covariance matrix of the errors is correctly specified.\n",
       "\"\"\""
      ]
     },
     "execution_count": 25,
     "metadata": {},
     "output_type": "execute_result"
    }
   ],
   "source": [
    "m = smf.ols(formula = 'sc ~ progresa+age+sex', data=progresa_df[(progresa_df.before==False) & (progresa_df.poor=='pobre')])\n",
    "r = m.fit()\n",
    "r.summary()"
   ]
  },
  {
   "cell_type": "markdown",
   "metadata": {},
   "source": [
    "**The estimators are statistically significant. Other estimators have little effect on the before-after estimator. Kids one year older are 0.066 less enrolled in school. Male kids are 0.0309 more likely to get enrolled in school.**"
   ]
  },
  {
   "cell_type": "markdown",
   "metadata": {},
   "source": [
    "## Differences-in-differences estimator\n",
    "Now we are ready for DiD estimator. Proceed along the same lines as above.\n",
    "1. Start with the simple table. However, DiD requires 4-way comparison. So compare the average enrollment rate among poor households in the treatment villages and the average enrollment rate among poor households in the control villages, both 1997 and 1998. What do you find?"
   ]
  },
  {
   "cell_type": "code",
   "execution_count": 26,
   "metadata": {},
   "outputs": [
    {
     "data": {
      "text/plain": [
       "progresa  before\n",
       "1         False     0.846479\n",
       "          True      0.822697\n",
       "0         False     0.807637\n",
       "          True      0.815186\n",
       "Name: sc, dtype: float64"
      ]
     },
     "execution_count": 26,
     "metadata": {},
     "output_type": "execute_result"
    }
   ],
   "source": [
    "progresa_df[progresa_df.poor=='pobre'].groupby(['progresa','before']).sc.mean()"
   ]
  },
  {
   "cell_type": "markdown",
   "metadata": {},
   "source": [
    "In the treatment villages, the schooling rate is approximately 0.03 higher after the Progresa. While the situation in the control villages is opposite to that in the treatment villages."
   ]
  },
  {
   "cell_type": "markdown",
   "metadata": {},
   "source": [
    "2. Now repeat the estimator using simple regression."
   ]
  },
  {
   "cell_type": "code",
   "execution_count": 27,
   "metadata": {},
   "outputs": [
    {
     "data": {
      "text/html": [
       "<table class=\"simpletable\">\n",
       "<caption>OLS Regression Results</caption>\n",
       "<tr>\n",
       "  <th>Dep. Variable:</th>           <td>sc</td>        <th>  R-squared:         </th> <td>   0.001</td> \n",
       "</tr>\n",
       "<tr>\n",
       "  <th>Model:</th>                   <td>OLS</td>       <th>  Adj. R-squared:    </th> <td>   0.001</td> \n",
       "</tr>\n",
       "<tr>\n",
       "  <th>Method:</th>             <td>Least Squares</td>  <th>  F-statistic:       </th> <td>   28.31</td> \n",
       "</tr>\n",
       "<tr>\n",
       "  <th>Date:</th>             <td>Wed, 05 Feb 2020</td> <th>  Prob (F-statistic):</th> <td>2.76e-18</td> \n",
       "</tr>\n",
       "<tr>\n",
       "  <th>Time:</th>                 <td>14:23:35</td>     <th>  Log-Likelihood:    </th> <td> -26242.</td> \n",
       "</tr>\n",
       "<tr>\n",
       "  <th>No. Observations:</th>      <td> 58372</td>      <th>  AIC:               </th> <td>5.249e+04</td>\n",
       "</tr>\n",
       "<tr>\n",
       "  <th>Df Residuals:</th>          <td> 58368</td>      <th>  BIC:               </th> <td>5.253e+04</td>\n",
       "</tr>\n",
       "<tr>\n",
       "  <th>Df Model:</th>              <td>     3</td>      <th>                     </th>     <td> </td>    \n",
       "</tr>\n",
       "<tr>\n",
       "  <th>Covariance Type:</th>      <td>nonrobust</td>    <th>                     </th>     <td> </td>    \n",
       "</tr>\n",
       "</table>\n",
       "<table class=\"simpletable\">\n",
       "<tr>\n",
       "                <td></td>                  <th>coef</th>     <th>std err</th>      <th>t</th>      <th>P>|t|</th>  <th>[0.025</th>    <th>0.975]</th>  \n",
       "</tr>\n",
       "<tr>\n",
       "  <th>Intercept</th>                    <td>    0.8465</td> <td>    0.003</td> <td>  291.180</td> <td> 0.000</td> <td>    0.841</td> <td>    0.852</td>\n",
       "</tr>\n",
       "<tr>\n",
       "  <th>before[T.True]</th>               <td>   -0.0238</td> <td>    0.004</td> <td>   -5.952</td> <td> 0.000</td> <td>   -0.032</td> <td>   -0.016</td>\n",
       "</tr>\n",
       "<tr>\n",
       "  <th>progresa[T.0]</th>                <td>   -0.0388</td> <td>    0.005</td> <td>   -8.233</td> <td> 0.000</td> <td>   -0.048</td> <td>   -0.030</td>\n",
       "</tr>\n",
       "<tr>\n",
       "  <th>before[T.True]:progresa[T.0]</th> <td>    0.0313</td> <td>    0.006</td> <td>    4.835</td> <td> 0.000</td> <td>    0.019</td> <td>    0.044</td>\n",
       "</tr>\n",
       "</table>\n",
       "<table class=\"simpletable\">\n",
       "<tr>\n",
       "  <th>Omnibus:</th>       <td>15346.988</td> <th>  Durbin-Watson:     </th> <td>   1.397</td> \n",
       "</tr>\n",
       "<tr>\n",
       "  <th>Prob(Omnibus):</th>  <td> 0.000</td>   <th>  Jarque-Bera (JB):  </th> <td>30608.651</td>\n",
       "</tr>\n",
       "<tr>\n",
       "  <th>Skew:</th>           <td>-1.711</td>   <th>  Prob(JB):          </th> <td>    0.00</td> \n",
       "</tr>\n",
       "<tr>\n",
       "  <th>Kurtosis:</th>       <td> 3.937</td>   <th>  Cond. No.          </th> <td>    6.55</td> \n",
       "</tr>\n",
       "</table><br/><br/>Warnings:<br/>[1] Standard Errors assume that the covariance matrix of the errors is correctly specified."
      ],
      "text/plain": [
       "<class 'statsmodels.iolib.summary.Summary'>\n",
       "\"\"\"\n",
       "                            OLS Regression Results                            \n",
       "==============================================================================\n",
       "Dep. Variable:                     sc   R-squared:                       0.001\n",
       "Model:                            OLS   Adj. R-squared:                  0.001\n",
       "Method:                 Least Squares   F-statistic:                     28.31\n",
       "Date:                Wed, 05 Feb 2020   Prob (F-statistic):           2.76e-18\n",
       "Time:                        14:23:35   Log-Likelihood:                -26242.\n",
       "No. Observations:               58372   AIC:                         5.249e+04\n",
       "Df Residuals:                   58368   BIC:                         5.253e+04\n",
       "Df Model:                           3                                         \n",
       "Covariance Type:            nonrobust                                         \n",
       "================================================================================================\n",
       "                                   coef    std err          t      P>|t|      [0.025      0.975]\n",
       "------------------------------------------------------------------------------------------------\n",
       "Intercept                        0.8465      0.003    291.180      0.000       0.841       0.852\n",
       "before[T.True]                  -0.0238      0.004     -5.952      0.000      -0.032      -0.016\n",
       "progresa[T.0]                   -0.0388      0.005     -8.233      0.000      -0.048      -0.030\n",
       "before[T.True]:progresa[T.0]     0.0313      0.006      4.835      0.000       0.019       0.044\n",
       "==============================================================================\n",
       "Omnibus:                    15346.988   Durbin-Watson:                   1.397\n",
       "Prob(Omnibus):                  0.000   Jarque-Bera (JB):            30608.651\n",
       "Skew:                          -1.711   Prob(JB):                         0.00\n",
       "Kurtosis:                       3.937   Cond. No.                         6.55\n",
       "==============================================================================\n",
       "\n",
       "Warnings:\n",
       "[1] Standard Errors assume that the covariance matrix of the errors is correctly specified.\n",
       "\"\"\""
      ]
     },
     "execution_count": 27,
     "metadata": {},
     "output_type": "execute_result"
    }
   ],
   "source": [
    "m=smf.ols(formula='sc~before*progresa',data=progresa_df[progresa_df.poor=='pobre'])\n",
    "r=m.fit()\n",
    "r.summary()"
   ]
  },
  {
   "cell_type": "markdown",
   "metadata": {},
   "source": [
    "3. And as above, use multiple regression to get the same estimate.\n",
    "4. Finally, as above, compare your three estimators. What do you find? Are the effects statistically significant?"
   ]
  },
  {
   "cell_type": "code",
   "execution_count": 28,
   "metadata": {
    "scrolled": false
   },
   "outputs": [
    {
     "data": {
      "text/html": [
       "<table class=\"simpletable\">\n",
       "<caption>OLS Regression Results</caption>\n",
       "<tr>\n",
       "  <th>Dep. Variable:</th>           <td>sc</td>        <th>  R-squared:         </th> <td>   0.308</td> \n",
       "</tr>\n",
       "<tr>\n",
       "  <th>Model:</th>                   <td>OLS</td>       <th>  Adj. R-squared:    </th> <td>   0.308</td> \n",
       "</tr>\n",
       "<tr>\n",
       "  <th>Method:</th>             <td>Least Squares</td>  <th>  F-statistic:       </th> <td>   2160.</td> \n",
       "</tr>\n",
       "<tr>\n",
       "  <th>Date:</th>             <td>Wed, 05 Feb 2020</td> <th>  Prob (F-statistic):</th>  <td>  0.00</td>  \n",
       "</tr>\n",
       "<tr>\n",
       "  <th>Time:</th>                 <td>14:23:36</td>     <th>  Log-Likelihood:    </th> <td> -15524.</td> \n",
       "</tr>\n",
       "<tr>\n",
       "  <th>No. Observations:</th>      <td> 58284</td>      <th>  AIC:               </th> <td>3.107e+04</td>\n",
       "</tr>\n",
       "<tr>\n",
       "  <th>Df Residuals:</th>          <td> 58271</td>      <th>  BIC:               </th> <td>3.119e+04</td>\n",
       "</tr>\n",
       "<tr>\n",
       "  <th>Df Model:</th>              <td>    12</td>      <th>                     </th>     <td> </td>    \n",
       "</tr>\n",
       "<tr>\n",
       "  <th>Covariance Type:</th>      <td>nonrobust</td>    <th>                     </th>     <td> </td>    \n",
       "</tr>\n",
       "</table>\n",
       "<table class=\"simpletable\">\n",
       "<tr>\n",
       "                <td></td>                  <th>coef</th>     <th>std err</th>      <th>t</th>      <th>P>|t|</th>  <th>[0.025</th>    <th>0.975]</th>  \n",
       "</tr>\n",
       "<tr>\n",
       "  <th>Intercept</th>                    <td>    1.6609</td> <td>    0.010</td> <td>  160.676</td> <td> 0.000</td> <td>    1.641</td> <td>    1.681</td>\n",
       "</tr>\n",
       "<tr>\n",
       "  <th>before[T.True]</th>               <td>   -0.0545</td> <td>    0.003</td> <td>  -16.330</td> <td> 0.000</td> <td>   -0.061</td> <td>   -0.048</td>\n",
       "</tr>\n",
       "<tr>\n",
       "  <th>progresa[T.0]</th>                <td>   -0.0308</td> <td>    0.004</td> <td>   -7.817</td> <td> 0.000</td> <td>   -0.039</td> <td>   -0.023</td>\n",
       "</tr>\n",
       "<tr>\n",
       "  <th>before[T.True]:progresa[T.0]</th> <td>    0.0298</td> <td>    0.005</td> <td>    5.526</td> <td> 0.000</td> <td>    0.019</td> <td>    0.040</td>\n",
       "</tr>\n",
       "<tr>\n",
       "  <th>sex</th>                          <td>    0.0365</td> <td>    0.003</td> <td>   13.918</td> <td> 0.000</td> <td>    0.031</td> <td>    0.042</td>\n",
       "</tr>\n",
       "<tr>\n",
       "  <th>age</th>                          <td>   -0.0977</td> <td>    0.001</td> <td> -120.447</td> <td> 0.000</td> <td>   -0.099</td> <td>   -0.096</td>\n",
       "</tr>\n",
       "<tr>\n",
       "  <th>dist_sec</th>                     <td>   -0.0066</td> <td>    0.001</td> <td>  -10.771</td> <td> 0.000</td> <td>   -0.008</td> <td>   -0.005</td>\n",
       "</tr>\n",
       "<tr>\n",
       "  <th>grc</th>                          <td>    0.0477</td> <td>    0.001</td> <td>   47.357</td> <td> 0.000</td> <td>    0.046</td> <td>    0.050</td>\n",
       "</tr>\n",
       "<tr>\n",
       "  <th>fam_n</th>                        <td>    0.0009</td> <td>    0.001</td> <td>    1.645</td> <td> 0.100</td> <td>   -0.000</td> <td>    0.002</td>\n",
       "</tr>\n",
       "<tr>\n",
       "  <th>min_dist</th>                     <td>    0.0007</td> <td> 3.15e-05</td> <td>   21.382</td> <td> 0.000</td> <td>    0.001</td> <td>    0.001</td>\n",
       "</tr>\n",
       "<tr>\n",
       "  <th>hohedu</th>                       <td>    0.0041</td> <td>    0.001</td> <td>    7.096</td> <td> 0.000</td> <td>    0.003</td> <td>    0.005</td>\n",
       "</tr>\n",
       "<tr>\n",
       "  <th>hohwag</th>                       <td>-2.569e-06</td> <td> 1.88e-06</td> <td>   -1.365</td> <td> 0.172</td> <td>-6.26e-06</td> <td> 1.12e-06</td>\n",
       "</tr>\n",
       "<tr>\n",
       "  <th>hohage</th>                       <td>-7.148e-05</td> <td>    0.000</td> <td>   -0.559</td> <td> 0.576</td> <td>   -0.000</td> <td>    0.000</td>\n",
       "</tr>\n",
       "</table>\n",
       "<table class=\"simpletable\">\n",
       "<tr>\n",
       "  <th>Omnibus:</th>       <td>6098.655</td> <th>  Durbin-Watson:     </th> <td>   1.508</td>\n",
       "</tr>\n",
       "<tr>\n",
       "  <th>Prob(Omnibus):</th>  <td> 0.000</td>  <th>  Jarque-Bera (JB):  </th> <td>8186.317</td>\n",
       "</tr>\n",
       "<tr>\n",
       "  <th>Skew:</th>           <td>-0.887</td>  <th>  Prob(JB):          </th> <td>    0.00</td>\n",
       "</tr>\n",
       "<tr>\n",
       "  <th>Kurtosis:</th>       <td> 3.475</td>  <th>  Cond. No.          </th> <td>7.22e+03</td>\n",
       "</tr>\n",
       "</table><br/><br/>Warnings:<br/>[1] Standard Errors assume that the covariance matrix of the errors is correctly specified.<br/>[2] The condition number is large, 7.22e+03. This might indicate that there are<br/>strong multicollinearity or other numerical problems."
      ],
      "text/plain": [
       "<class 'statsmodels.iolib.summary.Summary'>\n",
       "\"\"\"\n",
       "                            OLS Regression Results                            \n",
       "==============================================================================\n",
       "Dep. Variable:                     sc   R-squared:                       0.308\n",
       "Model:                            OLS   Adj. R-squared:                  0.308\n",
       "Method:                 Least Squares   F-statistic:                     2160.\n",
       "Date:                Wed, 05 Feb 2020   Prob (F-statistic):               0.00\n",
       "Time:                        14:23:36   Log-Likelihood:                -15524.\n",
       "No. Observations:               58284   AIC:                         3.107e+04\n",
       "Df Residuals:                   58271   BIC:                         3.119e+04\n",
       "Df Model:                          12                                         \n",
       "Covariance Type:            nonrobust                                         \n",
       "================================================================================================\n",
       "                                   coef    std err          t      P>|t|      [0.025      0.975]\n",
       "------------------------------------------------------------------------------------------------\n",
       "Intercept                        1.6609      0.010    160.676      0.000       1.641       1.681\n",
       "before[T.True]                  -0.0545      0.003    -16.330      0.000      -0.061      -0.048\n",
       "progresa[T.0]                   -0.0308      0.004     -7.817      0.000      -0.039      -0.023\n",
       "before[T.True]:progresa[T.0]     0.0298      0.005      5.526      0.000       0.019       0.040\n",
       "sex                              0.0365      0.003     13.918      0.000       0.031       0.042\n",
       "age                             -0.0977      0.001   -120.447      0.000      -0.099      -0.096\n",
       "dist_sec                        -0.0066      0.001    -10.771      0.000      -0.008      -0.005\n",
       "grc                              0.0477      0.001     47.357      0.000       0.046       0.050\n",
       "fam_n                            0.0009      0.001      1.645      0.100      -0.000       0.002\n",
       "min_dist                         0.0007   3.15e-05     21.382      0.000       0.001       0.001\n",
       "hohedu                           0.0041      0.001      7.096      0.000       0.003       0.005\n",
       "hohwag                       -2.569e-06   1.88e-06     -1.365      0.172   -6.26e-06    1.12e-06\n",
       "hohage                       -7.148e-05      0.000     -0.559      0.576      -0.000       0.000\n",
       "==============================================================================\n",
       "Omnibus:                     6098.655   Durbin-Watson:                   1.508\n",
       "Prob(Omnibus):                  0.000   Jarque-Bera (JB):             8186.317\n",
       "Skew:                          -0.887   Prob(JB):                         0.00\n",
       "Kurtosis:                       3.475   Cond. No.                     7.22e+03\n",
       "==============================================================================\n",
       "\n",
       "Warnings:\n",
       "[1] Standard Errors assume that the covariance matrix of the errors is correctly specified.\n",
       "[2] The condition number is large, 7.22e+03. This might indicate that there are\n",
       "strong multicollinearity or other numerical problems.\n",
       "\"\"\""
      ]
     },
     "execution_count": 28,
     "metadata": {},
     "output_type": "execute_result"
    }
   ],
   "source": [
    "m=smf.ols(formula='sc~before*progresa + sex + age +dist_sec + grc + fam_n + min_dist + hohedu + hohwag+ hohage',data=progresa_df[progresa_df.poor=='pobre'])\n",
    "r=m.fit()\n",
    "r.summary()"
   ]
  },
  {
   "cell_type": "markdown",
   "metadata": {},
   "source": [
    "The estimators are statistically significant except \"fam_n\", \"hohwag\" and \"hohage\". Holding other variables the same, the schooling rate in the treatment villages increased by 0.0298 after the Progresa. Male is more possible to get enrolled in school. Older children have less chance to get enrolled in school.Higher grade kids are more possible to continue education."
   ]
  },
  {
   "cell_type": "markdown",
   "metadata": {},
   "source": [
    "## Compare the estimators\n",
    "Now you have used three estimators to assess the effect of Progresa program.\n",
    "1. List the identifying assumptions (counterfactual assumptions) behind all three models. Which ones do you find more/less plausible?\n",
    "If there is no progresa treatment, the average enrollment rate of the poor households and non-poor households would be the same.\n",
    "If there is no pregresa treatment, the average enrollment rate remain the same over the years regardless of society development.\n",
    "The latter is more plausible just in two years.  \n",
    "    \n",
    "    \n",
    "2. Compare the estimates of all three models. Do your analysis suggest that progresa program had a positive impact on schooling rates?\n",
    "All the models suggest that Progresa program had a positive impact on schooling rate in the poor families in the treatment villages. But the enrollment rate dropped in the control village after the program. "
   ]
  }
 ],
 "metadata": {
  "kernelspec": {
   "display_name": "Python 3",
   "language": "python",
   "name": "python3"
  },
  "language_info": {
   "codemirror_mode": {
    "name": "ipython",
    "version": 3
   },
   "file_extension": ".py",
   "mimetype": "text/x-python",
   "name": "python",
   "nbconvert_exporter": "python",
   "pygments_lexer": "ipython3",
   "version": "3.8.3"
  },
  "toc": {
   "base_numbering": 1,
   "nav_menu": {},
   "number_sections": true,
   "sideBar": true,
   "skip_h1_title": false,
   "title_cell": "Table of Contents",
   "title_sidebar": "Contents",
   "toc_cell": false,
   "toc_position": {
    "height": "calc(100% - 180px)",
    "left": "10px",
    "top": "150px",
    "width": "300.797px"
   },
   "toc_section_display": true,
   "toc_window_display": true
  },
  "varInspector": {
   "cols": {
    "lenName": 16,
    "lenType": 16,
    "lenVar": 40
   },
   "kernels_config": {
    "python": {
     "delete_cmd_postfix": "",
     "delete_cmd_prefix": "del ",
     "library": "var_list.py",
     "varRefreshCmd": "print(var_dic_list())"
    },
    "r": {
     "delete_cmd_postfix": ") ",
     "delete_cmd_prefix": "rm(",
     "library": "var_list.r",
     "varRefreshCmd": "cat(var_dic_list()) "
    }
   },
   "types_to_exclude": [
    "module",
    "function",
    "builtin_function_or_method",
    "instance",
    "_Feature"
   ],
   "window_display": false
  }
 },
 "nbformat": 4,
 "nbformat_minor": 2
}
