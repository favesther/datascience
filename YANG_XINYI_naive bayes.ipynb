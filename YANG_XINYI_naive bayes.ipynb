{
 "cells": [
  {
   "cell_type": "code",
   "execution_count": 3,
   "metadata": {},
   "outputs": [],
   "source": [
    "%matplotlib inline\n",
    "import pandas as pd\n",
    "import numpy as np\n",
    "import matplotlib.pyplot as plt\n",
    "\n",
    "from sklearn.model_selection import cross_val_score\n",
    "from sklearn.model_selection import train_test_split\n",
    "from sklearn.metrics import mean_squared_error\n",
    "from sklearn.preprocessing import StandardScaler\n",
    "from sklearn.decomposition import PCA\n",
    "from sklearn.naive_bayes import MultinomialNB\n",
    "from sklearn.feature_extraction.text import CountVectorizer\n",
    "import statsmodels.formula.api as smf\n",
    "from sklearn.linear_model import LinearRegression\n",
    "from sklearn import preprocessing\n",
    "import os"
   ]
  },
  {
   "cell_type": "markdown",
   "metadata": {},
   "source": [
    "**fresh** evaluation: 'fresh' or 'rotten'  \n",
    "**quote** short version of the review"
   ]
  },
  {
   "cell_type": "markdown",
   "metadata": {},
   "source": [
    "# Explore and clean the data"
   ]
  },
  {
   "cell_type": "code",
   "execution_count": 4,
   "metadata": {},
   "outputs": [],
   "source": [
    "tomatoes=pd.read_csv(\"data/rotten-tomatoes.csv\")"
   ]
  },
  {
   "cell_type": "code",
   "execution_count": 5,
   "metadata": {},
   "outputs": [
    {
     "data": {
      "text/plain": [
       "(13442, 9)"
      ]
     },
     "execution_count": 5,
     "metadata": {},
     "output_type": "execute_result"
    }
   ],
   "source": [
    "tomatoes.shape"
   ]
  },
  {
   "cell_type": "code",
   "execution_count": 184,
   "metadata": {
    "scrolled": false
   },
   "outputs": [
    {
     "data": {
      "text/html": [
       "<div>\n",
       "<style scoped>\n",
       "    .dataframe tbody tr th:only-of-type {\n",
       "        vertical-align: middle;\n",
       "    }\n",
       "\n",
       "    .dataframe tbody tr th {\n",
       "        vertical-align: top;\n",
       "    }\n",
       "\n",
       "    .dataframe thead th {\n",
       "        text-align: right;\n",
       "    }\n",
       "</style>\n",
       "<table border=\"1\" class=\"dataframe\">\n",
       "  <thead>\n",
       "    <tr style=\"text-align: right;\">\n",
       "      <th></th>\n",
       "      <th>critic</th>\n",
       "      <th>fresh</th>\n",
       "      <th>imdb</th>\n",
       "      <th>link</th>\n",
       "      <th>publication</th>\n",
       "      <th>quote</th>\n",
       "      <th>review_date</th>\n",
       "      <th>rtid</th>\n",
       "      <th>title</th>\n",
       "      <th>duplicated_review</th>\n",
       "    </tr>\n",
       "  </thead>\n",
       "  <tbody>\n",
       "    <tr>\n",
       "      <th>0</th>\n",
       "      <td>Derek Adams</td>\n",
       "      <td>fresh</td>\n",
       "      <td>114709</td>\n",
       "      <td>http://www.timeout.com/film/reviews/87745/toy-...</td>\n",
       "      <td>Time Out</td>\n",
       "      <td>So ingenious in concept, design and execution ...</td>\n",
       "      <td>2009-10-04 00:00:00</td>\n",
       "      <td>9559</td>\n",
       "      <td>Toy Story</td>\n",
       "      <td>False</td>\n",
       "    </tr>\n",
       "    <tr>\n",
       "      <th>1</th>\n",
       "      <td>Richard Corliss</td>\n",
       "      <td>fresh</td>\n",
       "      <td>114709</td>\n",
       "      <td>http://www.time.com/time/magazine/article/0,91...</td>\n",
       "      <td>TIME Magazine</td>\n",
       "      <td>The year's most inventive comedy.</td>\n",
       "      <td>2008-08-31 00:00:00</td>\n",
       "      <td>9559</td>\n",
       "      <td>Toy Story</td>\n",
       "      <td>False</td>\n",
       "    </tr>\n",
       "    <tr>\n",
       "      <th>2</th>\n",
       "      <td>David Ansen</td>\n",
       "      <td>fresh</td>\n",
       "      <td>114709</td>\n",
       "      <td>http://www.newsweek.com/id/104199</td>\n",
       "      <td>Newsweek</td>\n",
       "      <td>A winning animated feature that has something ...</td>\n",
       "      <td>2008-08-18 00:00:00</td>\n",
       "      <td>9559</td>\n",
       "      <td>Toy Story</td>\n",
       "      <td>False</td>\n",
       "    </tr>\n",
       "  </tbody>\n",
       "</table>\n",
       "</div>"
      ],
      "text/plain": [
       "            critic  fresh    imdb  \\\n",
       "0      Derek Adams  fresh  114709   \n",
       "1  Richard Corliss  fresh  114709   \n",
       "2      David Ansen  fresh  114709   \n",
       "\n",
       "                                                link    publication  \\\n",
       "0  http://www.timeout.com/film/reviews/87745/toy-...       Time Out   \n",
       "1  http://www.time.com/time/magazine/article/0,91...  TIME Magazine   \n",
       "2                  http://www.newsweek.com/id/104199       Newsweek   \n",
       "\n",
       "                                               quote          review_date  \\\n",
       "0  So ingenious in concept, design and execution ...  2009-10-04 00:00:00   \n",
       "1                  The year's most inventive comedy.  2008-08-31 00:00:00   \n",
       "2  A winning animated feature that has something ...  2008-08-18 00:00:00   \n",
       "\n",
       "   rtid      title  duplicated_review  \n",
       "0  9559  Toy Story              False  \n",
       "1  9559  Toy Story              False  \n",
       "2  9559  Toy Story              False  "
      ]
     },
     "execution_count": 184,
     "metadata": {},
     "output_type": "execute_result"
    }
   ],
   "source": [
    "# a few lines\n",
    "tomatoes.head(3)"
   ]
  },
  {
   "cell_type": "code",
   "execution_count": 7,
   "metadata": {
    "scrolled": true
   },
   "outputs": [
    {
     "data": {
      "text/plain": [
       "Index(['critic', 'fresh', 'imdb', 'link', 'publication', 'quote',\n",
       "       'review_date', 'rtid', 'title'],\n",
       "      dtype='object')"
      ]
     },
     "execution_count": 7,
     "metadata": {},
     "output_type": "execute_result"
    }
   ],
   "source": [
    "#print out all the variable names\n",
    "tomatoes.columns"
   ]
  },
  {
   "cell_type": "markdown",
   "metadata": {},
   "source": [
    "create a summary table (maybe more like a bullet list) where you print out the most important\n",
    "summary statistics for the most interesting variables. The most interesting facts you should present\n",
    "should include:   \n",
    "a) number of missings for fresh and quote;   "
   ]
  },
  {
   "cell_type": "code",
   "execution_count": 8,
   "metadata": {},
   "outputs": [
    {
     "data": {
      "text/plain": [
       "0"
      ]
     },
     "execution_count": 8,
     "metadata": {},
     "output_type": "execute_result"
    }
   ],
   "source": [
    "tomatoes.fresh.isnull().sum()"
   ]
  },
  {
   "cell_type": "code",
   "execution_count": 9,
   "metadata": {},
   "outputs": [
    {
     "data": {
      "text/plain": [
       "0"
      ]
     },
     "execution_count": 9,
     "metadata": {},
     "output_type": "execute_result"
    }
   ],
   "source": [
    "tomatoes.quote.isnull().sum()"
   ]
  },
  {
   "cell_type": "markdown",
   "metadata": {},
   "source": [
    "There's no missings for fresh and quote."
   ]
  },
  {
   "cell_type": "code",
   "execution_count": 10,
   "metadata": {},
   "outputs": [
    {
     "data": {
      "text/plain": [
       "array(['fresh', 'rotten', 'none'], dtype=object)"
      ]
     },
     "execution_count": 10,
     "metadata": {},
     "output_type": "execute_result"
    }
   ],
   "source": [
    "# all different values for fresh/rotten evaluations;\n",
    "tomatoes.fresh.unique()"
   ]
  },
  {
   "cell_type": "code",
   "execution_count": 11,
   "metadata": {},
   "outputs": [
    {
     "data": {
      "text/plain": [
       "fresh     8389\n",
       "rotten    5030\n",
       "none        23\n",
       "Name: fresh, dtype: int64"
      ]
     },
     "execution_count": 11,
     "metadata": {},
     "output_type": "execute_result"
    }
   ],
   "source": [
    "# counts or percentages of these values;\n",
    "tomatoes.fresh.value_counts()"
   ]
  },
  {
   "cell_type": "code",
   "execution_count": 12,
   "metadata": {
    "scrolled": true
   },
   "outputs": [
    {
     "data": {
      "text/html": [
       "<div>\n",
       "<style scoped>\n",
       "    .dataframe tbody tr th:only-of-type {\n",
       "        vertical-align: middle;\n",
       "    }\n",
       "\n",
       "    .dataframe tbody tr th {\n",
       "        vertical-align: top;\n",
       "    }\n",
       "\n",
       "    .dataframe thead th {\n",
       "        text-align: right;\n",
       "    }\n",
       "</style>\n",
       "<table border=\"1\" class=\"dataframe\">\n",
       "  <thead>\n",
       "    <tr style=\"text-align: right;\">\n",
       "      <th></th>\n",
       "      <th>critic</th>\n",
       "      <th>fresh</th>\n",
       "      <th>imdb</th>\n",
       "      <th>link</th>\n",
       "      <th>publication</th>\n",
       "      <th>quote</th>\n",
       "      <th>review_date</th>\n",
       "      <th>rtid</th>\n",
       "      <th>title</th>\n",
       "    </tr>\n",
       "  </thead>\n",
       "  <tbody>\n",
       "  </tbody>\n",
       "</table>\n",
       "</div>"
      ],
      "text/plain": [
       "Empty DataFrame\n",
       "Columns: [critic, fresh, imdb, link, publication, quote, review_date, rtid, title]\n",
       "Index: []"
      ]
     },
     "execution_count": 12,
     "metadata": {},
     "output_type": "execute_result"
    }
   ],
   "source": [
    "tomatoes[(tomatoes.quote==\"\") | (tomatoes.quote==\" \")]"
   ]
  },
  {
   "cell_type": "markdown",
   "metadata": {},
   "source": [
    "There is no zero-length or only whitespace quote-s."
   ]
  },
  {
   "cell_type": "code",
   "execution_count": 13,
   "metadata": {},
   "outputs": [
    {
     "data": {
      "text/plain": [
       "count    13442.000000\n",
       "mean       121.231290\n",
       "std         57.358899\n",
       "min          4.000000\n",
       "25%         76.250000\n",
       "50%        119.000000\n",
       "75%        163.000000\n",
       "max        256.000000\n",
       "Name: quote, dtype: float64"
      ]
     },
     "execution_count": 13,
     "metadata": {},
     "output_type": "execute_result"
    }
   ],
   "source": [
    "#minimum-maximum-average length of quotes (either in words, or in characters).\n",
    "length=tomatoes[\"quote\"].str.len()\n",
    "length.describe()"
   ]
  },
  {
   "cell_type": "markdown",
   "metadata": {},
   "source": [
    "f) how many reviews are in data multiple times. Feel free to add more\n",
    "figures you consider relevant."
   ]
  },
  {
   "cell_type": "code",
   "execution_count": 14,
   "metadata": {},
   "outputs": [],
   "source": [
    "tomatoes['duplicated_review']=tomatoes.quote.duplicated()"
   ]
  },
  {
   "cell_type": "code",
   "execution_count": 15,
   "metadata": {},
   "outputs": [
    {
     "data": {
      "text/plain": [
       "606"
      ]
     },
     "execution_count": 15,
     "metadata": {},
     "output_type": "execute_result"
    }
   ],
   "source": [
    "tomatoes[tomatoes['duplicated_review']==True].duplicated_review.count()"
   ]
  },
  {
   "cell_type": "markdown",
   "metadata": {},
   "source": [
    "There are 606 duplicated reviews in data."
   ]
  },
  {
   "cell_type": "markdown",
   "metadata": {},
   "source": [
    "Now when you have an overview what you have in data, clean it by removing all the inconsistencies\n",
    "the table reveals. We have to ensure that the central variables, quote and fresh are not missing,\n",
    "quote is not an empty string (or just contain spaces and such), and all rows are unique.  \n",
    "I recommend to do it as a standalone function so you can use the same function for another similar\n",
    "dataset (such as test data)."
   ]
  },
  {
   "cell_type": "code",
   "execution_count": 16,
   "metadata": {},
   "outputs": [],
   "source": [
    "nan_value = float(\"NaN\")\n",
    "tomatoes.replace(\"\", nan_value, inplace=True)\n",
    "tomatoes.replace(\"none\", nan_value, inplace=True)\n",
    "tomatoes.replace(\" \", nan_value, inplace=True)\n",
    "tomatoes.dropna(subset=['fresh','quote'],inplace=True)\n",
    "tomatoes.drop(tomatoes[tomatoes['duplicated_review']==True].index,inplace=True)"
   ]
  },
  {
   "cell_type": "code",
   "execution_count": 17,
   "metadata": {},
   "outputs": [],
   "source": [
    "def clean(tomatoes,fresh,quote):\n",
    "    nan_value = float(\"NaN\")\n",
    "    tomatoes.replace(\"\", nan_value, inplace=True)\n",
    "    tomatoes.replace(\"none\", nan_value, inplace=True)\n",
    "    tomatoes.replace(\" \", nan_value, inplace=True)\n",
    "    tomatoes.dropna(subset=[fresh,quote],inplace=True)\n",
    "    tomatoes['duplicated_review']=tomatoes.quote.duplicated()\n",
    "    tomatoes.drop(tomatoes[tomatoes['duplicated_review']==True].index,inplace=True)"
   ]
  },
  {
   "cell_type": "markdown",
   "metadata": {},
   "source": [
    "# Naïve Bayes\n",
    "Convert your data (quotes) into bag-of-words."
   ]
  },
  {
   "cell_type": "code",
   "execution_count": 18,
   "metadata": {},
   "outputs": [],
   "source": [
    "vectorizer = CountVectorizer(binary=True)\n",
    "# define vectorizer\n",
    "X = vectorizer.fit_transform(tomatoes.quote.values)\n",
    "# vectorize your data. Note: this creates a sparce matrix,\n",
    "# use .toarray() if you want a dense matrix.\n",
    "words = vectorizer.get_feature_names()\n",
    "# in case you want to see what are the actual words"
   ]
  },
  {
   "cell_type": "code",
   "execution_count": 19,
   "metadata": {},
   "outputs": [],
   "source": [
    "X=X.toarray()"
   ]
  },
  {
   "cell_type": "code",
   "execution_count": 20,
   "metadata": {},
   "outputs": [
    {
     "data": {
      "text/plain": [
       "(12813, 20875)"
      ]
     },
     "execution_count": 20,
     "metadata": {},
     "output_type": "execute_result"
    }
   ],
   "source": [
    "X.shape"
   ]
  },
  {
   "cell_type": "code",
   "execution_count": 21,
   "metadata": {},
   "outputs": [
    {
     "data": {
      "text/plain": [
       "(20875, 12813)"
      ]
     },
     "execution_count": 21,
     "metadata": {},
     "output_type": "execute_result"
    }
   ],
   "source": [
    "XT=X.T\n",
    "XT.shape"
   ]
  },
  {
   "cell_type": "code",
   "execution_count": 22,
   "metadata": {},
   "outputs": [],
   "source": [
    "df=[]\n",
    "for i in range(XT.shape[0]):\n",
    "    df.append(sum(XT[i]))"
   ]
  },
  {
   "cell_type": "code",
   "execution_count": 23,
   "metadata": {
    "scrolled": false
   },
   "outputs": [],
   "source": [
    "bow=pd.DataFrame(XT)\n",
    "bow.insert (0, 'df', df)\n",
    "bow.insert (0, 'w', words)"
   ]
  },
  {
   "cell_type": "code",
   "execution_count": 24,
   "metadata": {},
   "outputs": [
    {
     "data": {
      "text/html": [
       "<div>\n",
       "<style scoped>\n",
       "    .dataframe tbody tr th:only-of-type {\n",
       "        vertical-align: middle;\n",
       "    }\n",
       "\n",
       "    .dataframe tbody tr th {\n",
       "        vertical-align: top;\n",
       "    }\n",
       "\n",
       "    .dataframe thead th {\n",
       "        text-align: right;\n",
       "    }\n",
       "</style>\n",
       "<table border=\"1\" class=\"dataframe\">\n",
       "  <thead>\n",
       "    <tr style=\"text-align: right;\">\n",
       "      <th></th>\n",
       "      <th>w</th>\n",
       "      <th>df</th>\n",
       "      <th>0</th>\n",
       "      <th>1</th>\n",
       "      <th>2</th>\n",
       "      <th>3</th>\n",
       "      <th>4</th>\n",
       "      <th>5</th>\n",
       "      <th>6</th>\n",
       "      <th>7</th>\n",
       "      <th>...</th>\n",
       "      <th>12803</th>\n",
       "      <th>12804</th>\n",
       "      <th>12805</th>\n",
       "      <th>12806</th>\n",
       "      <th>12807</th>\n",
       "      <th>12808</th>\n",
       "      <th>12809</th>\n",
       "      <th>12810</th>\n",
       "      <th>12811</th>\n",
       "      <th>12812</th>\n",
       "    </tr>\n",
       "  </thead>\n",
       "  <tbody>\n",
       "    <tr>\n",
       "      <th>0</th>\n",
       "      <td>000</td>\n",
       "      <td>5</td>\n",
       "      <td>0</td>\n",
       "      <td>0</td>\n",
       "      <td>0</td>\n",
       "      <td>0</td>\n",
       "      <td>0</td>\n",
       "      <td>0</td>\n",
       "      <td>0</td>\n",
       "      <td>0</td>\n",
       "      <td>...</td>\n",
       "      <td>0</td>\n",
       "      <td>0</td>\n",
       "      <td>0</td>\n",
       "      <td>0</td>\n",
       "      <td>0</td>\n",
       "      <td>0</td>\n",
       "      <td>0</td>\n",
       "      <td>0</td>\n",
       "      <td>0</td>\n",
       "      <td>0</td>\n",
       "    </tr>\n",
       "    <tr>\n",
       "      <th>1</th>\n",
       "      <td>0014</td>\n",
       "      <td>1</td>\n",
       "      <td>0</td>\n",
       "      <td>0</td>\n",
       "      <td>0</td>\n",
       "      <td>0</td>\n",
       "      <td>0</td>\n",
       "      <td>0</td>\n",
       "      <td>0</td>\n",
       "      <td>0</td>\n",
       "      <td>...</td>\n",
       "      <td>0</td>\n",
       "      <td>0</td>\n",
       "      <td>0</td>\n",
       "      <td>0</td>\n",
       "      <td>0</td>\n",
       "      <td>0</td>\n",
       "      <td>0</td>\n",
       "      <td>0</td>\n",
       "      <td>0</td>\n",
       "      <td>0</td>\n",
       "    </tr>\n",
       "    <tr>\n",
       "      <th>2</th>\n",
       "      <td>007</td>\n",
       "      <td>10</td>\n",
       "      <td>0</td>\n",
       "      <td>0</td>\n",
       "      <td>0</td>\n",
       "      <td>0</td>\n",
       "      <td>0</td>\n",
       "      <td>0</td>\n",
       "      <td>0</td>\n",
       "      <td>0</td>\n",
       "      <td>...</td>\n",
       "      <td>0</td>\n",
       "      <td>0</td>\n",
       "      <td>0</td>\n",
       "      <td>0</td>\n",
       "      <td>0</td>\n",
       "      <td>0</td>\n",
       "      <td>0</td>\n",
       "      <td>0</td>\n",
       "      <td>0</td>\n",
       "      <td>0</td>\n",
       "    </tr>\n",
       "    <tr>\n",
       "      <th>3</th>\n",
       "      <td>044</td>\n",
       "      <td>1</td>\n",
       "      <td>0</td>\n",
       "      <td>0</td>\n",
       "      <td>0</td>\n",
       "      <td>0</td>\n",
       "      <td>0</td>\n",
       "      <td>0</td>\n",
       "      <td>0</td>\n",
       "      <td>0</td>\n",
       "      <td>...</td>\n",
       "      <td>0</td>\n",
       "      <td>0</td>\n",
       "      <td>0</td>\n",
       "      <td>0</td>\n",
       "      <td>0</td>\n",
       "      <td>0</td>\n",
       "      <td>0</td>\n",
       "      <td>0</td>\n",
       "      <td>0</td>\n",
       "      <td>0</td>\n",
       "    </tr>\n",
       "    <tr>\n",
       "      <th>4</th>\n",
       "      <td>07</td>\n",
       "      <td>1</td>\n",
       "      <td>0</td>\n",
       "      <td>0</td>\n",
       "      <td>0</td>\n",
       "      <td>0</td>\n",
       "      <td>0</td>\n",
       "      <td>0</td>\n",
       "      <td>0</td>\n",
       "      <td>0</td>\n",
       "      <td>...</td>\n",
       "      <td>0</td>\n",
       "      <td>0</td>\n",
       "      <td>0</td>\n",
       "      <td>0</td>\n",
       "      <td>0</td>\n",
       "      <td>0</td>\n",
       "      <td>0</td>\n",
       "      <td>0</td>\n",
       "      <td>0</td>\n",
       "      <td>0</td>\n",
       "    </tr>\n",
       "    <tr>\n",
       "      <th>...</th>\n",
       "      <td>...</td>\n",
       "      <td>...</td>\n",
       "      <td>...</td>\n",
       "      <td>...</td>\n",
       "      <td>...</td>\n",
       "      <td>...</td>\n",
       "      <td>...</td>\n",
       "      <td>...</td>\n",
       "      <td>...</td>\n",
       "      <td>...</td>\n",
       "      <td>...</td>\n",
       "      <td>...</td>\n",
       "      <td>...</td>\n",
       "      <td>...</td>\n",
       "      <td>...</td>\n",
       "      <td>...</td>\n",
       "      <td>...</td>\n",
       "      <td>...</td>\n",
       "      <td>...</td>\n",
       "      <td>...</td>\n",
       "      <td>...</td>\n",
       "    </tr>\n",
       "    <tr>\n",
       "      <th>20870</th>\n",
       "      <td>zowie</td>\n",
       "      <td>1</td>\n",
       "      <td>0</td>\n",
       "      <td>0</td>\n",
       "      <td>0</td>\n",
       "      <td>0</td>\n",
       "      <td>0</td>\n",
       "      <td>0</td>\n",
       "      <td>0</td>\n",
       "      <td>0</td>\n",
       "      <td>...</td>\n",
       "      <td>0</td>\n",
       "      <td>0</td>\n",
       "      <td>0</td>\n",
       "      <td>0</td>\n",
       "      <td>0</td>\n",
       "      <td>0</td>\n",
       "      <td>0</td>\n",
       "      <td>0</td>\n",
       "      <td>0</td>\n",
       "      <td>0</td>\n",
       "    </tr>\n",
       "    <tr>\n",
       "      <th>20871</th>\n",
       "      <td>zucker</td>\n",
       "      <td>3</td>\n",
       "      <td>0</td>\n",
       "      <td>0</td>\n",
       "      <td>0</td>\n",
       "      <td>0</td>\n",
       "      <td>0</td>\n",
       "      <td>0</td>\n",
       "      <td>0</td>\n",
       "      <td>0</td>\n",
       "      <td>...</td>\n",
       "      <td>0</td>\n",
       "      <td>0</td>\n",
       "      <td>0</td>\n",
       "      <td>0</td>\n",
       "      <td>0</td>\n",
       "      <td>0</td>\n",
       "      <td>0</td>\n",
       "      <td>0</td>\n",
       "      <td>0</td>\n",
       "      <td>0</td>\n",
       "    </tr>\n",
       "    <tr>\n",
       "      <th>20872</th>\n",
       "      <td>zweibel</td>\n",
       "      <td>1</td>\n",
       "      <td>0</td>\n",
       "      <td>0</td>\n",
       "      <td>0</td>\n",
       "      <td>0</td>\n",
       "      <td>0</td>\n",
       "      <td>0</td>\n",
       "      <td>0</td>\n",
       "      <td>0</td>\n",
       "      <td>...</td>\n",
       "      <td>0</td>\n",
       "      <td>0</td>\n",
       "      <td>0</td>\n",
       "      <td>0</td>\n",
       "      <td>0</td>\n",
       "      <td>0</td>\n",
       "      <td>0</td>\n",
       "      <td>0</td>\n",
       "      <td>0</td>\n",
       "      <td>0</td>\n",
       "    </tr>\n",
       "    <tr>\n",
       "      <th>20873</th>\n",
       "      <td>zwick</td>\n",
       "      <td>3</td>\n",
       "      <td>0</td>\n",
       "      <td>0</td>\n",
       "      <td>0</td>\n",
       "      <td>0</td>\n",
       "      <td>0</td>\n",
       "      <td>0</td>\n",
       "      <td>0</td>\n",
       "      <td>0</td>\n",
       "      <td>...</td>\n",
       "      <td>0</td>\n",
       "      <td>0</td>\n",
       "      <td>0</td>\n",
       "      <td>0</td>\n",
       "      <td>0</td>\n",
       "      <td>0</td>\n",
       "      <td>0</td>\n",
       "      <td>0</td>\n",
       "      <td>0</td>\n",
       "      <td>0</td>\n",
       "    </tr>\n",
       "    <tr>\n",
       "      <th>20874</th>\n",
       "      <td>zzzzzzzzz</td>\n",
       "      <td>1</td>\n",
       "      <td>0</td>\n",
       "      <td>0</td>\n",
       "      <td>0</td>\n",
       "      <td>0</td>\n",
       "      <td>0</td>\n",
       "      <td>0</td>\n",
       "      <td>0</td>\n",
       "      <td>0</td>\n",
       "      <td>...</td>\n",
       "      <td>0</td>\n",
       "      <td>0</td>\n",
       "      <td>0</td>\n",
       "      <td>0</td>\n",
       "      <td>0</td>\n",
       "      <td>0</td>\n",
       "      <td>0</td>\n",
       "      <td>0</td>\n",
       "      <td>0</td>\n",
       "      <td>0</td>\n",
       "    </tr>\n",
       "  </tbody>\n",
       "</table>\n",
       "<p>20875 rows × 12815 columns</p>\n",
       "</div>"
      ],
      "text/plain": [
       "               w  df  0  1  2  3  4  5  6  7  ...  12803  12804  12805  12806  \\\n",
       "0            000   5  0  0  0  0  0  0  0  0  ...      0      0      0      0   \n",
       "1           0014   1  0  0  0  0  0  0  0  0  ...      0      0      0      0   \n",
       "2            007  10  0  0  0  0  0  0  0  0  ...      0      0      0      0   \n",
       "3            044   1  0  0  0  0  0  0  0  0  ...      0      0      0      0   \n",
       "4             07   1  0  0  0  0  0  0  0  0  ...      0      0      0      0   \n",
       "...          ...  .. .. .. .. .. .. .. .. ..  ...    ...    ...    ...    ...   \n",
       "20870      zowie   1  0  0  0  0  0  0  0  0  ...      0      0      0      0   \n",
       "20871     zucker   3  0  0  0  0  0  0  0  0  ...      0      0      0      0   \n",
       "20872    zweibel   1  0  0  0  0  0  0  0  0  ...      0      0      0      0   \n",
       "20873      zwick   3  0  0  0  0  0  0  0  0  ...      0      0      0      0   \n",
       "20874  zzzzzzzzz   1  0  0  0  0  0  0  0  0  ...      0      0      0      0   \n",
       "\n",
       "       12807  12808  12809  12810  12811  12812  \n",
       "0          0      0      0      0      0      0  \n",
       "1          0      0      0      0      0      0  \n",
       "2          0      0      0      0      0      0  \n",
       "3          0      0      0      0      0      0  \n",
       "4          0      0      0      0      0      0  \n",
       "...      ...    ...    ...    ...    ...    ...  \n",
       "20870      0      0      0      0      0      0  \n",
       "20871      0      0      0      0      0      0  \n",
       "20872      0      0      0      0      0      0  \n",
       "20873      0      0      0      0      0      0  \n",
       "20874      0      0      0      0      0      0  \n",
       "\n",
       "[20875 rows x 12815 columns]"
      ]
     },
     "execution_count": 24,
     "metadata": {},
     "output_type": "execute_result"
    }
   ],
   "source": [
    "bow"
   ]
  },
  {
   "cell_type": "markdown",
   "metadata": {},
   "source": [
    "3.Split your work data and target (i.e. the variable fresh) into training and validation chunks (80/20\n",
    "or so)."
   ]
  },
  {
   "cell_type": "code",
   "execution_count": 25,
   "metadata": {},
   "outputs": [],
   "source": [
    "from sklearn.model_selection import train_test_split"
   ]
  },
  {
   "cell_type": "code",
   "execution_count": 197,
   "metadata": {
    "scrolled": false
   },
   "outputs": [
    {
     "name": "stdout",
     "output_type": "stream",
     "text": [
      "(8200, 20875) (8200,)\n",
      "(2563, 20875) (2563,)\n"
     ]
    }
   ],
   "source": [
    "Y = (tomatoes.fresh == 'fresh').values.astype(np.int)\n",
    "X_train, X_test, Y_train, Y_test = train_test_split(X, Y,test_size=0.2)\n",
    "X_train, X_val, Y_train, Y_val = train_test_split(X_train, Y_train,test_size=0.2)\n",
    "# verify shapes\n",
    "print (X_train.shape, Y_train.shape)\n",
    "print ( X_test.shape, Y_test.shape)"
   ]
  },
  {
   "cell_type": "markdown",
   "metadata": {},
   "source": [
    "**Use only training data when doing the fitting below.**  \n",
    "4.Compute the unconditional (log) probability that the tomato is fresh/rotten, $log Pr(F)$, and $log Pr(R)$.  \n",
    "These probabilities are based on the values of fresh alone, not on the words the quotes contain."
   ]
  },
  {
   "cell_type": "markdown",
   "metadata": {},
   "source": [
    "unconditional(log) probablity of the training data"
   ]
  },
  {
   "cell_type": "code",
   "execution_count": 29,
   "metadata": {},
   "outputs": [],
   "source": [
    "PrF=np.log(sum(Y_train)/len(Y_train))\n",
    "PrR=np.log(1-sum(Y_train)/len(Y_train))"
   ]
  },
  {
   "cell_type": "code",
   "execution_count": 30,
   "metadata": {},
   "outputs": [
    {
     "name": "stdout",
     "output_type": "stream",
     "text": [
      "logPr(F) is -0.48150364805012397\n",
      "logPr(R) is -0.9619516509007229\n"
     ]
    }
   ],
   "source": [
    "print (\"logPr(F) is\", end=\" \")\n",
    "print (PrF)\n",
    "print (\"logPr(R) is\", end=\" \")\n",
    "print (PrR)"
   ]
  },
  {
   "cell_type": "markdown",
   "metadata": {},
   "source": [
    "unconditional(log) probablity of the original dataset "
   ]
  },
  {
   "cell_type": "code",
   "execution_count": 31,
   "metadata": {
    "scrolled": true
   },
   "outputs": [
    {
     "data": {
      "text/plain": [
       "fresh\n",
       "fresh     7946\n",
       "rotten    4867\n",
       "Name: quote, dtype: int64"
      ]
     },
     "execution_count": 31,
     "metadata": {},
     "output_type": "execute_result"
    }
   ],
   "source": [
    "tomatoes.groupby('fresh').quote.count()"
   ]
  },
  {
   "cell_type": "code",
   "execution_count": 32,
   "metadata": {},
   "outputs": [
    {
     "name": "stdout",
     "output_type": "stream",
     "text": [
      "-0.477791623135032\n",
      "-0.967982549676122\n"
     ]
    }
   ],
   "source": [
    "lf=np.log(7946/(7946+4867))\n",
    "lr=np.log(4867/(7946+4867))\n",
    "print(lf)\n",
    "print(lr)"
   ]
  },
  {
   "cell_type": "markdown",
   "metadata": {},
   "source": [
    "5.For each word w, compute $log Pr(w|F)$ and $log Pr(w|R)$, the (log) probability that the word is present\n",
    "in a fresh/rotten review. These probabilities can easily be calculated from counts of how many times\n",
    "these words are present for each class.  \n",
    "Hint: these computations are based on your BOW-s X. Look at ways to sum along columns in this\n",
    "matrix."
   ]
  },
  {
   "cell_type": "code",
   "execution_count": 33,
   "metadata": {},
   "outputs": [
    {
     "data": {
      "text/plain": [
       "10250"
      ]
     },
     "execution_count": 33,
     "metadata": {},
     "output_type": "execute_result"
    }
   ],
   "source": [
    "len(Y_train)"
   ]
  },
  {
   "cell_type": "code",
   "execution_count": 34,
   "metadata": {},
   "outputs": [
    {
     "data": {
      "text/plain": [
       "(10250, 20875)"
      ]
     },
     "execution_count": 34,
     "metadata": {},
     "output_type": "execute_result"
    }
   ],
   "source": [
    "X_train.shape"
   ]
  },
  {
   "cell_type": "code",
   "execution_count": 35,
   "metadata": {},
   "outputs": [],
   "source": [
    "bow_train=pd.DataFrame(X_train)\n",
    "bow_train['target']=Y_train.T"
   ]
  },
  {
   "cell_type": "code",
   "execution_count": 36,
   "metadata": {},
   "outputs": [
    {
     "data": {
      "text/html": [
       "<div>\n",
       "<style scoped>\n",
       "    .dataframe tbody tr th:only-of-type {\n",
       "        vertical-align: middle;\n",
       "    }\n",
       "\n",
       "    .dataframe tbody tr th {\n",
       "        vertical-align: top;\n",
       "    }\n",
       "\n",
       "    .dataframe thead th {\n",
       "        text-align: right;\n",
       "    }\n",
       "</style>\n",
       "<table border=\"1\" class=\"dataframe\">\n",
       "  <thead>\n",
       "    <tr style=\"text-align: right;\">\n",
       "      <th></th>\n",
       "      <th>0</th>\n",
       "      <th>1</th>\n",
       "      <th>2</th>\n",
       "      <th>3</th>\n",
       "      <th>4</th>\n",
       "      <th>5</th>\n",
       "      <th>6</th>\n",
       "      <th>7</th>\n",
       "      <th>8</th>\n",
       "      <th>9</th>\n",
       "      <th>...</th>\n",
       "      <th>20865</th>\n",
       "      <th>20866</th>\n",
       "      <th>20867</th>\n",
       "      <th>20868</th>\n",
       "      <th>20869</th>\n",
       "      <th>20870</th>\n",
       "      <th>20871</th>\n",
       "      <th>20872</th>\n",
       "      <th>20873</th>\n",
       "      <th>20874</th>\n",
       "    </tr>\n",
       "    <tr>\n",
       "      <th>target</th>\n",
       "      <th></th>\n",
       "      <th></th>\n",
       "      <th></th>\n",
       "      <th></th>\n",
       "      <th></th>\n",
       "      <th></th>\n",
       "      <th></th>\n",
       "      <th></th>\n",
       "      <th></th>\n",
       "      <th></th>\n",
       "      <th></th>\n",
       "      <th></th>\n",
       "      <th></th>\n",
       "      <th></th>\n",
       "      <th></th>\n",
       "      <th></th>\n",
       "      <th></th>\n",
       "      <th></th>\n",
       "      <th></th>\n",
       "      <th></th>\n",
       "      <th></th>\n",
       "    </tr>\n",
       "  </thead>\n",
       "  <tbody>\n",
       "    <tr>\n",
       "      <th>0</th>\n",
       "      <td>3917</td>\n",
       "      <td>3917</td>\n",
       "      <td>3917</td>\n",
       "      <td>3917</td>\n",
       "      <td>3917</td>\n",
       "      <td>3917</td>\n",
       "      <td>3917</td>\n",
       "      <td>3917</td>\n",
       "      <td>3917</td>\n",
       "      <td>3917</td>\n",
       "      <td>...</td>\n",
       "      <td>3917</td>\n",
       "      <td>3917</td>\n",
       "      <td>3917</td>\n",
       "      <td>3917</td>\n",
       "      <td>3917</td>\n",
       "      <td>3917</td>\n",
       "      <td>3917</td>\n",
       "      <td>3917</td>\n",
       "      <td>3917</td>\n",
       "      <td>3917</td>\n",
       "    </tr>\n",
       "    <tr>\n",
       "      <th>1</th>\n",
       "      <td>6333</td>\n",
       "      <td>6333</td>\n",
       "      <td>6333</td>\n",
       "      <td>6333</td>\n",
       "      <td>6333</td>\n",
       "      <td>6333</td>\n",
       "      <td>6333</td>\n",
       "      <td>6333</td>\n",
       "      <td>6333</td>\n",
       "      <td>6333</td>\n",
       "      <td>...</td>\n",
       "      <td>6333</td>\n",
       "      <td>6333</td>\n",
       "      <td>6333</td>\n",
       "      <td>6333</td>\n",
       "      <td>6333</td>\n",
       "      <td>6333</td>\n",
       "      <td>6333</td>\n",
       "      <td>6333</td>\n",
       "      <td>6333</td>\n",
       "      <td>6333</td>\n",
       "    </tr>\n",
       "  </tbody>\n",
       "</table>\n",
       "<p>2 rows × 20875 columns</p>\n",
       "</div>"
      ],
      "text/plain": [
       "        0      1      2      3      4      5      6      7      8      9      \\\n",
       "target                                                                         \n",
       "0        3917   3917   3917   3917   3917   3917   3917   3917   3917   3917   \n",
       "1        6333   6333   6333   6333   6333   6333   6333   6333   6333   6333   \n",
       "\n",
       "        ...  20865  20866  20867  20868  20869  20870  20871  20872  20873  \\\n",
       "target  ...                                                                  \n",
       "0       ...   3917   3917   3917   3917   3917   3917   3917   3917   3917   \n",
       "1       ...   6333   6333   6333   6333   6333   6333   6333   6333   6333   \n",
       "\n",
       "        20874  \n",
       "target         \n",
       "0        3917  \n",
       "1        6333  \n",
       "\n",
       "[2 rows x 20875 columns]"
      ]
     },
     "execution_count": 36,
     "metadata": {},
     "output_type": "execute_result"
    }
   ],
   "source": [
    "bow_count=bow_train.groupby('target').count()\n",
    "bow_count"
   ]
  },
  {
   "cell_type": "code",
   "execution_count": 37,
   "metadata": {},
   "outputs": [
    {
     "data": {
      "text/html": [
       "<div>\n",
       "<style scoped>\n",
       "    .dataframe tbody tr th:only-of-type {\n",
       "        vertical-align: middle;\n",
       "    }\n",
       "\n",
       "    .dataframe tbody tr th {\n",
       "        vertical-align: top;\n",
       "    }\n",
       "\n",
       "    .dataframe thead th {\n",
       "        text-align: right;\n",
       "    }\n",
       "</style>\n",
       "<table border=\"1\" class=\"dataframe\">\n",
       "  <thead>\n",
       "    <tr style=\"text-align: right;\">\n",
       "      <th></th>\n",
       "      <th>0</th>\n",
       "      <th>1</th>\n",
       "      <th>2</th>\n",
       "      <th>3</th>\n",
       "      <th>4</th>\n",
       "      <th>5</th>\n",
       "      <th>6</th>\n",
       "      <th>7</th>\n",
       "      <th>8</th>\n",
       "      <th>9</th>\n",
       "      <th>...</th>\n",
       "      <th>20865</th>\n",
       "      <th>20866</th>\n",
       "      <th>20867</th>\n",
       "      <th>20868</th>\n",
       "      <th>20869</th>\n",
       "      <th>20870</th>\n",
       "      <th>20871</th>\n",
       "      <th>20872</th>\n",
       "      <th>20873</th>\n",
       "      <th>20874</th>\n",
       "    </tr>\n",
       "    <tr>\n",
       "      <th>target</th>\n",
       "      <th></th>\n",
       "      <th></th>\n",
       "      <th></th>\n",
       "      <th></th>\n",
       "      <th></th>\n",
       "      <th></th>\n",
       "      <th></th>\n",
       "      <th></th>\n",
       "      <th></th>\n",
       "      <th></th>\n",
       "      <th></th>\n",
       "      <th></th>\n",
       "      <th></th>\n",
       "      <th></th>\n",
       "      <th></th>\n",
       "      <th></th>\n",
       "      <th></th>\n",
       "      <th></th>\n",
       "      <th></th>\n",
       "      <th></th>\n",
       "      <th></th>\n",
       "    </tr>\n",
       "  </thead>\n",
       "  <tbody>\n",
       "    <tr>\n",
       "      <th>0</th>\n",
       "      <td>3</td>\n",
       "      <td>0</td>\n",
       "      <td>2</td>\n",
       "      <td>1</td>\n",
       "      <td>0</td>\n",
       "      <td>13</td>\n",
       "      <td>3</td>\n",
       "      <td>0</td>\n",
       "      <td>0</td>\n",
       "      <td>0</td>\n",
       "      <td>...</td>\n",
       "      <td>1</td>\n",
       "      <td>0</td>\n",
       "      <td>0</td>\n",
       "      <td>0</td>\n",
       "      <td>0</td>\n",
       "      <td>0</td>\n",
       "      <td>1</td>\n",
       "      <td>1</td>\n",
       "      <td>1</td>\n",
       "      <td>1</td>\n",
       "    </tr>\n",
       "    <tr>\n",
       "      <th>1</th>\n",
       "      <td>2</td>\n",
       "      <td>1</td>\n",
       "      <td>7</td>\n",
       "      <td>0</td>\n",
       "      <td>1</td>\n",
       "      <td>12</td>\n",
       "      <td>6</td>\n",
       "      <td>1</td>\n",
       "      <td>0</td>\n",
       "      <td>0</td>\n",
       "      <td>...</td>\n",
       "      <td>0</td>\n",
       "      <td>1</td>\n",
       "      <td>0</td>\n",
       "      <td>3</td>\n",
       "      <td>1</td>\n",
       "      <td>1</td>\n",
       "      <td>1</td>\n",
       "      <td>0</td>\n",
       "      <td>2</td>\n",
       "      <td>0</td>\n",
       "    </tr>\n",
       "  </tbody>\n",
       "</table>\n",
       "<p>2 rows × 20875 columns</p>\n",
       "</div>"
      ],
      "text/plain": [
       "        0      1      2      3      4      5      6      7      8      9      \\\n",
       "target                                                                         \n",
       "0           3      0      2      1      0     13      3      0      0      0   \n",
       "1           2      1      7      0      1     12      6      1      0      0   \n",
       "\n",
       "        ...  20865  20866  20867  20868  20869  20870  20871  20872  20873  \\\n",
       "target  ...                                                                  \n",
       "0       ...      1      0      0      0      0      0      1      1      1   \n",
       "1       ...      0      1      0      3      1      1      1      0      2   \n",
       "\n",
       "        20874  \n",
       "target         \n",
       "0           1  \n",
       "1           0  \n",
       "\n",
       "[2 rows x 20875 columns]"
      ]
     },
     "execution_count": 37,
     "metadata": {},
     "output_type": "execute_result"
    }
   ],
   "source": [
    "bow_sum=bow_train.groupby('target').sum()\n",
    "bow_sum"
   ]
  },
  {
   "cell_type": "code",
   "execution_count": 38,
   "metadata": {},
   "outputs": [],
   "source": [
    "bow_Train=pd.DataFrame(X_train)\n",
    "bow_train=bow_Train.T"
   ]
  },
  {
   "cell_type": "code",
   "execution_count": 208,
   "metadata": {},
   "outputs": [
    {
     "name": "stderr",
     "output_type": "stream",
     "text": [
      "C:\\Users\\Zhu\\Anaconda3\\lib\\site-packages\\ipykernel_launcher.py:1: RuntimeWarning: divide by zero encountered in log\n",
      "  \"\"\"Entry point for launching an IPython kernel.\n"
     ]
    }
   ],
   "source": [
    "bow_Pr=np.log(bow_sum/bow_count)"
   ]
  },
  {
   "cell_type": "code",
   "execution_count": 190,
   "metadata": {},
   "outputs": [
    {
     "name": "stderr",
     "output_type": "stream",
     "text": [
      "C:\\Users\\Zhu\\Anaconda3\\lib\\site-packages\\ipykernel_launcher.py:1: RuntimeWarning: divide by zero encountered in log\n",
      "  \"\"\"Entry point for launching an IPython kernel.\n"
     ]
    }
   ],
   "source": [
    "\n",
    "bow_pr=bow_Pr.copy()\n",
    "bow_pr.reset_index(level=0, inplace=True)\n",
    "bow_pr=bow_pr.T"
   ]
  },
  {
   "cell_type": "code",
   "execution_count": 40,
   "metadata": {},
   "outputs": [],
   "source": [
    "bow_train.insert (0, 'Pr(w|F)', bow_pr[1])\n",
    "bow_train.insert (0, 'Pr(w|R)', bow_pr[0])\n",
    "bow_train.insert (0, 'w', words)"
   ]
  },
  {
   "cell_type": "code",
   "execution_count": 41,
   "metadata": {},
   "outputs": [
    {
     "data": {
      "text/html": [
       "<div>\n",
       "<style scoped>\n",
       "    .dataframe tbody tr th:only-of-type {\n",
       "        vertical-align: middle;\n",
       "    }\n",
       "\n",
       "    .dataframe tbody tr th {\n",
       "        vertical-align: top;\n",
       "    }\n",
       "\n",
       "    .dataframe thead th {\n",
       "        text-align: right;\n",
       "    }\n",
       "</style>\n",
       "<table border=\"1\" class=\"dataframe\">\n",
       "  <thead>\n",
       "    <tr style=\"text-align: right;\">\n",
       "      <th></th>\n",
       "      <th>w</th>\n",
       "      <th>Pr(w|R)</th>\n",
       "      <th>Pr(w|F)</th>\n",
       "      <th>0</th>\n",
       "      <th>1</th>\n",
       "      <th>2</th>\n",
       "      <th>3</th>\n",
       "      <th>4</th>\n",
       "      <th>5</th>\n",
       "      <th>6</th>\n",
       "      <th>...</th>\n",
       "      <th>10240</th>\n",
       "      <th>10241</th>\n",
       "      <th>10242</th>\n",
       "      <th>10243</th>\n",
       "      <th>10244</th>\n",
       "      <th>10245</th>\n",
       "      <th>10246</th>\n",
       "      <th>10247</th>\n",
       "      <th>10248</th>\n",
       "      <th>10249</th>\n",
       "    </tr>\n",
       "  </thead>\n",
       "  <tbody>\n",
       "    <tr>\n",
       "      <th>0</th>\n",
       "      <td>000</td>\n",
       "      <td>-7.174469</td>\n",
       "      <td>-8.060382</td>\n",
       "      <td>0</td>\n",
       "      <td>0</td>\n",
       "      <td>0</td>\n",
       "      <td>0</td>\n",
       "      <td>0</td>\n",
       "      <td>0</td>\n",
       "      <td>0</td>\n",
       "      <td>...</td>\n",
       "      <td>0</td>\n",
       "      <td>0</td>\n",
       "      <td>0</td>\n",
       "      <td>0</td>\n",
       "      <td>0</td>\n",
       "      <td>0</td>\n",
       "      <td>0</td>\n",
       "      <td>0</td>\n",
       "      <td>0</td>\n",
       "      <td>0</td>\n",
       "    </tr>\n",
       "    <tr>\n",
       "      <th>1</th>\n",
       "      <td>0014</td>\n",
       "      <td>-inf</td>\n",
       "      <td>-8.753529</td>\n",
       "      <td>0</td>\n",
       "      <td>0</td>\n",
       "      <td>0</td>\n",
       "      <td>0</td>\n",
       "      <td>0</td>\n",
       "      <td>0</td>\n",
       "      <td>0</td>\n",
       "      <td>...</td>\n",
       "      <td>0</td>\n",
       "      <td>0</td>\n",
       "      <td>0</td>\n",
       "      <td>0</td>\n",
       "      <td>0</td>\n",
       "      <td>0</td>\n",
       "      <td>0</td>\n",
       "      <td>0</td>\n",
       "      <td>0</td>\n",
       "      <td>0</td>\n",
       "    </tr>\n",
       "    <tr>\n",
       "      <th>2</th>\n",
       "      <td>007</td>\n",
       "      <td>-7.579934</td>\n",
       "      <td>-6.807619</td>\n",
       "      <td>0</td>\n",
       "      <td>0</td>\n",
       "      <td>0</td>\n",
       "      <td>0</td>\n",
       "      <td>0</td>\n",
       "      <td>0</td>\n",
       "      <td>0</td>\n",
       "      <td>...</td>\n",
       "      <td>0</td>\n",
       "      <td>0</td>\n",
       "      <td>0</td>\n",
       "      <td>0</td>\n",
       "      <td>0</td>\n",
       "      <td>0</td>\n",
       "      <td>0</td>\n",
       "      <td>0</td>\n",
       "      <td>0</td>\n",
       "      <td>0</td>\n",
       "    </tr>\n",
       "    <tr>\n",
       "      <th>3</th>\n",
       "      <td>044</td>\n",
       "      <td>-8.273081</td>\n",
       "      <td>-inf</td>\n",
       "      <td>0</td>\n",
       "      <td>0</td>\n",
       "      <td>0</td>\n",
       "      <td>0</td>\n",
       "      <td>0</td>\n",
       "      <td>0</td>\n",
       "      <td>0</td>\n",
       "      <td>...</td>\n",
       "      <td>0</td>\n",
       "      <td>0</td>\n",
       "      <td>0</td>\n",
       "      <td>0</td>\n",
       "      <td>0</td>\n",
       "      <td>0</td>\n",
       "      <td>0</td>\n",
       "      <td>0</td>\n",
       "      <td>0</td>\n",
       "      <td>0</td>\n",
       "    </tr>\n",
       "    <tr>\n",
       "      <th>4</th>\n",
       "      <td>07</td>\n",
       "      <td>-inf</td>\n",
       "      <td>-8.753529</td>\n",
       "      <td>0</td>\n",
       "      <td>0</td>\n",
       "      <td>0</td>\n",
       "      <td>0</td>\n",
       "      <td>0</td>\n",
       "      <td>0</td>\n",
       "      <td>0</td>\n",
       "      <td>...</td>\n",
       "      <td>0</td>\n",
       "      <td>0</td>\n",
       "      <td>0</td>\n",
       "      <td>0</td>\n",
       "      <td>0</td>\n",
       "      <td>0</td>\n",
       "      <td>0</td>\n",
       "      <td>0</td>\n",
       "      <td>0</td>\n",
       "      <td>0</td>\n",
       "    </tr>\n",
       "    <tr>\n",
       "      <th>...</th>\n",
       "      <td>...</td>\n",
       "      <td>...</td>\n",
       "      <td>...</td>\n",
       "      <td>...</td>\n",
       "      <td>...</td>\n",
       "      <td>...</td>\n",
       "      <td>...</td>\n",
       "      <td>...</td>\n",
       "      <td>...</td>\n",
       "      <td>...</td>\n",
       "      <td>...</td>\n",
       "      <td>...</td>\n",
       "      <td>...</td>\n",
       "      <td>...</td>\n",
       "      <td>...</td>\n",
       "      <td>...</td>\n",
       "      <td>...</td>\n",
       "      <td>...</td>\n",
       "      <td>...</td>\n",
       "      <td>...</td>\n",
       "      <td>...</td>\n",
       "    </tr>\n",
       "    <tr>\n",
       "      <th>20870</th>\n",
       "      <td>zowie</td>\n",
       "      <td>-inf</td>\n",
       "      <td>-8.753529</td>\n",
       "      <td>0</td>\n",
       "      <td>0</td>\n",
       "      <td>0</td>\n",
       "      <td>0</td>\n",
       "      <td>0</td>\n",
       "      <td>0</td>\n",
       "      <td>0</td>\n",
       "      <td>...</td>\n",
       "      <td>0</td>\n",
       "      <td>0</td>\n",
       "      <td>0</td>\n",
       "      <td>0</td>\n",
       "      <td>0</td>\n",
       "      <td>0</td>\n",
       "      <td>0</td>\n",
       "      <td>0</td>\n",
       "      <td>0</td>\n",
       "      <td>0</td>\n",
       "    </tr>\n",
       "    <tr>\n",
       "      <th>20871</th>\n",
       "      <td>zucker</td>\n",
       "      <td>-8.273081</td>\n",
       "      <td>-8.753529</td>\n",
       "      <td>0</td>\n",
       "      <td>0</td>\n",
       "      <td>0</td>\n",
       "      <td>0</td>\n",
       "      <td>0</td>\n",
       "      <td>0</td>\n",
       "      <td>0</td>\n",
       "      <td>...</td>\n",
       "      <td>0</td>\n",
       "      <td>0</td>\n",
       "      <td>0</td>\n",
       "      <td>0</td>\n",
       "      <td>0</td>\n",
       "      <td>0</td>\n",
       "      <td>0</td>\n",
       "      <td>0</td>\n",
       "      <td>0</td>\n",
       "      <td>0</td>\n",
       "    </tr>\n",
       "    <tr>\n",
       "      <th>20872</th>\n",
       "      <td>zweibel</td>\n",
       "      <td>-8.273081</td>\n",
       "      <td>-inf</td>\n",
       "      <td>0</td>\n",
       "      <td>0</td>\n",
       "      <td>0</td>\n",
       "      <td>0</td>\n",
       "      <td>0</td>\n",
       "      <td>0</td>\n",
       "      <td>0</td>\n",
       "      <td>...</td>\n",
       "      <td>0</td>\n",
       "      <td>0</td>\n",
       "      <td>0</td>\n",
       "      <td>0</td>\n",
       "      <td>0</td>\n",
       "      <td>0</td>\n",
       "      <td>0</td>\n",
       "      <td>0</td>\n",
       "      <td>0</td>\n",
       "      <td>0</td>\n",
       "    </tr>\n",
       "    <tr>\n",
       "      <th>20873</th>\n",
       "      <td>zwick</td>\n",
       "      <td>-8.273081</td>\n",
       "      <td>-8.060382</td>\n",
       "      <td>0</td>\n",
       "      <td>0</td>\n",
       "      <td>0</td>\n",
       "      <td>0</td>\n",
       "      <td>0</td>\n",
       "      <td>0</td>\n",
       "      <td>0</td>\n",
       "      <td>...</td>\n",
       "      <td>0</td>\n",
       "      <td>0</td>\n",
       "      <td>0</td>\n",
       "      <td>0</td>\n",
       "      <td>0</td>\n",
       "      <td>0</td>\n",
       "      <td>0</td>\n",
       "      <td>0</td>\n",
       "      <td>0</td>\n",
       "      <td>0</td>\n",
       "    </tr>\n",
       "    <tr>\n",
       "      <th>20874</th>\n",
       "      <td>zzzzzzzzz</td>\n",
       "      <td>-8.273081</td>\n",
       "      <td>-inf</td>\n",
       "      <td>0</td>\n",
       "      <td>0</td>\n",
       "      <td>0</td>\n",
       "      <td>0</td>\n",
       "      <td>0</td>\n",
       "      <td>0</td>\n",
       "      <td>0</td>\n",
       "      <td>...</td>\n",
       "      <td>0</td>\n",
       "      <td>0</td>\n",
       "      <td>0</td>\n",
       "      <td>0</td>\n",
       "      <td>0</td>\n",
       "      <td>0</td>\n",
       "      <td>0</td>\n",
       "      <td>0</td>\n",
       "      <td>0</td>\n",
       "      <td>0</td>\n",
       "    </tr>\n",
       "  </tbody>\n",
       "</table>\n",
       "<p>20875 rows × 10253 columns</p>\n",
       "</div>"
      ],
      "text/plain": [
       "               w   Pr(w|R)   Pr(w|F)  0  1  2  3  4  5  6  ...  10240  10241  \\\n",
       "0            000 -7.174469 -8.060382  0  0  0  0  0  0  0  ...      0      0   \n",
       "1           0014      -inf -8.753529  0  0  0  0  0  0  0  ...      0      0   \n",
       "2            007 -7.579934 -6.807619  0  0  0  0  0  0  0  ...      0      0   \n",
       "3            044 -8.273081      -inf  0  0  0  0  0  0  0  ...      0      0   \n",
       "4             07      -inf -8.753529  0  0  0  0  0  0  0  ...      0      0   \n",
       "...          ...       ...       ... .. .. .. .. .. .. ..  ...    ...    ...   \n",
       "20870      zowie      -inf -8.753529  0  0  0  0  0  0  0  ...      0      0   \n",
       "20871     zucker -8.273081 -8.753529  0  0  0  0  0  0  0  ...      0      0   \n",
       "20872    zweibel -8.273081      -inf  0  0  0  0  0  0  0  ...      0      0   \n",
       "20873      zwick -8.273081 -8.060382  0  0  0  0  0  0  0  ...      0      0   \n",
       "20874  zzzzzzzzz -8.273081      -inf  0  0  0  0  0  0  0  ...      0      0   \n",
       "\n",
       "       10242  10243  10244  10245  10246  10247  10248  10249  \n",
       "0          0      0      0      0      0      0      0      0  \n",
       "1          0      0      0      0      0      0      0      0  \n",
       "2          0      0      0      0      0      0      0      0  \n",
       "3          0      0      0      0      0      0      0      0  \n",
       "4          0      0      0      0      0      0      0      0  \n",
       "...      ...    ...    ...    ...    ...    ...    ...    ...  \n",
       "20870      0      0      0      0      0      0      0      0  \n",
       "20871      0      0      0      0      0      0      0      0  \n",
       "20872      0      0      0      0      0      0      0      0  \n",
       "20873      0      0      0      0      0      0      0      0  \n",
       "20874      0      0      0      0      0      0      0      0  \n",
       "\n",
       "[20875 rows x 10253 columns]"
      ]
     },
     "execution_count": 41,
     "metadata": {},
     "output_type": "execute_result"
    }
   ],
   "source": [
    "bow_train"
   ]
  },
  {
   "cell_type": "markdown",
   "metadata": {},
   "source": [
    "**Let's now turn to prediction, and pull out your validation data (not the test data!).**"
   ]
  },
  {
   "cell_type": "markdown",
   "metadata": {},
   "source": [
    "6. For both destination classes, F and R, compute the log-likelihood that the quote belongs to this class.\n",
    "log-likelihood is what is given inside the brackets in equation (1) on slide 28, and the equations on\n",
    "Schutt \"Doing Data Science\", page 102. In lecture notes it is explained before the email classification\n",
    "example (and in the example too). On the slides we have the log-likelihood essentially as (although\n",
    "we do not write it out):  \n",
    "$l_i(c)=logPr(c)+\\sum_jlogPr(w_{ij}|c)$  \n",
    "where $c\\in{{F,R}}$ is the class, i is the review, j indexes words, and wij is the j-th word of the review\n",
    "i.\n",
    "Computing these likelihoods involves sums of the previously computed probabilities, $log(Pr(w|F))$,\n",
    "and BOW elements $x_{ij}$. Check out np.apply_along_axis that can be used to apply a function on\n",
    "matrix columns/rows so you can create a fairly good one-liner to compute log-likelihood. Loops are\n",
    "fine too if apply seems too complex, just slower and less compact.\n",
    "Based on the log-likelihoods, predict the class F or R for each quote in the validation set.\n",
    "7. Print the resulting confusion matrix and accuracy (feel free to use existing libraries)."
   ]
  },
  {
   "cell_type": "code",
   "execution_count": 218,
   "metadata": {},
   "outputs": [],
   "source": [
    "bow_Pr=bow_pr.drop('target', axis=0)"
   ]
  },
  {
   "cell_type": "code",
   "execution_count": 221,
   "metadata": {},
   "outputs": [],
   "source": [
    "from numpy import inf\n",
    "bow_Pr[bow_Pr.values == -inf] = 1"
   ]
  },
  {
   "cell_type": "code",
   "execution_count": 230,
   "metadata": {},
   "outputs": [],
   "source": [
    "bow_Pr=bow_Pr.T"
   ]
  },
  {
   "cell_type": "code",
   "execution_count": 241,
   "metadata": {},
   "outputs": [],
   "source": [
    "def loglikelihood_fresh(f):\n",
    "    sum=0\n",
    "    for i in range(bow_Pr.shape[1]):\n",
    "        if f[i] !=0:\n",
    "            sum += bow_Pr.iloc[1,i]\n",
    "    return sum + lf;\n",
    "def loglikelihood_rotten(f):\n",
    "    sum=0\n",
    "    for i in range(bow_Pr.shape[1]):\n",
    "        if f[i] !=0:\n",
    "            sum += bow_Pr.iloc[0,i]\n",
    "    return sum + lr;"
   ]
  },
  {
   "cell_type": "code",
   "execution_count": 243,
   "metadata": {},
   "outputs": [],
   "source": [
    "LL_fresh=np.apply_along_axis(loglikelihood_fresh,1,X_val)"
   ]
  },
  {
   "cell_type": "code",
   "execution_count": 242,
   "metadata": {},
   "outputs": [
    {
     "data": {
      "text/plain": [
       "array([ -37.58683628,  -38.11816509,  -15.12785086, ..., -114.84495759,\n",
       "        -93.043824  , -111.09518067])"
      ]
     },
     "execution_count": 242,
     "metadata": {},
     "output_type": "execute_result"
    }
   ],
   "source": [
    "LL_rotten=np.apply_along_axis(loglikelihood_rotten,1,X_val)\n",
    "LL_rotten"
   ]
  },
  {
   "cell_type": "code",
   "execution_count": 244,
   "metadata": {},
   "outputs": [],
   "source": [
    "predict=[]\n",
    "for i in range(len(LL_rotten)):\n",
    "    if LL_fresh[i]<LL_rotten[i]:\n",
    "        predict.append(0)\n",
    "    else: predict.append(1)"
   ]
  },
  {
   "cell_type": "code",
   "execution_count": 245,
   "metadata": {},
   "outputs": [
    {
     "name": "stdout",
     "output_type": "stream",
     "text": [
      "Confusion Matrix :\n",
      "[[251 511]\n",
      " [999 289]]\n",
      "Accuracy Score : 0.2634146341463415\n"
     ]
    }
   ],
   "source": [
    "from sklearn.metrics import confusion_matrix \n",
    "from sklearn.metrics import accuracy_score \n",
    "from sklearn.metrics import classification_report\n",
    "results = confusion_matrix(Y_val,predict) \n",
    "print ('Confusion Matrix :')\n",
    "print(results) \n",
    "print ('Accuracy Score :',accuracy_score(Y_val,predict))"
   ]
  },
  {
   "cell_type": "markdown",
   "metadata": {},
   "source": [
    "# Interpretation\n",
    "Now it is time to look at your fitted model a little bit closer. NB model probabilities are rather easy to\n",
    "understand and interpret. The task here is to find the best words to predict a fresh, and a rotten review.\n",
    "And we only want to look at words that are reasonably frequent, say more frequent than 30 times in the\n",
    "data.  \n",
    "1. Extract from your conditional probability vectors log Pr(w|F) and log Pr(w|R) the probabilities that\n",
    "correspond to frequent words only.  \n",
    "2. Find 10 best words to predict F and 10 best words to predict R. Hint: imagine we have a review that\n",
    "contains just a single word. Which word will give the highest weight to the probability the review is\n",
    "fresh? Which one to the likelihood it is rotten?  \n",
    "Comment your results.   \n",
    "3. Print out a few missclassified quotes. Can you understand why these are misclassified?"
   ]
  },
  {
   "cell_type": "markdown",
   "metadata": {},
   "source": [
    "<font color=red>approach applied according to the instructions</font>"
   ]
  },
  {
   "cell_type": "code",
   "execution_count": 118,
   "metadata": {},
   "outputs": [],
   "source": [
    "#filter frequent words from the original dataset bow\n",
    "bow_fre=bow[bow.df>=30]"
   ]
  },
  {
   "cell_type": "code",
   "execution_count": 119,
   "metadata": {},
   "outputs": [],
   "source": [
    "#get the index of these words \n",
    "index=bow_fre.index"
   ]
  },
  {
   "cell_type": "code",
   "execution_count": 126,
   "metadata": {},
   "outputs": [],
   "source": [
    "#extract the conditional probabtility \n",
    "bow30=bow_train.iloc[index]"
   ]
  },
  {
   "cell_type": "code",
   "execution_count": 129,
   "metadata": {},
   "outputs": [
    {
     "name": "stdout",
     "output_type": "stream",
     "text": [
      "the 10 best words to predict F/: \n",
      "18549     the\n",
      "836       and\n",
      "12650      of\n",
      "9817       is\n",
      "18805      to\n",
      "9835       it\n",
      "9272       in\n",
      "18546    that\n",
      "20576    with\n",
      "6898     film\n",
      "Name: w, dtype: object\n"
     ]
    }
   ],
   "source": [
    "print (\"the 10 best words to predict F/: \")\n",
    "print (bow30.sort_values(by=['Pr(w|F)'],ascending=False).head(10).w)"
   ]
  },
  {
   "cell_type": "code",
   "execution_count": 130,
   "metadata": {},
   "outputs": [
    {
     "name": "stdout",
     "output_type": "stream",
     "text": [
      "the 10 best words to predict R: \n",
      "4751     delight\n",
      "18549        the\n",
      "836          and\n",
      "12650         of\n",
      "18805         to\n",
      "9817          is\n",
      "9835          it\n",
      "9272          in\n",
      "18546       that\n",
      "2568         but\n",
      "Name: w, dtype: object\n"
     ]
    }
   ],
   "source": [
    "print (\"the 10 best words to predict R: \")\n",
    "print (bow30.sort_values(by=['Pr(w|R)'],ascending=False).head(10).w)"
   ]
  },
  {
   "cell_type": "markdown",
   "metadata": {},
   "source": [
    "<font color=red>We cannot see anything from the results above. These all are the most frequent word used in English sentences. Maybe the \"but\" in the 10 best words to predict rotten could have some universal meaning when people want to express something not up to their expectations.  \n",
    "So let's see another approach below.</font>"
   ]
  },
  {
   "cell_type": "code",
   "execution_count": 131,
   "metadata": {
    "scrolled": true
   },
   "outputs": [],
   "source": [
    "def make_xy(critics, vectorizer=None):\n",
    "    #Your code here    \n",
    "    if vectorizer is None:\n",
    "        vectorizer = CountVectorizer()\n",
    "    X = vectorizer.fit_transform(tomatoes.quote)\n",
    "    X = X.tocsc()  # some versions of sklearn return COO format\n",
    "    Y = (tomatoes.fresh == 'fresh').values.astype(np.int)\n",
    "    return X, Y\n",
    "\n",
    "X, Y = make_xy(tomatoes.quote)"
   ]
  },
  {
   "cell_type": "code",
   "execution_count": 132,
   "metadata": {},
   "outputs": [
    {
     "name": "stdout",
     "output_type": "stream",
     "text": [
      "  Top Rotten Words  Rotten Probability\n",
      "0             lame            0.961741\n",
      "1        pointless            0.956965\n",
      "2       uninspired            0.955097\n",
      "3    unfortunately            0.954101\n",
      "4            sadly            0.942648\n",
      "5         tiresome            0.942648\n",
      "6  disappointingly            0.931204\n",
      "7         sluggish            0.926302\n",
      "8            tepid            0.926302\n",
      "9          witless            0.926302\n"
     ]
    }
   ],
   "source": [
    "# get top 10 \"totten\" words\n",
    "vectorizer = CountVectorizer(min_df = .0001)       \n",
    "\n",
    "# build bag-of-words matrix\n",
    "X, Y = make_xy(tomatoes, vectorizer)\n",
    "\n",
    "\n",
    "fitted_model = MultinomialNB(alpha=1, class_prior=None, fit_prior=True)\n",
    "fitted_model.fit(X, Y)\n",
    "probs = fitted_model.predict_proba(np.identity(X.shape[1]))\n",
    "\n",
    "# split into rotten and fresh vectors of probabilities\n",
    "rotten_probs = probs[:,0]\n",
    "fresh_probs = probs[:,1]\n",
    "\n",
    "# get the indices of the 10 words associated with rotten that have the highest probabilities\n",
    "rotten_feat_idx = np.argpartition(rotten_probs, -10, axis = 0)[-10:]\n",
    "\n",
    "rotten_names = np.array(vectorizer.get_feature_names())\n",
    "rotten_names = rotten_names[rotten_feat_idx]\n",
    "rotten_probs = np.array(rotten_probs[rotten_feat_idx])\n",
    "\n",
    "# create a dataframe with top ten rotten words and probability from above arrays\n",
    "rotten10 = pd.DataFrame({'Top Rotten Words': rotten_names, 'Rotten Probability': rotten_probs})\n",
    "rotten10.sort_values(['Rotten Probability'], ascending = 0, inplace = True)\n",
    "rotten10.reset_index(inplace = True, drop = True)\n",
    "\n",
    "print(rotten10)\n"
   ]
  },
  {
   "cell_type": "code",
   "execution_count": 135,
   "metadata": {},
   "outputs": [
    {
     "name": "stdout",
     "output_type": "stream",
     "text": [
      "  Top Fresh Words  Fresh Probability\n",
      "0         delight           0.976400\n",
      "1        intimate           0.962767\n",
      "2        captures           0.959660\n",
      "3       childhood           0.957903\n",
      "4            myth           0.957903\n",
      "5         rousing           0.953887\n",
      "6       seductive           0.951578\n",
      "7        expertly           0.949025\n",
      "8      remarkable           0.947645\n",
      "9     astonishing           0.946188\n"
     ]
    }
   ],
   "source": [
    "# get top 10 \"fresh\" words\n",
    "fresh_feat_idx = np.argpartition(fresh_probs, -10, axis = 0)[-10:]\n",
    "\n",
    "fresh_names = np.array(vectorizer.get_feature_names())\n",
    "fresh_names = fresh_names[fresh_feat_idx]\n",
    "fresh_probs = np.array(fresh_probs[fresh_feat_idx])\n",
    "\n",
    "# create a dataframe with top 10 fresh words and probability from above arrays\n",
    "fresh10 = pd.DataFrame({'Top Fresh Words': fresh_names, 'Fresh Probability': fresh_probs})\n",
    "fresh10.sort_values(['Fresh Probability'], ascending = 0, inplace = True)\n",
    "fresh10.reset_index(inplace = True, drop = True)\n",
    "\n",
    "print(fresh10)"
   ]
  },
  {
   "cell_type": "markdown",
   "metadata": {},
   "source": [
    "this method is much more reasonable. We can see bad words in rotten and good words in fresh."
   ]
  },
  {
   "cell_type": "markdown",
   "metadata": {},
   "source": [
    "# NB with smoothing\n",
    "So, now you have your brand-new NB algorithm up and running. As a next step, we add smoothing to it.\n",
    "As our task is to find the best smoothing parameter below, your first task is to mold what you did above\n",
    "into two functions: one for fitting and another one for predicting.  \n",
    "1. Create two functions: one for fitting NB model, and another to predict outcome based on the fitted\n",
    "model.  \n",
    "As mentioned above, the model is fully described with 4 probabilities, so your fitting function may\n",
    "return such a list as the model; and the prediction function may take it as an input.  \n",
    "2. Add smoothing to the model. See Schutt p 103 and 109. Smoothing amounts to assuming that we\n",
    "have \"seen\" every possible word $\\alpha$ > 0 times already, for both classes. (If you wish, you can also\n",
    "assume you have seen the words $\\alpha$ times for F and $\\beta$ times for R). Note that $\\alpha$ does not have to be\n",
    "an integer, and typically the best $\\alpha$ < 1.  \n",
    "3. Cross-validate the accuracy (on the validation data) on a number of $\\alpha$ values and find the $\\alpha$ that\n",
    "gives you the best result. You can use your own CV algorithm you created for PS4, or an existing\n",
    "library."
   ]
  },
  {
   "cell_type": "code",
   "execution_count": null,
   "metadata": {},
   "outputs": [],
   "source": [
    "from sklearn.model_selection import cross_validate"
   ]
  },
  {
   "cell_type": "code",
   "execution_count": 250,
   "metadata": {},
   "outputs": [
    {
     "data": {
      "text/plain": [
       "MultinomialNB(alpha=1.0, class_prior=None, fit_prior=True)"
      ]
     },
     "execution_count": 250,
     "metadata": {},
     "output_type": "execute_result"
    }
   ],
   "source": [
    "import sklearn.naive_bayes as nb\n",
    "\n",
    "# fit naive bayes model on the training set\n",
    "model = nb.MultinomialNB()\n",
    "model.fit(X_train, Y_train)"
   ]
  },
  {
   "cell_type": "code",
   "execution_count": 251,
   "metadata": {},
   "outputs": [],
   "source": [
    "predbow=(model.predict(X_test))\n",
    "prebowprob=model.predict_proba(X_test)"
   ]
  },
  {
   "cell_type": "code",
   "execution_count": 254,
   "metadata": {},
   "outputs": [
    {
     "name": "stdout",
     "output_type": "stream",
     "text": [
      "              precision    recall  f1-score   support\n",
      "\n",
      "           0       0.75      0.56      0.64       986\n",
      "           1       0.76      0.88      0.82      1577\n",
      "\n",
      "    accuracy                           0.76      2563\n",
      "   macro avg       0.76      0.72      0.73      2563\n",
      "weighted avg       0.76      0.76      0.75      2563\n",
      "\n"
     ]
    }
   ],
   "source": [
    "print(classification_report(Y_test ,predbow))"
   ]
  },
  {
   "cell_type": "code",
   "execution_count": 256,
   "metadata": {},
   "outputs": [
    {
     "name": "stdout",
     "output_type": "stream",
     "text": [
      "Accuracy is 0.76\n"
     ]
    }
   ],
   "source": [
    "print(\"Accuracy is\", round(accuracy_score(Y_test,predbow),3))"
   ]
  },
  {
   "cell_type": "code",
   "execution_count": 246,
   "metadata": {},
   "outputs": [],
   "source": [
    "def find_optimal_k(X_train,Y_train,mylist):\n",
    "    cv_scores=[]\n",
    "    \n",
    "    X_tr, X_cv, y_tr, y_cv =train_test_split(X_train, Y_train, test_size=0.2)\n",
    "    for i in mylist:\n",
    "        nb = MultinomialNB(alpha=i)\n",
    "        model = nb.fit(X_tr,y_tr)\n",
    "        pred=model.predict(X_cv)\n",
    "        acc=accuracy_score(y_cv,pred,normalize=True)\n",
    "        cv_scores.append(acc)\n",
    "    MSE=[1-x for x in cv_scores]\n",
    "    optimal_alpha=mylist[MSE.index(min(MSE))]\n",
    "    print ('\\n The optimal alpha is ',end='')\n",
    "    print(optimal_alpha)\n",
    "    \n",
    "    print(\"the misclassification error for each k value is: \", end=\"\")\n",
    "    print(np.round(MSE,3))\n",
    "    return optimal_alpha"
   ]
  },
  {
   "cell_type": "code",
   "execution_count": 261,
   "metadata": {},
   "outputs": [
    {
     "name": "stdout",
     "output_type": "stream",
     "text": [
      "\n",
      " The optimal alpha is 0.00051\n",
      "the misclassification error for each k value is: [0.312 0.311 0.312 0.312 0.312 0.311 0.311 0.311 0.311 0.31  0.31  0.31\n",
      " 0.31  0.311 0.31  0.31  0.31  0.31  0.31  0.31 ]\n"
     ]
    }
   ],
   "source": [
    "mylist = np.arange(0.00001, 0.001, 0.00005) \n",
    "optimal_alpha=find_optimal_k(X_train, Y_train, mylist)"
   ]
  }
 ],
 "metadata": {
  "kernelspec": {
   "display_name": "Python 3",
   "language": "python",
   "name": "python3"
  },
  "language_info": {
   "codemirror_mode": {
    "name": "ipython",
    "version": 3
   },
   "file_extension": ".py",
   "mimetype": "text/x-python",
   "name": "python",
   "nbconvert_exporter": "python",
   "pygments_lexer": "ipython3",
   "version": "3.7.6"
  },
  "toc": {
   "base_numbering": 1,
   "nav_menu": {},
   "number_sections": true,
   "sideBar": true,
   "skip_h1_title": false,
   "title_cell": "Table of Contents",
   "title_sidebar": "Contents",
   "toc_cell": false,
   "toc_position": {},
   "toc_section_display": true,
   "toc_window_display": false
  }
 },
 "nbformat": 4,
 "nbformat_minor": 2
}
